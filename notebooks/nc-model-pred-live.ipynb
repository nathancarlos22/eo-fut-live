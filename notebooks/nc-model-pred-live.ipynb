{
 "cells": [
  {
   "cell_type": "markdown",
   "metadata": {},
   "source": [
    "# Imports and loads"
   ]
  },
  {
   "cell_type": "code",
   "execution_count": 72,
   "metadata": {},
   "outputs": [],
   "source": [
    "import pandas as pd\n",
    "import numpy as np\n",
    "import warnings\n",
    "import numpy as np\n",
    "import pandas as pd\n",
    "from keras.layers import Dense\n",
    "from keras.models import Sequential\n",
    "from sklearn.ensemble import RandomForestClassifier\n",
    "from sklearn.metrics import mean_squared_error\n",
    "from sklearn.model_selection import train_test_split\n",
    "from keras.optimizers import Adam\n",
    "import matplotlib.pyplot as plt\n",
    "import h2o\n",
    "\n",
    "from sklearn.preprocessing import StandardScaler, OneHotEncoder\n",
    "from sklearn.compose import ColumnTransformer\n",
    "import pickle\n",
    "from h2o.automl import H2OAutoML\n",
    "\n",
    "from sklearn.metrics import roc_curve, auc\n",
    "import matplotlib.pyplot as plt\n",
    "from sklearn.metrics import confusion_matrix\n",
    "import seaborn as sns\n",
    "from keras.callbacks import EarlyStopping\n",
    "\n",
    "warnings.filterwarnings('ignore')"
   ]
  },
  {
   "cell_type": "code",
   "execution_count": 73,
   "metadata": {},
   "outputs": [
    {
     "data": {
      "text/html": [
       "<div>\n",
       "<style scoped>\n",
       "    .dataframe tbody tr th:only-of-type {\n",
       "        vertical-align: middle;\n",
       "    }\n",
       "\n",
       "    .dataframe tbody tr th {\n",
       "        vertical-align: top;\n",
       "    }\n",
       "\n",
       "    .dataframe thead th {\n",
       "        text-align: right;\n",
       "    }\n",
       "</style>\n",
       "<table border=\"1\" class=\"dataframe\">\n",
       "  <thead>\n",
       "    <tr style=\"text-align: right;\">\n",
       "      <th></th>\n",
       "      <th>date</th>\n",
       "      <th>minute</th>\n",
       "      <th>homeTeam</th>\n",
       "      <th>awayTeam</th>\n",
       "      <th>league</th>\n",
       "      <th>corners_home</th>\n",
       "      <th>corners_away</th>\n",
       "      <th>redcards_home</th>\n",
       "      <th>redcards_away</th>\n",
       "      <th>shotsOffgoal_home</th>\n",
       "      <th>...</th>\n",
       "      <th>fouls_c_home</th>\n",
       "      <th>fouls_c_away</th>\n",
       "      <th>fouls_won_home</th>\n",
       "      <th>fouls_won_away</th>\n",
       "      <th>offsides_home</th>\n",
       "      <th>offsides_away</th>\n",
       "      <th>tackles_home</th>\n",
       "      <th>tackles_away</th>\n",
       "      <th>result</th>\n",
       "      <th>match_id</th>\n",
       "    </tr>\n",
       "  </thead>\n",
       "  <tbody>\n",
       "    <tr>\n",
       "      <th>0</th>\n",
       "      <td>2023-08-20</td>\n",
       "      <td>0:36</td>\n",
       "      <td>Aston Villa FC</td>\n",
       "      <td>Everton FC</td>\n",
       "      <td>England - Premier League</td>\n",
       "      <td>1.0</td>\n",
       "      <td>1.0</td>\n",
       "      <td>0.0</td>\n",
       "      <td>0.0</td>\n",
       "      <td>1.0</td>\n",
       "      <td>...</td>\n",
       "      <td>0.0</td>\n",
       "      <td>0.0</td>\n",
       "      <td>0.0</td>\n",
       "      <td>0.0</td>\n",
       "      <td>0.0</td>\n",
       "      <td>0.0</td>\n",
       "      <td>0.0</td>\n",
       "      <td>0.0</td>\n",
       "      <td>0</td>\n",
       "      <td></td>\n",
       "    </tr>\n",
       "    <tr>\n",
       "      <th>1</th>\n",
       "      <td>2023-08-20</td>\n",
       "      <td>0:53</td>\n",
       "      <td>Aston Villa FC</td>\n",
       "      <td>Everton FC</td>\n",
       "      <td>England - Premier League</td>\n",
       "      <td>1.0</td>\n",
       "      <td>0.0</td>\n",
       "      <td>0.0</td>\n",
       "      <td>0.0</td>\n",
       "      <td>1.0</td>\n",
       "      <td>...</td>\n",
       "      <td>0.0</td>\n",
       "      <td>0.0</td>\n",
       "      <td>0.0</td>\n",
       "      <td>0.0</td>\n",
       "      <td>0.0</td>\n",
       "      <td>0.0</td>\n",
       "      <td>0.0</td>\n",
       "      <td>0.0</td>\n",
       "      <td>0</td>\n",
       "      <td>2023-08-20-Aston Villa FC-Everton FC</td>\n",
       "    </tr>\n",
       "    <tr>\n",
       "      <th>2</th>\n",
       "      <td>2023-08-20</td>\n",
       "      <td>2:00</td>\n",
       "      <td>Aston Villa FC</td>\n",
       "      <td>Everton FC</td>\n",
       "      <td>England - Premier League</td>\n",
       "      <td>2.0</td>\n",
       "      <td>0.0</td>\n",
       "      <td>0.0</td>\n",
       "      <td>0.0</td>\n",
       "      <td>1.0</td>\n",
       "      <td>...</td>\n",
       "      <td>0.0</td>\n",
       "      <td>0.0</td>\n",
       "      <td>0.0</td>\n",
       "      <td>0.0</td>\n",
       "      <td>0.0</td>\n",
       "      <td>0.0</td>\n",
       "      <td>0.0</td>\n",
       "      <td>0.0</td>\n",
       "      <td>0</td>\n",
       "      <td>2023-08-20-Aston Villa FC-Everton FC</td>\n",
       "    </tr>\n",
       "    <tr>\n",
       "      <th>3</th>\n",
       "      <td>2023-08-20</td>\n",
       "      <td>3:07</td>\n",
       "      <td>Aston Villa FC</td>\n",
       "      <td>Everton FC</td>\n",
       "      <td>England - Premier League</td>\n",
       "      <td>2.0</td>\n",
       "      <td>0.0</td>\n",
       "      <td>0.0</td>\n",
       "      <td>0.0</td>\n",
       "      <td>1.0</td>\n",
       "      <td>...</td>\n",
       "      <td>0.0</td>\n",
       "      <td>0.0</td>\n",
       "      <td>0.0</td>\n",
       "      <td>0.0</td>\n",
       "      <td>0.0</td>\n",
       "      <td>0.0</td>\n",
       "      <td>0.0</td>\n",
       "      <td>0.0</td>\n",
       "      <td>0</td>\n",
       "      <td>2023-08-20-Aston Villa FC-Everton FC</td>\n",
       "    </tr>\n",
       "    <tr>\n",
       "      <th>4</th>\n",
       "      <td>2023-08-20</td>\n",
       "      <td>4:13</td>\n",
       "      <td>Aston Villa FC</td>\n",
       "      <td>Everton FC</td>\n",
       "      <td>England - Premier League</td>\n",
       "      <td>2.0</td>\n",
       "      <td>0.0</td>\n",
       "      <td>0.0</td>\n",
       "      <td>0.0</td>\n",
       "      <td>1.0</td>\n",
       "      <td>...</td>\n",
       "      <td>0.0</td>\n",
       "      <td>0.0</td>\n",
       "      <td>0.0</td>\n",
       "      <td>0.0</td>\n",
       "      <td>0.0</td>\n",
       "      <td>0.0</td>\n",
       "      <td>0.0</td>\n",
       "      <td>0.0</td>\n",
       "      <td>0</td>\n",
       "      <td>2023-08-20-Aston Villa FC-Everton FC</td>\n",
       "    </tr>\n",
       "    <tr>\n",
       "      <th>...</th>\n",
       "      <td>...</td>\n",
       "      <td>...</td>\n",
       "      <td>...</td>\n",
       "      <td>...</td>\n",
       "      <td>...</td>\n",
       "      <td>...</td>\n",
       "      <td>...</td>\n",
       "      <td>...</td>\n",
       "      <td>...</td>\n",
       "      <td>...</td>\n",
       "      <td>...</td>\n",
       "      <td>...</td>\n",
       "      <td>...</td>\n",
       "      <td>...</td>\n",
       "      <td>...</td>\n",
       "      <td>...</td>\n",
       "      <td>...</td>\n",
       "      <td>...</td>\n",
       "      <td>...</td>\n",
       "      <td>...</td>\n",
       "      <td>...</td>\n",
       "    </tr>\n",
       "    <tr>\n",
       "      <th>1255331</th>\n",
       "      <td>2023-09-20</td>\n",
       "      <td>37:57</td>\n",
       "      <td>Lille OSC</td>\n",
       "      <td>NK Olimpija Ljubljana</td>\n",
       "      <td>Europe - UEFA Europa Conference League</td>\n",
       "      <td>3.0</td>\n",
       "      <td>0.0</td>\n",
       "      <td>0.0</td>\n",
       "      <td>0.0</td>\n",
       "      <td>3.0</td>\n",
       "      <td>...</td>\n",
       "      <td>1.0</td>\n",
       "      <td>9.0</td>\n",
       "      <td>7.0</td>\n",
       "      <td>1.0</td>\n",
       "      <td>0.0</td>\n",
       "      <td>1.0</td>\n",
       "      <td>5.0</td>\n",
       "      <td>9.0</td>\n",
       "      <td>1</td>\n",
       "      <td>2023-09-20-Lille OSC-NK Olimpija Ljubljana</td>\n",
       "    </tr>\n",
       "    <tr>\n",
       "      <th>1255332</th>\n",
       "      <td>2023-09-20</td>\n",
       "      <td>39:02</td>\n",
       "      <td>Lille OSC</td>\n",
       "      <td>NK Olimpija Ljubljana</td>\n",
       "      <td>Europe - UEFA Europa Conference League</td>\n",
       "      <td>3.0</td>\n",
       "      <td>0.0</td>\n",
       "      <td>0.0</td>\n",
       "      <td>0.0</td>\n",
       "      <td>3.0</td>\n",
       "      <td>...</td>\n",
       "      <td>1.0</td>\n",
       "      <td>10.0</td>\n",
       "      <td>8.0</td>\n",
       "      <td>1.0</td>\n",
       "      <td>0.0</td>\n",
       "      <td>1.0</td>\n",
       "      <td>5.0</td>\n",
       "      <td>9.0</td>\n",
       "      <td>1</td>\n",
       "      <td>2023-09-20-Lille OSC-NK Olimpija Ljubljana</td>\n",
       "    </tr>\n",
       "    <tr>\n",
       "      <th>1255333</th>\n",
       "      <td>2023-09-20</td>\n",
       "      <td>40:07</td>\n",
       "      <td>Lille OSC</td>\n",
       "      <td>NK Olimpija Ljubljana</td>\n",
       "      <td>Europe - UEFA Europa Conference League</td>\n",
       "      <td>3.0</td>\n",
       "      <td>0.0</td>\n",
       "      <td>0.0</td>\n",
       "      <td>0.0</td>\n",
       "      <td>3.0</td>\n",
       "      <td>...</td>\n",
       "      <td>1.0</td>\n",
       "      <td>10.0</td>\n",
       "      <td>8.0</td>\n",
       "      <td>1.0</td>\n",
       "      <td>0.0</td>\n",
       "      <td>1.0</td>\n",
       "      <td>5.0</td>\n",
       "      <td>9.0</td>\n",
       "      <td>1</td>\n",
       "      <td>2023-09-20-Lille OSC-NK Olimpija Ljubljana</td>\n",
       "    </tr>\n",
       "    <tr>\n",
       "      <th>1255334</th>\n",
       "      <td>2023-09-20</td>\n",
       "      <td>41:13</td>\n",
       "      <td>Lille OSC</td>\n",
       "      <td>NK Olimpija Ljubljana</td>\n",
       "      <td>Europe - UEFA Europa Conference League</td>\n",
       "      <td>3.0</td>\n",
       "      <td>0.0</td>\n",
       "      <td>0.0</td>\n",
       "      <td>0.0</td>\n",
       "      <td>3.0</td>\n",
       "      <td>...</td>\n",
       "      <td>1.0</td>\n",
       "      <td>11.0</td>\n",
       "      <td>9.0</td>\n",
       "      <td>1.0</td>\n",
       "      <td>0.0</td>\n",
       "      <td>1.0</td>\n",
       "      <td>5.0</td>\n",
       "      <td>9.0</td>\n",
       "      <td>1</td>\n",
       "      <td>2023-09-20-Lille OSC-NK Olimpija Ljubljana</td>\n",
       "    </tr>\n",
       "    <tr>\n",
       "      <th>1255335</th>\n",
       "      <td>2023-09-20</td>\n",
       "      <td>42:18</td>\n",
       "      <td>Lille OSC</td>\n",
       "      <td>NK Olimpija Ljubljana</td>\n",
       "      <td>Europe - UEFA Europa Conference League</td>\n",
       "      <td>3.0</td>\n",
       "      <td>0.0</td>\n",
       "      <td>0.0</td>\n",
       "      <td>0.0</td>\n",
       "      <td>3.0</td>\n",
       "      <td>...</td>\n",
       "      <td>1.0</td>\n",
       "      <td>11.0</td>\n",
       "      <td>9.0</td>\n",
       "      <td>1.0</td>\n",
       "      <td>0.0</td>\n",
       "      <td>1.0</td>\n",
       "      <td>5.0</td>\n",
       "      <td>9.0</td>\n",
       "      <td>1</td>\n",
       "      <td>2023-09-20-Lille OSC-NK Olimpija Ljubljana</td>\n",
       "    </tr>\n",
       "  </tbody>\n",
       "</table>\n",
       "<p>1255336 rows × 27 columns</p>\n",
       "</div>"
      ],
      "text/plain": [
       "               date minute        homeTeam               awayTeam  \\\n",
       "0        2023-08-20   0:36  Aston Villa FC             Everton FC   \n",
       "1        2023-08-20   0:53  Aston Villa FC             Everton FC   \n",
       "2        2023-08-20   2:00  Aston Villa FC             Everton FC   \n",
       "3        2023-08-20   3:07  Aston Villa FC             Everton FC   \n",
       "4        2023-08-20   4:13  Aston Villa FC             Everton FC   \n",
       "...             ...    ...             ...                    ...   \n",
       "1255331  2023-09-20  37:57       Lille OSC  NK Olimpija Ljubljana   \n",
       "1255332  2023-09-20  39:02       Lille OSC  NK Olimpija Ljubljana   \n",
       "1255333  2023-09-20  40:07       Lille OSC  NK Olimpija Ljubljana   \n",
       "1255334  2023-09-20  41:13       Lille OSC  NK Olimpija Ljubljana   \n",
       "1255335  2023-09-20  42:18       Lille OSC  NK Olimpija Ljubljana   \n",
       "\n",
       "                                         league  corners_home  corners_away  \\\n",
       "0                      England - Premier League           1.0           1.0   \n",
       "1                      England - Premier League           1.0           0.0   \n",
       "2                      England - Premier League           2.0           0.0   \n",
       "3                      England - Premier League           2.0           0.0   \n",
       "4                      England - Premier League           2.0           0.0   \n",
       "...                                         ...           ...           ...   \n",
       "1255331  Europe - UEFA Europa Conference League           3.0           0.0   \n",
       "1255332  Europe - UEFA Europa Conference League           3.0           0.0   \n",
       "1255333  Europe - UEFA Europa Conference League           3.0           0.0   \n",
       "1255334  Europe - UEFA Europa Conference League           3.0           0.0   \n",
       "1255335  Europe - UEFA Europa Conference League           3.0           0.0   \n",
       "\n",
       "         redcards_home  redcards_away  shotsOffgoal_home  ...  fouls_c_home  \\\n",
       "0                  0.0            0.0                1.0  ...           0.0   \n",
       "1                  0.0            0.0                1.0  ...           0.0   \n",
       "2                  0.0            0.0                1.0  ...           0.0   \n",
       "3                  0.0            0.0                1.0  ...           0.0   \n",
       "4                  0.0            0.0                1.0  ...           0.0   \n",
       "...                ...            ...                ...  ...           ...   \n",
       "1255331            0.0            0.0                3.0  ...           1.0   \n",
       "1255332            0.0            0.0                3.0  ...           1.0   \n",
       "1255333            0.0            0.0                3.0  ...           1.0   \n",
       "1255334            0.0            0.0                3.0  ...           1.0   \n",
       "1255335            0.0            0.0                3.0  ...           1.0   \n",
       "\n",
       "         fouls_c_away  fouls_won_home  fouls_won_away  offsides_home  \\\n",
       "0                 0.0             0.0             0.0            0.0   \n",
       "1                 0.0             0.0             0.0            0.0   \n",
       "2                 0.0             0.0             0.0            0.0   \n",
       "3                 0.0             0.0             0.0            0.0   \n",
       "4                 0.0             0.0             0.0            0.0   \n",
       "...               ...             ...             ...            ...   \n",
       "1255331           9.0             7.0             1.0            0.0   \n",
       "1255332          10.0             8.0             1.0            0.0   \n",
       "1255333          10.0             8.0             1.0            0.0   \n",
       "1255334          11.0             9.0             1.0            0.0   \n",
       "1255335          11.0             9.0             1.0            0.0   \n",
       "\n",
       "         offsides_away  tackles_home  tackles_away  result  \\\n",
       "0                  0.0           0.0           0.0       0   \n",
       "1                  0.0           0.0           0.0       0   \n",
       "2                  0.0           0.0           0.0       0   \n",
       "3                  0.0           0.0           0.0       0   \n",
       "4                  0.0           0.0           0.0       0   \n",
       "...                ...           ...           ...     ...   \n",
       "1255331            1.0           5.0           9.0       1   \n",
       "1255332            1.0           5.0           9.0       1   \n",
       "1255333            1.0           5.0           9.0       1   \n",
       "1255334            1.0           5.0           9.0       1   \n",
       "1255335            1.0           5.0           9.0       1   \n",
       "\n",
       "                                           match_id  \n",
       "0                                                    \n",
       "1              2023-08-20-Aston Villa FC-Everton FC  \n",
       "2              2023-08-20-Aston Villa FC-Everton FC  \n",
       "3              2023-08-20-Aston Villa FC-Everton FC  \n",
       "4              2023-08-20-Aston Villa FC-Everton FC  \n",
       "...                                             ...  \n",
       "1255331  2023-09-20-Lille OSC-NK Olimpija Ljubljana  \n",
       "1255332  2023-09-20-Lille OSC-NK Olimpija Ljubljana  \n",
       "1255333  2023-09-20-Lille OSC-NK Olimpija Ljubljana  \n",
       "1255334  2023-09-20-Lille OSC-NK Olimpija Ljubljana  \n",
       "1255335  2023-09-20-Lille OSC-NK Olimpija Ljubljana  \n",
       "\n",
       "[1255336 rows x 27 columns]"
      ]
     },
     "execution_count": 73,
     "metadata": {},
     "output_type": "execute_result"
    }
   ],
   "source": [
    "# df05ht = pd.read_csv('../data/raw/data_live_scores.csv').reset_index(drop=True)\n",
    "df05ht = pd.read_csv('data_live_scores.csv').reset_index(drop=True)\n",
    "df05ht"
   ]
  },
  {
   "cell_type": "code",
   "execution_count": 74,
   "metadata": {},
   "outputs": [
    {
     "data": {
      "text/plain": [
       "Index(['date', 'minute', 'homeTeam', 'awayTeam', 'league', 'corners_home',\n",
       "       'corners_away', 'redcards_home', 'redcards_away', 'shotsOffgoal_home',\n",
       "       'shotsOffgoal_away', 'shotsOngoal_home', 'shotsOngoal_away',\n",
       "       'yellowcards_home', 'yellowcards_away', 'passes_home', 'passes_away',\n",
       "       'fouls_c_home', 'fouls_c_away', 'fouls_won_home', 'fouls_won_away',\n",
       "       'offsides_home', 'offsides_away', 'tackles_home', 'tackles_away',\n",
       "       'result', 'match_id'],\n",
       "      dtype='object')"
      ]
     },
     "execution_count": 74,
     "metadata": {},
     "output_type": "execute_result"
    }
   ],
   "source": [
    "df05ht.columns"
   ]
  },
  {
   "cell_type": "markdown",
   "metadata": {},
   "source": [
    "# Preprocess"
   ]
  },
  {
   "cell_type": "code",
   "execution_count": 75,
   "metadata": {},
   "outputs": [
    {
     "name": "stdout",
     "output_type": "stream",
     "text": [
      "(1254689, 27)\n",
      "(1254689, 27)\n"
     ]
    }
   ],
   "source": [
    "print(df05ht.dropna().shape)\n",
    "df05ht = df05ht.dropna()\n",
    "print(df05ht.dropna().shape)"
   ]
  },
  {
   "cell_type": "code",
   "execution_count": 76,
   "metadata": {},
   "outputs": [
    {
     "data": {
      "text/plain": [
       "(137198, 27)"
      ]
     },
     "execution_count": 76,
     "metadata": {},
     "output_type": "execute_result"
    }
   ],
   "source": [
    "df05ht.drop_duplicates(keep='last', inplace=True)\n",
    "df05ht.shape"
   ]
  },
  {
   "cell_type": "code",
   "execution_count": 77,
   "metadata": {},
   "outputs": [],
   "source": [
    "new_columns_names = {'fouls_won_away': 'fouls_away', 'fouls_won_home': 'fouls_home'}\n",
    "df05ht = df05ht.rename(columns=new_columns_names)"
   ]
  },
  {
   "cell_type": "code",
   "execution_count": 78,
   "metadata": {},
   "outputs": [],
   "source": [
    "df05ht['possessiontime_away'] = (df05ht['passes_away'] / (df05ht['passes_away'] + df05ht['passes_home'])) * 100\n",
    "df05ht['possessiontime_home'] = (df05ht['passes_home'] / (df05ht['passes_away'] + df05ht['passes_home'])) * 100\n"
   ]
  },
  {
   "cell_type": "code",
   "execution_count": 79,
   "metadata": {},
   "outputs": [],
   "source": [
    "df05ht.drop(columns=[\"date\",'passes_home', 'passes_away', 'fouls_c_home', 'fouls_c_away'], inplace=True)"
   ]
  },
  {
   "cell_type": "code",
   "execution_count": 80,
   "metadata": {},
   "outputs": [
    {
     "data": {
      "text/plain": [
       "(137198, 24)"
      ]
     },
     "execution_count": 80,
     "metadata": {},
     "output_type": "execute_result"
    }
   ],
   "source": [
    "df05ht.shape"
   ]
  },
  {
   "cell_type": "code",
   "execution_count": 81,
   "metadata": {},
   "outputs": [],
   "source": [
    "leagues_opta = df05ht['league'].unique()"
   ]
  },
  {
   "cell_type": "code",
   "execution_count": 82,
   "metadata": {},
   "outputs": [
    {
     "name": "stdout",
     "output_type": "stream",
     "text": [
      "England - Premier League\n",
      "Germany - Bundesliga\n",
      "Spain - Primera División\n",
      "France - Ligue 1\n",
      "USA - MLS\n",
      "Italy - Serie A\n",
      "Brazil - Serie A\n",
      "Netherlands - Eredivisie\n",
      "England - Championship\n",
      "Portugal - Primeira Liga\n",
      "Romania - Liga I\n",
      "World - FIFA Women's World Cup\n",
      "England - League One\n",
      "England - League Two\n",
      "Europe - UEFA Europa Conference League\n",
      "Europe - UEFA Super Cup\n",
      "England - League Cup\n",
      "Europe - UEFA Champions League\n",
      "Germany - DFB Pokal\n",
      "Italy - Coppa Italia\n",
      "Scotland - Premiership\n",
      "Germany - Super Cup\n",
      "South America - CONMEBOL Libertadores\n",
      "England - Community Shield\n",
      "N/C America - Concacaf Gold Cup\n",
      "Europe - UEFA U21 Championship\n",
      "Romania - Supercupa\n",
      "Romania - Play-offs 1/2\n",
      "Australia - A-League Men\n",
      "Portugal - Play-offs 1/2\n",
      "Europe - UEFA European Championship Qualifiers\n",
      "Germany - Play-offs 1/2\n",
      "Europe - UEFA Nations League\n",
      "Europe - UEFA Europa League\n",
      "England - FA Cup\n",
      "Spain - Copa del Rey\n",
      "World - FIFA World Cup\n",
      "France - Coupe de France\n",
      "Spain - Super Cup\n",
      "Italy - Super Cup\n",
      "World - FIFA Club World Cup\n"
     ]
    }
   ],
   "source": [
    "for league in leagues_opta:\n",
    "    print(league)"
   ]
  },
  {
   "cell_type": "code",
   "execution_count": 83,
   "metadata": {},
   "outputs": [],
   "source": [
    "# df[df['league'] == \"Europe - UEFA European Championship Qualifiers\"].tail(1)\n",
    "# 'Australia - A-League Men': 'Australia - A-League',"
   ]
  },
  {
   "cell_type": "code",
   "execution_count": 84,
   "metadata": {},
   "outputs": [
    {
     "name": "stdout",
     "output_type": "stream",
     "text": [
      "41\n",
      "41\n"
     ]
    }
   ],
   "source": [
    "name_mapping = {\n",
    "    'England - Premier League': 'England - Premier League',\n",
    "    'Germany - Bundesliga': 'Germany - Bundesliga',\n",
    "    'Spain - Primera División': 'Spain - La Liga',\n",
    "    'France - Ligue 1': 'France - Ligue 1',\n",
    "    'Italy - Serie A': 'Italy - Serie A',\n",
    "    'USA - MLS': 'USA - Major League Soccer',\n",
    "    'Brazil - Serie A': 'Brazil - Serie A',\n",
    "    'Netherlands - Eredivisie': 'Netherlands - Eredivisie',\n",
    "    'England - Championship': 'England - Championship',\n",
    "    'Portugal - Primeira Liga': 'Portugal - Liga Portugal',\n",
    "    'Romania - Liga I': 'Romania - Liga 1',\n",
    "    \"World - FIFA Women's World Cup\": 'World - World Cup Women',\n",
    "    'England - League One': 'England - League One',\n",
    "    'England - League Two': 'England - League Two',\n",
    "    'Europe - UEFA Europa Conference League': 'Europe - Europa Conference League',\n",
    "    'England - League Cup': 'England - Carabao Cup',\n",
    "    'Europe - UEFA Super Cup': 'Europe - Uefa Super Cup',\n",
    "    'Europe - UEFA Champions League': 'Europe - Champions League',\n",
    "    'Germany - DFB Pokal': 'Germany - DFB Pokal',\n",
    "    'Italy - Coppa Italia': 'Italy - Coppa Italia',\n",
    "    'Scotland - Premiership': 'Scotland - Premiership',\n",
    "    'Germany - Super Cup': 'Germany - Super Cup',\n",
    "    'South America - CONMEBOL Libertadores': 'South America - Copa Libertadores',\n",
    "    'England - Community Shield': 'England - Community Shield',\n",
    "    'N/C America - Concacaf Gold Cup': 'World - CONCACAF Gold Cup',\n",
    "    'Europe - UEFA U21 Championship': 'Europe - Euro U21',\n",
    "    'Romania - Supercupa': 'Romania - Super Cup',\n",
    "    'Romania - Play-offs 1/2': 'Romania - Liga 1 - Play-offs',\n",
    "    'Australia - A-League Men': 'Australia - A-League',\n",
    "    'Portugal - Play-offs 1/2': 'Portugal - Primeira Liga - Play-offs',\n",
    "    'Europe - UEFA European Championship Qualifiers': 'Europe - Euro Qualification',\n",
    "    'Germany - Play-offs 1/2': 'Germany - Bundesliga Play-offs',\n",
    "    'Europe - UEFA Nations League': 'Europe - UEFA Nations League',\n",
    "    'Europe - UEFA Europa League': 'Europe - Europa League',\n",
    "    'England - FA Cup': 'England - FA Cup',\n",
    "    'Spain - Copa del Rey': 'Spain - Copa Del Rey',\n",
    "    'World - FIFA World Cup': 'World - FIFA World Cup',\n",
    "    'France - Coupe de France': 'France - Coupe de France',\n",
    "    'Spain - Super Cup': 'Spain - Super Cup',\n",
    "    'Italy - Super Cup': 'Italy - Super Cup',\n",
    "    'World - FIFA Club World Cup': 'World - FIFA Club World Cup',\n",
    "\n",
    "}\n",
    "\n",
    "print(len(name_mapping))\n",
    "print(len(leagues_opta))\n",
    "\n",
    "# Atualize os nomes das ligas em df05ht\n",
    "df05ht['league'] = df05ht['league'].replace(name_mapping)\n"
   ]
  },
  {
   "cell_type": "code",
   "execution_count": 85,
   "metadata": {},
   "outputs": [
    {
     "name": "stdout",
     "output_type": "stream",
     "text": [
      "4382\n",
      "0    108511\n",
      "1     28687\n",
      "Name: result, dtype: int64\n",
      "137198\n"
     ]
    }
   ],
   "source": [
    "# # Define a variável alvo\n",
    "target = 'result'\n",
    "\n",
    "print(len(df05ht['match_id'].unique()))\n",
    "print(df05ht['result'].value_counts())\n",
    "print(len(df05ht))"
   ]
  },
  {
   "cell_type": "code",
   "execution_count": 86,
   "metadata": {},
   "outputs": [
    {
     "data": {
      "text/plain": [
       "(137198, 24)"
      ]
     },
     "execution_count": 86,
     "metadata": {},
     "output_type": "execute_result"
    }
   ],
   "source": [
    "df05ht.shape"
   ]
  },
  {
   "cell_type": "code",
   "execution_count": 87,
   "metadata": {},
   "outputs": [],
   "source": [
    "def convert_to_int_minutes(value):\n",
    "    if '+' in value:\n",
    "        # Separando o tempo base e o acréscimo\n",
    "        base_time, added_time = value.split('+')\n",
    "        added_minutes = int(added_time.split(':')[0])  # Ignorando os segundos, pegando apenas os minutos do acréscimo\n",
    "    else:\n",
    "        base_time = value\n",
    "        added_minutes = 0\n",
    "    \n",
    "    # Convertendo o tempo base em minutos\n",
    "    base_minutes = int(base_time.split(':')[0]) if ':' in base_time else int(base_time)\n",
    "    \n",
    "    # Somando os minutos\n",
    "    total_minutes = base_minutes + added_minutes\n",
    "    return total_minutes\n",
    "\n",
    "\n",
    "# Aplicando a função para converter os minutos\n",
    "df05ht['minute'] = df05ht['minute'].apply(convert_to_int_minutes)"
   ]
  },
  {
   "cell_type": "code",
   "execution_count": 88,
   "metadata": {},
   "outputs": [
    {
     "data": {
      "text/plain": [
       "4382"
      ]
     },
     "execution_count": 88,
     "metadata": {},
     "output_type": "execute_result"
    }
   ],
   "source": [
    "len(df05ht['match_id'].unique())"
   ]
  },
  {
   "cell_type": "code",
   "execution_count": 89,
   "metadata": {},
   "outputs": [
    {
     "data": {
      "text/plain": [
       "['England - Community Shield',\n",
       " 'Germany - Bundesliga Play-offs',\n",
       " 'Italy - Super Cup',\n",
       " 'Romania - Super Cup',\n",
       " 'Romania - Liga 1 - Play-offs',\n",
       " 'Spain - Super Cup',\n",
       " 'England - Community Shield',\n",
       " 'Romania - Super Cup',\n",
       " 'Europe - Uefa Super Cup',\n",
       " 'Portugal - Primeira Liga - Play-offs',\n",
       " 'Italy - Super Cup',\n",
       " 'Germany - Bundesliga Play-offs',\n",
       " 'Germany - Super Cup']"
      ]
     },
     "execution_count": 89,
     "metadata": {},
     "output_type": "execute_result"
    }
   ],
   "source": [
    "# 1. Identify leagues with only one unique value in 'result' column\n",
    "single_value_leagues = df05ht.groupby('league').apply(lambda x: len(x['result'].unique()) == 1)\n",
    "\n",
    "# 2. Identify leagues with fewer than 100 matches\n",
    "few_matches_leagues = df05ht['league'].value_counts()\n",
    "few_matches_leagues = few_matches_leagues[few_matches_leagues < 100].index.tolist()\n",
    "\n",
    "# Combine the lists of leagues to drop\n",
    "leagues_to_drop = single_value_leagues[single_value_leagues].index.tolist() + few_matches_leagues\n",
    "\n",
    "# Drop the identified leagues\n",
    "filtered_data = df05ht[~df05ht['league'].isin(leagues_to_drop)]\n",
    "\n",
    "# 3. Balance the 'result' column for each remaining league\n",
    "balanced_data = []\n",
    "for league in filtered_data['league'].unique():\n",
    "    league_data = filtered_data[filtered_data['league'] == league]\n",
    "    min_count = league_data['result'].value_counts().min()\n",
    "    \n",
    "    # Sample 'min_count' examples from each result value\n",
    "    balanced_samples = [league_data[league_data['result'] == result_val].sample(min_count, random_state=42) for result_val in [0, 1]]\n",
    "    balanced_data.extend(balanced_samples)\n",
    "\n",
    "# Combine the balanced data samples\n",
    "balanced_data = pd.concat(balanced_data, axis=0)\n",
    "balanced_data.dropna(inplace=True)\n",
    "\n",
    "# Display the first few rows of the balanced data and the list of dropped leagues\n",
    "leagues_to_drop\n"
   ]
  },
  {
   "cell_type": "code",
   "execution_count": 90,
   "metadata": {},
   "outputs": [
    {
     "data": {
      "text/plain": [
       "(57173, 24)"
      ]
     },
     "execution_count": 90,
     "metadata": {},
     "output_type": "execute_result"
    }
   ],
   "source": [
    "df = balanced_data.copy()\n",
    "df.shape"
   ]
  },
  {
   "cell_type": "code",
   "execution_count": 91,
   "metadata": {},
   "outputs": [
    {
     "data": {
      "image/png": "[encoded data removed]",
      "text/plain": [
       "<Figure size 1080x720 with 1 Axes>"
      ]
     },
     "metadata": {
      "needs_background": "light"
     },
     "output_type": "display_data"
    }
   ],
   "source": [
    "# Group the data by league and result and get the size of each group\n",
    "league_distribution = df.groupby(['league', 'result']).size().unstack().fillna(0)\n",
    "\n",
    "# Sort the leagues based on the total number of games\n",
    "sorted_leagues = league_distribution.sum(axis=1).sort_values(ascending=False).head(100).index\n",
    "\n",
    "# Plot\n",
    "plt.figure(figsize=(15, 10))\n",
    "league_distribution.loc[sorted_leagues].plot(kind='bar', stacked=True, ax=plt.gca())\n",
    "plt.title('Distribution of \"result\" for Each League')\n",
    "plt.ylabel('Number of Games')\n",
    "plt.xlabel('League')\n",
    "plt.tight_layout()\n",
    "plt.xticks(rotation=90)\n",
    "plt.show()\n"
   ]
  },
  {
   "cell_type": "code",
   "execution_count": 92,
   "metadata": {},
   "outputs": [
    {
     "data": {
      "text/plain": [
       "1    28590\n",
       "0    28583\n",
       "Name: result, dtype: int64"
      ]
     },
     "execution_count": 92,
     "metadata": {},
     "output_type": "execute_result"
    }
   ],
   "source": [
    "df['result'].value_counts()"
   ]
  },
  {
   "cell_type": "code",
   "execution_count": 93,
   "metadata": {},
   "outputs": [
    {
     "data": {
      "text/plain": [
       "(57173, 24)"
      ]
     },
     "execution_count": 93,
     "metadata": {},
     "output_type": "execute_result"
    }
   ],
   "source": [
    "df.shape"
   ]
  },
  {
   "cell_type": "code",
   "execution_count": 94,
   "metadata": {},
   "outputs": [],
   "source": [
    "df = df.sort_values('minute').reset_index(drop=True)\n",
    "# df.to_csv('data_live_scores_balanced.csv', index=False)\n",
    "# df = pd.read_csv('data_live_scores_balanced.csv')"
   ]
  },
  {
   "cell_type": "code",
   "execution_count": 95,
   "metadata": {},
   "outputs": [],
   "source": [
    "# IDs únicos no DataFrame\n",
    "unique_ids = df['match_id'].unique()\n",
    "\n",
    "invalid_ids = []\n",
    "\n",
    "for game_id in unique_ids:\n",
    "    # Obtenha as minutagens para o ID atual\n",
    "    game_df = df[df['match_id'] == game_id]\n",
    "    \n",
    "    # Verifique se há minutos fora do intervalo permitido (maior que 57)\n",
    "    if any(game_df['minute'] > 57):\n",
    "        invalid_ids.append(game_id)\n",
    "        continue  # Pode pular para o próximo ID já que este é inválido\n",
    "    \n",
    "# Remova os IDs inválidos do DataFrame original\n",
    "df_clean = df[~df['match_id'].isin(invalid_ids)]"
   ]
  },
  {
   "cell_type": "code",
   "execution_count": 96,
   "metadata": {},
   "outputs": [
    {
     "name": "stdout",
     "output_type": "stream",
     "text": [
      "(57123, 24)\n",
      "(57173, 24)\n"
     ]
    }
   ],
   "source": [
    "print(df_clean.shape)\n",
    "print(df.shape)"
   ]
  },
  {
   "cell_type": "code",
   "execution_count": 97,
   "metadata": {},
   "outputs": [],
   "source": [
    "df = df_clean"
   ]
  },
  {
   "cell_type": "code",
   "execution_count": 98,
   "metadata": {},
   "outputs": [
    {
     "data": {
      "text/plain": [
       "Index(['minute', 'homeTeam', 'awayTeam', 'league', 'corners_home',\n",
       "       'corners_away', 'redcards_home', 'redcards_away', 'shotsOffgoal_home',\n",
       "       'shotsOffgoal_away', 'shotsOngoal_home', 'shotsOngoal_away',\n",
       "       'yellowcards_home', 'yellowcards_away', 'fouls_home', 'fouls_away',\n",
       "       'offsides_home', 'offsides_away', 'tackles_home', 'tackles_away',\n",
       "       'result', 'match_id', 'possessiontime_away', 'possessiontime_home'],\n",
       "      dtype='object')"
      ]
     },
     "execution_count": 98,
     "metadata": {},
     "output_type": "execute_result"
    }
   ],
   "source": [
    "df.columns"
   ]
  },
  {
   "cell_type": "code",
   "execution_count": 99,
   "metadata": {},
   "outputs": [],
   "source": [
    "\n",
    "\n",
    "# Separando os dados em características e variável alvo\n",
    "X = df.drop(columns=['result', 'homeTeam', 'awayTeam', 'match_id'])\n",
    "y = df['result']\n",
    "\n",
    "# Definindo as colunas numéricas e categóricas\n",
    "numeric_features = X.select_dtypes(exclude=['object']).columns.tolist()\n",
    "categorical_features = ['league']\n",
    "\n",
    "# Criando o transformador de colunas\n",
    "preprocessor = ColumnTransformer(\n",
    "    transformers=[\n",
    "        ('num', StandardScaler(), numeric_features),\n",
    "        ('cat', OneHotEncoder(drop='first'), categorical_features)\n",
    "    ])\n",
    "\n",
    "# Aplicando as transformações\n",
    "X = preprocessor.fit_transform(X)\n",
    "\n",
    "with open(f'../models/preprocessor.pickle', 'wb') as f:\n",
    "    pickle.dump(preprocessor, f)"
   ]
  },
  {
   "cell_type": "code",
   "execution_count": 100,
   "metadata": {},
   "outputs": [],
   "source": [
    "X_train, X_test, y_train, y_test = train_test_split(X, y, test_size=0.20,train_size=0.80, random_state=42)"
   ]
  },
  {
   "cell_type": "markdown",
   "metadata": {},
   "source": [
    "# Modeling"
   ]
  },
  {
   "cell_type": "markdown",
   "metadata": {},
   "source": [
    "## Automl h2o"
   ]
  },
  {
   "cell_type": "code",
   "execution_count": 101,
   "metadata": {},
   "outputs": [
    {
     "name": "stdout",
     "output_type": "stream",
     "text": [
      "Checking whether there is an H2O instance running at http://localhost:54321..... not found.\n",
      "Attempting to start a local H2O server...\n",
      "; Java HotSpot(TM) 64-Bit Server VM (build 17.0.8+9-LTS-211, mixed mode, sharing)\n",
      "  Starting server from C:\\Python310\\Lib\\site-packages\\h2o\\backend\\bin\\h2o.jar\n",
      "  Ice root: C:\\Users\\Pichau\\AppData\\Local\\Temp\\tmpnr9oi_cj\n",
      "  JVM stdout: C:\\Users\\Pichau\\AppData\\Local\\Temp\\tmpnr9oi_cj\\h2o_Pichau_started_from_python.out\n",
      "  JVM stderr: C:\\Users\\Pichau\\AppData\\Local\\Temp\\tmpnr9oi_cj\\h2o_Pichau_started_from_python.err\n",
      "  Server is running at http://127.0.0.1:54321\n",
      "Connecting to H2O server at http://127.0.0.1:54321 ... successful.\n"
     ]
    },
    {
     "data": {
      "text/html": [
       "\n",
       "<style>\n",
       "\n",
       "#h2o-table-1.h2o-container {\n",
       "  overflow-x: auto;\n",
       "}\n",
       "#h2o-table-1 .h2o-table {\n",
       "  /* width: 100%; */\n",
       "  margin-top: 1em;\n",
       "  margin-bottom: 1em;\n",
       "}\n",
       "#h2o-table-1 .h2o-table caption {\n",
       "  white-space: nowrap;\n",
       "  caption-side: top;\n",
       "  text-align: left;\n",
       "  /* margin-left: 1em; */\n",
       "  margin: 0;\n",
       "  font-size: larger;\n",
       "}\n",
       "#h2o-table-1 .h2o-table thead {\n",
       "  white-space: nowrap; \n",
       "  position: sticky;\n",
       "  top: 0;\n",
       "  box-shadow: 0 -1px inset;\n",
       "}\n",
       "#h2o-table-1 .h2o-table tbody {\n",
       "  overflow: auto;\n",
       "}\n",
       "#h2o-table-1 .h2o-table th,\n",
       "#h2o-table-1 .h2o-table td {\n",
       "  text-align: right;\n",
       "  /* border: 1px solid; */\n",
       "}\n",
       "#h2o-table-1 .h2o-table tr:nth-child(even) {\n",
       "  /* background: #F5F5F5 */\n",
       "}\n",
       "\n",
       "</style>      \n",
       "<div id=\"h2o-table-1\" class=\"h2o-container\">\n",
       "  <table class=\"h2o-table\">\n",
       "    <caption></caption>\n",
       "    <thead></thead>\n",
       "    <tbody><tr><td>H2O_cluster_uptime:</td>\n",
       "<td>02 secs</td></tr>\n",
       "<tr><td>H2O_cluster_timezone:</td>\n",
       "<td>America/Sao_Paulo</td></tr>\n",
       "<tr><td>H2O_data_parsing_timezone:</td>\n",
       "<td>UTC</td></tr>\n",
       "<tr><td>H2O_cluster_version:</td>\n",
       "<td>3.42.0.3</td></tr>\n",
       "<tr><td>H2O_cluster_version_age:</td>\n",
       "<td>30 days</td></tr>\n",
       "<tr><td>H2O_cluster_name:</td>\n",
       "<td>H2O_from_python_Pichau_eas44d</td></tr>\n",
       "<tr><td>H2O_cluster_total_nodes:</td>\n",
       "<td>1</td></tr>\n",
       "<tr><td>H2O_cluster_free_memory:</td>\n",
       "<td>5.965 Gb</td></tr>\n",
       "<tr><td>H2O_cluster_total_cores:</td>\n",
       "<td>12</td></tr>\n",
       "<tr><td>H2O_cluster_allowed_cores:</td>\n",
       "<td>12</td></tr>\n",
       "<tr><td>H2O_cluster_status:</td>\n",
       "<td>locked, healthy</td></tr>\n",
       "<tr><td>H2O_connection_url:</td>\n",
       "<td>http://127.0.0.1:54321</td></tr>\n",
       "<tr><td>H2O_connection_proxy:</td>\n",
       "<td>{\"http\": null, \"https\": null}</td></tr>\n",
       "<tr><td>H2O_internal_security:</td>\n",
       "<td>False</td></tr>\n",
       "<tr><td>Python_version:</td>\n",
       "<td>3.10.1 final</td></tr></tbody>\n",
       "  </table>\n",
       "</div>\n"
      ],
      "text/plain": [
       "--------------------------  -----------------------------\n",
       "H2O_cluster_uptime:         02 secs\n",
       "H2O_cluster_timezone:       America/Sao_Paulo\n",
       "H2O_data_parsing_timezone:  UTC\n",
       "H2O_cluster_version:        3.42.0.3\n",
       "H2O_cluster_version_age:    30 days\n",
       "H2O_cluster_name:           H2O_from_python_Pichau_eas44d\n",
       "H2O_cluster_total_nodes:    1\n",
       "H2O_cluster_free_memory:    5.965 Gb\n",
       "H2O_cluster_total_cores:    12\n",
       "H2O_cluster_allowed_cores:  12\n",
       "H2O_cluster_status:         locked, healthy\n",
       "H2O_connection_url:         http://127.0.0.1:54321\n",
       "H2O_connection_proxy:       {\"http\": null, \"https\": null}\n",
       "H2O_internal_security:      False\n",
       "Python_version:             3.10.1 final\n",
       "--------------------------  -----------------------------"
      ]
     },
     "metadata": {},
     "output_type": "display_data"
    },
    {
     "name": "stdout",
     "output_type": "stream",
     "text": [
      "Parse progress: |████████████████████████████████████████████████████████████████| (done) 100%\n",
      "Parse progress: |████████████████████████████████████████████████████████████████| (done) 100%\n",
      "Parse progress: |████████████████████████████████████████████████████████████████| (done) 100%\n",
      "Parse progress: |████████████████████████████████████████████████████████████████| (done) 100%\n",
      "Parse progress: |████████████████████████████████████████████████████████████████| (done) 100%\n",
      "Parse progress: |████████████████████████████████████████████████████████████████| (done) 100%\n",
      "Parse progress: |████████████████████████████████████████████████████████████████| (done) 100%\n",
      "Parse progress: |████████████████████████████████████████████████████████████████| (done) 100%\n",
      "X_train_h2o shape: (45698, 50)\n",
      "y_train_h2o shape: (45698, 1)\n",
      "X_test_h2o shape: (11425, 50)\n",
      "y_test_h2o shape: (11425, 1)\n",
      "AutoML progress: |\n",
      "20:44:09.537: AutoML: XGBoost is not available; skipping it.\n",
      "\n",
      "███████████████████████████████████████████████████████████████| (done) 100%\n",
      "model_id                                                      auc    logloss     aucpr    mean_per_class_error      rmse       mse\n",
      "StackedEnsemble_AllModels_1_AutoML_1_20230921_204409     0.751423   0.587502  0.700703                0.332564  0.449293  0.201864\n",
      "StackedEnsemble_BestOfFamily_1_AutoML_1_20230921_204409  0.747952   0.591007  0.698324                0.333666  0.450855  0.20327\n",
      "DRF_1_AutoML_1_20230921_204409                           0.729365   0.625944  0.679139                0.350191  0.466829  0.217929\n",
      "GBM_4_AutoML_1_20230921_204409                           0.724492   0.612486  0.67569                 0.354951  0.461108  0.21262\n",
      "GBM_grid_1_AutoML_1_20230921_204409_model_5              0.718443   0.619127  0.673528                0.362236  0.464341  0.215612\n",
      "GBM_grid_1_AutoML_1_20230921_204409_model_3              0.707481   0.624421  0.657689                0.372169  0.466078  0.217229\n",
      "DeepLearning_grid_2_AutoML_1_20230921_204409_model_2     0.705649   0.61431   0.674562                0.377574  0.46266   0.214054\n",
      "GBM_3_AutoML_1_20230921_204409                           0.700779   0.629903  0.659069                0.378093  0.469584  0.220509\n",
      "GBM_grid_1_AutoML_1_20230921_204409_model_4              0.698128   0.635482  0.657059                0.381572  0.471928  0.222716\n",
      "GBM_1_AutoML_1_20230921_204409                           0.695031   0.630979  0.655435                0.39328   0.469967  0.220869\n",
      "[22 rows x 7 columns]\n",
      "\n"
     ]
    }
   ],
   "source": [
    "\n",
    "\n",
    "# Inicializar o H2O\n",
    "h2o.init()\n",
    "\n",
    "# Convertendo dados do numpy para H2OFrame\n",
    "X_train_h2o = h2o.H2OFrame(pd.DataFrame(X_train, columns=[\"col_\" + str(i) for i in range(X_train.shape[1])]))\n",
    "X_test_h2o = h2o.H2OFrame(pd.DataFrame(X_test, columns=[\"col_\" + str(i) for i in range(X_test.shape[1])]))\n",
    "y_train_h2o = h2o.H2OFrame(pd.DataFrame(y_train, columns=[\"result\"]))\n",
    "y_test_h2o = h2o.H2OFrame(pd.DataFrame(y_test, columns=[\"result\"]))\n",
    "\n",
    "# Convert Pandas DataFrame or NumPy array to H2OFrame\n",
    "X_train_h2o = h2o.H2OFrame(X_train)\n",
    "X_test_h2o = h2o.H2OFrame(X_test)\n",
    "\n",
    "y_train_df = y_train.to_frame()\n",
    "y_train_h2o = h2o.H2OFrame(y_train_df)\n",
    "y_train_h2o['result'] = y_train_h2o['result'].asfactor()\n",
    "\n",
    "y_test_df = y_test.to_frame()\n",
    "y_test_h2o = h2o.H2OFrame(y_test_df)\n",
    "y_test_h2o['result'] = y_test_h2o['result'].asfactor()\n",
    "\n",
    "# Check the shape again\n",
    "print(\"X_train_h2o shape:\", X_train_h2o.shape)\n",
    "print(\"y_train_h2o shape:\", y_train_h2o.shape)\n",
    "print(\"X_test_h2o shape:\", X_test_h2o.shape)\n",
    "print(\"y_test_h2o shape:\", y_test_h2o.shape)\n",
    "\n",
    "# Combine them back into one frame\n",
    "train_data = X_train_h2o.cbind(y_train_h2o)\n",
    "test_data = X_test_h2o.cbind(y_test_h2o)\n",
    "\n",
    "# Identify predictors and response\n",
    "x = train_data.columns\n",
    "\n",
    "y = \"result\"\n",
    "x.remove(y)\n",
    "\n",
    "# Run AutoML\n",
    "aml = H2OAutoML(max_models=20, seed=42)\n",
    "aml.train(x=x, y=y, training_frame=train_data)\n",
    "\n",
    "# View leaderboard\n",
    "lb = aml.leaderboard\n",
    "print(lb)"
   ]
  },
  {
   "cell_type": "code",
   "execution_count": 103,
   "metadata": {},
   "outputs": [
    {
     "ename": "H2OResponseError",
     "evalue": "Server error water.exceptions.H2OIllegalArgumentException:\n  Error: Illegal argument: dir of function: importModel: water.api.FSIOException: FS IO Failure: \n accessed path : file:/c:/Users/Pichau/Desktop/eofut/notebooks/model_automl.h5 msg: File not found\n  Request: POST /99/Models.bin/\n    data: {'dir': 'model_automl.h5'}\n",
     "output_type": "error",
     "traceback": [
      "\u001b[1;31m---------------------------------------------------------------------------\u001b[0m",
      "\u001b[1;31mH2OResponseError\u001b[0m                          Traceback (most recent call last)",
      "\u001b[1;32mc:\\Users\\Pichau\\Desktop\\eofut\\notebooks\\nc-model-pred-live.ipynb Cell 35\u001b[0m line \u001b[0;36m<cell line: 1>\u001b[1;34m()\u001b[0m\n\u001b[1;32m----> <a href='vscode-notebook-cell:/c%3A/Users/Pichau/Desktop/eofut/notebooks/nc-model-pred-live.ipynb#X45sZmlsZQ%3D%3D?line=0'>1</a>\u001b[0m loaded_model \u001b[39m=\u001b[39m h2o\u001b[39m.\u001b[39;49mload_model(\u001b[39m'\u001b[39;49m\u001b[39mmodel_automl.h5\u001b[39;49m\u001b[39m'\u001b[39;49m)\n\u001b[0;32m      <a href='vscode-notebook-cell:/c%3A/Users/Pichau/Desktop/eofut/notebooks/nc-model-pred-live.ipynb#X45sZmlsZQ%3D%3D?line=1'>2</a>\u001b[0m y_pred_prob \u001b[39m=\u001b[39m loaded_model\u001b[39m.\u001b[39mpredict(X_test_h2o)\n\u001b[0;32m      <a href='vscode-notebook-cell:/c%3A/Users/Pichau/Desktop/eofut/notebooks/nc-model-pred-live.ipynb#X45sZmlsZQ%3D%3D?line=2'>3</a>\u001b[0m y_pred \u001b[39m=\u001b[39m h2o\u001b[39m.\u001b[39mas_list(y_pred_prob)\n",
      "File \u001b[1;32mc:\\Python310\\lib\\site-packages\\h2o\\h2o.py:1579\u001b[0m, in \u001b[0;36mload_model\u001b[1;34m(path)\u001b[0m\n\u001b[0;32m   1556\u001b[0m \u001b[39m\"\"\"\u001b[39;00m\n\u001b[0;32m   1557\u001b[0m \u001b[39mLoad a saved H2O model from disk. (Note that ensemble binary models can now be loaded using this method.)\u001b[39;00m\n\u001b[0;32m   1558\u001b[0m \n\u001b[1;32m   (...)\u001b[0m\n\u001b[0;32m   1576\u001b[0m \u001b[39m>>> h2o.load_model(model)\u001b[39;00m\n\u001b[0;32m   1577\u001b[0m \u001b[39m\"\"\"\u001b[39;00m\n\u001b[0;32m   1578\u001b[0m assert_is_type(path, \u001b[39mstr\u001b[39m)\n\u001b[1;32m-> 1579\u001b[0m res \u001b[39m=\u001b[39m api(\u001b[39m\"\u001b[39;49m\u001b[39mPOST /99/Models.bin/\u001b[39;49m\u001b[39m%s\u001b[39;49;00m\u001b[39m\"\u001b[39;49m \u001b[39m%\u001b[39;49m \u001b[39m\"\u001b[39;49m\u001b[39m\"\u001b[39;49m, data\u001b[39m=\u001b[39;49m{\u001b[39m\"\u001b[39;49m\u001b[39mdir\u001b[39;49m\u001b[39m\"\u001b[39;49m: path})\n\u001b[0;32m   1580\u001b[0m \u001b[39mreturn\u001b[39;00m get_model(res[\u001b[39m\"\u001b[39m\u001b[39mmodels\u001b[39m\u001b[39m\"\u001b[39m][\u001b[39m0\u001b[39m][\u001b[39m\"\u001b[39m\u001b[39mmodel_id\u001b[39m\u001b[39m\"\u001b[39m][\u001b[39m\"\u001b[39m\u001b[39mname\u001b[39m\u001b[39m\"\u001b[39m])\n",
      "File \u001b[1;32mc:\\Python310\\lib\\site-packages\\h2o\\h2o.py:122\u001b[0m, in \u001b[0;36mapi\u001b[1;34m(endpoint, data, json, filename, save_to)\u001b[0m\n\u001b[0;32m    120\u001b[0m \u001b[39m# type checks are performed in H2OConnection class\u001b[39;00m\n\u001b[0;32m    121\u001b[0m _check_connection()\n\u001b[1;32m--> 122\u001b[0m \u001b[39mreturn\u001b[39;00m h2oconn\u001b[39m.\u001b[39;49mrequest(endpoint, data\u001b[39m=\u001b[39;49mdata, json\u001b[39m=\u001b[39;49mjson, filename\u001b[39m=\u001b[39;49mfilename, save_to\u001b[39m=\u001b[39;49msave_to)\n",
      "File \u001b[1;32mc:\\Python310\\lib\\site-packages\\h2o\\backend\\connection.py:499\u001b[0m, in \u001b[0;36mH2OConnection.request\u001b[1;34m(self, endpoint, data, json, filename, save_to)\u001b[0m\n\u001b[0;32m    497\u001b[0m         save_to \u001b[39m=\u001b[39m save_to(resp)\n\u001b[0;32m    498\u001b[0m     \u001b[39mself\u001b[39m\u001b[39m.\u001b[39m_log_end_transaction(start_time, resp)\n\u001b[1;32m--> 499\u001b[0m     \u001b[39mreturn\u001b[39;00m \u001b[39mself\u001b[39;49m\u001b[39m.\u001b[39;49m_process_response(resp, save_to)\n\u001b[0;32m    501\u001b[0m \u001b[39mexcept\u001b[39;00m (requests\u001b[39m.\u001b[39mexceptions\u001b[39m.\u001b[39mConnectionError, requests\u001b[39m.\u001b[39mexceptions\u001b[39m.\u001b[39mHTTPError) \u001b[39mas\u001b[39;00m e:\n\u001b[0;32m    502\u001b[0m     \u001b[39mif\u001b[39;00m \u001b[39mself\u001b[39m\u001b[39m.\u001b[39m_local_server \u001b[39mand\u001b[39;00m \u001b[39mnot\u001b[39;00m \u001b[39mself\u001b[39m\u001b[39m.\u001b[39m_local_server\u001b[39m.\u001b[39mis_running():\n",
      "File \u001b[1;32mc:\\Python310\\lib\\site-packages\\h2o\\backend\\connection.py:853\u001b[0m, in \u001b[0;36mH2OConnection._process_response\u001b[1;34m(response, save_to)\u001b[0m\n\u001b[0;32m    851\u001b[0m \u001b[39mif\u001b[39;00m status_code \u001b[39min\u001b[39;00m {\u001b[39m400\u001b[39m, \u001b[39m404\u001b[39m, \u001b[39m412\u001b[39m} \u001b[39mand\u001b[39;00m \u001b[39misinstance\u001b[39m(data, H2OErrorV3):\n\u001b[0;32m    852\u001b[0m     data\u001b[39m.\u001b[39mshow_stacktrace \u001b[39m=\u001b[39m \u001b[39mFalse\u001b[39;00m\n\u001b[1;32m--> 853\u001b[0m     \u001b[39mraise\u001b[39;00m H2OResponseError(data)\n\u001b[0;32m    855\u001b[0m \u001b[39m# Server errors (notably 500 = \"Server Error\")\u001b[39;00m\n\u001b[0;32m    856\u001b[0m \u001b[39m# Note that it is possible to receive valid H2OErrorV3 object in this case, however it merely means the server\u001b[39;00m\n\u001b[0;32m    857\u001b[0m \u001b[39m# did not provide the correct status code.\u001b[39;00m\n\u001b[0;32m    858\u001b[0m \u001b[39mraise\u001b[39;00m H2OServerError(\u001b[39m\"\u001b[39m\u001b[39mHTTP \u001b[39m\u001b[39m%d\u001b[39;00m\u001b[39m \u001b[39m\u001b[39m%s\u001b[39;00m\u001b[39m:\u001b[39m\u001b[39m\\n\u001b[39;00m\u001b[39m%s\u001b[39;00m\u001b[39m\"\u001b[39m \u001b[39m%\u001b[39m (status_code, response\u001b[39m.\u001b[39mreason, data))\n",
      "\u001b[1;31mH2OResponseError\u001b[0m: Server error water.exceptions.H2OIllegalArgumentException:\n  Error: Illegal argument: dir of function: importModel: water.api.FSIOException: FS IO Failure: \n accessed path : file:/c:/Users/Pichau/Desktop/eofut/notebooks/model_automl.h5 msg: File not found\n  Request: POST /99/Models.bin/\n    data: {'dir': 'model_automl.h5'}\n"
     ]
    }
   ],
   "source": [
    "\n",
    "\n",
    "loaded_model = h2o.load_model('model_automl.h5')\n",
    "y_pred_prob = loaded_model.predict(X_test_h2o)\n",
    "y_pred = h2o.as_list(y_pred_prob)\n",
    "y_pred_prob = y_pred['predict'].tolist()\n",
    "\n",
    "# Falsos positivos, verdadeiros positivos e limiares\n",
    "fpr, tpr, thresholds = roc_curve(y_test, y_pred_prob)\n",
    "\n",
    "# Área sob a curva\n",
    "roc_auc = auc(fpr, tpr)\n",
    "\n",
    "plt.figure()\n",
    "plt.plot(fpr, tpr, color='darkorange', lw=1, label='ROC curve (area = %0.2f)' % roc_auc)\n",
    "plt.xlim([0.0, 1.0])\n",
    "plt.ylim([0.0, 1.05])\n",
    "plt.xlabel('False Positive Rate')\n",
    "plt.ylabel('True Positive Rate')\n",
    "plt.title('Receiver Operating Characteristic')\n",
    "plt.legend(loc=\"lower right\")\n",
    "plt.show()\n",
    "\n",
    "# Matriz de confusão\n",
    "y_pred_round = [round(value) for value in y_pred_prob]\n",
    "cm = confusion_matrix(y_test.to_list(), y_pred_round)\n",
    "\n",
    "plt.figure(figsize=(7, 5))\n",
    "sns.heatmap(cm, annot=True, cmap='Blues', fmt='g')\n",
    "plt.xlabel('Predicted')\n",
    "plt.ylabel('True')\n",
    "plt.show()"
   ]
  },
  {
   "cell_type": "markdown",
   "metadata": {},
   "source": [
    "## Random Forest"
   ]
  },
  {
   "cell_type": "code",
   "execution_count": 104,
   "metadata": {},
   "outputs": [],
   "source": [
    "# teste com random forest foi feito mas não atingiu uma boa espectativa \n",
    "# # Criando o modelo base\n",
    "# # rfc = RandomForestClassifier(n_estimators=1000,max_depth=40, min_samples_leaf=1, min_samples_split=30, max_features=None, random_state=1, n_jobs=-1)\n",
    "# rfc = RandomForestClassifier(n_estimators=100, random_state=42, n_jobs=-1)\n",
    "\n",
    "# # # # Treinando o modelo com os melhores hiperparâmetros\n",
    "# rfc.fit(X_train, y_train)\n",
    "\n",
    "# predictions = rfc.predict(X_test)\n",
    "# accuracy = accuracy_score(y_test, predictions)\n",
    "\n",
    "\n",
    "# print(f\" Teste Acurácia do modelo Random Forest: {accuracy * 100:.2f}%\")\n",
    "# print(f\"Erro quadrático médio: {mean_squared_error(y_test, predictions)}\")\n",
    "# print(f\"Treino Acurácia do modelo Random Forest: {rfc.score(X_train, y_train) * 100:.2f}%\")\n",
    "\n",
    "# with open(f'random_forestht.pkl', 'wb') as f:\n",
    "#     pickle.dump(rfc, f)"
   ]
  },
  {
   "cell_type": "markdown",
   "metadata": {},
   "source": [
    "## Neural Network Keras"
   ]
  },
  {
   "cell_type": "code",
   "execution_count": 105,
   "metadata": {},
   "outputs": [
    {
     "name": "stdout",
     "output_type": "stream",
     "text": [
      "Epoch 1/500\n",
      "715/715 [==============================] - 2s 1ms/step - loss: 0.6878 - accuracy: 0.5336 - precision: 0.5307 - recall: 0.5628 - val_loss: 0.6827 - val_accuracy: 0.5515 - val_precision: 0.5680 - val_recall: 0.4631\n",
      "Epoch 2/500\n",
      "715/715 [==============================] - 1s 1ms/step - loss: 0.6749 - accuracy: 0.5706 - precision: 0.5675 - recall: 0.5856 - val_loss: 0.6733 - val_accuracy: 0.5714 - val_precision: 0.5574 - val_recall: 0.7300\n",
      "Epoch 3/500\n",
      "715/715 [==============================] - 1s 1ms/step - loss: 0.6618 - accuracy: 0.5958 - precision: 0.5894 - recall: 0.6257 - val_loss: 0.6635 - val_accuracy: 0.5854 - val_precision: 0.5782 - val_recall: 0.6585\n",
      "Epoch 4/500\n",
      "715/715 [==============================] - 1s 1ms/step - loss: 0.6458 - accuracy: 0.6164 - precision: 0.6100 - recall: 0.6402 - val_loss: 0.6554 - val_accuracy: 0.5951 - val_precision: 0.5999 - val_recall: 0.5926\n",
      "Epoch 5/500\n",
      "715/715 [==============================] - 1s 1ms/step - loss: 0.6286 - accuracy: 0.6381 - precision: 0.6307 - recall: 0.6624 - val_loss: 0.6464 - val_accuracy: 0.6028 - val_precision: 0.6083 - val_recall: 0.5971\n",
      "Epoch 6/500\n",
      "715/715 [==============================] - 1s 1ms/step - loss: 0.6139 - accuracy: 0.6522 - precision: 0.6442 - recall: 0.6764 - val_loss: 0.6366 - val_accuracy: 0.6244 - val_precision: 0.6238 - val_recall: 0.6434\n",
      "Epoch 7/500\n",
      "715/715 [==============================] - 1s 1ms/step - loss: 0.5995 - accuracy: 0.6662 - precision: 0.6567 - recall: 0.6933 - val_loss: 0.6320 - val_accuracy: 0.6283 - val_precision: 0.6149 - val_recall: 0.7038\n",
      "Epoch 8/500\n",
      "715/715 [==============================] - 1s 1ms/step - loss: 0.5859 - accuracy: 0.6774 - precision: 0.6658 - recall: 0.7095 - val_loss: 0.6235 - val_accuracy: 0.6289 - val_precision: 0.6432 - val_recall: 0.5934\n",
      "Epoch 9/500\n",
      "715/715 [==============================] - 1s 1ms/step - loss: 0.5733 - accuracy: 0.6896 - precision: 0.6781 - recall: 0.7195 - val_loss: 0.6192 - val_accuracy: 0.6492 - val_precision: 0.6332 - val_recall: 0.7238\n",
      "Epoch 10/500\n",
      "715/715 [==============================] - 1s 1ms/step - loss: 0.5619 - accuracy: 0.6981 - precision: 0.6842 - recall: 0.7335 - val_loss: 0.6184 - val_accuracy: 0.6412 - val_precision: 0.6470 - val_recall: 0.6353\n",
      "Epoch 11/500\n",
      "715/715 [==============================] - 1s 1ms/step - loss: 0.5515 - accuracy: 0.7062 - precision: 0.6927 - recall: 0.7389 - val_loss: 0.6108 - val_accuracy: 0.6495 - val_precision: 0.6396 - val_recall: 0.6988\n",
      "Epoch 12/500\n",
      "715/715 [==============================] - 1s 1ms/step - loss: 0.5432 - accuracy: 0.7124 - precision: 0.6987 - recall: 0.7445 - val_loss: 0.6040 - val_accuracy: 0.6712 - val_precision: 0.6476 - val_recall: 0.7638\n",
      "Epoch 13/500\n",
      "715/715 [==============================] - 1s 1ms/step - loss: 0.5340 - accuracy: 0.7164 - precision: 0.7012 - recall: 0.7519 - val_loss: 0.6016 - val_accuracy: 0.6639 - val_precision: 0.6652 - val_recall: 0.6719\n",
      "Epoch 14/500\n",
      "715/715 [==============================] - 1s 1ms/step - loss: 0.5268 - accuracy: 0.7233 - precision: 0.7074 - recall: 0.7594 - val_loss: 0.6103 - val_accuracy: 0.6453 - val_precision: 0.6641 - val_recall: 0.6004\n",
      "Epoch 15/500\n",
      "715/715 [==============================] - 1s 1ms/step - loss: 0.5212 - accuracy: 0.7275 - precision: 0.7130 - recall: 0.7597 - val_loss: 0.5992 - val_accuracy: 0.6633 - val_precision: 0.6736 - val_recall: 0.6450\n",
      "Epoch 16/500\n",
      "715/715 [==============================] - 1s 1ms/step - loss: 0.5137 - accuracy: 0.7338 - precision: 0.7188 - recall: 0.7661 - val_loss: 0.6011 - val_accuracy: 0.6642 - val_precision: 0.6610 - val_recall: 0.6864\n",
      "Epoch 17/500\n",
      "715/715 [==============================] - 1s 1ms/step - loss: 0.5071 - accuracy: 0.7379 - precision: 0.7220 - recall: 0.7717 - val_loss: 0.5935 - val_accuracy: 0.6682 - val_precision: 0.6758 - val_recall: 0.6576\n",
      "Epoch 18/500\n",
      "715/715 [==============================] - 1s 1ms/step - loss: 0.5018 - accuracy: 0.7404 - precision: 0.7240 - recall: 0.7750 - val_loss: 0.6012 - val_accuracy: 0.6834 - val_precision: 0.6561 - val_recall: 0.7828\n",
      "Epoch 19/500\n",
      "715/715 [==============================] - 1s 1ms/step - loss: 0.4981 - accuracy: 0.7444 - precision: 0.7267 - recall: 0.7818 - val_loss: 0.5929 - val_accuracy: 0.6753 - val_precision: 0.6859 - val_recall: 0.6573\n",
      "Epoch 20/500\n",
      "715/715 [==============================] - 1s 1ms/step - loss: 0.4939 - accuracy: 0.7464 - precision: 0.7292 - recall: 0.7821 - val_loss: 0.5952 - val_accuracy: 0.6709 - val_precision: 0.6642 - val_recall: 0.7029\n",
      "Epoch 21/500\n",
      "715/715 [==============================] - 1s 1ms/step - loss: 0.4905 - accuracy: 0.7483 - precision: 0.7310 - recall: 0.7839 - val_loss: 0.5926 - val_accuracy: 0.6766 - val_precision: 0.7027 - val_recall: 0.6221\n",
      "Epoch 22/500\n",
      "715/715 [==============================] - 1s 1ms/step - loss: 0.4847 - accuracy: 0.7515 - precision: 0.7342 - recall: 0.7868 - val_loss: 0.5930 - val_accuracy: 0.6839 - val_precision: 0.6726 - val_recall: 0.7276\n",
      "Epoch 23/500\n",
      "715/715 [==============================] - 1s 1ms/step - loss: 0.4795 - accuracy: 0.7559 - precision: 0.7378 - recall: 0.7922 - val_loss: 0.6067 - val_accuracy: 0.6929 - val_precision: 0.6647 - val_recall: 0.7893\n",
      "Epoch 24/500\n",
      "715/715 [==============================] - 1s 1ms/step - loss: 0.4772 - accuracy: 0.7591 - precision: 0.7419 - recall: 0.7929 - val_loss: 0.5879 - val_accuracy: 0.6969 - val_precision: 0.6751 - val_recall: 0.7694\n",
      "Epoch 25/500\n",
      "715/715 [==============================] - 1s 1ms/step - loss: 0.4731 - accuracy: 0.7603 - precision: 0.7416 - recall: 0.7972 - val_loss: 0.5964 - val_accuracy: 0.6812 - val_precision: 0.7062 - val_recall: 0.6302\n",
      "Epoch 26/500\n",
      "715/715 [==============================] - 1s 1ms/step - loss: 0.4693 - accuracy: 0.7633 - precision: 0.7442 - recall: 0.8009 - val_loss: 0.5928 - val_accuracy: 0.6846 - val_precision: 0.7005 - val_recall: 0.6545\n",
      "Epoch 27/500\n",
      "715/715 [==============================] - 1s 1ms/step - loss: 0.4674 - accuracy: 0.7615 - precision: 0.7440 - recall: 0.7958 - val_loss: 0.5852 - val_accuracy: 0.6938 - val_precision: 0.6787 - val_recall: 0.7465\n",
      "Epoch 28/500\n",
      "715/715 [==============================] - 1s 1ms/step - loss: 0.4657 - accuracy: 0.7661 - precision: 0.7472 - recall: 0.8027 - val_loss: 0.5838 - val_accuracy: 0.6936 - val_precision: 0.6815 - val_recall: 0.7368\n",
      "Epoch 29/500\n",
      "715/715 [==============================] - 1s 1ms/step - loss: 0.4623 - accuracy: 0.7660 - precision: 0.7473 - recall: 0.8024 - val_loss: 0.5892 - val_accuracy: 0.6882 - val_precision: 0.6940 - val_recall: 0.6832\n",
      "Epoch 30/500\n",
      "715/715 [==============================] - 1s 1ms/step - loss: 0.4594 - accuracy: 0.7687 - precision: 0.7505 - recall: 0.8034 - val_loss: 0.5911 - val_accuracy: 0.7040 - val_precision: 0.6767 - val_recall: 0.7911\n",
      "Epoch 31/500\n",
      "715/715 [==============================] - 1s 2ms/step - loss: 0.4562 - accuracy: 0.7713 - precision: 0.7522 - recall: 0.8076 - val_loss: 0.5844 - val_accuracy: 0.6967 - val_precision: 0.6883 - val_recall: 0.7288\n",
      "Epoch 32/500\n",
      "715/715 [==============================] - 1s 2ms/step - loss: 0.4537 - accuracy: 0.7724 - precision: 0.7529 - recall: 0.8093 - val_loss: 0.5834 - val_accuracy: 0.6895 - val_precision: 0.6975 - val_recall: 0.6790\n",
      "Epoch 33/500\n",
      "715/715 [==============================] - 1s 1ms/step - loss: 0.4519 - accuracy: 0.7727 - precision: 0.7538 - recall: 0.8084 - val_loss: 0.5803 - val_accuracy: 0.7057 - val_precision: 0.6859 - val_recall: 0.7685\n",
      "Epoch 34/500\n",
      "715/715 [==============================] - 1s 1ms/step - loss: 0.4497 - accuracy: 0.7742 - precision: 0.7539 - recall: 0.8128 - val_loss: 0.5920 - val_accuracy: 0.6886 - val_precision: 0.7072 - val_recall: 0.6530\n",
      "Epoch 35/500\n",
      "715/715 [==============================] - 1s 1ms/step - loss: 0.4471 - accuracy: 0.7742 - precision: 0.7557 - recall: 0.8087 - val_loss: 0.5999 - val_accuracy: 0.6752 - val_precision: 0.6903 - val_recall: 0.6458\n",
      "Epoch 36/500\n",
      "715/715 [==============================] - 1s 1ms/step - loss: 0.4449 - accuracy: 0.7766 - precision: 0.7581 - recall: 0.8110 - val_loss: 0.5926 - val_accuracy: 0.6953 - val_precision: 0.6793 - val_recall: 0.7500\n",
      "Epoch 37/500\n",
      "715/715 [==============================] - 1s 1ms/step - loss: 0.4446 - accuracy: 0.7763 - precision: 0.7573 - recall: 0.8120 - val_loss: 0.5884 - val_accuracy: 0.7015 - val_precision: 0.6996 - val_recall: 0.7154\n",
      "Epoch 38/500\n",
      "715/715 [==============================] - 1s 1ms/step - loss: 0.4408 - accuracy: 0.7801 - precision: 0.7611 - recall: 0.8150 - val_loss: 0.5901 - val_accuracy: 0.6947 - val_precision: 0.6839 - val_recall: 0.7340\n",
      "Epoch 39/500\n",
      "715/715 [==============================] - 1s 1ms/step - loss: 0.4410 - accuracy: 0.7795 - precision: 0.7597 - recall: 0.8163 - val_loss: 0.5938 - val_accuracy: 0.7051 - val_precision: 0.6824 - val_recall: 0.7770\n",
      "Epoch 40/500\n",
      "715/715 [==============================] - 1s 1ms/step - loss: 0.4365 - accuracy: 0.7835 - precision: 0.7642 - recall: 0.8184 - val_loss: 0.6094 - val_accuracy: 0.6812 - val_precision: 0.6960 - val_recall: 0.6535\n",
      "Epoch 41/500\n",
      "715/715 [==============================] - 1s 1ms/step - loss: 0.4373 - accuracy: 0.7801 - precision: 0.7616 - recall: 0.8141 - val_loss: 0.5887 - val_accuracy: 0.7075 - val_precision: 0.6787 - val_recall: 0.7977\n",
      "Epoch 42/500\n",
      "715/715 [==============================] - 1s 1ms/step - loss: 0.4318 - accuracy: 0.7854 - precision: 0.7655 - recall: 0.8214 - val_loss: 0.5915 - val_accuracy: 0.7030 - val_precision: 0.6786 - val_recall: 0.7812\n",
      "Epoch 43/500\n",
      "715/715 [==============================] - 1s 1ms/step - loss: 0.4321 - accuracy: 0.7853 - precision: 0.7651 - recall: 0.8220 - val_loss: 0.5883 - val_accuracy: 0.7021 - val_precision: 0.6916 - val_recall: 0.7387\n",
      "Epoch 44/500\n",
      "715/715 [==============================] - 1s 1ms/step - loss: 0.4296 - accuracy: 0.7851 - precision: 0.7676 - recall: 0.8166 - val_loss: 0.5904 - val_accuracy: 0.7032 - val_precision: 0.6788 - val_recall: 0.7814\n",
      "Epoch 45/500\n",
      "715/715 [==============================] - 1s 1ms/step - loss: 0.4285 - accuracy: 0.7873 - precision: 0.7671 - recall: 0.8235 - val_loss: 0.5984 - val_accuracy: 0.6996 - val_precision: 0.7030 - val_recall: 0.7003\n",
      "Epoch 46/500\n",
      "715/715 [==============================] - 1s 1ms/step - loss: 0.4280 - accuracy: 0.7863 - precision: 0.7677 - recall: 0.8198 - val_loss: 0.6093 - val_accuracy: 0.7049 - val_precision: 0.6878 - val_recall: 0.7597\n",
      "Epoch 47/500\n",
      "715/715 [==============================] - 1s 1ms/step - loss: 0.4268 - accuracy: 0.7855 - precision: 0.7667 - recall: 0.8194 - val_loss: 0.5971 - val_accuracy: 0.7095 - val_precision: 0.7010 - val_recall: 0.7395\n",
      "Epoch 48/500\n",
      "715/715 [==============================] - 1s 1ms/step - loss: 0.4256 - accuracy: 0.7879 - precision: 0.7691 - recall: 0.8214 - val_loss: 0.6078 - val_accuracy: 0.6835 - val_precision: 0.6996 - val_recall: 0.6528\n",
      "Epoch 49/500\n",
      "715/715 [==============================] - 1s 1ms/step - loss: 0.4250 - accuracy: 0.7913 - precision: 0.7719 - recall: 0.8255 - val_loss: 0.5970 - val_accuracy: 0.7016 - val_precision: 0.7071 - val_recall: 0.6974\n",
      "Epoch 50/500\n",
      "715/715 [==============================] - 1s 1ms/step - loss: 0.4223 - accuracy: 0.7901 - precision: 0.7710 - recall: 0.8240 - val_loss: 0.5926 - val_accuracy: 0.7044 - val_precision: 0.6878 - val_recall: 0.7581\n",
      "Epoch 51/500\n",
      "715/715 [==============================] - 1s 1ms/step - loss: 0.4196 - accuracy: 0.7898 - precision: 0.7707 - recall: 0.8236 - val_loss: 0.5947 - val_accuracy: 0.6998 - val_precision: 0.7008 - val_recall: 0.7064\n",
      "Epoch 52/500\n",
      "715/715 [==============================] - 1s 1ms/step - loss: 0.4202 - accuracy: 0.7898 - precision: 0.7709 - recall: 0.8234 - val_loss: 0.6067 - val_accuracy: 0.7085 - val_precision: 0.6892 - val_recall: 0.7689\n",
      "Epoch 53/500\n",
      "715/715 [==============================] - 1s 1ms/step - loss: 0.4174 - accuracy: 0.7920 - precision: 0.7725 - recall: 0.8266 - val_loss: 0.5996 - val_accuracy: 0.7015 - val_precision: 0.7011 - val_recall: 0.7116\n",
      "Epoch 54/500\n",
      "715/715 [==============================] - 1s 1ms/step - loss: 0.4189 - accuracy: 0.7920 - precision: 0.7721 - recall: 0.8274 - val_loss: 0.6038 - val_accuracy: 0.7130 - val_precision: 0.6983 - val_recall: 0.7590\n",
      "Epoch 55/500\n",
      "715/715 [==============================] - 1s 1ms/step - loss: 0.4146 - accuracy: 0.7927 - precision: 0.7728 - recall: 0.8280 - val_loss: 0.5968 - val_accuracy: 0.7034 - val_precision: 0.6975 - val_recall: 0.7274\n",
      "Epoch 56/500\n",
      "715/715 [==============================] - 1s 1ms/step - loss: 0.4140 - accuracy: 0.7934 - precision: 0.7737 - recall: 0.8281 - val_loss: 0.6192 - val_accuracy: 0.6887 - val_precision: 0.7140 - val_recall: 0.6386\n",
      "Epoch 57/500\n",
      "715/715 [==============================] - 1s 1ms/step - loss: 0.4133 - accuracy: 0.7947 - precision: 0.7754 - recall: 0.8283 - val_loss: 0.6050 - val_accuracy: 0.7173 - val_precision: 0.6977 - val_recall: 0.7755\n",
      "Epoch 58/500\n",
      "715/715 [==============================] - 1s 1ms/step - loss: 0.4131 - accuracy: 0.7947 - precision: 0.7753 - recall: 0.8284 - val_loss: 0.6026 - val_accuracy: 0.6969 - val_precision: 0.7102 - val_recall: 0.6743\n",
      "Epoch 59/500\n",
      "715/715 [==============================] - 1s 1ms/step - loss: 0.4138 - accuracy: 0.7936 - precision: 0.7750 - recall: 0.8261 - val_loss: 0.6022 - val_accuracy: 0.7120 - val_precision: 0.6983 - val_recall: 0.7557\n",
      "Epoch 60/500\n",
      "715/715 [==============================] - 1s 1ms/step - loss: 0.4093 - accuracy: 0.7971 - precision: 0.7776 - recall: 0.8310 - val_loss: 0.6036 - val_accuracy: 0.7094 - val_precision: 0.7059 - val_recall: 0.7267\n",
      "Epoch 61/500\n",
      "715/715 [==============================] - 1s 1ms/step - loss: 0.4078 - accuracy: 0.7998 - precision: 0.7799 - recall: 0.8342 - val_loss: 0.5991 - val_accuracy: 0.7158 - val_precision: 0.7008 - val_recall: 0.7618\n",
      "Epoch 62/500\n",
      "715/715 [==============================] - 1s 1ms/step - loss: 0.4075 - accuracy: 0.7985 - precision: 0.7793 - recall: 0.8316 - val_loss: 0.6009 - val_accuracy: 0.7021 - val_precision: 0.6997 - val_recall: 0.7175\n",
      "Epoch 63/500\n",
      "715/715 [==============================] - 1s 1ms/step - loss: 0.4059 - accuracy: 0.7987 - precision: 0.7802 - recall: 0.8306 - val_loss: 0.6130 - val_accuracy: 0.6953 - val_precision: 0.7172 - val_recall: 0.6538\n",
      "Epoch 64/500\n",
      "715/715 [==============================] - 1s 1ms/step - loss: 0.4069 - accuracy: 0.7971 - precision: 0.7791 - recall: 0.8282 - val_loss: 0.6165 - val_accuracy: 0.7129 - val_precision: 0.6812 - val_recall: 0.8098\n",
      "Epoch 65/500\n",
      "715/715 [==============================] - 1s 1ms/step - loss: 0.4064 - accuracy: 0.7976 - precision: 0.7781 - recall: 0.8313 - val_loss: 0.5969 - val_accuracy: 0.7104 - val_precision: 0.6933 - val_recall: 0.7637\n",
      "Epoch 66/500\n",
      "715/715 [==============================] - 1s 1ms/step - loss: 0.4031 - accuracy: 0.7996 - precision: 0.7794 - recall: 0.8345 - val_loss: 0.6073 - val_accuracy: 0.7098 - val_precision: 0.6959 - val_recall: 0.7543\n",
      "Epoch 67/500\n",
      "715/715 [==============================] - 1s 1ms/step - loss: 0.4035 - accuracy: 0.8013 - precision: 0.7818 - recall: 0.8347 - val_loss: 0.6130 - val_accuracy: 0.6974 - val_precision: 0.7140 - val_recall: 0.6675\n",
      "Epoch 68/500\n",
      "715/715 [==============================] - 1s 2ms/step - loss: 0.4023 - accuracy: 0.8021 - precision: 0.7835 - recall: 0.8337 - val_loss: 0.6083 - val_accuracy: 0.7068 - val_precision: 0.6950 - val_recall: 0.7461\n",
      "Epoch 69/500\n",
      "715/715 [==============================] - 1s 1ms/step - loss: 0.4026 - accuracy: 0.8006 - precision: 0.7810 - recall: 0.8341 - val_loss: 0.6109 - val_accuracy: 0.6941 - val_precision: 0.7184 - val_recall: 0.6472\n",
      "Epoch 70/500\n",
      "715/715 [==============================] - 1s 1ms/step - loss: 0.4003 - accuracy: 0.8011 - precision: 0.7814 - recall: 0.8348 - val_loss: 0.6154 - val_accuracy: 0.7108 - val_precision: 0.7098 - val_recall: 0.7217\n",
      "Epoch 71/500\n",
      "715/715 [==============================] - 1s 1ms/step - loss: 0.3988 - accuracy: 0.8036 - precision: 0.7833 - recall: 0.8380 - val_loss: 0.6115 - val_accuracy: 0.7021 - val_precision: 0.7044 - val_recall: 0.7054\n",
      "Epoch 72/500\n",
      "715/715 [==============================] - 1s 1ms/step - loss: 0.3976 - accuracy: 0.8028 - precision: 0.7840 - recall: 0.8347 - val_loss: 0.6049 - val_accuracy: 0.7026 - val_precision: 0.7067 - val_recall: 0.7015\n",
      "Epoch 73/500\n",
      "715/715 [==============================] - 1s 1ms/step - loss: 0.3974 - accuracy: 0.8041 - precision: 0.7843 - recall: 0.8377 - val_loss: 0.6192 - val_accuracy: 0.7057 - val_precision: 0.6859 - val_recall: 0.7687\n",
      "Epoch 74/500\n",
      "715/715 [==============================] - 1s 1ms/step - loss: 0.3993 - accuracy: 0.8027 - precision: 0.7832 - recall: 0.8360 - val_loss: 0.6110 - val_accuracy: 0.7068 - val_precision: 0.6963 - val_recall: 0.7427\n",
      "Epoch 75/500\n",
      "715/715 [==============================] - 1s 1ms/step - loss: 0.3960 - accuracy: 0.8049 - precision: 0.7849 - recall: 0.8388 - val_loss: 0.6143 - val_accuracy: 0.7051 - val_precision: 0.6980 - val_recall: 0.7321\n",
      "Epoch 76/500\n",
      "715/715 [==============================] - 1s 1ms/step - loss: 0.3923 - accuracy: 0.8077 - precision: 0.7875 - recall: 0.8417 - val_loss: 0.6197 - val_accuracy: 0.6989 - val_precision: 0.6954 - val_recall: 0.7173\n",
      "Epoch 77/500\n",
      "715/715 [==============================] - 1s 1ms/step - loss: 0.3941 - accuracy: 0.8051 - precision: 0.7858 - recall: 0.8377 - val_loss: 0.6042 - val_accuracy: 0.7086 - val_precision: 0.7006 - val_recall: 0.7376\n",
      "Epoch 78/500\n",
      "715/715 [==============================] - 1s 1ms/step - loss: 0.3939 - accuracy: 0.8061 - precision: 0.7872 - recall: 0.8377 - val_loss: 0.6256 - val_accuracy: 0.6835 - val_precision: 0.7038 - val_recall: 0.6432\n",
      "Epoch 79/500\n",
      "715/715 [==============================] - 1s 1ms/step - loss: 0.3941 - accuracy: 0.8055 - precision: 0.7866 - recall: 0.8372 - val_loss: 0.6180 - val_accuracy: 0.7130 - val_precision: 0.6888 - val_recall: 0.7864\n",
      "Epoch 80/500\n",
      "715/715 [==============================] - 1s 1ms/step - loss: 0.3920 - accuracy: 0.8045 - precision: 0.7850 - recall: 0.8376 - val_loss: 0.6097 - val_accuracy: 0.7051 - val_precision: 0.6916 - val_recall: 0.7496\n",
      "Epoch 81/500\n",
      "715/715 [==============================] - 1s 1ms/step - loss: 0.3942 - accuracy: 0.8064 - precision: 0.7871 - recall: 0.8388 - val_loss: 0.6145 - val_accuracy: 0.7073 - val_precision: 0.6908 - val_recall: 0.7598\n",
      "Epoch 82/500\n",
      "715/715 [==============================] - 1s 1ms/step - loss: 0.3901 - accuracy: 0.8094 - precision: 0.7897 - recall: 0.8422 - val_loss: 0.6189 - val_accuracy: 0.7133 - val_precision: 0.6975 - val_recall: 0.7621\n",
      "Epoch 83/500\n",
      "715/715 [==============================] - 1s 1ms/step - loss: 0.3904 - accuracy: 0.8058 - precision: 0.7864 - recall: 0.8386 - val_loss: 0.6253 - val_accuracy: 0.7056 - val_precision: 0.6971 - val_recall: 0.7361\n",
      "358/358 [==============================] - 0s 594us/step\n",
      "Accuracy on training set: 0.8205610513687134\n",
      "Accuracy on test set: 0.7055580019950867\n"
     ]
    },
    {
     "data": {
      "image/png": "[encoded data removed]",
      "text/plain": [
       "<Figure size 432x288 with 1 Axes>"
      ]
     },
     "metadata": {
      "needs_background": "light"
     },
     "output_type": "display_data"
    }
   ],
   "source": [
    "predictions = []\n",
    "  \n",
    "model = Sequential()\n",
    "model.add(Dense(128, activation='relu', input_shape=(X_train.shape[1],)))\n",
    "# model.add(Dropout(0.1))\n",
    "model.add(Dense(64, activation='relu'))\n",
    "# model.add(Dense(256, activation='relu'))\n",
    "# model.add(Dropout(0.1))\n",
    "model.add(Dense(1, activation='sigmoid'))  # Binary classification\n",
    "\n",
    "\n",
    "# Compilando o modelo\n",
    "optimizer = Adam(learning_rate=0.001)\n",
    "model.compile(loss='binary_crossentropy',\n",
    "            optimizer=optimizer,\n",
    "            metrics=['accuracy', 'Precision', 'Recall'])\n",
    "\n",
    "\n",
    "\n",
    "\n",
    "early_stop = EarlyStopping(monitor='val_loss', patience=50)\n",
    "\n",
    "# Treinando o modelo\n",
    "history = model.fit(X_train, y_train, epochs=500, batch_size=64, validation_data=(X_test, y_test), callbacks=[early_stop], verbose=1)\n",
    "# history = model.fit(X_train, y_train, epochs=500, batch_size=64, validation_data=(X_test, y_test), verbose=1)\n",
    "\n",
    "\n",
    "\n",
    "# Faz a predição utilizando os dados de teste\n",
    "predictions = model.predict(X_test)\n",
    "predictions = np.where(predictions > 0.5, 1, 0)\n",
    "\n",
    "# Avaliando a acurácia do modelo no conjunto de treinamento e conjunto de teste\n",
    "train_acc = model.evaluate(X_train, y_train, verbose=0)[1]\n",
    "test_acc = model.evaluate(X_test, y_test, verbose=0)[1]\n",
    "print('Accuracy on training set:', train_acc)\n",
    "print('Accuracy on test set:', test_acc)\n",
    "\n",
    "# Plotando a curva de aprendizado\n",
    "plt.plot(history.history['accuracy'])\n",
    "plt.plot(history.history['val_accuracy'])\n",
    "plt.title('Curva de Aprendizado')\n",
    "plt.ylabel('Acurácia')\n",
    "plt.xlabel('Época')\n",
    "plt.legend(['Treino', 'Teste'], loc='upper left')\n",
    "plt.show()\n",
    "\n",
    "# save model .h5\n",
    "model.save('model_redeht.h5')"
   ]
  },
  {
   "cell_type": "code",
   "execution_count": 106,
   "metadata": {},
   "outputs": [],
   "source": [
    "# h2o.cluster().shutdown()\n"
   ]
  },
  {
   "cell_type": "code",
   "execution_count": null,
   "metadata": {},
   "outputs": [],
   "source": []
  },
  {
   "cell_type": "markdown",
   "metadata": {},
   "source": [
    "# In pratice"
   ]
  },
  {
   "cell_type": "code",
   "execution_count": 107,
   "metadata": {},
   "outputs": [
    {
     "name": "stdout",
     "output_type": "stream",
     "text": [
      "Checking whether there is an H2O instance running at http://localhost:54321. connected.\n"
     ]
    },
    {
     "data": {
      "text/html": [
       "\n",
       "<style>\n",
       "\n",
       "#h2o-table-2.h2o-container {\n",
       "  overflow-x: auto;\n",
       "}\n",
       "#h2o-table-2 .h2o-table {\n",
       "  /* width: 100%; */\n",
       "  margin-top: 1em;\n",
       "  margin-bottom: 1em;\n",
       "}\n",
       "#h2o-table-2 .h2o-table caption {\n",
       "  white-space: nowrap;\n",
       "  caption-side: top;\n",
       "  text-align: left;\n",
       "  /* margin-left: 1em; */\n",
       "  margin: 0;\n",
       "  font-size: larger;\n",
       "}\n",
       "#h2o-table-2 .h2o-table thead {\n",
       "  white-space: nowrap; \n",
       "  position: sticky;\n",
       "  top: 0;\n",
       "  box-shadow: 0 -1px inset;\n",
       "}\n",
       "#h2o-table-2 .h2o-table tbody {\n",
       "  overflow: auto;\n",
       "}\n",
       "#h2o-table-2 .h2o-table th,\n",
       "#h2o-table-2 .h2o-table td {\n",
       "  text-align: right;\n",
       "  /* border: 1px solid; */\n",
       "}\n",
       "#h2o-table-2 .h2o-table tr:nth-child(even) {\n",
       "  /* background: #F5F5F5 */\n",
       "}\n",
       "\n",
       "</style>      \n",
       "<div id=\"h2o-table-2\" class=\"h2o-container\">\n",
       "  <table class=\"h2o-table\">\n",
       "    <caption></caption>\n",
       "    <thead></thead>\n",
       "    <tbody><tr><td>H2O_cluster_uptime:</td>\n",
       "<td>1 hour 22 mins</td></tr>\n",
       "<tr><td>H2O_cluster_timezone:</td>\n",
       "<td>America/Sao_Paulo</td></tr>\n",
       "<tr><td>H2O_data_parsing_timezone:</td>\n",
       "<td>UTC</td></tr>\n",
       "<tr><td>H2O_cluster_version:</td>\n",
       "<td>3.42.0.3</td></tr>\n",
       "<tr><td>H2O_cluster_version_age:</td>\n",
       "<td>30 days</td></tr>\n",
       "<tr><td>H2O_cluster_name:</td>\n",
       "<td>H2O_from_python_Pichau_eas44d</td></tr>\n",
       "<tr><td>H2O_cluster_total_nodes:</td>\n",
       "<td>1</td></tr>\n",
       "<tr><td>H2O_cluster_free_memory:</td>\n",
       "<td>5.820 Gb</td></tr>\n",
       "<tr><td>H2O_cluster_total_cores:</td>\n",
       "<td>12</td></tr>\n",
       "<tr><td>H2O_cluster_allowed_cores:</td>\n",
       "<td>12</td></tr>\n",
       "<tr><td>H2O_cluster_status:</td>\n",
       "<td>locked, healthy</td></tr>\n",
       "<tr><td>H2O_connection_url:</td>\n",
       "<td>http://localhost:54321</td></tr>\n",
       "<tr><td>H2O_connection_proxy:</td>\n",
       "<td>{\"http\": null, \"https\": null}</td></tr>\n",
       "<tr><td>H2O_internal_security:</td>\n",
       "<td>False</td></tr>\n",
       "<tr><td>Python_version:</td>\n",
       "<td>3.10.1 final</td></tr></tbody>\n",
       "  </table>\n",
       "</div>\n"
      ],
      "text/plain": [
       "--------------------------  -----------------------------\n",
       "H2O_cluster_uptime:         1 hour 22 mins\n",
       "H2O_cluster_timezone:       America/Sao_Paulo\n",
       "H2O_data_parsing_timezone:  UTC\n",
       "H2O_cluster_version:        3.42.0.3\n",
       "H2O_cluster_version_age:    30 days\n",
       "H2O_cluster_name:           H2O_from_python_Pichau_eas44d\n",
       "H2O_cluster_total_nodes:    1\n",
       "H2O_cluster_free_memory:    5.820 Gb\n",
       "H2O_cluster_total_cores:    12\n",
       "H2O_cluster_allowed_cores:  12\n",
       "H2O_cluster_status:         locked, healthy\n",
       "H2O_connection_url:         http://localhost:54321\n",
       "H2O_connection_proxy:       {\"http\": null, \"https\": null}\n",
       "H2O_internal_security:      False\n",
       "Python_version:             3.10.1 final\n",
       "--------------------------  -----------------------------"
      ]
     },
     "metadata": {},
     "output_type": "display_data"
    },
    {
     "name": "stdout",
     "output_type": "stream",
     "text": [
      "Parse progress: |████████████████████████████████████████████████████████████████| (done) 100%\n",
      "stackedensemble prediction progress: |███████████████████████████████████████████| (done) 100%\n"
     ]
    },
    {
     "data": {
      "text/html": [
       "<table class='dataframe'>\n",
       "<thead>\n",
       "<tr><th style=\"text-align: right;\">  predict</th><th style=\"text-align: right;\">      p0</th><th style=\"text-align: right;\">      p1</th></tr>\n",
       "</thead>\n",
       "<tbody>\n",
       "<tr><td style=\"text-align: right;\">        1</td><td style=\"text-align: right;\">0.589734</td><td style=\"text-align: right;\">0.410266</td></tr>\n",
       "</tbody>\n",
       "</table><pre style='font-size: smaller; margin-bottom: 1em;'>[1 row x 3 columns]</pre>"
      ],
      "text/plain": [
       "  predict        p0        p1\n",
       "---------  --------  --------\n",
       "        1  0.589734  0.410266\n",
       "[1 row x 3 columns]\n"
      ]
     },
     "execution_count": 107,
     "metadata": {},
     "output_type": "execute_result"
    }
   ],
   "source": [
    "h2o.init()\n",
    "loaded_model = h2o.load_model(\"C:/Users/Pichau/Desktop/eo-fut-live/models/model_automl\")\n",
    "Xht = df.drop(columns=['result', 'homeTeam', 'awayTeam', 'match_id']).head(1699).tail(1)\n",
    "Xht = preprocessor.transform(Xht)\n",
    "Xht = h2o.H2OFrame(Xht)\n",
    "loaded_model.predict(Xht)"
   ]
  },
  {
   "cell_type": "code",
   "execution_count": 108,
   "metadata": {},
   "outputs": [
    {
     "name": "stdout",
     "output_type": "stream",
     "text": [
      "stackedensemble prediction progress: |███████████████████████████████████████████| (done) 100%\n"
     ]
    },
    {
     "data": {
      "text/plain": [
       "0.410265916561806"
      ]
     },
     "execution_count": 108,
     "metadata": {},
     "output_type": "execute_result"
    }
   ],
   "source": [
    "h2o.as_list(loaded_model.predict(Xht)).loc[0, 'p1']"
   ]
  }
 ],
 "metadata": {
  "kernelspec": {
   "display_name": "Python 3",
   "language": "python",
   "name": "python3"
  },
  "language_info": {
   "codemirror_mode": {
    "name": "ipython",
    "version": 3
   },
   "file_extension": ".py",
   "mimetype": "text/x-python",
   "name": "python",
   "nbconvert_exporter": "python",
   "pygments_lexer": "ipython3",
   "version": "3.10.1"
  },
  "orig_nbformat": 4,
  "vscode": {
   "interpreter": {
    "hash": "369f2c481f4da34e4445cda3fffd2e751bd1c4d706f27375911949ba6bb62e1c"
   }
  }
 },
 "nbformat": 4,
 "nbformat_minor": 2
}
