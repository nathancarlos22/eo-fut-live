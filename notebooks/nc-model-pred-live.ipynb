{
 "cells": [
  {
   "cell_type": "markdown",
   "metadata": {},
   "source": [
    "# Imports and loads"
   ]
  },
  {
   "cell_type": "code",
   "execution_count": 1,
   "metadata": {},
   "outputs": [],
   "source": [
    "import pandas as pd\n",
    "import numpy as np\n",
    "import warnings\n",
    "import numpy as np\n",
    "import pandas as pd\n",
    "from keras.layers import Dense\n",
    "from keras.models import Sequential\n",
    "from sklearn.ensemble import RandomForestClassifier\n",
    "from sklearn.metrics import mean_squared_error\n",
    "from sklearn.model_selection import train_test_split\n",
    "from keras.optimizers import Adam\n",
    "import matplotlib.pyplot as plt\n",
    "import h2o\n",
    "\n",
    "from sklearn.preprocessing import StandardScaler, OneHotEncoder\n",
    "from sklearn.compose import ColumnTransformer\n",
    "import pickle\n",
    "from h2o.automl import H2OAutoML\n",
    "\n",
    "from sklearn.metrics import roc_curve, auc\n",
    "import matplotlib.pyplot as plt\n",
    "from sklearn.metrics import confusion_matrix\n",
    "import seaborn as sns\n",
    "from keras.callbacks import EarlyStopping\n",
    "\n",
    "warnings.filterwarnings('ignore')"
   ]
  },
  {
   "cell_type": "code",
   "execution_count": 2,
   "metadata": {},
   "outputs": [
    {
     "data": {
      "text/html": [
       "<div>\n",
       "<style scoped>\n",
       "    .dataframe tbody tr th:only-of-type {\n",
       "        vertical-align: middle;\n",
       "    }\n",
       "\n",
       "    .dataframe tbody tr th {\n",
       "        vertical-align: top;\n",
       "    }\n",
       "\n",
       "    .dataframe thead th {\n",
       "        text-align: right;\n",
       "    }\n",
       "</style>\n",
       "<table border=\"1\" class=\"dataframe\">\n",
       "  <thead>\n",
       "    <tr style=\"text-align: right;\">\n",
       "      <th></th>\n",
       "      <th>date</th>\n",
       "      <th>minute</th>\n",
       "      <th>homeTeam</th>\n",
       "      <th>awayTeam</th>\n",
       "      <th>league</th>\n",
       "      <th>corners_home</th>\n",
       "      <th>corners_away</th>\n",
       "      <th>redcards_home</th>\n",
       "      <th>redcards_away</th>\n",
       "      <th>shotsOffgoal_home</th>\n",
       "      <th>...</th>\n",
       "      <th>fouls_c_home</th>\n",
       "      <th>fouls_c_away</th>\n",
       "      <th>fouls_won_home</th>\n",
       "      <th>fouls_won_away</th>\n",
       "      <th>offsides_home</th>\n",
       "      <th>offsides_away</th>\n",
       "      <th>tackles_home</th>\n",
       "      <th>tackles_away</th>\n",
       "      <th>result</th>\n",
       "      <th>match_id</th>\n",
       "    </tr>\n",
       "  </thead>\n",
       "  <tbody>\n",
       "    <tr>\n",
       "      <th>0</th>\n",
       "      <td>2023-08-20</td>\n",
       "      <td>0:36</td>\n",
       "      <td>Aston Villa FC</td>\n",
       "      <td>Everton FC</td>\n",
       "      <td>England - Premier League</td>\n",
       "      <td>1.0</td>\n",
       "      <td>1.0</td>\n",
       "      <td>0.0</td>\n",
       "      <td>0.0</td>\n",
       "      <td>1.0</td>\n",
       "      <td>...</td>\n",
       "      <td>0.0</td>\n",
       "      <td>0.0</td>\n",
       "      <td>0.0</td>\n",
       "      <td>0.0</td>\n",
       "      <td>0.0</td>\n",
       "      <td>0.0</td>\n",
       "      <td>0.0</td>\n",
       "      <td>0.0</td>\n",
       "      <td>0</td>\n",
       "      <td></td>\n",
       "    </tr>\n",
       "    <tr>\n",
       "      <th>1</th>\n",
       "      <td>2023-08-20</td>\n",
       "      <td>0:53</td>\n",
       "      <td>Aston Villa FC</td>\n",
       "      <td>Everton FC</td>\n",
       "      <td>England - Premier League</td>\n",
       "      <td>1.0</td>\n",
       "      <td>0.0</td>\n",
       "      <td>0.0</td>\n",
       "      <td>0.0</td>\n",
       "      <td>1.0</td>\n",
       "      <td>...</td>\n",
       "      <td>0.0</td>\n",
       "      <td>0.0</td>\n",
       "      <td>0.0</td>\n",
       "      <td>0.0</td>\n",
       "      <td>0.0</td>\n",
       "      <td>0.0</td>\n",
       "      <td>0.0</td>\n",
       "      <td>0.0</td>\n",
       "      <td>0</td>\n",
       "      <td>2023-08-20-Aston Villa FC-Everton FC</td>\n",
       "    </tr>\n",
       "    <tr>\n",
       "      <th>2</th>\n",
       "      <td>2023-08-20</td>\n",
       "      <td>2:00</td>\n",
       "      <td>Aston Villa FC</td>\n",
       "      <td>Everton FC</td>\n",
       "      <td>England - Premier League</td>\n",
       "      <td>2.0</td>\n",
       "      <td>0.0</td>\n",
       "      <td>0.0</td>\n",
       "      <td>0.0</td>\n",
       "      <td>1.0</td>\n",
       "      <td>...</td>\n",
       "      <td>0.0</td>\n",
       "      <td>0.0</td>\n",
       "      <td>0.0</td>\n",
       "      <td>0.0</td>\n",
       "      <td>0.0</td>\n",
       "      <td>0.0</td>\n",
       "      <td>0.0</td>\n",
       "      <td>0.0</td>\n",
       "      <td>0</td>\n",
       "      <td>2023-08-20-Aston Villa FC-Everton FC</td>\n",
       "    </tr>\n",
       "    <tr>\n",
       "      <th>3</th>\n",
       "      <td>2023-08-20</td>\n",
       "      <td>3:07</td>\n",
       "      <td>Aston Villa FC</td>\n",
       "      <td>Everton FC</td>\n",
       "      <td>England - Premier League</td>\n",
       "      <td>2.0</td>\n",
       "      <td>0.0</td>\n",
       "      <td>0.0</td>\n",
       "      <td>0.0</td>\n",
       "      <td>1.0</td>\n",
       "      <td>...</td>\n",
       "      <td>0.0</td>\n",
       "      <td>0.0</td>\n",
       "      <td>0.0</td>\n",
       "      <td>0.0</td>\n",
       "      <td>0.0</td>\n",
       "      <td>0.0</td>\n",
       "      <td>0.0</td>\n",
       "      <td>0.0</td>\n",
       "      <td>0</td>\n",
       "      <td>2023-08-20-Aston Villa FC-Everton FC</td>\n",
       "    </tr>\n",
       "    <tr>\n",
       "      <th>4</th>\n",
       "      <td>2023-08-20</td>\n",
       "      <td>4:13</td>\n",
       "      <td>Aston Villa FC</td>\n",
       "      <td>Everton FC</td>\n",
       "      <td>England - Premier League</td>\n",
       "      <td>2.0</td>\n",
       "      <td>0.0</td>\n",
       "      <td>0.0</td>\n",
       "      <td>0.0</td>\n",
       "      <td>1.0</td>\n",
       "      <td>...</td>\n",
       "      <td>0.0</td>\n",
       "      <td>0.0</td>\n",
       "      <td>0.0</td>\n",
       "      <td>0.0</td>\n",
       "      <td>0.0</td>\n",
       "      <td>0.0</td>\n",
       "      <td>0.0</td>\n",
       "      <td>0.0</td>\n",
       "      <td>0</td>\n",
       "      <td>2023-08-20-Aston Villa FC-Everton FC</td>\n",
       "    </tr>\n",
       "    <tr>\n",
       "      <th>...</th>\n",
       "      <td>...</td>\n",
       "      <td>...</td>\n",
       "      <td>...</td>\n",
       "      <td>...</td>\n",
       "      <td>...</td>\n",
       "      <td>...</td>\n",
       "      <td>...</td>\n",
       "      <td>...</td>\n",
       "      <td>...</td>\n",
       "      <td>...</td>\n",
       "      <td>...</td>\n",
       "      <td>...</td>\n",
       "      <td>...</td>\n",
       "      <td>...</td>\n",
       "      <td>...</td>\n",
       "      <td>...</td>\n",
       "      <td>...</td>\n",
       "      <td>...</td>\n",
       "      <td>...</td>\n",
       "      <td>...</td>\n",
       "      <td>...</td>\n",
       "    </tr>\n",
       "    <tr>\n",
       "      <th>1259879</th>\n",
       "      <td>2022-08-20</td>\n",
       "      <td>42:31</td>\n",
       "      <td>Motherwell FC</td>\n",
       "      <td>Livingston FC</td>\n",
       "      <td>Scotland - Premiership</td>\n",
       "      <td>0.0</td>\n",
       "      <td>0.0</td>\n",
       "      <td>0.0</td>\n",
       "      <td>0.0</td>\n",
       "      <td>3.0</td>\n",
       "      <td>...</td>\n",
       "      <td>6.0</td>\n",
       "      <td>7.0</td>\n",
       "      <td>7.0</td>\n",
       "      <td>6.0</td>\n",
       "      <td>2.0</td>\n",
       "      <td>0.0</td>\n",
       "      <td>10.0</td>\n",
       "      <td>7.0</td>\n",
       "      <td>0</td>\n",
       "      <td>2022-08-20-Motherwell FC-Livingston FC</td>\n",
       "    </tr>\n",
       "    <tr>\n",
       "      <th>1259880</th>\n",
       "      <td>2022-08-20</td>\n",
       "      <td>43:35</td>\n",
       "      <td>Motherwell FC</td>\n",
       "      <td>Livingston FC</td>\n",
       "      <td>Scotland - Premiership</td>\n",
       "      <td>0.0</td>\n",
       "      <td>0.0</td>\n",
       "      <td>0.0</td>\n",
       "      <td>0.0</td>\n",
       "      <td>3.0</td>\n",
       "      <td>...</td>\n",
       "      <td>6.0</td>\n",
       "      <td>7.0</td>\n",
       "      <td>7.0</td>\n",
       "      <td>6.0</td>\n",
       "      <td>2.0</td>\n",
       "      <td>0.0</td>\n",
       "      <td>10.0</td>\n",
       "      <td>7.0</td>\n",
       "      <td>0</td>\n",
       "      <td>2022-08-20-Motherwell FC-Livingston FC</td>\n",
       "    </tr>\n",
       "    <tr>\n",
       "      <th>1259881</th>\n",
       "      <td>2022-08-20</td>\n",
       "      <td>44:39</td>\n",
       "      <td>Motherwell FC</td>\n",
       "      <td>Livingston FC</td>\n",
       "      <td>Scotland - Premiership</td>\n",
       "      <td>0.0</td>\n",
       "      <td>0.0</td>\n",
       "      <td>0.0</td>\n",
       "      <td>0.0</td>\n",
       "      <td>3.0</td>\n",
       "      <td>...</td>\n",
       "      <td>6.0</td>\n",
       "      <td>7.0</td>\n",
       "      <td>7.0</td>\n",
       "      <td>6.0</td>\n",
       "      <td>2.0</td>\n",
       "      <td>0.0</td>\n",
       "      <td>10.0</td>\n",
       "      <td>7.0</td>\n",
       "      <td>0</td>\n",
       "      <td>2022-08-20-Motherwell FC-Livingston FC</td>\n",
       "    </tr>\n",
       "    <tr>\n",
       "      <th>1259882</th>\n",
       "      <td>2022-08-20</td>\n",
       "      <td>45+0:43</td>\n",
       "      <td>Motherwell FC</td>\n",
       "      <td>Livingston FC</td>\n",
       "      <td>Scotland - Premiership</td>\n",
       "      <td>0.0</td>\n",
       "      <td>0.0</td>\n",
       "      <td>0.0</td>\n",
       "      <td>0.0</td>\n",
       "      <td>3.0</td>\n",
       "      <td>...</td>\n",
       "      <td>6.0</td>\n",
       "      <td>7.0</td>\n",
       "      <td>7.0</td>\n",
       "      <td>6.0</td>\n",
       "      <td>2.0</td>\n",
       "      <td>0.0</td>\n",
       "      <td>10.0</td>\n",
       "      <td>7.0</td>\n",
       "      <td>0</td>\n",
       "      <td>2022-08-20-Motherwell FC-Livingston FC</td>\n",
       "    </tr>\n",
       "    <tr>\n",
       "      <th>1259883</th>\n",
       "      <td>2022-08-20</td>\n",
       "      <td>44:00</td>\n",
       "      <td>Motherwell FC</td>\n",
       "      <td>Livingston FC</td>\n",
       "      <td>Scotland - Premiership</td>\n",
       "      <td>0.0</td>\n",
       "      <td>0.0</td>\n",
       "      <td>0.0</td>\n",
       "      <td>0.0</td>\n",
       "      <td>3.0</td>\n",
       "      <td>...</td>\n",
       "      <td>6.0</td>\n",
       "      <td>7.0</td>\n",
       "      <td>7.0</td>\n",
       "      <td>6.0</td>\n",
       "      <td>2.0</td>\n",
       "      <td>0.0</td>\n",
       "      <td>10.0</td>\n",
       "      <td>7.0</td>\n",
       "      <td>0</td>\n",
       "      <td>2022-08-20-Motherwell FC-Livingston FC</td>\n",
       "    </tr>\n",
       "  </tbody>\n",
       "</table>\n",
       "<p>1259884 rows × 27 columns</p>\n",
       "</div>"
      ],
      "text/plain": [
       "               date   minute        homeTeam       awayTeam  \\\n",
       "0        2023-08-20     0:36  Aston Villa FC     Everton FC   \n",
       "1        2023-08-20     0:53  Aston Villa FC     Everton FC   \n",
       "2        2023-08-20     2:00  Aston Villa FC     Everton FC   \n",
       "3        2023-08-20     3:07  Aston Villa FC     Everton FC   \n",
       "4        2023-08-20     4:13  Aston Villa FC     Everton FC   \n",
       "...             ...      ...             ...            ...   \n",
       "1259879  2022-08-20    42:31   Motherwell FC  Livingston FC   \n",
       "1259880  2022-08-20    43:35   Motherwell FC  Livingston FC   \n",
       "1259881  2022-08-20    44:39   Motherwell FC  Livingston FC   \n",
       "1259882  2022-08-20  45+0:43   Motherwell FC  Livingston FC   \n",
       "1259883  2022-08-20    44:00   Motherwell FC  Livingston FC   \n",
       "\n",
       "                           league  corners_home  corners_away  redcards_home  \\\n",
       "0        England - Premier League           1.0           1.0            0.0   \n",
       "1        England - Premier League           1.0           0.0            0.0   \n",
       "2        England - Premier League           2.0           0.0            0.0   \n",
       "3        England - Premier League           2.0           0.0            0.0   \n",
       "4        England - Premier League           2.0           0.0            0.0   \n",
       "...                           ...           ...           ...            ...   \n",
       "1259879    Scotland - Premiership           0.0           0.0            0.0   \n",
       "1259880    Scotland - Premiership           0.0           0.0            0.0   \n",
       "1259881    Scotland - Premiership           0.0           0.0            0.0   \n",
       "1259882    Scotland - Premiership           0.0           0.0            0.0   \n",
       "1259883    Scotland - Premiership           0.0           0.0            0.0   \n",
       "\n",
       "         redcards_away  shotsOffgoal_home  ...  fouls_c_home  fouls_c_away  \\\n",
       "0                  0.0                1.0  ...           0.0           0.0   \n",
       "1                  0.0                1.0  ...           0.0           0.0   \n",
       "2                  0.0                1.0  ...           0.0           0.0   \n",
       "3                  0.0                1.0  ...           0.0           0.0   \n",
       "4                  0.0                1.0  ...           0.0           0.0   \n",
       "...                ...                ...  ...           ...           ...   \n",
       "1259879            0.0                3.0  ...           6.0           7.0   \n",
       "1259880            0.0                3.0  ...           6.0           7.0   \n",
       "1259881            0.0                3.0  ...           6.0           7.0   \n",
       "1259882            0.0                3.0  ...           6.0           7.0   \n",
       "1259883            0.0                3.0  ...           6.0           7.0   \n",
       "\n",
       "         fouls_won_home  fouls_won_away  offsides_home  offsides_away  \\\n",
       "0                   0.0             0.0            0.0            0.0   \n",
       "1                   0.0             0.0            0.0            0.0   \n",
       "2                   0.0             0.0            0.0            0.0   \n",
       "3                   0.0             0.0            0.0            0.0   \n",
       "4                   0.0             0.0            0.0            0.0   \n",
       "...                 ...             ...            ...            ...   \n",
       "1259879             7.0             6.0            2.0            0.0   \n",
       "1259880             7.0             6.0            2.0            0.0   \n",
       "1259881             7.0             6.0            2.0            0.0   \n",
       "1259882             7.0             6.0            2.0            0.0   \n",
       "1259883             7.0             6.0            2.0            0.0   \n",
       "\n",
       "         tackles_home  tackles_away  result  \\\n",
       "0                 0.0           0.0       0   \n",
       "1                 0.0           0.0       0   \n",
       "2                 0.0           0.0       0   \n",
       "3                 0.0           0.0       0   \n",
       "4                 0.0           0.0       0   \n",
       "...               ...           ...     ...   \n",
       "1259879          10.0           7.0       0   \n",
       "1259880          10.0           7.0       0   \n",
       "1259881          10.0           7.0       0   \n",
       "1259882          10.0           7.0       0   \n",
       "1259883          10.0           7.0       0   \n",
       "\n",
       "                                       match_id  \n",
       "0                                                \n",
       "1          2023-08-20-Aston Villa FC-Everton FC  \n",
       "2          2023-08-20-Aston Villa FC-Everton FC  \n",
       "3          2023-08-20-Aston Villa FC-Everton FC  \n",
       "4          2023-08-20-Aston Villa FC-Everton FC  \n",
       "...                                         ...  \n",
       "1259879  2022-08-20-Motherwell FC-Livingston FC  \n",
       "1259880  2022-08-20-Motherwell FC-Livingston FC  \n",
       "1259881  2022-08-20-Motherwell FC-Livingston FC  \n",
       "1259882  2022-08-20-Motherwell FC-Livingston FC  \n",
       "1259883  2022-08-20-Motherwell FC-Livingston FC  \n",
       "\n",
       "[1259884 rows x 27 columns]"
      ]
     },
     "execution_count": 2,
     "metadata": {},
     "output_type": "execute_result"
    }
   ],
   "source": [
    "# df05ht = pd.read_csv('../data/raw/data_live_scores.csv').reset_index(drop=True)\n",
    "df05ht = pd.read_csv('data_live_scores.csv').reset_index(drop=True)\n",
    "df05ht"
   ]
  },
  {
   "cell_type": "code",
   "execution_count": 3,
   "metadata": {},
   "outputs": [
    {
     "data": {
      "text/plain": [
       "Index(['date', 'minute', 'homeTeam', 'awayTeam', 'league', 'corners_home',\n",
       "       'corners_away', 'redcards_home', 'redcards_away', 'shotsOffgoal_home',\n",
       "       'shotsOffgoal_away', 'shotsOngoal_home', 'shotsOngoal_away',\n",
       "       'yellowcards_home', 'yellowcards_away', 'passes_home', 'passes_away',\n",
       "       'fouls_c_home', 'fouls_c_away', 'fouls_won_home', 'fouls_won_away',\n",
       "       'offsides_home', 'offsides_away', 'tackles_home', 'tackles_away',\n",
       "       'result', 'match_id'],\n",
       "      dtype='object')"
      ]
     },
     "execution_count": 3,
     "metadata": {},
     "output_type": "execute_result"
    }
   ],
   "source": [
    "df05ht.columns"
   ]
  },
  {
   "cell_type": "markdown",
   "metadata": {},
   "source": [
    "# Preprocess"
   ]
  },
  {
   "cell_type": "code",
   "execution_count": 4,
   "metadata": {},
   "outputs": [
    {
     "name": "stdout",
     "output_type": "stream",
     "text": [
      "(1259884, 27)\n",
      "(1259229, 27)\n"
     ]
    }
   ],
   "source": [
    "print(df05ht.shape)\n",
    "df05ht = df05ht.dropna()\n",
    "print(df05ht.dropna().shape)"
   ]
  },
  {
   "cell_type": "code",
   "execution_count": 5,
   "metadata": {},
   "outputs": [
    {
     "data": {
      "text/plain": [
       "(138438, 27)"
      ]
     },
     "execution_count": 5,
     "metadata": {},
     "output_type": "execute_result"
    }
   ],
   "source": [
    "df05ht.drop_duplicates(inplace=True)\n",
    "df05ht.shape"
   ]
  },
  {
   "cell_type": "code",
   "execution_count": 6,
   "metadata": {},
   "outputs": [],
   "source": [
    "# df05ht.to_csv('data_live_socres_clean.csv', index=False)"
   ]
  },
  {
   "cell_type": "code",
   "execution_count": 6,
   "metadata": {},
   "outputs": [],
   "source": [
    "new_columns_names = {'fouls_won_away': 'fouls_away', 'fouls_won_home': 'fouls_home'}\n",
    "df05ht = df05ht.rename(columns=new_columns_names)"
   ]
  },
  {
   "cell_type": "code",
   "execution_count": 7,
   "metadata": {},
   "outputs": [],
   "source": [
    "df05ht['possessiontime_away'] = (df05ht['passes_away'] / (df05ht['passes_away'] + df05ht['passes_home'])) * 100\n",
    "df05ht['possessiontime_home'] = (df05ht['passes_home'] / (df05ht['passes_away'] + df05ht['passes_home'])) * 100\n"
   ]
  },
  {
   "cell_type": "code",
   "execution_count": 8,
   "metadata": {},
   "outputs": [],
   "source": [
    "df05ht.drop(columns=[\"date\",'passes_home', 'passes_away', 'fouls_c_home', 'fouls_c_away'], inplace=True)"
   ]
  },
  {
   "cell_type": "code",
   "execution_count": 9,
   "metadata": {},
   "outputs": [
    {
     "data": {
      "text/plain": [
       "(138438, 24)"
      ]
     },
     "execution_count": 9,
     "metadata": {},
     "output_type": "execute_result"
    }
   ],
   "source": [
    "df05ht.shape"
   ]
  },
  {
   "cell_type": "code",
   "execution_count": 10,
   "metadata": {},
   "outputs": [],
   "source": [
    "leagues_opta = df05ht['league'].unique()"
   ]
  },
  {
   "cell_type": "code",
   "execution_count": 11,
   "metadata": {},
   "outputs": [
    {
     "name": "stdout",
     "output_type": "stream",
     "text": [
      "England - Premier League\n",
      "Germany - Bundesliga\n",
      "Spain - Primera División\n",
      "France - Ligue 1\n",
      "USA - MLS\n",
      "Italy - Serie A\n",
      "Brazil - Serie A\n",
      "Netherlands - Eredivisie\n",
      "England - Championship\n",
      "Portugal - Primeira Liga\n",
      "Romania - Liga I\n",
      "World - FIFA Women's World Cup\n",
      "England - League One\n",
      "England - League Two\n",
      "Europe - UEFA Europa Conference League\n",
      "England - League Cup\n",
      "Europe - UEFA Super Cup\n",
      "Europe - UEFA Champions League\n",
      "Germany - DFB Pokal\n",
      "Italy - Coppa Italia\n",
      "Scotland - Premiership\n",
      "Germany - Super Cup\n",
      "South America - CONMEBOL Libertadores\n",
      "England - Community Shield\n",
      "N/C America - Concacaf Gold Cup\n",
      "Europe - UEFA U21 Championship\n",
      "Romania - Supercupa\n",
      "Romania - Play-offs 1/2\n",
      "Australia - A-League Men\n",
      "Portugal - Play-offs 1/2\n",
      "Europe - UEFA European Championship Qualifiers\n",
      "Germany - Play-offs 1/2\n",
      "Europe - UEFA Nations League\n",
      "Europe - UEFA Europa League\n",
      "England - FA Cup\n",
      "Spain - Copa del Rey\n",
      "World - FIFA World Cup\n",
      "France - Coupe de France\n",
      "Spain - Super Cup\n",
      "Italy - Super Cup\n",
      "World - FIFA Club World Cup\n"
     ]
    }
   ],
   "source": [
    "for league in leagues_opta:\n",
    "    print(league)"
   ]
  },
  {
   "cell_type": "code",
   "execution_count": 12,
   "metadata": {},
   "outputs": [],
   "source": [
    "# df[df['league'] == \"Europe - UEFA European Championship Qualifiers\"].tail(1)\n",
    "# 'Australia - A-League Men': 'Australia - A-League',"
   ]
  },
  {
   "cell_type": "code",
   "execution_count": 13,
   "metadata": {},
   "outputs": [
    {
     "name": "stdout",
     "output_type": "stream",
     "text": [
      "41\n",
      "41\n"
     ]
    }
   ],
   "source": [
    "name_mapping = {\n",
    "    'England - Premier League': 'England - Premier League',\n",
    "    'Germany - Bundesliga': 'Germany - Bundesliga',\n",
    "    'Spain - Primera División': 'Spain - La Liga',\n",
    "    'France - Ligue 1': 'France - Ligue 1',\n",
    "    'Italy - Serie A': 'Italy - Serie A',\n",
    "    'USA - MLS': 'USA - Major League Soccer',\n",
    "    'Brazil - Serie A': 'Brazil - Serie A',\n",
    "    'Netherlands - Eredivisie': 'Netherlands - Eredivisie',\n",
    "    'England - Championship': 'England - Championship',\n",
    "    'Portugal - Primeira Liga': 'Portugal - Liga Portugal',\n",
    "    'Romania - Liga I': 'Romania - Liga 1',\n",
    "    \"World - FIFA Women's World Cup\": 'World - World Cup Women',\n",
    "    'England - League One': 'England - League One',\n",
    "    'England - League Two': 'England - League Two',\n",
    "    'Europe - UEFA Europa Conference League': 'Europe - Europa Conference League',\n",
    "    'England - League Cup': 'England - Carabao Cup',\n",
    "    'Europe - UEFA Super Cup': 'Europe - Uefa Super Cup',\n",
    "    'Europe - UEFA Champions League': 'Europe - Champions League',\n",
    "    'Germany - DFB Pokal': 'Germany - DFB Pokal',\n",
    "    'Italy - Coppa Italia': 'Italy - Coppa Italia',\n",
    "    'Scotland - Premiership': 'Scotland - Premiership',\n",
    "    'Germany - Super Cup': 'Germany - Super Cup',\n",
    "    'South America - CONMEBOL Libertadores': 'South America - Copa Libertadores',\n",
    "    'England - Community Shield': 'England - Community Shield',\n",
    "    'N/C America - Concacaf Gold Cup': 'World - CONCACAF Gold Cup',\n",
    "    'Europe - UEFA U21 Championship': 'Europe - Euro U21',\n",
    "    'Romania - Supercupa': 'Romania - Super Cup',\n",
    "    'Romania - Play-offs 1/2': 'Romania - Liga 1 - Play-offs',\n",
    "    'Australia - A-League Men': 'Australia - A-League',\n",
    "    'Portugal - Play-offs 1/2': 'Portugal - Primeira Liga - Play-offs',\n",
    "    'Europe - UEFA European Championship Qualifiers': 'Europe - Euro Qualification',\n",
    "    'Germany - Play-offs 1/2': 'Germany - Bundesliga Play-offs',\n",
    "    'Europe - UEFA Nations League': 'Europe - UEFA Nations League',\n",
    "    'Europe - UEFA Europa League': 'Europe - Europa League',\n",
    "    'England - FA Cup': 'England - FA Cup',\n",
    "    'Spain - Copa del Rey': 'Spain - Copa Del Rey',\n",
    "    'World - FIFA World Cup': 'World - FIFA World Cup',\n",
    "    'France - Coupe de France': 'France - Coupe de France',\n",
    "    'Spain - Super Cup': 'Spain - Super Cup',\n",
    "    'Italy - Super Cup': 'Italy - Super Cup',\n",
    "    'World - FIFA Club World Cup': 'World - FIFA Club World Cup',\n",
    "\n",
    "}\n",
    "\n",
    "print(len(name_mapping))\n",
    "print(len(leagues_opta))\n",
    "\n",
    "# Atualize os nomes das ligas em df05ht\n",
    "df05ht['league'] = df05ht['league'].replace(name_mapping)\n"
   ]
  },
  {
   "cell_type": "code",
   "execution_count": 14,
   "metadata": {},
   "outputs": [
    {
     "name": "stdout",
     "output_type": "stream",
     "text": [
      "4420\n",
      "0    109509\n",
      "1     28929\n",
      "Name: result, dtype: int64\n",
      "138438\n"
     ]
    }
   ],
   "source": [
    "# # Define a variável alvo\n",
    "target = 'result'\n",
    "\n",
    "print(len(df05ht['match_id'].unique()))\n",
    "print(df05ht['result'].value_counts())\n",
    "print(len(df05ht))"
   ]
  },
  {
   "cell_type": "code",
   "execution_count": 15,
   "metadata": {},
   "outputs": [
    {
     "data": {
      "text/plain": [
       "(138438, 24)"
      ]
     },
     "execution_count": 15,
     "metadata": {},
     "output_type": "execute_result"
    }
   ],
   "source": [
    "df05ht.shape"
   ]
  },
  {
   "cell_type": "code",
   "execution_count": 16,
   "metadata": {},
   "outputs": [],
   "source": [
    "def convert_to_int_minutes(value):\n",
    "    if '+' in value:\n",
    "        # Separando o tempo base e o acréscimo\n",
    "        base_time, added_time = value.split('+')\n",
    "        added_minutes = int(added_time.split(':')[0])  # Ignorando os segundos, pegando apenas os minutos do acréscimo\n",
    "    else:\n",
    "        base_time = value\n",
    "        added_minutes = 0\n",
    "    \n",
    "    # Convertendo o tempo base em minutos\n",
    "    base_minutes = int(base_time.split(':')[0]) if ':' in base_time else int(base_time)\n",
    "    \n",
    "    # Somando os minutos\n",
    "    total_minutes = base_minutes + added_minutes\n",
    "    return total_minutes\n",
    "\n",
    "\n",
    "# Aplicando a função para converter os minutos\n",
    "df05ht['minute'] = df05ht['minute'].apply(convert_to_int_minutes)"
   ]
  },
  {
   "cell_type": "code",
   "execution_count": 17,
   "metadata": {},
   "outputs": [
    {
     "data": {
      "text/plain": [
       "4420"
      ]
     },
     "execution_count": 17,
     "metadata": {},
     "output_type": "execute_result"
    }
   ],
   "source": [
    "len(df05ht['match_id'].unique())"
   ]
  },
  {
   "cell_type": "code",
   "execution_count": 18,
   "metadata": {},
   "outputs": [
    {
     "data": {
      "text/plain": [
       "['England - Community Shield',\n",
       " 'Germany - Bundesliga Play-offs',\n",
       " 'Italy - Super Cup',\n",
       " 'Romania - Super Cup',\n",
       " 'Romania - Liga 1 - Play-offs',\n",
       " 'Spain - Super Cup',\n",
       " 'England - Community Shield',\n",
       " 'Romania - Super Cup',\n",
       " 'Europe - Uefa Super Cup',\n",
       " 'Portugal - Primeira Liga - Play-offs',\n",
       " 'Italy - Super Cup',\n",
       " 'Germany - Bundesliga Play-offs',\n",
       " 'Germany - Super Cup']"
      ]
     },
     "execution_count": 18,
     "metadata": {},
     "output_type": "execute_result"
    }
   ],
   "source": [
    "# 1. Identify leagues with only one unique value in 'result' column\n",
    "single_value_leagues = df05ht.groupby('league').apply(lambda x: len(x['result'].unique()) == 1)\n",
    "\n",
    "# 2. Identify leagues with fewer than 100 matches\n",
    "few_matches_leagues = df05ht['league'].value_counts()\n",
    "few_matches_leagues = few_matches_leagues[few_matches_leagues < 100].index.tolist()\n",
    "\n",
    "# Combine the lists of leagues to drop\n",
    "leagues_to_drop = single_value_leagues[single_value_leagues].index.tolist() + few_matches_leagues\n",
    "\n",
    "# Drop the identified leagues\n",
    "filtered_data = df05ht[~df05ht['league'].isin(leagues_to_drop)]\n",
    "\n",
    "# 3. Balance the 'result' column for each remaining league\n",
    "balanced_data = []\n",
    "for league in filtered_data['league'].unique():\n",
    "    league_data = filtered_data[filtered_data['league'] == league]\n",
    "    min_count = league_data['result'].value_counts().min()\n",
    "    \n",
    "    # Sample 'min_count' examples from each result value\n",
    "    balanced_samples = [league_data[league_data['result'] == result_val].sample(min_count, random_state=42) for result_val in [0, 1]]\n",
    "    balanced_data.extend(balanced_samples)\n",
    "\n",
    "# Combine the balanced data samples\n",
    "balanced_data = pd.concat(balanced_data, axis=0)\n",
    "balanced_data.dropna(inplace=True)\n",
    "\n",
    "# Display the first few rows of the balanced data and the list of dropped leagues\n",
    "leagues_to_drop\n"
   ]
  },
  {
   "cell_type": "code",
   "execution_count": 19,
   "metadata": {},
   "outputs": [
    {
     "data": {
      "text/plain": [
       "(57657, 24)"
      ]
     },
     "execution_count": 19,
     "metadata": {},
     "output_type": "execute_result"
    }
   ],
   "source": [
    "df = balanced_data.copy()\n",
    "df.shape"
   ]
  },
  {
   "cell_type": "code",
   "execution_count": 20,
   "metadata": {},
   "outputs": [
    {
     "data": {
      "image/png": "[encoded data removed]",
      "text/plain": [
       "<Figure size 1080x720 with 1 Axes>"
      ]
     },
     "metadata": {
      "needs_background": "light"
     },
     "output_type": "display_data"
    }
   ],
   "source": [
    "# Group the data by league and result and get the size of each group\n",
    "league_distribution = df.groupby(['league', 'result']).size().unstack().fillna(0)\n",
    "\n",
    "# Sort the leagues based on the total number of games\n",
    "sorted_leagues = league_distribution.sum(axis=1).sort_values(ascending=False).head(100).index\n",
    "\n",
    "# Plot\n",
    "plt.figure(figsize=(15, 10))\n",
    "league_distribution.loc[sorted_leagues].plot(kind='bar', stacked=True, ax=plt.gca())\n",
    "plt.title('Distribution of \"result\" for Each League')\n",
    "plt.ylabel('Number of Games')\n",
    "plt.xlabel('League')\n",
    "plt.tight_layout()\n",
    "plt.xticks(rotation=90)\n",
    "plt.show()\n"
   ]
  },
  {
   "cell_type": "code",
   "execution_count": 21,
   "metadata": {},
   "outputs": [
    {
     "data": {
      "text/plain": [
       "1    28832\n",
       "0    28825\n",
       "Name: result, dtype: int64"
      ]
     },
     "execution_count": 21,
     "metadata": {},
     "output_type": "execute_result"
    }
   ],
   "source": [
    "df['result'].value_counts()"
   ]
  },
  {
   "cell_type": "code",
   "execution_count": 22,
   "metadata": {},
   "outputs": [
    {
     "data": {
      "text/plain": [
       "(57657, 24)"
      ]
     },
     "execution_count": 22,
     "metadata": {},
     "output_type": "execute_result"
    }
   ],
   "source": [
    "df.shape"
   ]
  },
  {
   "cell_type": "code",
   "execution_count": 23,
   "metadata": {},
   "outputs": [],
   "source": [
    "df = df.sort_values('minute').reset_index(drop=True)\n",
    "# df.to_csv('data_live_scores_balanced.csv', index=False)\n",
    "# df = pd.read_csv('data_live_scores_balanced.csv')"
   ]
  },
  {
   "cell_type": "code",
   "execution_count": 25,
   "metadata": {},
   "outputs": [],
   "source": [
    "# IDs únicos no DataFrame\n",
    "unique_ids = df['match_id'].unique()\n",
    "\n",
    "invalid_ids = []\n",
    "\n",
    "for game_id in unique_ids:\n",
    "    # Obtenha as minutagens para o ID atual\n",
    "    game_df = df[df['match_id'] == game_id]\n",
    "    \n",
    "    # Verifique se há minutos fora do intervalo permitido (maior que 57)\n",
    "    if any(game_df['minute'] > 57):\n",
    "        invalid_ids.append(game_id)\n",
    "        continue  # Pode pular para o próximo ID já que este é inválido\n",
    "    \n",
    "# Remova os IDs inválidos do DataFrame original\n",
    "df_clean = df[~df['match_id'].isin(invalid_ids)]"
   ]
  },
  {
   "cell_type": "code",
   "execution_count": 26,
   "metadata": {},
   "outputs": [
    {
     "name": "stdout",
     "output_type": "stream",
     "text": [
      "(57605, 24)\n",
      "(57657, 24)\n"
     ]
    }
   ],
   "source": [
    "print(df_clean.shape)\n",
    "print(df.shape)"
   ]
  },
  {
   "cell_type": "code",
   "execution_count": 27,
   "metadata": {},
   "outputs": [],
   "source": [
    "df = df_clean"
   ]
  },
  {
   "cell_type": "code",
   "execution_count": 28,
   "metadata": {},
   "outputs": [
    {
     "data": {
      "text/plain": [
       "Index(['minute', 'homeTeam', 'awayTeam', 'league', 'corners_home',\n",
       "       'corners_away', 'redcards_home', 'redcards_away', 'shotsOffgoal_home',\n",
       "       'shotsOffgoal_away', 'shotsOngoal_home', 'shotsOngoal_away',\n",
       "       'yellowcards_home', 'yellowcards_away', 'fouls_home', 'fouls_away',\n",
       "       'offsides_home', 'offsides_away', 'tackles_home', 'tackles_away',\n",
       "       'result', 'match_id', 'possessiontime_away', 'possessiontime_home'],\n",
       "      dtype='object')"
      ]
     },
     "execution_count": 28,
     "metadata": {},
     "output_type": "execute_result"
    }
   ],
   "source": [
    "df.columns"
   ]
  },
  {
   "cell_type": "code",
   "execution_count": 29,
   "metadata": {},
   "outputs": [],
   "source": [
    "\n",
    "\n",
    "# Separando os dados em características e variável alvo\n",
    "X = df.drop(columns=['result', 'homeTeam', 'awayTeam', 'match_id'])\n",
    "y = df['result']\n",
    "\n",
    "# Definindo as colunas numéricas e categóricas\n",
    "numeric_features = X.select_dtypes(exclude=['object']).columns.tolist()\n",
    "categorical_features = ['league']\n",
    "\n",
    "# Criando o transformador de colunas\n",
    "preprocessor = ColumnTransformer(\n",
    "    transformers=[\n",
    "        ('num', StandardScaler(), numeric_features),\n",
    "        ('cat', OneHotEncoder(drop='first'), categorical_features)\n",
    "    ])\n",
    "\n",
    "# Aplicando as transformações\n",
    "X = preprocessor.fit_transform(X)\n",
    "\n",
    "with open(f'../models/preprocessor.pickle', 'wb') as f:\n",
    "    pickle.dump(preprocessor, f)"
   ]
  },
  {
   "cell_type": "code",
   "execution_count": 30,
   "metadata": {},
   "outputs": [],
   "source": [
    "X_train, X_test, y_train, y_test = train_test_split(X, y, test_size=0.20,train_size=0.80, random_state=42)"
   ]
  },
  {
   "cell_type": "markdown",
   "metadata": {},
   "source": [
    "# Modeling"
   ]
  },
  {
   "cell_type": "markdown",
   "metadata": {},
   "source": [
    "## Automl h2o"
   ]
  },
  {
   "cell_type": "code",
   "execution_count": 32,
   "metadata": {},
   "outputs": [
    {
     "name": "stdout",
     "output_type": "stream",
     "text": [
      "Checking whether there is an H2O instance running at http://localhost:54321..... not found.\n",
      "Attempting to start a local H2O server...\n",
      "; Java HotSpot(TM) 64-Bit Server VM (build 17.0.8+9-LTS-211, mixed mode, sharing)\n",
      "  Starting server from C:\\Python310\\Lib\\site-packages\\h2o\\backend\\bin\\h2o.jar\n",
      "  Ice root: C:\\Users\\Pichau\\AppData\\Local\\Temp\\tmptu3e29ag\n",
      "  JVM stdout: C:\\Users\\Pichau\\AppData\\Local\\Temp\\tmptu3e29ag\\h2o_Pichau_started_from_python.out\n",
      "  JVM stderr: C:\\Users\\Pichau\\AppData\\Local\\Temp\\tmptu3e29ag\\h2o_Pichau_started_from_python.err\n",
      "  Server is running at http://127.0.0.1:54321\n",
      "Connecting to H2O server at http://127.0.0.1:54321 ... successful.\n"
     ]
    },
    {
     "data": {
      "text/html": [
       "\n",
       "<style>\n",
       "\n",
       "#h2o-table-1.h2o-container {\n",
       "  overflow-x: auto;\n",
       "}\n",
       "#h2o-table-1 .h2o-table {\n",
       "  /* width: 100%; */\n",
       "  margin-top: 1em;\n",
       "  margin-bottom: 1em;\n",
       "}\n",
       "#h2o-table-1 .h2o-table caption {\n",
       "  white-space: nowrap;\n",
       "  caption-side: top;\n",
       "  text-align: left;\n",
       "  /* margin-left: 1em; */\n",
       "  margin: 0;\n",
       "  font-size: larger;\n",
       "}\n",
       "#h2o-table-1 .h2o-table thead {\n",
       "  white-space: nowrap; \n",
       "  position: sticky;\n",
       "  top: 0;\n",
       "  box-shadow: 0 -1px inset;\n",
       "}\n",
       "#h2o-table-1 .h2o-table tbody {\n",
       "  overflow: auto;\n",
       "}\n",
       "#h2o-table-1 .h2o-table th,\n",
       "#h2o-table-1 .h2o-table td {\n",
       "  text-align: right;\n",
       "  /* border: 1px solid; */\n",
       "}\n",
       "#h2o-table-1 .h2o-table tr:nth-child(even) {\n",
       "  /* background: #F5F5F5 */\n",
       "}\n",
       "\n",
       "</style>      \n",
       "<div id=\"h2o-table-1\" class=\"h2o-container\">\n",
       "  <table class=\"h2o-table\">\n",
       "    <caption></caption>\n",
       "    <thead></thead>\n",
       "    <tbody><tr><td>H2O_cluster_uptime:</td>\n",
       "<td>01 secs</td></tr>\n",
       "<tr><td>H2O_cluster_timezone:</td>\n",
       "<td>America/Sao_Paulo</td></tr>\n",
       "<tr><td>H2O_data_parsing_timezone:</td>\n",
       "<td>UTC</td></tr>\n",
       "<tr><td>H2O_cluster_version:</td>\n",
       "<td>3.42.0.3</td></tr>\n",
       "<tr><td>H2O_cluster_version_age:</td>\n",
       "<td>1 month</td></tr>\n",
       "<tr><td>H2O_cluster_name:</td>\n",
       "<td>H2O_from_python_Pichau_750iy1</td></tr>\n",
       "<tr><td>H2O_cluster_total_nodes:</td>\n",
       "<td>1</td></tr>\n",
       "<tr><td>H2O_cluster_free_memory:</td>\n",
       "<td>5.965 Gb</td></tr>\n",
       "<tr><td>H2O_cluster_total_cores:</td>\n",
       "<td>0</td></tr>\n",
       "<tr><td>H2O_cluster_allowed_cores:</td>\n",
       "<td>0</td></tr>\n",
       "<tr><td>H2O_cluster_status:</td>\n",
       "<td>locked, healthy</td></tr>\n",
       "<tr><td>H2O_connection_url:</td>\n",
       "<td>http://127.0.0.1:54321</td></tr>\n",
       "<tr><td>H2O_connection_proxy:</td>\n",
       "<td>{\"http\": null, \"https\": null}</td></tr>\n",
       "<tr><td>H2O_internal_security:</td>\n",
       "<td>False</td></tr>\n",
       "<tr><td>Python_version:</td>\n",
       "<td>3.10.1 final</td></tr></tbody>\n",
       "  </table>\n",
       "</div>\n"
      ],
      "text/plain": [
       "--------------------------  -----------------------------\n",
       "H2O_cluster_uptime:         01 secs\n",
       "H2O_cluster_timezone:       America/Sao_Paulo\n",
       "H2O_data_parsing_timezone:  UTC\n",
       "H2O_cluster_version:        3.42.0.3\n",
       "H2O_cluster_version_age:    1 month\n",
       "H2O_cluster_name:           H2O_from_python_Pichau_750iy1\n",
       "H2O_cluster_total_nodes:    1\n",
       "H2O_cluster_free_memory:    5.965 Gb\n",
       "H2O_cluster_total_cores:    0\n",
       "H2O_cluster_allowed_cores:  0\n",
       "H2O_cluster_status:         locked, healthy\n",
       "H2O_connection_url:         http://127.0.0.1:54321\n",
       "H2O_connection_proxy:       {\"http\": null, \"https\": null}\n",
       "H2O_internal_security:      False\n",
       "Python_version:             3.10.1 final\n",
       "--------------------------  -----------------------------"
      ]
     },
     "metadata": {},
     "output_type": "display_data"
    },
    {
     "name": "stdout",
     "output_type": "stream",
     "text": [
      "Parse progress: |████████████████████████████████████████████████████████████████| (done) 100%\n",
      "Parse progress: |████████████████████████████████████████████████████████████████| (done) 100%\n",
      "Parse progress: |████████████████████████████████████████████████████████████████| (done) 100%\n",
      "Parse progress: |████████████████████████████████████████████████████████████████| (done) 100%\n",
      "Parse progress: |████████████████████████████████████████████████████████████████| (done) 100%\n",
      "Parse progress: |████████████████████████████████████████████████████████████████| (done) 100%\n",
      "Parse progress: |████████████████████████████████████████████████████████████████| (done) 100%\n",
      "Parse progress: |████████████████████████████████████████████████████████████████| (done) 100%\n",
      "X_train_h2o shape: (46084, 50)\n",
      "y_train_h2o shape: (46084, 1)\n",
      "X_test_h2o shape: (11521, 50)\n",
      "y_test_h2o shape: (11521, 1)\n",
      "AutoML progress: |\n",
      "12:04:43.848: AutoML: XGBoost is not available; skipping it.\n",
      "\n",
      "█████████████████████████████████████████████████████████████ (cancelled)  98%\n"
     ]
    },
    {
     "ename": "H2OJobCancelled",
     "evalue": "Job<$03017f00000132d4ffffffff$_bbd55f7096e81931c3b39372363442fe> was cancelled by the user.",
     "output_type": "error",
     "traceback": [
      "\u001b[1;31m---------------------------------------------------------------------------\u001b[0m",
      "\u001b[1;31mH2OJobCancelled\u001b[0m                           Traceback (most recent call last)",
      "\u001b[1;32mc:\\Users\\Pichau\\Desktop\\eofut\\notebooks\\nc-model-pred-live.ipynb Cell 34\u001b[0m line \u001b[0;36m<cell line: 40>\u001b[1;34m()\u001b[0m\n\u001b[0;32m     <a href='vscode-notebook-cell:/c%3A/Users/Pichau/Desktop/eofut/notebooks/nc-model-pred-live.ipynb#X45sZmlsZQ%3D%3D?line=37'>38</a>\u001b[0m \u001b[39m# Run AutoML\u001b[39;00m\n\u001b[0;32m     <a href='vscode-notebook-cell:/c%3A/Users/Pichau/Desktop/eofut/notebooks/nc-model-pred-live.ipynb#X45sZmlsZQ%3D%3D?line=38'>39</a>\u001b[0m aml \u001b[39m=\u001b[39m H2OAutoML(max_models\u001b[39m=\u001b[39m\u001b[39m20\u001b[39m, seed\u001b[39m=\u001b[39m\u001b[39m42\u001b[39m)\n\u001b[1;32m---> <a href='vscode-notebook-cell:/c%3A/Users/Pichau/Desktop/eofut/notebooks/nc-model-pred-live.ipynb#X45sZmlsZQ%3D%3D?line=39'>40</a>\u001b[0m aml\u001b[39m.\u001b[39;49mtrain(x\u001b[39m=\u001b[39;49mx, y\u001b[39m=\u001b[39;49my, training_frame\u001b[39m=\u001b[39;49mtrain_data)\n\u001b[0;32m     <a href='vscode-notebook-cell:/c%3A/Users/Pichau/Desktop/eofut/notebooks/nc-model-pred-live.ipynb#X45sZmlsZQ%3D%3D?line=41'>42</a>\u001b[0m \u001b[39m# View leaderboard\u001b[39;00m\n\u001b[0;32m     <a href='vscode-notebook-cell:/c%3A/Users/Pichau/Desktop/eofut/notebooks/nc-model-pred-live.ipynb#X45sZmlsZQ%3D%3D?line=42'>43</a>\u001b[0m lb \u001b[39m=\u001b[39m aml\u001b[39m.\u001b[39mleaderboard\n",
      "File \u001b[1;32mc:\\Python310\\lib\\site-packages\\h2o\\automl\\_estimator.py:676\u001b[0m, in \u001b[0;36mH2OAutoML.train\u001b[1;34m(self, x, y, training_frame, fold_column, weights_column, validation_frame, leaderboard_frame, blending_frame)\u001b[0m\n\u001b[0;32m    674\u001b[0m poll_updates \u001b[39m=\u001b[39m ft\u001b[39m.\u001b[39mpartial(\u001b[39mself\u001b[39m\u001b[39m.\u001b[39m_poll_training_updates, verbosity\u001b[39m=\u001b[39m\u001b[39mself\u001b[39m\u001b[39m.\u001b[39m_verbosity, state\u001b[39m=\u001b[39m{})\n\u001b[0;32m    675\u001b[0m \u001b[39mtry\u001b[39;00m:\n\u001b[1;32m--> 676\u001b[0m     \u001b[39mself\u001b[39;49m\u001b[39m.\u001b[39;49m_job\u001b[39m.\u001b[39;49mpoll(poll_updates\u001b[39m=\u001b[39;49mpoll_updates)\n\u001b[0;32m    677\u001b[0m \u001b[39mfinally\u001b[39;00m:\n\u001b[0;32m    678\u001b[0m     poll_updates(\u001b[39mself\u001b[39m\u001b[39m.\u001b[39m_job, \u001b[39m1\u001b[39m)\n",
      "File \u001b[1;32mc:\\Python310\\lib\\site-packages\\h2o\\job.py:85\u001b[0m, in \u001b[0;36mH2OJob.poll\u001b[1;34m(self, poll_updates)\u001b[0m\n\u001b[0;32m     83\u001b[0m \u001b[39m# check if failed... and politely print relevant message\u001b[39;00m\n\u001b[0;32m     84\u001b[0m \u001b[39mif\u001b[39;00m \u001b[39mself\u001b[39m\u001b[39m.\u001b[39mstatus \u001b[39m==\u001b[39m \u001b[39m\"\u001b[39m\u001b[39mCANCELLED\u001b[39m\u001b[39m\"\u001b[39m:\n\u001b[1;32m---> 85\u001b[0m     \u001b[39mraise\u001b[39;00m H2OJobCancelled(\u001b[39m\"\u001b[39m\u001b[39mJob<\u001b[39m\u001b[39m%s\u001b[39;00m\u001b[39m> was cancelled by the user.\u001b[39m\u001b[39m\"\u001b[39m \u001b[39m%\u001b[39m \u001b[39mself\u001b[39m\u001b[39m.\u001b[39mjob_key)\n\u001b[0;32m     86\u001b[0m \u001b[39mif\u001b[39;00m \u001b[39mself\u001b[39m\u001b[39m.\u001b[39mstatus \u001b[39m==\u001b[39m \u001b[39m\"\u001b[39m\u001b[39mFAILED\u001b[39m\u001b[39m\"\u001b[39m:\n\u001b[0;32m     87\u001b[0m     \u001b[39mif\u001b[39;00m (\u001b[39misinstance\u001b[39m(\u001b[39mself\u001b[39m\u001b[39m.\u001b[39mjob, \u001b[39mdict\u001b[39m)) \u001b[39mand\u001b[39;00m (\u001b[39m\"\u001b[39m\u001b[39mstacktrace\u001b[39m\u001b[39m\"\u001b[39m \u001b[39min\u001b[39;00m \u001b[39mlist\u001b[39m(\u001b[39mself\u001b[39m\u001b[39m.\u001b[39mjob)):\n",
      "\u001b[1;31mH2OJobCancelled\u001b[0m: Job<$03017f00000132d4ffffffff$_bbd55f7096e81931c3b39372363442fe> was cancelled by the user."
     ]
    }
   ],
   "source": [
    "\n",
    "\n",
    "# Inicializar o H2O\n",
    "h2o.init()\n",
    "\n",
    "# Convertendo dados do numpy para H2OFrame\n",
    "X_train_h2o = h2o.H2OFrame(pd.DataFrame(X_train, columns=[\"col_\" + str(i) for i in range(X_train.shape[1])]))\n",
    "X_test_h2o = h2o.H2OFrame(pd.DataFrame(X_test, columns=[\"col_\" + str(i) for i in range(X_test.shape[1])]))\n",
    "y_train_h2o = h2o.H2OFrame(pd.DataFrame(y_train, columns=[\"result\"]))\n",
    "y_test_h2o = h2o.H2OFrame(pd.DataFrame(y_test, columns=[\"result\"]))\n",
    "\n",
    "# Convert Pandas DataFrame or NumPy array to H2OFrame\n",
    "X_train_h2o = h2o.H2OFrame(X_train)\n",
    "X_test_h2o = h2o.H2OFrame(X_test)\n",
    "\n",
    "y_train_df = y_train.to_frame()\n",
    "y_train_h2o = h2o.H2OFrame(y_train_df)\n",
    "y_train_h2o['result'] = y_train_h2o['result'].asfactor()\n",
    "\n",
    "y_test_df = y_test.to_frame()\n",
    "y_test_h2o = h2o.H2OFrame(y_test_df)\n",
    "y_test_h2o['result'] = y_test_h2o['result'].asfactor()\n",
    "\n",
    "# Check the shape again\n",
    "print(\"X_train_h2o shape:\", X_train_h2o.shape)\n",
    "print(\"y_train_h2o shape:\", y_train_h2o.shape)\n",
    "print(\"X_test_h2o shape:\", X_test_h2o.shape)\n",
    "print(\"y_test_h2o shape:\", y_test_h2o.shape)\n",
    "\n",
    "# Combine them back into one frame\n",
    "train_data = X_train_h2o.cbind(y_train_h2o)\n",
    "test_data = X_test_h2o.cbind(y_test_h2o)\n",
    "\n",
    "# Identify predictors and response\n",
    "x = train_data.columns\n",
    "\n",
    "y = \"result\"\n",
    "x.remove(y)\n",
    "\n",
    "# Run AutoML\n",
    "aml = H2OAutoML(max_models=20, seed=42)\n",
    "aml.train(x=x, y=y, training_frame=train_data)\n",
    "\n",
    "# View leaderboard\n",
    "lb = aml.leaderboard\n",
    "print(lb)\n",
    "\n",
    "#save the model\n",
    "model_path = h2o.save_model(model=aml.leader, path=\"../models/\", force=True)"
   ]
  },
  {
   "cell_type": "code",
   "execution_count": null,
   "metadata": {},
   "outputs": [
    {
     "ename": "H2OResponseError",
     "evalue": "Server error water.exceptions.H2OIllegalArgumentException:\n  Error: Illegal argument: dir of function: importModel: water.api.FSIOException: FS IO Failure: \n accessed path : file:/c:/Users/Pichau/Desktop/eofut/notebooks/model_automl.h5 msg: File not found\n  Request: POST /99/Models.bin/\n    data: {'dir': 'model_automl.h5'}\n",
     "output_type": "error",
     "traceback": [
      "\u001b[1;31m---------------------------------------------------------------------------\u001b[0m",
      "\u001b[1;31mH2OResponseError\u001b[0m                          Traceback (most recent call last)",
      "\u001b[1;32mc:\\Users\\Pichau\\Desktop\\eofut\\notebooks\\nc-model-pred-live.ipynb Cell 35\u001b[0m line \u001b[0;36m<cell line: 1>\u001b[1;34m()\u001b[0m\n\u001b[1;32m----> <a href='vscode-notebook-cell:/c%3A/Users/Pichau/Desktop/eofut/notebooks/nc-model-pred-live.ipynb#X45sZmlsZQ%3D%3D?line=0'>1</a>\u001b[0m loaded_model \u001b[39m=\u001b[39m h2o\u001b[39m.\u001b[39;49mload_model(\u001b[39m'\u001b[39;49m\u001b[39mmodel_automl.h5\u001b[39;49m\u001b[39m'\u001b[39;49m)\n\u001b[0;32m      <a href='vscode-notebook-cell:/c%3A/Users/Pichau/Desktop/eofut/notebooks/nc-model-pred-live.ipynb#X45sZmlsZQ%3D%3D?line=1'>2</a>\u001b[0m y_pred_prob \u001b[39m=\u001b[39m loaded_model\u001b[39m.\u001b[39mpredict(X_test_h2o)\n\u001b[0;32m      <a href='vscode-notebook-cell:/c%3A/Users/Pichau/Desktop/eofut/notebooks/nc-model-pred-live.ipynb#X45sZmlsZQ%3D%3D?line=2'>3</a>\u001b[0m y_pred \u001b[39m=\u001b[39m h2o\u001b[39m.\u001b[39mas_list(y_pred_prob)\n",
      "File \u001b[1;32mc:\\Python310\\lib\\site-packages\\h2o\\h2o.py:1579\u001b[0m, in \u001b[0;36mload_model\u001b[1;34m(path)\u001b[0m\n\u001b[0;32m   1556\u001b[0m \u001b[39m\"\"\"\u001b[39;00m\n\u001b[0;32m   1557\u001b[0m \u001b[39mLoad a saved H2O model from disk. (Note that ensemble binary models can now be loaded using this method.)\u001b[39;00m\n\u001b[0;32m   1558\u001b[0m \n\u001b[1;32m   (...)\u001b[0m\n\u001b[0;32m   1576\u001b[0m \u001b[39m>>> h2o.load_model(model)\u001b[39;00m\n\u001b[0;32m   1577\u001b[0m \u001b[39m\"\"\"\u001b[39;00m\n\u001b[0;32m   1578\u001b[0m assert_is_type(path, \u001b[39mstr\u001b[39m)\n\u001b[1;32m-> 1579\u001b[0m res \u001b[39m=\u001b[39m api(\u001b[39m\"\u001b[39;49m\u001b[39mPOST /99/Models.bin/\u001b[39;49m\u001b[39m%s\u001b[39;49;00m\u001b[39m\"\u001b[39;49m \u001b[39m%\u001b[39;49m \u001b[39m\"\u001b[39;49m\u001b[39m\"\u001b[39;49m, data\u001b[39m=\u001b[39;49m{\u001b[39m\"\u001b[39;49m\u001b[39mdir\u001b[39;49m\u001b[39m\"\u001b[39;49m: path})\n\u001b[0;32m   1580\u001b[0m \u001b[39mreturn\u001b[39;00m get_model(res[\u001b[39m\"\u001b[39m\u001b[39mmodels\u001b[39m\u001b[39m\"\u001b[39m][\u001b[39m0\u001b[39m][\u001b[39m\"\u001b[39m\u001b[39mmodel_id\u001b[39m\u001b[39m\"\u001b[39m][\u001b[39m\"\u001b[39m\u001b[39mname\u001b[39m\u001b[39m\"\u001b[39m])\n",
      "File \u001b[1;32mc:\\Python310\\lib\\site-packages\\h2o\\h2o.py:122\u001b[0m, in \u001b[0;36mapi\u001b[1;34m(endpoint, data, json, filename, save_to)\u001b[0m\n\u001b[0;32m    120\u001b[0m \u001b[39m# type checks are performed in H2OConnection class\u001b[39;00m\n\u001b[0;32m    121\u001b[0m _check_connection()\n\u001b[1;32m--> 122\u001b[0m \u001b[39mreturn\u001b[39;00m h2oconn\u001b[39m.\u001b[39;49mrequest(endpoint, data\u001b[39m=\u001b[39;49mdata, json\u001b[39m=\u001b[39;49mjson, filename\u001b[39m=\u001b[39;49mfilename, save_to\u001b[39m=\u001b[39;49msave_to)\n",
      "File \u001b[1;32mc:\\Python310\\lib\\site-packages\\h2o\\backend\\connection.py:499\u001b[0m, in \u001b[0;36mH2OConnection.request\u001b[1;34m(self, endpoint, data, json, filename, save_to)\u001b[0m\n\u001b[0;32m    497\u001b[0m         save_to \u001b[39m=\u001b[39m save_to(resp)\n\u001b[0;32m    498\u001b[0m     \u001b[39mself\u001b[39m\u001b[39m.\u001b[39m_log_end_transaction(start_time, resp)\n\u001b[1;32m--> 499\u001b[0m     \u001b[39mreturn\u001b[39;00m \u001b[39mself\u001b[39;49m\u001b[39m.\u001b[39;49m_process_response(resp, save_to)\n\u001b[0;32m    501\u001b[0m \u001b[39mexcept\u001b[39;00m (requests\u001b[39m.\u001b[39mexceptions\u001b[39m.\u001b[39mConnectionError, requests\u001b[39m.\u001b[39mexceptions\u001b[39m.\u001b[39mHTTPError) \u001b[39mas\u001b[39;00m e:\n\u001b[0;32m    502\u001b[0m     \u001b[39mif\u001b[39;00m \u001b[39mself\u001b[39m\u001b[39m.\u001b[39m_local_server \u001b[39mand\u001b[39;00m \u001b[39mnot\u001b[39;00m \u001b[39mself\u001b[39m\u001b[39m.\u001b[39m_local_server\u001b[39m.\u001b[39mis_running():\n",
      "File \u001b[1;32mc:\\Python310\\lib\\site-packages\\h2o\\backend\\connection.py:853\u001b[0m, in \u001b[0;36mH2OConnection._process_response\u001b[1;34m(response, save_to)\u001b[0m\n\u001b[0;32m    851\u001b[0m \u001b[39mif\u001b[39;00m status_code \u001b[39min\u001b[39;00m {\u001b[39m400\u001b[39m, \u001b[39m404\u001b[39m, \u001b[39m412\u001b[39m} \u001b[39mand\u001b[39;00m \u001b[39misinstance\u001b[39m(data, H2OErrorV3):\n\u001b[0;32m    852\u001b[0m     data\u001b[39m.\u001b[39mshow_stacktrace \u001b[39m=\u001b[39m \u001b[39mFalse\u001b[39;00m\n\u001b[1;32m--> 853\u001b[0m     \u001b[39mraise\u001b[39;00m H2OResponseError(data)\n\u001b[0;32m    855\u001b[0m \u001b[39m# Server errors (notably 500 = \"Server Error\")\u001b[39;00m\n\u001b[0;32m    856\u001b[0m \u001b[39m# Note that it is possible to receive valid H2OErrorV3 object in this case, however it merely means the server\u001b[39;00m\n\u001b[0;32m    857\u001b[0m \u001b[39m# did not provide the correct status code.\u001b[39;00m\n\u001b[0;32m    858\u001b[0m \u001b[39mraise\u001b[39;00m H2OServerError(\u001b[39m\"\u001b[39m\u001b[39mHTTP \u001b[39m\u001b[39m%d\u001b[39;00m\u001b[39m \u001b[39m\u001b[39m%s\u001b[39;00m\u001b[39m:\u001b[39m\u001b[39m\\n\u001b[39;00m\u001b[39m%s\u001b[39;00m\u001b[39m\"\u001b[39m \u001b[39m%\u001b[39m (status_code, response\u001b[39m.\u001b[39mreason, data))\n",
      "\u001b[1;31mH2OResponseError\u001b[0m: Server error water.exceptions.H2OIllegalArgumentException:\n  Error: Illegal argument: dir of function: importModel: water.api.FSIOException: FS IO Failure: \n accessed path : file:/c:/Users/Pichau/Desktop/eofut/notebooks/model_automl.h5 msg: File not found\n  Request: POST /99/Models.bin/\n    data: {'dir': 'model_automl.h5'}\n"
     ]
    }
   ],
   "source": [
    "\n",
    "\n",
    "loaded_model = h2o.load_model('model_automl.h5')\n",
    "y_pred_prob = loaded_model.predict(X_test_h2o)\n",
    "y_pred = h2o.as_list(y_pred_prob)\n",
    "y_pred_prob = y_pred['predict'].tolist()\n",
    "\n",
    "# Falsos positivos, verdadeiros positivos e limiares\n",
    "fpr, tpr, thresholds = roc_curve(y_test, y_pred_prob)\n",
    "\n",
    "# Área sob a curva\n",
    "roc_auc = auc(fpr, tpr)\n",
    "\n",
    "plt.figure()\n",
    "plt.plot(fpr, tpr, color='darkorange', lw=1, label='ROC curve (area = %0.2f)' % roc_auc)\n",
    "plt.xlim([0.0, 1.0])\n",
    "plt.ylim([0.0, 1.05])\n",
    "plt.xlabel('False Positive Rate')\n",
    "plt.ylabel('True Positive Rate')\n",
    "plt.title('Receiver Operating Characteristic')\n",
    "plt.legend(loc=\"lower right\")\n",
    "plt.show()\n",
    "\n",
    "# Matriz de confusão\n",
    "y_pred_round = [round(value) for value in y_pred_prob]\n",
    "cm = confusion_matrix(y_test.to_list(), y_pred_round)\n",
    "\n",
    "plt.figure(figsize=(7, 5))\n",
    "sns.heatmap(cm, annot=True, cmap='Blues', fmt='g')\n",
    "plt.xlabel('Predicted')\n",
    "plt.ylabel('True')\n",
    "plt.show()"
   ]
  },
  {
   "cell_type": "markdown",
   "metadata": {},
   "source": [
    "## Random Forest"
   ]
  },
  {
   "cell_type": "code",
   "execution_count": 104,
   "metadata": {},
   "outputs": [],
   "source": [
    "# teste com random forest foi feito mas não atingiu uma boa espectativa \n",
    "# # Criando o modelo base\n",
    "# # rfc = RandomForestClassifier(n_estimators=1000,max_depth=40, min_samples_leaf=1, min_samples_split=30, max_features=None, random_state=1, n_jobs=-1)\n",
    "# rfc = RandomForestClassifier(n_estimators=100, random_state=42, n_jobs=-1)\n",
    "\n",
    "# # # # Treinando o modelo com os melhores hiperparâmetros\n",
    "# rfc.fit(X_train, y_train)\n",
    "\n",
    "# predictions = rfc.predict(X_test)\n",
    "# accuracy = accuracy_score(y_test, predictions)\n",
    "\n",
    "\n",
    "# print(f\" Teste Acurácia do modelo Random Forest: {accuracy * 100:.2f}%\")\n",
    "# print(f\"Erro quadrático médio: {mean_squared_error(y_test, predictions)}\")\n",
    "# print(f\"Treino Acurácia do modelo Random Forest: {rfc.score(X_train, y_train) * 100:.2f}%\")\n",
    "\n",
    "# with open(f'random_forestht.pkl', 'wb') as f:\n",
    "#     pickle.dump(rfc, f)"
   ]
  },
  {
   "cell_type": "markdown",
   "metadata": {},
   "source": [
    "## Neural Network Keras"
   ]
  },
  {
   "cell_type": "code",
   "execution_count": 31,
   "metadata": {},
   "outputs": [
    {
     "name": "stdout",
     "output_type": "stream",
     "text": [
      "Epoch 1/500\n",
      "721/721 [==============================] - 2s 2ms/step - loss: 0.6870 - accuracy: 0.5360 - precision: 0.5335 - recall: 0.5593 - val_loss: 0.6823 - val_accuracy: 0.5423 - val_precision: 0.5570 - val_recall: 0.4446\n",
      "Epoch 2/500\n",
      "721/721 [==============================] - 1s 2ms/step - loss: 0.6737 - accuracy: 0.5703 - precision: 0.5649 - recall: 0.6052 - val_loss: 0.6736 - val_accuracy: 0.5715 - val_precision: 0.5551 - val_recall: 0.7504\n",
      "Epoch 3/500\n",
      "721/721 [==============================] - 1s 2ms/step - loss: 0.6588 - accuracy: 0.5973 - precision: 0.5900 - recall: 0.6334 - val_loss: 0.6618 - val_accuracy: 0.5906 - val_precision: 0.5748 - val_recall: 0.7183\n",
      "Epoch 4/500\n",
      "721/721 [==============================] - 1s 2ms/step - loss: 0.6414 - accuracy: 0.6210 - precision: 0.6123 - recall: 0.6559 - val_loss: 0.6501 - val_accuracy: 0.6041 - val_precision: 0.5929 - val_recall: 0.6821\n",
      "Epoch 5/500\n",
      "721/721 [==============================] - 1s 2ms/step - loss: 0.6246 - accuracy: 0.6369 - precision: 0.6279 - recall: 0.6688 - val_loss: 0.6461 - val_accuracy: 0.6009 - val_precision: 0.6165 - val_recall: 0.5487\n",
      "Epoch 6/500\n",
      "721/721 [==============================] - 1s 2ms/step - loss: 0.6078 - accuracy: 0.6550 - precision: 0.6462 - recall: 0.6828 - val_loss: 0.6422 - val_accuracy: 0.6216 - val_precision: 0.5952 - val_recall: 0.7769\n",
      "Epoch 7/500\n",
      "721/721 [==============================] - 1s 2ms/step - loss: 0.5927 - accuracy: 0.6725 - precision: 0.6617 - recall: 0.7035 - val_loss: 0.6366 - val_accuracy: 0.6346 - val_precision: 0.6181 - val_recall: 0.7176\n",
      "Epoch 8/500\n",
      "721/721 [==============================] - 1s 1ms/step - loss: 0.5797 - accuracy: 0.6813 - precision: 0.6696 - recall: 0.7135 - val_loss: 0.6309 - val_accuracy: 0.6259 - val_precision: 0.6349 - val_recall: 0.6047\n",
      "Epoch 9/500\n",
      "721/721 [==============================] - 1s 1ms/step - loss: 0.5681 - accuracy: 0.6907 - precision: 0.6786 - recall: 0.7225 - val_loss: 0.6206 - val_accuracy: 0.6384 - val_precision: 0.6231 - val_recall: 0.7135\n",
      "Epoch 10/500\n",
      "721/721 [==============================] - 1s 1ms/step - loss: 0.5564 - accuracy: 0.6988 - precision: 0.6856 - recall: 0.7325 - val_loss: 0.6138 - val_accuracy: 0.6429 - val_precision: 0.6413 - val_recall: 0.6599\n",
      "Epoch 11/500\n",
      "721/721 [==============================] - 1s 1ms/step - loss: 0.5469 - accuracy: 0.7057 - precision: 0.6921 - recall: 0.7392 - val_loss: 0.6122 - val_accuracy: 0.6469 - val_precision: 0.6589 - val_recall: 0.6194\n",
      "Epoch 12/500\n",
      "721/721 [==============================] - 1s 1ms/step - loss: 0.5384 - accuracy: 0.7119 - precision: 0.6982 - recall: 0.7447 - val_loss: 0.6088 - val_accuracy: 0.6558 - val_precision: 0.6567 - val_recall: 0.6630\n",
      "Epoch 13/500\n",
      "721/721 [==============================] - 1s 1ms/step - loss: 0.5308 - accuracy: 0.7175 - precision: 0.7029 - recall: 0.7518 - val_loss: 0.6103 - val_accuracy: 0.6629 - val_precision: 0.6552 - val_recall: 0.6975\n",
      "Epoch 14/500\n",
      "721/721 [==============================] - 1s 1ms/step - loss: 0.5233 - accuracy: 0.7250 - precision: 0.7100 - recall: 0.7593 - val_loss: 0.6063 - val_accuracy: 0.6553 - val_precision: 0.6367 - val_recall: 0.7345\n",
      "Epoch 15/500\n",
      "721/721 [==============================] - 1s 1ms/step - loss: 0.5163 - accuracy: 0.7301 - precision: 0.7133 - recall: 0.7678 - val_loss: 0.6008 - val_accuracy: 0.6677 - val_precision: 0.6514 - val_recall: 0.7318\n",
      "Epoch 16/500\n",
      "721/721 [==============================] - 1s 1ms/step - loss: 0.5114 - accuracy: 0.7338 - precision: 0.7178 - recall: 0.7691 - val_loss: 0.6043 - val_accuracy: 0.6603 - val_precision: 0.6596 - val_recall: 0.6721\n",
      "Epoch 17/500\n",
      "721/721 [==============================] - 1s 1ms/step - loss: 0.5053 - accuracy: 0.7366 - precision: 0.7208 - recall: 0.7708 - val_loss: 0.6045 - val_accuracy: 0.6649 - val_precision: 0.6478 - val_recall: 0.7328\n",
      "Epoch 18/500\n",
      "721/721 [==============================] - 1s 1ms/step - loss: 0.5000 - accuracy: 0.7423 - precision: 0.7266 - recall: 0.7756 - val_loss: 0.5992 - val_accuracy: 0.6676 - val_precision: 0.6480 - val_recall: 0.7438\n",
      "Epoch 19/500\n",
      "721/721 [==============================] - 1s 1ms/step - loss: 0.4952 - accuracy: 0.7450 - precision: 0.7277 - recall: 0.7816 - val_loss: 0.6067 - val_accuracy: 0.6630 - val_precision: 0.6632 - val_recall: 0.6718\n",
      "Epoch 20/500\n",
      "721/721 [==============================] - 1s 1ms/step - loss: 0.4911 - accuracy: 0.7476 - precision: 0.7305 - recall: 0.7833 - val_loss: 0.5978 - val_accuracy: 0.6751 - val_precision: 0.6616 - val_recall: 0.7263\n",
      "Epoch 21/500\n",
      "721/721 [==============================] - 1s 1ms/step - loss: 0.4859 - accuracy: 0.7490 - precision: 0.7321 - recall: 0.7840 - val_loss: 0.5983 - val_accuracy: 0.6782 - val_precision: 0.6638 - val_recall: 0.7311\n",
      "Epoch 22/500\n",
      "721/721 [==============================] - 1s 1ms/step - loss: 0.4816 - accuracy: 0.7548 - precision: 0.7380 - recall: 0.7888 - val_loss: 0.6086 - val_accuracy: 0.6821 - val_precision: 0.6535 - val_recall: 0.7847\n",
      "Epoch 23/500\n",
      "721/721 [==============================] - 1s 1ms/step - loss: 0.4790 - accuracy: 0.7567 - precision: 0.7391 - recall: 0.7922 - val_loss: 0.6053 - val_accuracy: 0.6703 - val_precision: 0.6532 - val_recall: 0.7356\n",
      "Epoch 24/500\n",
      "721/721 [==============================] - 1s 1ms/step - loss: 0.4749 - accuracy: 0.7584 - precision: 0.7414 - recall: 0.7924 - val_loss: 0.5993 - val_accuracy: 0.6824 - val_precision: 0.6705 - val_recall: 0.7261\n",
      "Epoch 25/500\n",
      "721/721 [==============================] - 1s 1ms/step - loss: 0.4707 - accuracy: 0.7604 - precision: 0.7435 - recall: 0.7938 - val_loss: 0.5984 - val_accuracy: 0.6807 - val_precision: 0.6669 - val_recall: 0.7309\n",
      "Epoch 26/500\n",
      "721/721 [==============================] - 1s 1ms/step - loss: 0.4671 - accuracy: 0.7635 - precision: 0.7460 - recall: 0.7979 - val_loss: 0.6060 - val_accuracy: 0.6753 - val_precision: 0.6721 - val_recall: 0.6935\n",
      "Epoch 27/500\n",
      "721/721 [==============================] - 1s 1ms/step - loss: 0.4643 - accuracy: 0.7657 - precision: 0.7480 - recall: 0.8002 - val_loss: 0.6084 - val_accuracy: 0.6756 - val_precision: 0.6730 - val_recall: 0.6921\n",
      "Epoch 28/500\n",
      "721/721 [==============================] - 1s 1ms/step - loss: 0.4619 - accuracy: 0.7666 - precision: 0.7489 - recall: 0.8009 - val_loss: 0.6074 - val_accuracy: 0.6780 - val_precision: 0.6726 - val_recall: 0.7025\n",
      "Epoch 29/500\n",
      "721/721 [==============================] - 1s 1ms/step - loss: 0.4570 - accuracy: 0.7693 - precision: 0.7517 - recall: 0.8032 - val_loss: 0.6059 - val_accuracy: 0.6697 - val_precision: 0.6766 - val_recall: 0.6590\n",
      "Epoch 30/500\n",
      "721/721 [==============================] - 1s 1ms/step - loss: 0.4566 - accuracy: 0.7698 - precision: 0.7505 - recall: 0.8072 - val_loss: 0.6054 - val_accuracy: 0.6851 - val_precision: 0.6730 - val_recall: 0.7285\n",
      "Epoch 31/500\n",
      "721/721 [==============================] - 1s 1ms/step - loss: 0.4550 - accuracy: 0.7711 - precision: 0.7526 - recall: 0.8065 - val_loss: 0.6070 - val_accuracy: 0.6803 - val_precision: 0.6851 - val_recall: 0.6756\n",
      "Epoch 32/500\n",
      "721/721 [==============================] - 1s 1ms/step - loss: 0.4499 - accuracy: 0.7742 - precision: 0.7573 - recall: 0.8061 - val_loss: 0.6054 - val_accuracy: 0.6774 - val_precision: 0.6818 - val_recall: 0.6737\n",
      "Epoch 33/500\n",
      "721/721 [==============================] - 1s 1ms/step - loss: 0.4485 - accuracy: 0.7735 - precision: 0.7550 - recall: 0.8086 - val_loss: 0.6047 - val_accuracy: 0.6776 - val_precision: 0.6819 - val_recall: 0.6744\n",
      "Epoch 34/500\n",
      "721/721 [==============================] - 1s 1ms/step - loss: 0.4474 - accuracy: 0.7747 - precision: 0.7572 - recall: 0.8075 - val_loss: 0.6059 - val_accuracy: 0.6891 - val_precision: 0.6772 - val_recall: 0.7311\n",
      "Epoch 35/500\n",
      "721/721 [==============================] - 1s 1ms/step - loss: 0.4449 - accuracy: 0.7800 - precision: 0.7612 - recall: 0.8150 - val_loss: 0.6152 - val_accuracy: 0.6671 - val_precision: 0.6828 - val_recall: 0.6330\n",
      "Epoch 36/500\n",
      "721/721 [==============================] - 1s 1ms/step - loss: 0.4429 - accuracy: 0.7771 - precision: 0.7593 - recall: 0.8102 - val_loss: 0.6104 - val_accuracy: 0.6909 - val_precision: 0.6717 - val_recall: 0.7554\n",
      "Epoch 37/500\n",
      "721/721 [==============================] - 1s 1ms/step - loss: 0.4401 - accuracy: 0.7812 - precision: 0.7625 - recall: 0.8157 - val_loss: 0.6117 - val_accuracy: 0.6806 - val_precision: 0.6889 - val_recall: 0.6666\n",
      "Epoch 38/500\n",
      "721/721 [==============================] - 1s 1ms/step - loss: 0.4397 - accuracy: 0.7808 - precision: 0.7634 - recall: 0.8127 - val_loss: 0.6189 - val_accuracy: 0.6845 - val_precision: 0.6763 - val_recall: 0.7161\n",
      "Epoch 39/500\n",
      "721/721 [==============================] - 1s 1ms/step - loss: 0.4379 - accuracy: 0.7792 - precision: 0.7609 - recall: 0.8130 - val_loss: 0.6126 - val_accuracy: 0.6915 - val_precision: 0.6748 - val_recall: 0.7476\n",
      "Epoch 40/500\n",
      "721/721 [==============================] - 1s 1ms/step - loss: 0.4355 - accuracy: 0.7823 - precision: 0.7632 - recall: 0.8174 - val_loss: 0.6085 - val_accuracy: 0.6847 - val_precision: 0.6798 - val_recall: 0.7069\n",
      "Epoch 41/500\n",
      "721/721 [==============================] - 1s 1ms/step - loss: 0.4311 - accuracy: 0.7837 - precision: 0.7649 - recall: 0.8182 - val_loss: 0.6225 - val_accuracy: 0.6937 - val_precision: 0.6730 - val_recall: 0.7618\n",
      "Epoch 42/500\n",
      "721/721 [==============================] - 1s 1ms/step - loss: 0.4328 - accuracy: 0.7848 - precision: 0.7664 - recall: 0.8181 - val_loss: 0.6301 - val_accuracy: 0.6721 - val_precision: 0.7020 - val_recall: 0.6059\n",
      "Epoch 43/500\n",
      "721/721 [==============================] - 1s 1ms/step - loss: 0.4294 - accuracy: 0.7862 - precision: 0.7679 - recall: 0.8192 - val_loss: 0.6193 - val_accuracy: 0.6918 - val_precision: 0.6760 - val_recall: 0.7449\n",
      "Epoch 44/500\n",
      "721/721 [==============================] - 1s 1ms/step - loss: 0.4275 - accuracy: 0.7868 - precision: 0.7688 - recall: 0.8192 - val_loss: 0.6176 - val_accuracy: 0.6953 - val_precision: 0.6734 - val_recall: 0.7666\n",
      "Epoch 45/500\n",
      "721/721 [==============================] - 1s 1ms/step - loss: 0.4249 - accuracy: 0.7871 - precision: 0.7677 - recall: 0.8221 - val_loss: 0.6101 - val_accuracy: 0.6959 - val_precision: 0.6799 - val_recall: 0.7487\n",
      "Epoch 46/500\n",
      "721/721 [==============================] - 1s 1ms/step - loss: 0.4247 - accuracy: 0.7896 - precision: 0.7707 - recall: 0.8234 - val_loss: 0.6162 - val_accuracy: 0.6794 - val_precision: 0.6888 - val_recall: 0.6625\n",
      "Epoch 47/500\n",
      "721/721 [==============================] - 1s 1ms/step - loss: 0.4232 - accuracy: 0.7886 - precision: 0.7707 - recall: 0.8207 - val_loss: 0.6160 - val_accuracy: 0.6908 - val_precision: 0.6827 - val_recall: 0.7213\n",
      "Epoch 48/500\n",
      "721/721 [==============================] - 1s 1ms/step - loss: 0.4224 - accuracy: 0.7905 - precision: 0.7718 - recall: 0.8238 - val_loss: 0.6183 - val_accuracy: 0.6989 - val_precision: 0.6800 - val_recall: 0.7594\n",
      "Epoch 49/500\n",
      "721/721 [==============================] - 1s 1ms/step - loss: 0.4206 - accuracy: 0.7920 - precision: 0.7735 - recall: 0.8250 - val_loss: 0.6270 - val_accuracy: 0.6973 - val_precision: 0.6746 - val_recall: 0.7706\n",
      "Epoch 50/500\n",
      "721/721 [==============================] - 1s 1ms/step - loss: 0.4199 - accuracy: 0.7919 - precision: 0.7727 - recall: 0.8261 - val_loss: 0.6224 - val_accuracy: 0.6988 - val_precision: 0.6790 - val_recall: 0.7621\n",
      "Epoch 51/500\n",
      "721/721 [==============================] - 1s 1ms/step - loss: 0.4167 - accuracy: 0.7930 - precision: 0.7741 - recall: 0.8263 - val_loss: 0.6216 - val_accuracy: 0.6812 - val_precision: 0.6908 - val_recall: 0.6640\n",
      "Epoch 52/500\n",
      "721/721 [==============================] - 1s 1ms/step - loss: 0.4180 - accuracy: 0.7929 - precision: 0.7737 - recall: 0.8269 - val_loss: 0.6275 - val_accuracy: 0.6984 - val_precision: 0.6831 - val_recall: 0.7480\n",
      "Epoch 53/500\n",
      "721/721 [==============================] - 1s 1ms/step - loss: 0.4151 - accuracy: 0.7938 - precision: 0.7751 - recall: 0.8267 - val_loss: 0.6326 - val_accuracy: 0.6782 - val_precision: 0.6897 - val_recall: 0.6559\n",
      "Epoch 54/500\n",
      "721/721 [==============================] - 1s 1ms/step - loss: 0.4132 - accuracy: 0.7950 - precision: 0.7772 - recall: 0.8262 - val_loss: 0.6343 - val_accuracy: 0.6792 - val_precision: 0.6893 - val_recall: 0.6606\n",
      "Epoch 55/500\n",
      "721/721 [==============================] - 1s 1ms/step - loss: 0.4149 - accuracy: 0.7939 - precision: 0.7760 - recall: 0.8252 - val_loss: 0.6262 - val_accuracy: 0.6910 - val_precision: 0.6840 - val_recall: 0.7180\n",
      "Epoch 56/500\n",
      "721/721 [==============================] - 1s 1ms/step - loss: 0.4117 - accuracy: 0.7951 - precision: 0.7772 - recall: 0.8264 - val_loss: 0.6252 - val_accuracy: 0.6926 - val_precision: 0.6862 - val_recall: 0.7178\n",
      "Epoch 57/500\n",
      "721/721 [==============================] - 1s 1ms/step - loss: 0.4114 - accuracy: 0.7962 - precision: 0.7778 - recall: 0.8284 - val_loss: 0.6210 - val_accuracy: 0.6923 - val_precision: 0.6902 - val_recall: 0.7056\n",
      "Epoch 58/500\n",
      "721/721 [==============================] - 1s 1ms/step - loss: 0.4087 - accuracy: 0.7967 - precision: 0.7789 - recall: 0.8278 - val_loss: 0.6392 - val_accuracy: 0.7027 - val_precision: 0.6785 - val_recall: 0.7785\n",
      "Epoch 59/500\n",
      "721/721 [==============================] - 1s 1ms/step - loss: 0.4086 - accuracy: 0.7982 - precision: 0.7803 - recall: 0.8291 - val_loss: 0.6236 - val_accuracy: 0.6956 - val_precision: 0.6933 - val_recall: 0.7092\n",
      "Epoch 60/500\n",
      "721/721 [==============================] - 1s 1ms/step - loss: 0.4075 - accuracy: 0.7981 - precision: 0.7798 - recall: 0.8298 - val_loss: 0.6344 - val_accuracy: 0.6996 - val_precision: 0.6834 - val_recall: 0.7516\n",
      "Epoch 61/500\n",
      "721/721 [==============================] - 1s 1ms/step - loss: 0.4081 - accuracy: 0.7993 - precision: 0.7807 - recall: 0.8314 - val_loss: 0.6317 - val_accuracy: 0.6886 - val_precision: 0.6904 - val_recall: 0.6916\n",
      "Epoch 62/500\n",
      "721/721 [==============================] - 1s 1ms/step - loss: 0.4044 - accuracy: 0.8011 - precision: 0.7814 - recall: 0.8354 - val_loss: 0.6384 - val_accuracy: 0.6840 - val_precision: 0.6907 - val_recall: 0.6742\n",
      "Epoch 63/500\n",
      "721/721 [==============================] - 1s 1ms/step - loss: 0.4056 - accuracy: 0.7990 - precision: 0.7806 - recall: 0.8308 - val_loss: 0.6288 - val_accuracy: 0.6972 - val_precision: 0.6882 - val_recall: 0.7287\n",
      "Epoch 64/500\n",
      "721/721 [==============================] - 1s 1ms/step - loss: 0.4045 - accuracy: 0.7996 - precision: 0.7816 - recall: 0.8307 - val_loss: 0.6298 - val_accuracy: 0.6951 - val_precision: 0.6763 - val_recall: 0.7566\n",
      "Epoch 65/500\n",
      "721/721 [==============================] - 1s 1ms/step - loss: 0.4017 - accuracy: 0.8010 - precision: 0.7828 - recall: 0.8323 - val_loss: 0.6390 - val_accuracy: 0.6860 - val_precision: 0.6848 - val_recall: 0.6971\n",
      "Epoch 66/500\n",
      "721/721 [==============================] - 1s 1ms/step - loss: 0.4038 - accuracy: 0.7998 - precision: 0.7822 - recall: 0.8300 - val_loss: 0.6345 - val_accuracy: 0.6940 - val_precision: 0.6824 - val_recall: 0.7337\n",
      "Epoch 67/500\n",
      "721/721 [==============================] - 1s 1ms/step - loss: 0.4029 - accuracy: 0.8011 - precision: 0.7832 - recall: 0.8316 - val_loss: 0.6311 - val_accuracy: 0.6925 - val_precision: 0.6908 - val_recall: 0.7047\n",
      "Epoch 68/500\n",
      "721/721 [==============================] - 1s 1ms/step - loss: 0.3992 - accuracy: 0.8040 - precision: 0.7839 - recall: 0.8385 - val_loss: 0.6352 - val_accuracy: 0.7032 - val_precision: 0.6820 - val_recall: 0.7694\n",
      "Epoch 69/500\n",
      "721/721 [==============================] - 1s 1ms/step - loss: 0.3992 - accuracy: 0.8023 - precision: 0.7842 - recall: 0.8332 - val_loss: 0.6360 - val_accuracy: 0.6851 - val_precision: 0.6923 - val_recall: 0.6742\n",
      "Epoch 70/500\n",
      "721/721 [==============================] - 1s 1ms/step - loss: 0.3970 - accuracy: 0.8038 - precision: 0.7855 - recall: 0.8349 - val_loss: 0.6366 - val_accuracy: 0.6931 - val_precision: 0.6995 - val_recall: 0.6845\n",
      "361/361 [==============================] - 0s 644us/step\n",
      "Accuracy on training set: 0.8166391849517822\n",
      "Accuracy on test set: 0.6930822134017944\n"
     ]
    },
    {
     "data": {
      "image/png": "[encoded data removed]",
      "text/plain": [
       "<Figure size 432x288 with 1 Axes>"
      ]
     },
     "metadata": {
      "needs_background": "light"
     },
     "output_type": "display_data"
    }
   ],
   "source": [
    "predictions = []\n",
    "  \n",
    "model = Sequential()\n",
    "model.add(Dense(128, activation='relu', input_shape=(X_train.shape[1],)))\n",
    "# model.add(Dropout(0.1))\n",
    "model.add(Dense(64, activation='relu'))\n",
    "# model.add(Dense(256, activation='relu'))\n",
    "# model.add(Dropout(0.1))\n",
    "model.add(Dense(1, activation='sigmoid'))  # Binary classification\n",
    "\n",
    "\n",
    "# Compilando o modelo\n",
    "optimizer = Adam(learning_rate=0.001)\n",
    "model.compile(loss='binary_crossentropy',\n",
    "            optimizer=optimizer,\n",
    "            metrics=['accuracy', 'Precision', 'Recall'])\n",
    "\n",
    "\n",
    "\n",
    "\n",
    "early_stop = EarlyStopping(monitor='val_loss', patience=50)\n",
    "\n",
    "# Treinando o modelo\n",
    "history = model.fit(X_train, y_train, epochs=500, batch_size=64, validation_data=(X_test, y_test), callbacks=[early_stop], verbose=1)\n",
    "# history = model.fit(X_train, y_train, epochs=500, batch_size=64, validation_data=(X_test, y_test), verbose=1)\n",
    "\n",
    "\n",
    "\n",
    "# Faz a predição utilizando os dados de teste\n",
    "predictions = model.predict(X_test)\n",
    "predictions = np.where(predictions > 0.5, 1, 0)\n",
    "\n",
    "# Avaliando a acurácia do modelo no conjunto de treinamento e conjunto de teste\n",
    "train_acc = model.evaluate(X_train, y_train, verbose=0)[1]\n",
    "test_acc = model.evaluate(X_test, y_test, verbose=0)[1]\n",
    "print('Accuracy on training set:', train_acc)\n",
    "print('Accuracy on test set:', test_acc)\n",
    "\n",
    "# Plotando a curva de aprendizado\n",
    "plt.plot(history.history['accuracy'])\n",
    "plt.plot(history.history['val_accuracy'])\n",
    "plt.title('Curva de Aprendizado')\n",
    "plt.ylabel('Acurácia')\n",
    "plt.xlabel('Época')\n",
    "plt.legend(['Treino', 'Teste'], loc='upper left')\n",
    "plt.show()\n",
    "\n",
    "# save model .h5\n",
    "model.save('model_redeht.h5')"
   ]
  },
  {
   "cell_type": "code",
   "execution_count": 106,
   "metadata": {},
   "outputs": [],
   "source": [
    "# h2o.cluster().shutdown()\n"
   ]
  },
  {
   "cell_type": "code",
   "execution_count": null,
   "metadata": {},
   "outputs": [],
   "source": []
  },
  {
   "cell_type": "markdown",
   "metadata": {},
   "source": [
    "# In pratice"
   ]
  },
  {
   "cell_type": "code",
   "execution_count": 107,
   "metadata": {},
   "outputs": [
    {
     "name": "stdout",
     "output_type": "stream",
     "text": [
      "Checking whether there is an H2O instance running at http://localhost:54321. connected.\n"
     ]
    },
    {
     "data": {
      "text/html": [
       "\n",
       "<style>\n",
       "\n",
       "#h2o-table-2.h2o-container {\n",
       "  overflow-x: auto;\n",
       "}\n",
       "#h2o-table-2 .h2o-table {\n",
       "  /* width: 100%; */\n",
       "  margin-top: 1em;\n",
       "  margin-bottom: 1em;\n",
       "}\n",
       "#h2o-table-2 .h2o-table caption {\n",
       "  white-space: nowrap;\n",
       "  caption-side: top;\n",
       "  text-align: left;\n",
       "  /* margin-left: 1em; */\n",
       "  margin: 0;\n",
       "  font-size: larger;\n",
       "}\n",
       "#h2o-table-2 .h2o-table thead {\n",
       "  white-space: nowrap; \n",
       "  position: sticky;\n",
       "  top: 0;\n",
       "  box-shadow: 0 -1px inset;\n",
       "}\n",
       "#h2o-table-2 .h2o-table tbody {\n",
       "  overflow: auto;\n",
       "}\n",
       "#h2o-table-2 .h2o-table th,\n",
       "#h2o-table-2 .h2o-table td {\n",
       "  text-align: right;\n",
       "  /* border: 1px solid; */\n",
       "}\n",
       "#h2o-table-2 .h2o-table tr:nth-child(even) {\n",
       "  /* background: #F5F5F5 */\n",
       "}\n",
       "\n",
       "</style>      \n",
       "<div id=\"h2o-table-2\" class=\"h2o-container\">\n",
       "  <table class=\"h2o-table\">\n",
       "    <caption></caption>\n",
       "    <thead></thead>\n",
       "    <tbody><tr><td>H2O_cluster_uptime:</td>\n",
       "<td>1 hour 22 mins</td></tr>\n",
       "<tr><td>H2O_cluster_timezone:</td>\n",
       "<td>America/Sao_Paulo</td></tr>\n",
       "<tr><td>H2O_data_parsing_timezone:</td>\n",
       "<td>UTC</td></tr>\n",
       "<tr><td>H2O_cluster_version:</td>\n",
       "<td>3.42.0.3</td></tr>\n",
       "<tr><td>H2O_cluster_version_age:</td>\n",
       "<td>30 days</td></tr>\n",
       "<tr><td>H2O_cluster_name:</td>\n",
       "<td>H2O_from_python_Pichau_eas44d</td></tr>\n",
       "<tr><td>H2O_cluster_total_nodes:</td>\n",
       "<td>1</td></tr>\n",
       "<tr><td>H2O_cluster_free_memory:</td>\n",
       "<td>5.820 Gb</td></tr>\n",
       "<tr><td>H2O_cluster_total_cores:</td>\n",
       "<td>12</td></tr>\n",
       "<tr><td>H2O_cluster_allowed_cores:</td>\n",
       "<td>12</td></tr>\n",
       "<tr><td>H2O_cluster_status:</td>\n",
       "<td>locked, healthy</td></tr>\n",
       "<tr><td>H2O_connection_url:</td>\n",
       "<td>http://localhost:54321</td></tr>\n",
       "<tr><td>H2O_connection_proxy:</td>\n",
       "<td>{\"http\": null, \"https\": null}</td></tr>\n",
       "<tr><td>H2O_internal_security:</td>\n",
       "<td>False</td></tr>\n",
       "<tr><td>Python_version:</td>\n",
       "<td>3.10.1 final</td></tr></tbody>\n",
       "  </table>\n",
       "</div>\n"
      ],
      "text/plain": [
       "--------------------------  -----------------------------\n",
       "H2O_cluster_uptime:         1 hour 22 mins\n",
       "H2O_cluster_timezone:       America/Sao_Paulo\n",
       "H2O_data_parsing_timezone:  UTC\n",
       "H2O_cluster_version:        3.42.0.3\n",
       "H2O_cluster_version_age:    30 days\n",
       "H2O_cluster_name:           H2O_from_python_Pichau_eas44d\n",
       "H2O_cluster_total_nodes:    1\n",
       "H2O_cluster_free_memory:    5.820 Gb\n",
       "H2O_cluster_total_cores:    12\n",
       "H2O_cluster_allowed_cores:  12\n",
       "H2O_cluster_status:         locked, healthy\n",
       "H2O_connection_url:         http://localhost:54321\n",
       "H2O_connection_proxy:       {\"http\": null, \"https\": null}\n",
       "H2O_internal_security:      False\n",
       "Python_version:             3.10.1 final\n",
       "--------------------------  -----------------------------"
      ]
     },
     "metadata": {},
     "output_type": "display_data"
    },
    {
     "name": "stdout",
     "output_type": "stream",
     "text": [
      "Parse progress: |████████████████████████████████████████████████████████████████| (done) 100%\n",
      "stackedensemble prediction progress: |███████████████████████████████████████████| (done) 100%\n"
     ]
    },
    {
     "data": {
      "text/html": [
       "<table class='dataframe'>\n",
       "<thead>\n",
       "<tr><th style=\"text-align: right;\">  predict</th><th style=\"text-align: right;\">      p0</th><th style=\"text-align: right;\">      p1</th></tr>\n",
       "</thead>\n",
       "<tbody>\n",
       "<tr><td style=\"text-align: right;\">        1</td><td style=\"text-align: right;\">0.589734</td><td style=\"text-align: right;\">0.410266</td></tr>\n",
       "</tbody>\n",
       "</table><pre style='font-size: smaller; margin-bottom: 1em;'>[1 row x 3 columns]</pre>"
      ],
      "text/plain": [
       "  predict        p0        p1\n",
       "---------  --------  --------\n",
       "        1  0.589734  0.410266\n",
       "[1 row x 3 columns]\n"
      ]
     },
     "execution_count": 107,
     "metadata": {},
     "output_type": "execute_result"
    }
   ],
   "source": [
    "h2o.init()\n",
    "loaded_model = h2o.load_model(\"C:/Users/Pichau/Desktop/eo-fut-live/models/model_automl\")\n",
    "Xht = df.drop(columns=['result', 'homeTeam', 'awayTeam', 'match_id']).head(1699).tail(1)\n",
    "Xht = preprocessor.transform(Xht)\n",
    "Xht = h2o.H2OFrame(Xht)\n",
    "loaded_model.predict(Xht)"
   ]
  },
  {
   "cell_type": "code",
   "execution_count": 108,
   "metadata": {},
   "outputs": [
    {
     "name": "stdout",
     "output_type": "stream",
     "text": [
      "stackedensemble prediction progress: |███████████████████████████████████████████| (done) 100%\n"
     ]
    },
    {
     "data": {
      "text/plain": [
       "0.410265916561806"
      ]
     },
     "execution_count": 108,
     "metadata": {},
     "output_type": "execute_result"
    }
   ],
   "source": [
    "h2o.as_list(loaded_model.predict(Xht)).loc[0, 'p1']"
   ]
  }
 ],
 "metadata": {
  "kernelspec": {
   "display_name": "Python 3",
   "language": "python",
   "name": "python3"
  },
  "language_info": {
   "codemirror_mode": {
    "name": "ipython",
    "version": 3
   },
   "file_extension": ".py",
   "mimetype": "text/x-python",
   "name": "python",
   "nbconvert_exporter": "python",
   "pygments_lexer": "ipython3",
   "version": "3.10.1"
  },
  "orig_nbformat": 4,
  "vscode": {
   "interpreter": {
    "hash": "369f2c481f4da34e4445cda3fffd2e751bd1c4d706f27375911949ba6bb62e1c"
   }
  }
 },
 "nbformat": 4,
 "nbformat_minor": 2
}
