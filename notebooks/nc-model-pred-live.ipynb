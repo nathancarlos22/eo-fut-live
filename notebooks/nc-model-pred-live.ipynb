{
 "cells": [
  {
   "cell_type": "markdown",
   "metadata": {},
   "source": [
    "# Imports and loads"
   ]
  },
  {
   "cell_type": "code",
   "execution_count": 1,
   "metadata": {},
   "outputs": [],
   "source": [
    "import pandas as pd\n",
    "import numpy as np\n",
    "import warnings\n",
    "import numpy as np\n",
    "import pandas as pd\n",
    "from keras.layers import Dense\n",
    "from keras.models import Sequential\n",
    "from sklearn.ensemble import RandomForestClassifier\n",
    "from sklearn.metrics import mean_squared_error\n",
    "from sklearn.model_selection import train_test_split\n",
    "from keras.optimizers import Adam\n",
    "import matplotlib.pyplot as plt\n",
    "import h2o\n",
    "\n",
    "from sklearn.preprocessing import StandardScaler, OneHotEncoder\n",
    "from sklearn.compose import ColumnTransformer\n",
    "import pickle\n",
    "from h2o.automl import H2OAutoML\n",
    "\n",
    "from sklearn.metrics import roc_curve, auc\n",
    "import matplotlib.pyplot as plt\n",
    "from sklearn.metrics import confusion_matrix\n",
    "import seaborn as sns\n",
    "from keras.callbacks import EarlyStopping\n",
    "\n",
    "warnings.filterwarnings('ignore')"
   ]
  },
  {
   "cell_type": "code",
   "execution_count": 2,
   "metadata": {},
   "outputs": [
    {
     "data": {
      "text/html": [
       "<div>\n",
       "<style scoped>\n",
       "    .dataframe tbody tr th:only-of-type {\n",
       "        vertical-align: middle;\n",
       "    }\n",
       "\n",
       "    .dataframe tbody tr th {\n",
       "        vertical-align: top;\n",
       "    }\n",
       "\n",
       "    .dataframe thead th {\n",
       "        text-align: right;\n",
       "    }\n",
       "</style>\n",
       "<table border=\"1\" class=\"dataframe\">\n",
       "  <thead>\n",
       "    <tr style=\"text-align: right;\">\n",
       "      <th></th>\n",
       "      <th>date</th>\n",
       "      <th>minute</th>\n",
       "      <th>homeTeam</th>\n",
       "      <th>awayTeam</th>\n",
       "      <th>league</th>\n",
       "      <th>corners_home</th>\n",
       "      <th>corners_away</th>\n",
       "      <th>redcards_home</th>\n",
       "      <th>redcards_away</th>\n",
       "      <th>shotsOffgoal_home</th>\n",
       "      <th>...</th>\n",
       "      <th>fouls_c_home</th>\n",
       "      <th>fouls_c_away</th>\n",
       "      <th>fouls_won_home</th>\n",
       "      <th>fouls_won_away</th>\n",
       "      <th>offsides_home</th>\n",
       "      <th>offsides_away</th>\n",
       "      <th>tackles_home</th>\n",
       "      <th>tackles_away</th>\n",
       "      <th>result</th>\n",
       "      <th>match_id</th>\n",
       "    </tr>\n",
       "  </thead>\n",
       "  <tbody>\n",
       "    <tr>\n",
       "      <th>0</th>\n",
       "      <td>2023-08-20</td>\n",
       "      <td>0:36</td>\n",
       "      <td>Aston Villa FC</td>\n",
       "      <td>Everton FC</td>\n",
       "      <td>England - Premier League</td>\n",
       "      <td>1.0</td>\n",
       "      <td>1.0</td>\n",
       "      <td>0.0</td>\n",
       "      <td>0.0</td>\n",
       "      <td>1.0</td>\n",
       "      <td>...</td>\n",
       "      <td>0.0</td>\n",
       "      <td>0.0</td>\n",
       "      <td>0.0</td>\n",
       "      <td>0.0</td>\n",
       "      <td>0.0</td>\n",
       "      <td>0.0</td>\n",
       "      <td>0.0</td>\n",
       "      <td>0.0</td>\n",
       "      <td>0</td>\n",
       "      <td></td>\n",
       "    </tr>\n",
       "    <tr>\n",
       "      <th>1</th>\n",
       "      <td>2023-08-20</td>\n",
       "      <td>0:53</td>\n",
       "      <td>Aston Villa FC</td>\n",
       "      <td>Everton FC</td>\n",
       "      <td>England - Premier League</td>\n",
       "      <td>1.0</td>\n",
       "      <td>0.0</td>\n",
       "      <td>0.0</td>\n",
       "      <td>0.0</td>\n",
       "      <td>1.0</td>\n",
       "      <td>...</td>\n",
       "      <td>0.0</td>\n",
       "      <td>0.0</td>\n",
       "      <td>0.0</td>\n",
       "      <td>0.0</td>\n",
       "      <td>0.0</td>\n",
       "      <td>0.0</td>\n",
       "      <td>0.0</td>\n",
       "      <td>0.0</td>\n",
       "      <td>0</td>\n",
       "      <td>2023-08-20-Aston Villa FC-Everton FC</td>\n",
       "    </tr>\n",
       "    <tr>\n",
       "      <th>2</th>\n",
       "      <td>2023-08-20</td>\n",
       "      <td>2:00</td>\n",
       "      <td>Aston Villa FC</td>\n",
       "      <td>Everton FC</td>\n",
       "      <td>England - Premier League</td>\n",
       "      <td>2.0</td>\n",
       "      <td>0.0</td>\n",
       "      <td>0.0</td>\n",
       "      <td>0.0</td>\n",
       "      <td>1.0</td>\n",
       "      <td>...</td>\n",
       "      <td>0.0</td>\n",
       "      <td>0.0</td>\n",
       "      <td>0.0</td>\n",
       "      <td>0.0</td>\n",
       "      <td>0.0</td>\n",
       "      <td>0.0</td>\n",
       "      <td>0.0</td>\n",
       "      <td>0.0</td>\n",
       "      <td>0</td>\n",
       "      <td>2023-08-20-Aston Villa FC-Everton FC</td>\n",
       "    </tr>\n",
       "    <tr>\n",
       "      <th>3</th>\n",
       "      <td>2023-08-20</td>\n",
       "      <td>3:07</td>\n",
       "      <td>Aston Villa FC</td>\n",
       "      <td>Everton FC</td>\n",
       "      <td>England - Premier League</td>\n",
       "      <td>2.0</td>\n",
       "      <td>0.0</td>\n",
       "      <td>0.0</td>\n",
       "      <td>0.0</td>\n",
       "      <td>1.0</td>\n",
       "      <td>...</td>\n",
       "      <td>0.0</td>\n",
       "      <td>0.0</td>\n",
       "      <td>0.0</td>\n",
       "      <td>0.0</td>\n",
       "      <td>0.0</td>\n",
       "      <td>0.0</td>\n",
       "      <td>0.0</td>\n",
       "      <td>0.0</td>\n",
       "      <td>0</td>\n",
       "      <td>2023-08-20-Aston Villa FC-Everton FC</td>\n",
       "    </tr>\n",
       "    <tr>\n",
       "      <th>4</th>\n",
       "      <td>2023-08-20</td>\n",
       "      <td>4:13</td>\n",
       "      <td>Aston Villa FC</td>\n",
       "      <td>Everton FC</td>\n",
       "      <td>England - Premier League</td>\n",
       "      <td>2.0</td>\n",
       "      <td>0.0</td>\n",
       "      <td>0.0</td>\n",
       "      <td>0.0</td>\n",
       "      <td>1.0</td>\n",
       "      <td>...</td>\n",
       "      <td>0.0</td>\n",
       "      <td>0.0</td>\n",
       "      <td>0.0</td>\n",
       "      <td>0.0</td>\n",
       "      <td>0.0</td>\n",
       "      <td>0.0</td>\n",
       "      <td>0.0</td>\n",
       "      <td>0.0</td>\n",
       "      <td>0</td>\n",
       "      <td>2023-08-20-Aston Villa FC-Everton FC</td>\n",
       "    </tr>\n",
       "    <tr>\n",
       "      <th>...</th>\n",
       "      <td>...</td>\n",
       "      <td>...</td>\n",
       "      <td>...</td>\n",
       "      <td>...</td>\n",
       "      <td>...</td>\n",
       "      <td>...</td>\n",
       "      <td>...</td>\n",
       "      <td>...</td>\n",
       "      <td>...</td>\n",
       "      <td>...</td>\n",
       "      <td>...</td>\n",
       "      <td>...</td>\n",
       "      <td>...</td>\n",
       "      <td>...</td>\n",
       "      <td>...</td>\n",
       "      <td>...</td>\n",
       "      <td>...</td>\n",
       "      <td>...</td>\n",
       "      <td>...</td>\n",
       "      <td>...</td>\n",
       "      <td>...</td>\n",
       "    </tr>\n",
       "    <tr>\n",
       "      <th>1244049</th>\n",
       "      <td>2023-05-31</td>\n",
       "      <td>25:35</td>\n",
       "      <td>Sevilla FC</td>\n",
       "      <td>AS Roma</td>\n",
       "      <td>Europe - UEFA Europa League</td>\n",
       "      <td>1.0</td>\n",
       "      <td>1.0</td>\n",
       "      <td>0.0</td>\n",
       "      <td>0.0</td>\n",
       "      <td>1.0</td>\n",
       "      <td>...</td>\n",
       "      <td>4.0</td>\n",
       "      <td>4.0</td>\n",
       "      <td>4.0</td>\n",
       "      <td>4.0</td>\n",
       "      <td>0.0</td>\n",
       "      <td>0.0</td>\n",
       "      <td>7.0</td>\n",
       "      <td>8.0</td>\n",
       "      <td>1</td>\n",
       "      <td>2023-05-31-Sevilla FC-AS Roma</td>\n",
       "    </tr>\n",
       "    <tr>\n",
       "      <th>1244050</th>\n",
       "      <td>2023-05-31</td>\n",
       "      <td>27:18</td>\n",
       "      <td>Sevilla FC</td>\n",
       "      <td>AS Roma</td>\n",
       "      <td>Europe - UEFA Europa League</td>\n",
       "      <td>1.0</td>\n",
       "      <td>1.0</td>\n",
       "      <td>0.0</td>\n",
       "      <td>0.0</td>\n",
       "      <td>1.0</td>\n",
       "      <td>...</td>\n",
       "      <td>5.0</td>\n",
       "      <td>4.0</td>\n",
       "      <td>4.0</td>\n",
       "      <td>5.0</td>\n",
       "      <td>0.0</td>\n",
       "      <td>0.0</td>\n",
       "      <td>7.0</td>\n",
       "      <td>8.0</td>\n",
       "      <td>1</td>\n",
       "      <td>2023-05-31-Sevilla FC-AS Roma</td>\n",
       "    </tr>\n",
       "    <tr>\n",
       "      <th>1244051</th>\n",
       "      <td>2023-05-31</td>\n",
       "      <td>29:02</td>\n",
       "      <td>Sevilla FC</td>\n",
       "      <td>AS Roma</td>\n",
       "      <td>Europe - UEFA Europa League</td>\n",
       "      <td>1.0</td>\n",
       "      <td>1.0</td>\n",
       "      <td>0.0</td>\n",
       "      <td>0.0</td>\n",
       "      <td>1.0</td>\n",
       "      <td>...</td>\n",
       "      <td>5.0</td>\n",
       "      <td>4.0</td>\n",
       "      <td>4.0</td>\n",
       "      <td>5.0</td>\n",
       "      <td>0.0</td>\n",
       "      <td>0.0</td>\n",
       "      <td>7.0</td>\n",
       "      <td>8.0</td>\n",
       "      <td>1</td>\n",
       "      <td>2023-05-31-Sevilla FC-AS Roma</td>\n",
       "    </tr>\n",
       "    <tr>\n",
       "      <th>1244052</th>\n",
       "      <td>2023-05-31</td>\n",
       "      <td>30:46</td>\n",
       "      <td>Sevilla FC</td>\n",
       "      <td>AS Roma</td>\n",
       "      <td>Europe - UEFA Europa League</td>\n",
       "      <td>1.0</td>\n",
       "      <td>1.0</td>\n",
       "      <td>0.0</td>\n",
       "      <td>0.0</td>\n",
       "      <td>1.0</td>\n",
       "      <td>...</td>\n",
       "      <td>5.0</td>\n",
       "      <td>4.0</td>\n",
       "      <td>4.0</td>\n",
       "      <td>5.0</td>\n",
       "      <td>0.0</td>\n",
       "      <td>0.0</td>\n",
       "      <td>8.0</td>\n",
       "      <td>8.0</td>\n",
       "      <td>1</td>\n",
       "      <td>2023-05-31-Sevilla FC-AS Roma</td>\n",
       "    </tr>\n",
       "    <tr>\n",
       "      <th>1244053</th>\n",
       "      <td>2023-05-31</td>\n",
       "      <td>32:29</td>\n",
       "      <td>Sevilla FC</td>\n",
       "      <td>AS Roma</td>\n",
       "      <td>Europe - UEFA Europa League</td>\n",
       "      <td>1.0</td>\n",
       "      <td>1.0</td>\n",
       "      <td>0.0</td>\n",
       "      <td>0.0</td>\n",
       "      <td>1.0</td>\n",
       "      <td>...</td>\n",
       "      <td>5.0</td>\n",
       "      <td>4.0</td>\n",
       "      <td>4.0</td>\n",
       "      <td>5.0</td>\n",
       "      <td>0.0</td>\n",
       "      <td>0.0</td>\n",
       "      <td>8.0</td>\n",
       "      <td>8.0</td>\n",
       "      <td>1</td>\n",
       "      <td>2023-05-31-Sevilla FC-AS Roma</td>\n",
       "    </tr>\n",
       "  </tbody>\n",
       "</table>\n",
       "<p>1244054 rows × 27 columns</p>\n",
       "</div>"
      ],
      "text/plain": [
       "               date minute        homeTeam    awayTeam  \\\n",
       "0        2023-08-20   0:36  Aston Villa FC  Everton FC   \n",
       "1        2023-08-20   0:53  Aston Villa FC  Everton FC   \n",
       "2        2023-08-20   2:00  Aston Villa FC  Everton FC   \n",
       "3        2023-08-20   3:07  Aston Villa FC  Everton FC   \n",
       "4        2023-08-20   4:13  Aston Villa FC  Everton FC   \n",
       "...             ...    ...             ...         ...   \n",
       "1244049  2023-05-31  25:35      Sevilla FC     AS Roma   \n",
       "1244050  2023-05-31  27:18      Sevilla FC     AS Roma   \n",
       "1244051  2023-05-31  29:02      Sevilla FC     AS Roma   \n",
       "1244052  2023-05-31  30:46      Sevilla FC     AS Roma   \n",
       "1244053  2023-05-31  32:29      Sevilla FC     AS Roma   \n",
       "\n",
       "                              league  corners_home  corners_away  \\\n",
       "0           England - Premier League           1.0           1.0   \n",
       "1           England - Premier League           1.0           0.0   \n",
       "2           England - Premier League           2.0           0.0   \n",
       "3           England - Premier League           2.0           0.0   \n",
       "4           England - Premier League           2.0           0.0   \n",
       "...                              ...           ...           ...   \n",
       "1244049  Europe - UEFA Europa League           1.0           1.0   \n",
       "1244050  Europe - UEFA Europa League           1.0           1.0   \n",
       "1244051  Europe - UEFA Europa League           1.0           1.0   \n",
       "1244052  Europe - UEFA Europa League           1.0           1.0   \n",
       "1244053  Europe - UEFA Europa League           1.0           1.0   \n",
       "\n",
       "         redcards_home  redcards_away  shotsOffgoal_home  ...  fouls_c_home  \\\n",
       "0                  0.0            0.0                1.0  ...           0.0   \n",
       "1                  0.0            0.0                1.0  ...           0.0   \n",
       "2                  0.0            0.0                1.0  ...           0.0   \n",
       "3                  0.0            0.0                1.0  ...           0.0   \n",
       "4                  0.0            0.0                1.0  ...           0.0   \n",
       "...                ...            ...                ...  ...           ...   \n",
       "1244049            0.0            0.0                1.0  ...           4.0   \n",
       "1244050            0.0            0.0                1.0  ...           5.0   \n",
       "1244051            0.0            0.0                1.0  ...           5.0   \n",
       "1244052            0.0            0.0                1.0  ...           5.0   \n",
       "1244053            0.0            0.0                1.0  ...           5.0   \n",
       "\n",
       "         fouls_c_away  fouls_won_home  fouls_won_away  offsides_home  \\\n",
       "0                 0.0             0.0             0.0            0.0   \n",
       "1                 0.0             0.0             0.0            0.0   \n",
       "2                 0.0             0.0             0.0            0.0   \n",
       "3                 0.0             0.0             0.0            0.0   \n",
       "4                 0.0             0.0             0.0            0.0   \n",
       "...               ...             ...             ...            ...   \n",
       "1244049           4.0             4.0             4.0            0.0   \n",
       "1244050           4.0             4.0             5.0            0.0   \n",
       "1244051           4.0             4.0             5.0            0.0   \n",
       "1244052           4.0             4.0             5.0            0.0   \n",
       "1244053           4.0             4.0             5.0            0.0   \n",
       "\n",
       "         offsides_away  tackles_home  tackles_away  result  \\\n",
       "0                  0.0           0.0           0.0       0   \n",
       "1                  0.0           0.0           0.0       0   \n",
       "2                  0.0           0.0           0.0       0   \n",
       "3                  0.0           0.0           0.0       0   \n",
       "4                  0.0           0.0           0.0       0   \n",
       "...                ...           ...           ...     ...   \n",
       "1244049            0.0           7.0           8.0       1   \n",
       "1244050            0.0           7.0           8.0       1   \n",
       "1244051            0.0           7.0           8.0       1   \n",
       "1244052            0.0           8.0           8.0       1   \n",
       "1244053            0.0           8.0           8.0       1   \n",
       "\n",
       "                                     match_id  \n",
       "0                                              \n",
       "1        2023-08-20-Aston Villa FC-Everton FC  \n",
       "2        2023-08-20-Aston Villa FC-Everton FC  \n",
       "3        2023-08-20-Aston Villa FC-Everton FC  \n",
       "4        2023-08-20-Aston Villa FC-Everton FC  \n",
       "...                                       ...  \n",
       "1244049         2023-05-31-Sevilla FC-AS Roma  \n",
       "1244050         2023-05-31-Sevilla FC-AS Roma  \n",
       "1244051         2023-05-31-Sevilla FC-AS Roma  \n",
       "1244052         2023-05-31-Sevilla FC-AS Roma  \n",
       "1244053         2023-05-31-Sevilla FC-AS Roma  \n",
       "\n",
       "[1244054 rows x 27 columns]"
      ]
     },
     "execution_count": 2,
     "metadata": {},
     "output_type": "execute_result"
    }
   ],
   "source": [
    "df05ht = pd.read_csv('../data/raw/data_live_scores.csv').reset_index(drop=True)\n",
    "df05ht"
   ]
  },
  {
   "cell_type": "code",
   "execution_count": 3,
   "metadata": {},
   "outputs": [
    {
     "data": {
      "text/plain": [
       "Index(['date', 'minute', 'homeTeam', 'awayTeam', 'league', 'corners_home',\n",
       "       'corners_away', 'redcards_home', 'redcards_away', 'shotsOffgoal_home',\n",
       "       'shotsOffgoal_away', 'shotsOngoal_home', 'shotsOngoal_away',\n",
       "       'yellowcards_home', 'yellowcards_away', 'passes_home', 'passes_away',\n",
       "       'fouls_c_home', 'fouls_c_away', 'fouls_won_home', 'fouls_won_away',\n",
       "       'offsides_home', 'offsides_away', 'tackles_home', 'tackles_away',\n",
       "       'result', 'match_id'],\n",
       "      dtype='object')"
      ]
     },
     "execution_count": 3,
     "metadata": {},
     "output_type": "execute_result"
    }
   ],
   "source": [
    "df05ht.columns"
   ]
  },
  {
   "cell_type": "markdown",
   "metadata": {},
   "source": [
    "# Preprocess"
   ]
  },
  {
   "cell_type": "code",
   "execution_count": 4,
   "metadata": {},
   "outputs": [
    {
     "name": "stdout",
     "output_type": "stream",
     "text": [
      "6410\n",
      "0\n"
     ]
    }
   ],
   "source": [
    "print(df05ht.isnull().sum().sum())\n",
    "df05ht = df05ht.dropna()\n",
    "print(df05ht.isnull().sum().sum())"
   ]
  },
  {
   "cell_type": "code",
   "execution_count": 5,
   "metadata": {},
   "outputs": [],
   "source": [
    "new_columns_names = {'fouls_won_away': 'fouls_away', 'fouls_won_home': 'fouls_home'}\n",
    "df05ht = df05ht.rename(columns=new_columns_names)"
   ]
  },
  {
   "cell_type": "code",
   "execution_count": 6,
   "metadata": {},
   "outputs": [],
   "source": [
    "df05ht['possessiontime_away'] = (df05ht['passes_away'] / (df05ht['passes_away'] + df05ht['passes_home'])) * 100\n",
    "df05ht['possessiontime_home'] = (df05ht['passes_home'] / (df05ht['passes_away'] + df05ht['passes_home'])) * 100\n"
   ]
  },
  {
   "cell_type": "code",
   "execution_count": 7,
   "metadata": {},
   "outputs": [],
   "source": [
    "df05ht.drop(columns=[\"date\",'passes_home', 'passes_away', 'fouls_c_home', 'fouls_c_away'], inplace=True)"
   ]
  },
  {
   "cell_type": "code",
   "execution_count": 8,
   "metadata": {},
   "outputs": [
    {
     "data": {
      "text/plain": [
       "(1243421, 24)"
      ]
     },
     "execution_count": 8,
     "metadata": {},
     "output_type": "execute_result"
    }
   ],
   "source": [
    "df05ht.shape"
   ]
  },
  {
   "cell_type": "code",
   "execution_count": 9,
   "metadata": {},
   "outputs": [],
   "source": [
    "leagues_opta = df05ht['league'].unique()"
   ]
  },
  {
   "cell_type": "code",
   "execution_count": 10,
   "metadata": {},
   "outputs": [
    {
     "name": "stdout",
     "output_type": "stream",
     "text": [
      "England - Premier League\n",
      "Germany - Bundesliga\n",
      "Spain - Primera División\n",
      "France - Ligue 1\n",
      "USA - MLS\n",
      "Italy - Serie A\n",
      "Brazil - Serie A\n",
      "Netherlands - Eredivisie\n",
      "England - Championship\n",
      "Portugal - Primeira Liga\n",
      "Romania - Liga I\n",
      "World - FIFA Women's World Cup\n",
      "England - League One\n",
      "England - League Two\n",
      "Europe - UEFA Europa Conference League\n",
      "England - League Cup\n",
      "Europe - UEFA Super Cup\n",
      "Europe - UEFA Champions League\n",
      "Germany - DFB Pokal\n",
      "Italy - Coppa Italia\n",
      "Scotland - Premiership\n",
      "Germany - Super Cup\n",
      "South America - CONMEBOL Libertadores\n",
      "England - Community Shield\n",
      "N/C America - Concacaf Gold Cup\n",
      "Europe - UEFA U21 Championship\n",
      "Romania - Supercupa\n",
      "Romania - Play-offs 1/2\n",
      "Australia - A-League Men\n",
      "Portugal - Play-offs 1/2\n",
      "Europe - UEFA European Championship Qualifiers\n",
      "Germany - Play-offs 1/2\n",
      "Europe - UEFA Nations League\n",
      "Europe - UEFA Europa League\n",
      "England - FA Cup\n",
      "Spain - Copa del Rey\n",
      "World - FIFA World Cup\n",
      "France - Coupe de France\n",
      "Spain - Super Cup\n",
      "Italy - Super Cup\n",
      "World - FIFA Club World Cup\n"
     ]
    }
   ],
   "source": [
    "for league in leagues_opta:\n",
    "    print(league)"
   ]
  },
  {
   "cell_type": "code",
   "execution_count": 11,
   "metadata": {},
   "outputs": [],
   "source": [
    "# df[df['league'] == \"Europe - UEFA European Championship Qualifiers\"].tail(1)\n",
    "# 'Australia - A-League Men': 'Australia - A-League',"
   ]
  },
  {
   "cell_type": "code",
   "execution_count": 12,
   "metadata": {},
   "outputs": [
    {
     "name": "stdout",
     "output_type": "stream",
     "text": [
      "41\n",
      "41\n"
     ]
    }
   ],
   "source": [
    "name_mapping = {\n",
    "    'England - Premier League': 'England - Premier League',\n",
    "    'Germany - Bundesliga': 'Germany - Bundesliga',\n",
    "    'Spain - Primera División': 'Spain - La Liga',\n",
    "    'France - Ligue 1': 'France - Ligue 1',\n",
    "    'Italy - Serie A': 'Italy - Serie A',\n",
    "    'USA - MLS': 'USA - Major League Soccer',\n",
    "    'Brazil - Serie A': 'Brazil - Serie A',\n",
    "    'Netherlands - Eredivisie': 'Netherlands - Eredivisie',\n",
    "    'England - Championship': 'England - Championship',\n",
    "    'Portugal - Primeira Liga': 'Portugal - Liga Portugal',\n",
    "    'Romania - Liga I': 'Romania - Liga 1',\n",
    "    \"World - FIFA Women's World Cup\": 'World - World Cup Women',\n",
    "    'England - League One': 'England - League One',\n",
    "    'England - League Two': 'England - League Two',\n",
    "    'Europe - UEFA Europa Conference League': 'Europe - Europa Conference League',\n",
    "    'England - League Cup': 'England - Carabao Cup',\n",
    "    'Europe - UEFA Super Cup': 'Europe - Uefa Super Cup',\n",
    "    'Europe - UEFA Champions League': 'Europe - Champions League',\n",
    "    'Germany - DFB Pokal': 'Germany - DFB Pokal',\n",
    "    'Italy - Coppa Italia': 'Italy - Coppa Italia',\n",
    "    'Scotland - Premiership': 'Scotland - Premiership',\n",
    "    'Germany - Super Cup': 'Germany - Super Cup',\n",
    "    'South America - CONMEBOL Libertadores': 'South America - Copa Libertadores',\n",
    "    'England - Community Shield': 'England - Community Shield',\n",
    "    'N/C America - Concacaf Gold Cup': 'World - CONCACAF Gold Cup',\n",
    "    'Europe - UEFA U21 Championship': 'Europe - Euro U21',\n",
    "    'Romania - Supercupa': 'Romania - Super Cup',\n",
    "    'Romania - Play-offs 1/2': 'Romania - Liga 1 - Play-offs',\n",
    "    'Australia - A-League Men': 'Australia - A-League',\n",
    "    'Portugal - Play-offs 1/2': 'Portugal - Primeira Liga - Play-offs',\n",
    "    'Europe - UEFA European Championship Qualifiers': 'Europe - Euro Qualification',\n",
    "    'Germany - Play-offs 1/2': 'Germany - Bundesliga Play-offs',\n",
    "    'Europe - UEFA Nations League': 'Europe - UEFA Nations League',\n",
    "    'Europe - UEFA Europa League': 'Europe - Europa League',\n",
    "    'England - FA Cup': 'England - FA Cup',\n",
    "    'Spain - Copa del Rey': 'Spain - Copa Del Rey',\n",
    "    'World - FIFA World Cup': 'World - FIFA World Cup',\n",
    "    'France - Coupe de France': 'France - Coupe de France',\n",
    "    'Spain - Super Cup': 'Spain - Super Cup',\n",
    "    'Italy - Super Cup': 'Italy - Super Cup',\n",
    "    'World - FIFA Club World Cup': 'World - FIFA Club World Cup',\n",
    "\n",
    "}\n",
    "\n",
    "print(len(name_mapping))\n",
    "print(len(leagues_opta))\n",
    "\n",
    "# Atualize os nomes das ligas em df05ht\n",
    "df05ht['league'] = df05ht['league'].replace(name_mapping)\n"
   ]
  },
  {
   "cell_type": "code",
   "execution_count": 13,
   "metadata": {},
   "outputs": [
    {
     "name": "stdout",
     "output_type": "stream",
     "text": [
      "4090\n",
      "0    1192011\n",
      "1      51410\n",
      "Name: result, dtype: int64\n",
      "1243421\n"
     ]
    }
   ],
   "source": [
    "# # Define a variável alvo\n",
    "target = 'result'\n",
    "\n",
    "print(len(df05ht['match_id'].unique()))\n",
    "print(df05ht['result'].value_counts())\n",
    "print(len(df05ht))"
   ]
  },
  {
   "cell_type": "code",
   "execution_count": 14,
   "metadata": {},
   "outputs": [],
   "source": [
    "def convert_to_int_minutes(value):\n",
    "    if '+' in value:\n",
    "        # Separando o tempo base e o acréscimo\n",
    "        base_time, added_time = value.split('+')\n",
    "        added_minutes = int(added_time.split(':')[0])  # Ignorando os segundos, pegando apenas os minutos do acréscimo\n",
    "    else:\n",
    "        base_time = value\n",
    "        added_minutes = 0\n",
    "    \n",
    "    # Convertendo o tempo base em minutos\n",
    "    base_minutes = int(base_time.split(':')[0]) if ':' in base_time else int(base_time)\n",
    "    \n",
    "    # Somando os minutos\n",
    "    total_minutes = base_minutes + added_minutes\n",
    "    return total_minutes\n",
    "\n",
    "\n",
    "# Aplicando a função para converter os minutos\n",
    "df05ht['minute'] = df05ht['minute'].apply(convert_to_int_minutes)"
   ]
  },
  {
   "cell_type": "code",
   "execution_count": 15,
   "metadata": {},
   "outputs": [
    {
     "name": "stdout",
     "output_type": "stream",
     "text": [
      "[ 0  1  2  3  4  5  6  7  8  9 10 11 12 13 14 15 16 17 18 19 20 21 22 23\n",
      " 24 25 26 27 28 29 30 31 32 33 34 35 36 37 38 39 40 41 42 43 44 45 46 47\n",
      " 48 49 50 51 52 53 54 55 56 57 58 59 60 61 63 64 65 66 71 93]\n",
      "[ 0  1  2  3  4  5  6  7  8  9 10 11 12 13 14 15 16 17 18 19 20 21 22 23\n",
      " 24 25 26 27 28 29 30 31 32 33 34 35 36 37 38 39 40 41 42 43 44 45 46 47\n",
      " 48 49 50 51 52 53 54 55 56 57]\n"
     ]
    },
    {
     "data": {
      "text/plain": [
       "(1243207, 24)"
      ]
     },
     "execution_count": 15,
     "metadata": {},
     "output_type": "execute_result"
    }
   ],
   "source": [
    "# elementos que ocorreram erro na hora de coletar os dados (gap de minutos)\n",
    "print(df05ht['minute'].sort_values().unique())\n",
    "# [ 0,  1,  2,  3,  4,  5,  6,  7,  8,  9, 10, 11, 12, 13, 14, 15, 16,\n",
    "    #    17, 18, 19, 20, 21, 22, 23, 24, 25, 26, 27, 28, 29, 30, 31, 32, 33,\n",
    "    #    34, 35, 36, 37, 38, 39, 40, 41, 42, 43, 44, 45, 46, 47, 48, 49, 50,\n",
    "    #    51, 52, 53, 54, 55, 56, 57, 66, 71]\n",
    "\n",
    "elements_drops = df05ht.query('minute > 57').index.tolist()\n",
    "df05ht.drop(elements_drops, inplace=True)\n",
    "\n",
    "print(df05ht['minute'].sort_values().unique())\n",
    "df05ht.shape"
   ]
  },
  {
   "cell_type": "code",
   "execution_count": 16,
   "metadata": {},
   "outputs": [],
   "source": [
    "# df05ht.to_csv('data_live_scores_preproced.csv', index=False)"
   ]
  },
  {
   "cell_type": "code",
   "execution_count": 17,
   "metadata": {},
   "outputs": [
    {
     "data": {
      "text/plain": [
       "['England - Community Shield',\n",
       " 'Germany - Bundesliga Play-offs',\n",
       " 'Italy - Super Cup',\n",
       " 'Romania - Super Cup',\n",
       " 'Romania - Liga 1 - Play-offs',\n",
       " 'Spain - Super Cup',\n",
       " 'Europe - Uefa Super Cup',\n",
       " 'Romania - Super Cup',\n",
       " 'Germany - Super Cup',\n",
       " 'Portugal - Primeira Liga - Play-offs',\n",
       " 'Italy - Super Cup',\n",
       " 'Germany - Bundesliga Play-offs']"
      ]
     },
     "execution_count": 17,
     "metadata": {},
     "output_type": "execute_result"
    }
   ],
   "source": [
    "# 1. Identify leagues with only one unique value in 'result' column\n",
    "single_value_leagues = df05ht.groupby('league').apply(lambda x: len(x['result'].unique()) == 1)\n",
    "\n",
    "# 2. Identify leagues with fewer than 100 matches\n",
    "few_matches_leagues = df05ht['league'].value_counts()\n",
    "few_matches_leagues = few_matches_leagues[few_matches_leagues < 100].index.tolist()\n",
    "\n",
    "# Combine the lists of leagues to drop\n",
    "leagues_to_drop = single_value_leagues[single_value_leagues].index.tolist() + few_matches_leagues\n",
    "\n",
    "# Drop the identified leagues\n",
    "filtered_data = df05ht[~df05ht['league'].isin(leagues_to_drop)]\n",
    "\n",
    "# 3. Balance the 'result' column for each remaining league\n",
    "balanced_data = []\n",
    "for league in filtered_data['league'].unique():\n",
    "    league_data = filtered_data[filtered_data['league'] == league]\n",
    "    min_count = league_data['result'].value_counts().min()\n",
    "    \n",
    "    # Sample 'min_count' examples from each result value\n",
    "    balanced_samples = [league_data[league_data['result'] == result_val].sample(min_count, random_state=42) for result_val in [0, 1]]\n",
    "    balanced_data.extend(balanced_samples)\n",
    "\n",
    "# Combine the balanced data samples\n",
    "balanced_data = pd.concat(balanced_data, axis=0)\n",
    "balanced_data.dropna(inplace=True)\n",
    "\n",
    "# Display the first few rows of the balanced data and the list of dropped leagues\n",
    "leagues_to_drop\n"
   ]
  },
  {
   "cell_type": "code",
   "execution_count": 18,
   "metadata": {},
   "outputs": [
    {
     "data": {
      "text/plain": [
       "(102601, 24)"
      ]
     },
     "execution_count": 18,
     "metadata": {},
     "output_type": "execute_result"
    }
   ],
   "source": [
    "df = balanced_data.copy()\n",
    "df.shape"
   ]
  },
  {
   "cell_type": "code",
   "execution_count": 19,
   "metadata": {},
   "outputs": [
    {
     "data": {
      "image/png": "[encoded data removed]",
      "text/plain": [
       "<Figure size 1080x720 with 1 Axes>"
      ]
     },
     "metadata": {
      "needs_background": "light"
     },
     "output_type": "display_data"
    }
   ],
   "source": [
    "# Group the data by league and result and get the size of each group\n",
    "league_distribution = df.groupby(['league', 'result']).size().unstack().fillna(0)\n",
    "\n",
    "# Sort the leagues based on the total number of games\n",
    "sorted_leagues = league_distribution.sum(axis=1).sort_values(ascending=False).head(100).index\n",
    "\n",
    "# Plot\n",
    "plt.figure(figsize=(15, 10))\n",
    "league_distribution.loc[sorted_leagues].plot(kind='bar', stacked=True, ax=plt.gca())\n",
    "plt.title('Distribution of \"result\" for Each League')\n",
    "plt.ylabel('Number of Games')\n",
    "plt.xlabel('League')\n",
    "plt.tight_layout()\n",
    "plt.xticks(rotation=90)\n",
    "plt.show()\n"
   ]
  },
  {
   "cell_type": "code",
   "execution_count": 20,
   "metadata": {},
   "outputs": [
    {
     "data": {
      "text/plain": [
       "1    51301\n",
       "0    51300\n",
       "Name: result, dtype: int64"
      ]
     },
     "execution_count": 20,
     "metadata": {},
     "output_type": "execute_result"
    }
   ],
   "source": [
    "df['result'].value_counts()"
   ]
  },
  {
   "cell_type": "code",
   "execution_count": 21,
   "metadata": {},
   "outputs": [
    {
     "data": {
      "text/plain": [
       "(102601, 24)"
      ]
     },
     "execution_count": 21,
     "metadata": {},
     "output_type": "execute_result"
    }
   ],
   "source": [
    "df.shape"
   ]
  },
  {
   "cell_type": "code",
   "execution_count": 22,
   "metadata": {},
   "outputs": [],
   "source": [
    "# df.to_csv('data_live_scores_balanced.csv', index=False)"
   ]
  },
  {
   "cell_type": "code",
   "execution_count": 23,
   "metadata": {},
   "outputs": [],
   "source": [
    "\n",
    "\n",
    "# Separando os dados em características e variável alvo\n",
    "X = df.drop(columns=['result', 'homeTeam', 'awayTeam', 'match_id'])\n",
    "y = df['result']\n",
    "\n",
    "# Definindo as colunas numéricas e categóricas\n",
    "numeric_features = X.select_dtypes(exclude=['object']).columns.tolist()\n",
    "categorical_features = ['league']\n",
    "\n",
    "# Criando o transformador de colunas\n",
    "preprocessor = ColumnTransformer(\n",
    "    transformers=[\n",
    "        ('num', StandardScaler(), numeric_features),\n",
    "        ('cat', OneHotEncoder(drop='first'), categorical_features)\n",
    "    ])\n",
    "\n",
    "# Aplicando as transformações\n",
    "X = preprocessor.fit_transform(X)\n",
    "\n",
    "with open(f'../models/preprocessor.pickle', 'wb') as f:\n",
    "    pickle.dump(preprocessor, f)"
   ]
  },
  {
   "cell_type": "code",
   "execution_count": 25,
   "metadata": {},
   "outputs": [],
   "source": [
    "X_train, X_test, y_train, y_test = train_test_split(X, y, test_size=0.20,train_size=0.80, random_state=42)"
   ]
  },
  {
   "cell_type": "markdown",
   "metadata": {},
   "source": [
    "# Modeling"
   ]
  },
  {
   "cell_type": "markdown",
   "metadata": {},
   "source": [
    "## Automl h2o"
   ]
  },
  {
   "cell_type": "code",
   "execution_count": null,
   "metadata": {},
   "outputs": [],
   "source": [
    "\n",
    "\n",
    "# Inicializar o H2O\n",
    "h2o.init()\n",
    "\n",
    "# Convertendo dados do numpy para H2OFrame\n",
    "X_train_h2o = h2o.H2OFrame(pd.DataFrame(X_train, columns=[\"col_\" + str(i) for i in range(X_train.shape[1])]))\n",
    "X_test_h2o = h2o.H2OFrame(pd.DataFrame(X_test, columns=[\"col_\" + str(i) for i in range(X_test.shape[1])]))\n",
    "y_train_h2o = h2o.H2OFrame(pd.DataFrame(y_train, columns=[\"result\"]))\n",
    "y_test_h2o = h2o.H2OFrame(pd.DataFrame(y_test, columns=[\"result\"]))\n",
    "\n",
    "# Convert Pandas DataFrame or NumPy array to H2OFrame\n",
    "X_train_h2o = h2o.H2OFrame(X_train)\n",
    "X_test_h2o = h2o.H2OFrame(X_test)\n",
    "\n",
    "y_train_df = y_train.to_frame()\n",
    "y_train_h2o = h2o.H2OFrame(y_train_df)\n",
    "y_train_h2o['result'] = y_train_h2o['result'].asfactor()\n",
    "\n",
    "y_test_df = y_test.to_frame()\n",
    "y_test_h2o = h2o.H2OFrame(y_test_df)\n",
    "y_test_h2o['result'] = y_test_h2o['result'].asfactor()\n",
    "\n",
    "# Check the shape again\n",
    "print(\"X_train_h2o shape:\", X_train_h2o.shape)\n",
    "print(\"y_train_h2o shape:\", y_train_h2o.shape)\n",
    "print(\"X_test_h2o shape:\", X_test_h2o.shape)\n",
    "print(\"y_test_h2o shape:\", y_test_h2o.shape)\n",
    "\n",
    "# Combine them back into one frame\n",
    "train_data = X_train_h2o.cbind(y_train_h2o)\n",
    "test_data = X_test_h2o.cbind(y_test_h2o)\n",
    "\n",
    "# Identify predictors and response\n",
    "x = train_data.columns\n",
    "\n",
    "y = \"result\"\n",
    "x.remove(y)\n",
    "\n",
    "# Run AutoML\n",
    "aml = H2OAutoML(max_models=20, seed=42)\n",
    "aml.train(x=x, y=y, training_frame=train_data)\n",
    "\n",
    "# View leaderboard\n",
    "lb = aml.leaderboard\n",
    "print(lb)"
   ]
  },
  {
   "cell_type": "code",
   "execution_count": 112,
   "metadata": {},
   "outputs": [
    {
     "data": {
      "image/png": "[encoded data removed]",
      "text/plain": [
       "<Figure size 504x360 with 2 Axes>"
      ]
     },
     "metadata": {
      "needs_background": "light"
     },
     "output_type": "display_data"
    }
   ],
   "source": [
    "\n",
    "\n",
    "loaded_model = h2o.load_model('model_automl')\n",
    "y_pred_prob = loaded_model.predict(X_test_h2o)\n",
    "y_pred = h2o.as_list(y_pred_prob)\n",
    "y_pred_prob = y_pred['predict'].tolist()\n",
    "\n",
    "# Falsos positivos, verdadeiros positivos e limiares\n",
    "fpr, tpr, thresholds = roc_curve(y_test, y_pred_prob)\n",
    "\n",
    "# Área sob a curva\n",
    "roc_auc = auc(fpr, tpr)\n",
    "\n",
    "plt.figure()\n",
    "plt.plot(fpr, tpr, color='darkorange', lw=1, label='ROC curve (area = %0.2f)' % roc_auc)\n",
    "plt.xlim([0.0, 1.0])\n",
    "plt.ylim([0.0, 1.05])\n",
    "plt.xlabel('False Positive Rate')\n",
    "plt.ylabel('True Positive Rate')\n",
    "plt.title('Receiver Operating Characteristic')\n",
    "plt.legend(loc=\"lower right\")\n",
    "plt.show()\n",
    "\n",
    "# Matriz de confusão\n",
    "y_pred_round = [round(value) for value in y_pred_prob]\n",
    "cm = confusion_matrix(y_test.to_list(), y_pred_round)\n",
    "\n",
    "plt.figure(figsize=(7, 5))\n",
    "sns.heatmap(cm, annot=True, cmap='Blues', fmt='g')\n",
    "plt.xlabel('Predicted')\n",
    "plt.ylabel('True')\n",
    "plt.show()"
   ]
  },
  {
   "cell_type": "markdown",
   "metadata": {},
   "source": [
    "## Random Forest"
   ]
  },
  {
   "cell_type": "code",
   "execution_count": null,
   "metadata": {},
   "outputs": [
    {
     "name": "stdout",
     "output_type": "stream",
     "text": [
      " Teste Acurácia do modelo Random Forest: 75.96%\n",
      "Erro quadrático médio: 0.2404366258954242\n",
      "Treino Acurácia do modelo Random Forest: 86.55%\n"
     ]
    }
   ],
   "source": [
    "# teste com random forest foi feito mas não atingiu uma boa espectativa \n",
    "# # Criando o modelo base\n",
    "# # rfc = RandomForestClassifier(n_estimators=1000,max_depth=40, min_samples_leaf=1, min_samples_split=30, max_features=None, random_state=1, n_jobs=-1)\n",
    "# rfc = RandomForestClassifier(n_estimators=100, random_state=42, n_jobs=-1)\n",
    "\n",
    "# # # # Treinando o modelo com os melhores hiperparâmetros\n",
    "# rfc.fit(X_train, y_train)\n",
    "\n",
    "# predictions = rfc.predict(X_test)\n",
    "# accuracy = accuracy_score(y_test, predictions)\n",
    "\n",
    "\n",
    "# print(f\" Teste Acurácia do modelo Random Forest: {accuracy * 100:.2f}%\")\n",
    "# print(f\"Erro quadrático médio: {mean_squared_error(y_test, predictions)}\")\n",
    "# print(f\"Treino Acurácia do modelo Random Forest: {rfc.score(X_train, y_train) * 100:.2f}%\")\n",
    "\n",
    "# with open(f'random_forestht.pkl', 'wb') as f:\n",
    "#     pickle.dump(rfc, f)"
   ]
  },
  {
   "cell_type": "markdown",
   "metadata": {},
   "source": [
    "## Neural Network Keras"
   ]
  },
  {
   "cell_type": "code",
   "execution_count": 26,
   "metadata": {},
   "outputs": [
    {
     "name": "stdout",
     "output_type": "stream",
     "text": [
      "642/642 [==============================] - 0s 605us/step\n",
      "Accuracy on training set: 0.8221490979194641\n",
      "Accuracy on test set: 0.7621461153030396\n"
     ]
    },
    {
     "data": {
      "image/png": "[encoded data removed]",
      "text/plain": [
       "<Figure size 432x288 with 1 Axes>"
      ]
     },
     "metadata": {
      "needs_background": "light"
     },
     "output_type": "display_data"
    }
   ],
   "source": [
    "predictions = []\n",
    "  \n",
    "model = Sequential()\n",
    "model.add(Dense(128, activation='relu', input_shape=(X_train.shape[1],)))\n",
    "# model.add(Dropout(0.1))\n",
    "model.add(Dense(64, activation='relu'))\n",
    "# model.add(Dense(256, activation='relu'))\n",
    "# model.add(Dropout(0.1))\n",
    "model.add(Dense(1, activation='sigmoid'))  # Binary classification\n",
    "\n",
    "\n",
    "# Compilando o modelo\n",
    "optimizer = Adam(learning_rate=0.001)\n",
    "model.compile(loss='binary_crossentropy',\n",
    "            optimizer=optimizer,\n",
    "            metrics=['accuracy', 'Precision', 'Recall'])\n",
    "\n",
    "\n",
    "\n",
    "\n",
    "early_stop = EarlyStopping(monitor='val_loss', patience=50)\n",
    "\n",
    "# Treinando o modelo\n",
    "history = model.fit(X_train, y_train, epochs=500, batch_size=64, validation_data=(X_test, y_test), callbacks=[early_stop], verbose=0)\n",
    "# history = model.fit(X_train, y_train, epochs=500, batch_size=64, validation_data=(X_test, y_test), verbose=1)\n",
    "\n",
    "\n",
    "\n",
    "# Faz a predição utilizando os dados de teste\n",
    "predictions = model.predict(X_test)\n",
    "predictions = np.where(predictions > 0.5, 1, 0)\n",
    "\n",
    "# Avaliando a acurácia do modelo no conjunto de treinamento e conjunto de teste\n",
    "train_acc = model.evaluate(X_train, y_train, verbose=0)[1]\n",
    "test_acc = model.evaluate(X_test, y_test, verbose=0)[1]\n",
    "print('Accuracy on training set:', train_acc)\n",
    "print('Accuracy on test set:', test_acc)\n",
    "\n",
    "# Plotando a curva de aprendizado\n",
    "plt.plot(history.history['accuracy'])\n",
    "plt.plot(history.history['val_accuracy'])\n",
    "plt.title('Curva de Aprendizado')\n",
    "plt.ylabel('Acurácia')\n",
    "plt.xlabel('Época')\n",
    "plt.legend(['Treino', 'Teste'], loc='upper left')\n",
    "plt.show()\n",
    "\n",
    "# save model .h5\n",
    "model.save('model_redeht.h5')"
   ]
  },
  {
   "cell_type": "code",
   "execution_count": null,
   "metadata": {},
   "outputs": [
    {
     "name": "stdout",
     "output_type": "stream",
     "text": [
      "H2O session _sid_bc9c closed.\n"
     ]
    }
   ],
   "source": [
    "# h2o.cluster().shutdown()\n"
   ]
  },
  {
   "cell_type": "code",
   "execution_count": null,
   "metadata": {},
   "outputs": [],
   "source": []
  },
  {
   "cell_type": "markdown",
   "metadata": {},
   "source": [
    "# In pratice"
   ]
  },
  {
   "cell_type": "code",
   "execution_count": 38,
   "metadata": {},
   "outputs": [
    {
     "name": "stdout",
     "output_type": "stream",
     "text": [
      "Checking whether there is an H2O instance running at http://localhost:54321. connected.\n"
     ]
    },
    {
     "data": {
      "text/html": [
       "\n",
       "<style>\n",
       "\n",
       "#h2o-table-4.h2o-container {\n",
       "  overflow-x: auto;\n",
       "}\n",
       "#h2o-table-4 .h2o-table {\n",
       "  /* width: 100%; */\n",
       "  margin-top: 1em;\n",
       "  margin-bottom: 1em;\n",
       "}\n",
       "#h2o-table-4 .h2o-table caption {\n",
       "  white-space: nowrap;\n",
       "  caption-side: top;\n",
       "  text-align: left;\n",
       "  /* margin-left: 1em; */\n",
       "  margin: 0;\n",
       "  font-size: larger;\n",
       "}\n",
       "#h2o-table-4 .h2o-table thead {\n",
       "  white-space: nowrap; \n",
       "  position: sticky;\n",
       "  top: 0;\n",
       "  box-shadow: 0 -1px inset;\n",
       "}\n",
       "#h2o-table-4 .h2o-table tbody {\n",
       "  overflow: auto;\n",
       "}\n",
       "#h2o-table-4 .h2o-table th,\n",
       "#h2o-table-4 .h2o-table td {\n",
       "  text-align: right;\n",
       "  /* border: 1px solid; */\n",
       "}\n",
       "#h2o-table-4 .h2o-table tr:nth-child(even) {\n",
       "  /* background: #F5F5F5 */\n",
       "}\n",
       "\n",
       "</style>      \n",
       "<div id=\"h2o-table-4\" class=\"h2o-container\">\n",
       "  <table class=\"h2o-table\">\n",
       "    <caption></caption>\n",
       "    <thead></thead>\n",
       "    <tbody><tr><td>H2O_cluster_uptime:</td>\n",
       "<td>25 mins 32 secs</td></tr>\n",
       "<tr><td>H2O_cluster_timezone:</td>\n",
       "<td>America/Sao_Paulo</td></tr>\n",
       "<tr><td>H2O_data_parsing_timezone:</td>\n",
       "<td>UTC</td></tr>\n",
       "<tr><td>H2O_cluster_version:</td>\n",
       "<td>3.42.0.3</td></tr>\n",
       "<tr><td>H2O_cluster_version_age:</td>\n",
       "<td>24 days</td></tr>\n",
       "<tr><td>H2O_cluster_name:</td>\n",
       "<td>H2O_from_python_Pichau_86d7qv</td></tr>\n",
       "<tr><td>H2O_cluster_total_nodes:</td>\n",
       "<td>1</td></tr>\n",
       "<tr><td>H2O_cluster_free_memory:</td>\n",
       "<td>5.741 Gb</td></tr>\n",
       "<tr><td>H2O_cluster_total_cores:</td>\n",
       "<td>12</td></tr>\n",
       "<tr><td>H2O_cluster_allowed_cores:</td>\n",
       "<td>12</td></tr>\n",
       "<tr><td>H2O_cluster_status:</td>\n",
       "<td>locked, healthy</td></tr>\n",
       "<tr><td>H2O_connection_url:</td>\n",
       "<td>http://localhost:54321</td></tr>\n",
       "<tr><td>H2O_connection_proxy:</td>\n",
       "<td>{\"http\": null, \"https\": null}</td></tr>\n",
       "<tr><td>H2O_internal_security:</td>\n",
       "<td>False</td></tr>\n",
       "<tr><td>Python_version:</td>\n",
       "<td>3.10.1 final</td></tr></tbody>\n",
       "  </table>\n",
       "</div>\n"
      ],
      "text/plain": [
       "--------------------------  -----------------------------\n",
       "H2O_cluster_uptime:         25 mins 32 secs\n",
       "H2O_cluster_timezone:       America/Sao_Paulo\n",
       "H2O_data_parsing_timezone:  UTC\n",
       "H2O_cluster_version:        3.42.0.3\n",
       "H2O_cluster_version_age:    24 days\n",
       "H2O_cluster_name:           H2O_from_python_Pichau_86d7qv\n",
       "H2O_cluster_total_nodes:    1\n",
       "H2O_cluster_free_memory:    5.741 Gb\n",
       "H2O_cluster_total_cores:    12\n",
       "H2O_cluster_allowed_cores:  12\n",
       "H2O_cluster_status:         locked, healthy\n",
       "H2O_connection_url:         http://localhost:54321\n",
       "H2O_connection_proxy:       {\"http\": null, \"https\": null}\n",
       "H2O_internal_security:      False\n",
       "Python_version:             3.10.1 final\n",
       "--------------------------  -----------------------------"
      ]
     },
     "metadata": {},
     "output_type": "display_data"
    },
    {
     "name": "stdout",
     "output_type": "stream",
     "text": [
      "Parse progress: |████████████████████████████████████████████████████████████████| (done) 100%\n",
      "stackedensemble prediction progress: |███████████████████████████████████████████| (done) 100%\n"
     ]
    },
    {
     "data": {
      "text/html": [
       "<table class='dataframe'>\n",
       "<thead>\n",
       "<tr><th style=\"text-align: right;\">  predict</th><th style=\"text-align: right;\">      p0</th><th style=\"text-align: right;\">      p1</th></tr>\n",
       "</thead>\n",
       "<tbody>\n",
       "<tr><td style=\"text-align: right;\">        0</td><td style=\"text-align: right;\">0.679243</td><td style=\"text-align: right;\">0.320757</td></tr>\n",
       "</tbody>\n",
       "</table><pre style='font-size: smaller; margin-bottom: 1em;'>[1 row x 3 columns]</pre>"
      ],
      "text/plain": [
       "  predict        p0        p1\n",
       "---------  --------  --------\n",
       "        0  0.679243  0.320757\n",
       "[1 row x 3 columns]\n"
      ]
     },
     "execution_count": 38,
     "metadata": {},
     "output_type": "execute_result"
    }
   ],
   "source": [
    "h2o.init()\n",
    "loaded_model = h2o.load_model(\"C:/Users/Pichau/Desktop/eo-fut-live/models/model_automl\")\n",
    "Xht = df.drop(columns=['result', 'homeTeam', 'awayTeam', 'match_id']).head(1699).tail(1)\n",
    "Xht = preprocessor.transform(Xht)\n",
    "Xht = h2o.H2OFrame(Xht)\n",
    "loaded_model.predict(Xht)"
   ]
  },
  {
   "cell_type": "code",
   "execution_count": 42,
   "metadata": {},
   "outputs": [
    {
     "name": "stdout",
     "output_type": "stream",
     "text": [
      "stackedensemble prediction progress: |███████████████████████████████████████████| (done) 100%\n"
     ]
    },
    {
     "data": {
      "text/plain": [
       "0.3207566074967369"
      ]
     },
     "execution_count": 42,
     "metadata": {},
     "output_type": "execute_result"
    }
   ],
   "source": [
    "h2o.as_list(loaded_model.predict(Xht)).loc[0, 'p1']"
   ]
  }
 ],
 "metadata": {
  "kernelspec": {
   "display_name": "Python 3",
   "language": "python",
   "name": "python3"
  },
  "language_info": {
   "codemirror_mode": {
    "name": "ipython",
    "version": 3
   },
   "file_extension": ".py",
   "mimetype": "text/x-python",
   "name": "python",
   "nbconvert_exporter": "python",
   "pygments_lexer": "ipython3",
   "version": "3.10.1"
  },
  "orig_nbformat": 4,
  "vscode": {
   "interpreter": {
    "hash": "369f2c481f4da34e4445cda3fffd2e751bd1c4d706f27375911949ba6bb62e1c"
   }
  }
 },
 "nbformat": 4,
 "nbformat_minor": 2
}
