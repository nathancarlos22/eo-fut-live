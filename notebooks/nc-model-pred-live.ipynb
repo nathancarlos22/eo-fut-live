{
 "cells": [
  {
   "cell_type": "markdown",
   "metadata": {},
   "source": [
    "# Imports and loads"
   ]
  },
  {
   "cell_type": "code",
   "execution_count": 54,
   "metadata": {},
   "outputs": [],
   "source": [
    "import pandas as pd\n",
    "import numpy as np\n",
    "import warnings\n",
    "import numpy as np\n",
    "import pandas as pd\n",
    "from keras.layers import Dense\n",
    "from keras.models import Sequential\n",
    "from sklearn.ensemble import RandomForestClassifier\n",
    "from sklearn.metrics import mean_squared_error\n",
    "from sklearn.model_selection import train_test_split\n",
    "from keras.optimizers import Adam\n",
    "import matplotlib.pyplot as plt\n",
    "import h2o\n",
    "\n",
    "from sklearn.preprocessing import StandardScaler, OneHotEncoder\n",
    "from sklearn.compose import ColumnTransformer\n",
    "import pickle\n",
    "from h2o.automl import H2OAutoML\n",
    "\n",
    "from sklearn.metrics import roc_curve, auc\n",
    "import matplotlib.pyplot as plt\n",
    "from sklearn.metrics import confusion_matrix\n",
    "import seaborn as sns\n",
    "from keras.callbacks import EarlyStopping\n",
    "\n",
    "warnings.filterwarnings('ignore')"
   ]
  },
  {
   "cell_type": "code",
   "execution_count": 55,
   "metadata": {},
   "outputs": [
    {
     "data": {
      "text/html": [
       "<div>\n",
       "<style scoped>\n",
       "    .dataframe tbody tr th:only-of-type {\n",
       "        vertical-align: middle;\n",
       "    }\n",
       "\n",
       "    .dataframe tbody tr th {\n",
       "        vertical-align: top;\n",
       "    }\n",
       "\n",
       "    .dataframe thead th {\n",
       "        text-align: right;\n",
       "    }\n",
       "</style>\n",
       "<table border=\"1\" class=\"dataframe\">\n",
       "  <thead>\n",
       "    <tr style=\"text-align: right;\">\n",
       "      <th></th>\n",
       "      <th>date</th>\n",
       "      <th>minute</th>\n",
       "      <th>homeTeam</th>\n",
       "      <th>awayTeam</th>\n",
       "      <th>league</th>\n",
       "      <th>corners_home</th>\n",
       "      <th>corners_away</th>\n",
       "      <th>redcards_home</th>\n",
       "      <th>redcards_away</th>\n",
       "      <th>shotsOffgoal_home</th>\n",
       "      <th>...</th>\n",
       "      <th>fouls_c_home</th>\n",
       "      <th>fouls_c_away</th>\n",
       "      <th>fouls_won_home</th>\n",
       "      <th>fouls_won_away</th>\n",
       "      <th>offsides_home</th>\n",
       "      <th>offsides_away</th>\n",
       "      <th>tackles_home</th>\n",
       "      <th>tackles_away</th>\n",
       "      <th>result</th>\n",
       "      <th>match_id</th>\n",
       "    </tr>\n",
       "  </thead>\n",
       "  <tbody>\n",
       "    <tr>\n",
       "      <th>0</th>\n",
       "      <td>2023-08-20</td>\n",
       "      <td>0:36</td>\n",
       "      <td>Aston Villa FC</td>\n",
       "      <td>Everton FC</td>\n",
       "      <td>England - Premier League</td>\n",
       "      <td>1.0</td>\n",
       "      <td>1.0</td>\n",
       "      <td>0.0</td>\n",
       "      <td>0.0</td>\n",
       "      <td>1.0</td>\n",
       "      <td>...</td>\n",
       "      <td>0.0</td>\n",
       "      <td>0.0</td>\n",
       "      <td>0.0</td>\n",
       "      <td>0.0</td>\n",
       "      <td>0.0</td>\n",
       "      <td>0.0</td>\n",
       "      <td>0.0</td>\n",
       "      <td>0.0</td>\n",
       "      <td>0</td>\n",
       "      <td></td>\n",
       "    </tr>\n",
       "    <tr>\n",
       "      <th>1</th>\n",
       "      <td>2023-08-20</td>\n",
       "      <td>0:53</td>\n",
       "      <td>Aston Villa FC</td>\n",
       "      <td>Everton FC</td>\n",
       "      <td>England - Premier League</td>\n",
       "      <td>1.0</td>\n",
       "      <td>0.0</td>\n",
       "      <td>0.0</td>\n",
       "      <td>0.0</td>\n",
       "      <td>1.0</td>\n",
       "      <td>...</td>\n",
       "      <td>0.0</td>\n",
       "      <td>0.0</td>\n",
       "      <td>0.0</td>\n",
       "      <td>0.0</td>\n",
       "      <td>0.0</td>\n",
       "      <td>0.0</td>\n",
       "      <td>0.0</td>\n",
       "      <td>0.0</td>\n",
       "      <td>0</td>\n",
       "      <td>2023-08-20-Aston Villa FC-Everton FC</td>\n",
       "    </tr>\n",
       "    <tr>\n",
       "      <th>2</th>\n",
       "      <td>2023-08-20</td>\n",
       "      <td>2:00</td>\n",
       "      <td>Aston Villa FC</td>\n",
       "      <td>Everton FC</td>\n",
       "      <td>England - Premier League</td>\n",
       "      <td>2.0</td>\n",
       "      <td>0.0</td>\n",
       "      <td>0.0</td>\n",
       "      <td>0.0</td>\n",
       "      <td>1.0</td>\n",
       "      <td>...</td>\n",
       "      <td>0.0</td>\n",
       "      <td>0.0</td>\n",
       "      <td>0.0</td>\n",
       "      <td>0.0</td>\n",
       "      <td>0.0</td>\n",
       "      <td>0.0</td>\n",
       "      <td>0.0</td>\n",
       "      <td>0.0</td>\n",
       "      <td>0</td>\n",
       "      <td>2023-08-20-Aston Villa FC-Everton FC</td>\n",
       "    </tr>\n",
       "    <tr>\n",
       "      <th>3</th>\n",
       "      <td>2023-08-20</td>\n",
       "      <td>3:07</td>\n",
       "      <td>Aston Villa FC</td>\n",
       "      <td>Everton FC</td>\n",
       "      <td>England - Premier League</td>\n",
       "      <td>2.0</td>\n",
       "      <td>0.0</td>\n",
       "      <td>0.0</td>\n",
       "      <td>0.0</td>\n",
       "      <td>1.0</td>\n",
       "      <td>...</td>\n",
       "      <td>0.0</td>\n",
       "      <td>0.0</td>\n",
       "      <td>0.0</td>\n",
       "      <td>0.0</td>\n",
       "      <td>0.0</td>\n",
       "      <td>0.0</td>\n",
       "      <td>0.0</td>\n",
       "      <td>0.0</td>\n",
       "      <td>0</td>\n",
       "      <td>2023-08-20-Aston Villa FC-Everton FC</td>\n",
       "    </tr>\n",
       "    <tr>\n",
       "      <th>4</th>\n",
       "      <td>2023-08-20</td>\n",
       "      <td>4:13</td>\n",
       "      <td>Aston Villa FC</td>\n",
       "      <td>Everton FC</td>\n",
       "      <td>England - Premier League</td>\n",
       "      <td>2.0</td>\n",
       "      <td>0.0</td>\n",
       "      <td>0.0</td>\n",
       "      <td>0.0</td>\n",
       "      <td>1.0</td>\n",
       "      <td>...</td>\n",
       "      <td>0.0</td>\n",
       "      <td>0.0</td>\n",
       "      <td>0.0</td>\n",
       "      <td>0.0</td>\n",
       "      <td>0.0</td>\n",
       "      <td>0.0</td>\n",
       "      <td>0.0</td>\n",
       "      <td>0.0</td>\n",
       "      <td>0</td>\n",
       "      <td>2023-08-20-Aston Villa FC-Everton FC</td>\n",
       "    </tr>\n",
       "    <tr>\n",
       "      <th>...</th>\n",
       "      <td>...</td>\n",
       "      <td>...</td>\n",
       "      <td>...</td>\n",
       "      <td>...</td>\n",
       "      <td>...</td>\n",
       "      <td>...</td>\n",
       "      <td>...</td>\n",
       "      <td>...</td>\n",
       "      <td>...</td>\n",
       "      <td>...</td>\n",
       "      <td>...</td>\n",
       "      <td>...</td>\n",
       "      <td>...</td>\n",
       "      <td>...</td>\n",
       "      <td>...</td>\n",
       "      <td>...</td>\n",
       "      <td>...</td>\n",
       "      <td>...</td>\n",
       "      <td>...</td>\n",
       "      <td>...</td>\n",
       "      <td>...</td>\n",
       "    </tr>\n",
       "    <tr>\n",
       "      <th>141584</th>\n",
       "      <td>2023-09-23</td>\n",
       "      <td>2:05</td>\n",
       "      <td>Saint Mirren FC</td>\n",
       "      <td>Heart of Midlothian FC</td>\n",
       "      <td>Scotland - Premiership</td>\n",
       "      <td>0.0</td>\n",
       "      <td>0.0</td>\n",
       "      <td>0.0</td>\n",
       "      <td>0.0</td>\n",
       "      <td>0.0</td>\n",
       "      <td>...</td>\n",
       "      <td>0.0</td>\n",
       "      <td>0.0</td>\n",
       "      <td>0.0</td>\n",
       "      <td>0.0</td>\n",
       "      <td>0.0</td>\n",
       "      <td>0.0</td>\n",
       "      <td>2.0</td>\n",
       "      <td>0.0</td>\n",
       "      <td>1</td>\n",
       "      <td>2023-09-23-Saint Mirren FC-Heart of Midlothian FC</td>\n",
       "    </tr>\n",
       "    <tr>\n",
       "      <th>141585</th>\n",
       "      <td>2023-09-23</td>\n",
       "      <td>3:14</td>\n",
       "      <td>Saint Mirren FC</td>\n",
       "      <td>Heart of Midlothian FC</td>\n",
       "      <td>Scotland - Premiership</td>\n",
       "      <td>0.0</td>\n",
       "      <td>0.0</td>\n",
       "      <td>0.0</td>\n",
       "      <td>0.0</td>\n",
       "      <td>0.0</td>\n",
       "      <td>...</td>\n",
       "      <td>1.0</td>\n",
       "      <td>0.0</td>\n",
       "      <td>0.0</td>\n",
       "      <td>1.0</td>\n",
       "      <td>0.0</td>\n",
       "      <td>0.0</td>\n",
       "      <td>2.0</td>\n",
       "      <td>0.0</td>\n",
       "      <td>1</td>\n",
       "      <td>2023-09-23-Saint Mirren FC-Heart of Midlothian FC</td>\n",
       "    </tr>\n",
       "    <tr>\n",
       "      <th>141586</th>\n",
       "      <td>2023-09-23</td>\n",
       "      <td>4:24</td>\n",
       "      <td>Saint Mirren FC</td>\n",
       "      <td>Heart of Midlothian FC</td>\n",
       "      <td>Scotland - Premiership</td>\n",
       "      <td>0.0</td>\n",
       "      <td>0.0</td>\n",
       "      <td>0.0</td>\n",
       "      <td>0.0</td>\n",
       "      <td>0.0</td>\n",
       "      <td>...</td>\n",
       "      <td>1.0</td>\n",
       "      <td>0.0</td>\n",
       "      <td>0.0</td>\n",
       "      <td>1.0</td>\n",
       "      <td>0.0</td>\n",
       "      <td>0.0</td>\n",
       "      <td>2.0</td>\n",
       "      <td>0.0</td>\n",
       "      <td>1</td>\n",
       "      <td>2023-09-23-Saint Mirren FC-Heart of Midlothian FC</td>\n",
       "    </tr>\n",
       "    <tr>\n",
       "      <th>141587</th>\n",
       "      <td>2023-09-23</td>\n",
       "      <td>5:33</td>\n",
       "      <td>Saint Mirren FC</td>\n",
       "      <td>Heart of Midlothian FC</td>\n",
       "      <td>Scotland - Premiership</td>\n",
       "      <td>0.0</td>\n",
       "      <td>0.0</td>\n",
       "      <td>0.0</td>\n",
       "      <td>0.0</td>\n",
       "      <td>0.0</td>\n",
       "      <td>...</td>\n",
       "      <td>1.0</td>\n",
       "      <td>0.0</td>\n",
       "      <td>0.0</td>\n",
       "      <td>1.0</td>\n",
       "      <td>0.0</td>\n",
       "      <td>0.0</td>\n",
       "      <td>2.0</td>\n",
       "      <td>0.0</td>\n",
       "      <td>1</td>\n",
       "      <td>2023-09-23-Saint Mirren FC-Heart of Midlothian FC</td>\n",
       "    </tr>\n",
       "    <tr>\n",
       "      <th>141588</th>\n",
       "      <td>2023-09-23</td>\n",
       "      <td>6:42</td>\n",
       "      <td>Saint Mirren FC</td>\n",
       "      <td>Heart of Midlothian FC</td>\n",
       "      <td>Scotland - Premiership</td>\n",
       "      <td>0.0</td>\n",
       "      <td>0.0</td>\n",
       "      <td>0.0</td>\n",
       "      <td>0.0</td>\n",
       "      <td>0.0</td>\n",
       "      <td>...</td>\n",
       "      <td>1.0</td>\n",
       "      <td>0.0</td>\n",
       "      <td>0.0</td>\n",
       "      <td>1.0</td>\n",
       "      <td>0.0</td>\n",
       "      <td>0.0</td>\n",
       "      <td>2.0</td>\n",
       "      <td>0.0</td>\n",
       "      <td>1</td>\n",
       "      <td>2023-09-23-Saint Mirren FC-Heart of Midlothian FC</td>\n",
       "    </tr>\n",
       "  </tbody>\n",
       "</table>\n",
       "<p>141589 rows × 27 columns</p>\n",
       "</div>"
      ],
      "text/plain": [
       "              date minute         homeTeam                awayTeam  \\\n",
       "0       2023-08-20   0:36   Aston Villa FC              Everton FC   \n",
       "1       2023-08-20   0:53   Aston Villa FC              Everton FC   \n",
       "2       2023-08-20   2:00   Aston Villa FC              Everton FC   \n",
       "3       2023-08-20   3:07   Aston Villa FC              Everton FC   \n",
       "4       2023-08-20   4:13   Aston Villa FC              Everton FC   \n",
       "...            ...    ...              ...                     ...   \n",
       "141584  2023-09-23   2:05  Saint Mirren FC  Heart of Midlothian FC   \n",
       "141585  2023-09-23   3:14  Saint Mirren FC  Heart of Midlothian FC   \n",
       "141586  2023-09-23   4:24  Saint Mirren FC  Heart of Midlothian FC   \n",
       "141587  2023-09-23   5:33  Saint Mirren FC  Heart of Midlothian FC   \n",
       "141588  2023-09-23   6:42  Saint Mirren FC  Heart of Midlothian FC   \n",
       "\n",
       "                          league  corners_home  corners_away  redcards_home  \\\n",
       "0       England - Premier League           1.0           1.0            0.0   \n",
       "1       England - Premier League           1.0           0.0            0.0   \n",
       "2       England - Premier League           2.0           0.0            0.0   \n",
       "3       England - Premier League           2.0           0.0            0.0   \n",
       "4       England - Premier League           2.0           0.0            0.0   \n",
       "...                          ...           ...           ...            ...   \n",
       "141584    Scotland - Premiership           0.0           0.0            0.0   \n",
       "141585    Scotland - Premiership           0.0           0.0            0.0   \n",
       "141586    Scotland - Premiership           0.0           0.0            0.0   \n",
       "141587    Scotland - Premiership           0.0           0.0            0.0   \n",
       "141588    Scotland - Premiership           0.0           0.0            0.0   \n",
       "\n",
       "        redcards_away  shotsOffgoal_home  ...  fouls_c_home  fouls_c_away  \\\n",
       "0                 0.0                1.0  ...           0.0           0.0   \n",
       "1                 0.0                1.0  ...           0.0           0.0   \n",
       "2                 0.0                1.0  ...           0.0           0.0   \n",
       "3                 0.0                1.0  ...           0.0           0.0   \n",
       "4                 0.0                1.0  ...           0.0           0.0   \n",
       "...               ...                ...  ...           ...           ...   \n",
       "141584            0.0                0.0  ...           0.0           0.0   \n",
       "141585            0.0                0.0  ...           1.0           0.0   \n",
       "141586            0.0                0.0  ...           1.0           0.0   \n",
       "141587            0.0                0.0  ...           1.0           0.0   \n",
       "141588            0.0                0.0  ...           1.0           0.0   \n",
       "\n",
       "        fouls_won_home  fouls_won_away  offsides_home  offsides_away  \\\n",
       "0                  0.0             0.0            0.0            0.0   \n",
       "1                  0.0             0.0            0.0            0.0   \n",
       "2                  0.0             0.0            0.0            0.0   \n",
       "3                  0.0             0.0            0.0            0.0   \n",
       "4                  0.0             0.0            0.0            0.0   \n",
       "...                ...             ...            ...            ...   \n",
       "141584             0.0             0.0            0.0            0.0   \n",
       "141585             0.0             1.0            0.0            0.0   \n",
       "141586             0.0             1.0            0.0            0.0   \n",
       "141587             0.0             1.0            0.0            0.0   \n",
       "141588             0.0             1.0            0.0            0.0   \n",
       "\n",
       "        tackles_home  tackles_away  result  \\\n",
       "0                0.0           0.0       0   \n",
       "1                0.0           0.0       0   \n",
       "2                0.0           0.0       0   \n",
       "3                0.0           0.0       0   \n",
       "4                0.0           0.0       0   \n",
       "...              ...           ...     ...   \n",
       "141584           2.0           0.0       1   \n",
       "141585           2.0           0.0       1   \n",
       "141586           2.0           0.0       1   \n",
       "141587           2.0           0.0       1   \n",
       "141588           2.0           0.0       1   \n",
       "\n",
       "                                                 match_id  \n",
       "0                                                          \n",
       "1                    2023-08-20-Aston Villa FC-Everton FC  \n",
       "2                    2023-08-20-Aston Villa FC-Everton FC  \n",
       "3                    2023-08-20-Aston Villa FC-Everton FC  \n",
       "4                    2023-08-20-Aston Villa FC-Everton FC  \n",
       "...                                                   ...  \n",
       "141584  2023-09-23-Saint Mirren FC-Heart of Midlothian FC  \n",
       "141585  2023-09-23-Saint Mirren FC-Heart of Midlothian FC  \n",
       "141586  2023-09-23-Saint Mirren FC-Heart of Midlothian FC  \n",
       "141587  2023-09-23-Saint Mirren FC-Heart of Midlothian FC  \n",
       "141588  2023-09-23-Saint Mirren FC-Heart of Midlothian FC  \n",
       "\n",
       "[141589 rows x 27 columns]"
      ]
     },
     "execution_count": 55,
     "metadata": {},
     "output_type": "execute_result"
    }
   ],
   "source": [
    "# df05ht = pd.read_csv('../data/raw/data_live_scores.csv').reset_index(drop=True)\n",
    "df05ht = pd.read_csv('data_live_scores.csv').reset_index(drop=True)\n",
    "df05ht"
   ]
  },
  {
   "cell_type": "code",
   "execution_count": 56,
   "metadata": {},
   "outputs": [
    {
     "data": {
      "text/plain": [
       "Index(['date', 'minute', 'homeTeam', 'awayTeam', 'league', 'corners_home',\n",
       "       'corners_away', 'redcards_home', 'redcards_away', 'shotsOffgoal_home',\n",
       "       'shotsOffgoal_away', 'shotsOngoal_home', 'shotsOngoal_away',\n",
       "       'yellowcards_home', 'yellowcards_away', 'passes_home', 'passes_away',\n",
       "       'fouls_c_home', 'fouls_c_away', 'fouls_won_home', 'fouls_won_away',\n",
       "       'offsides_home', 'offsides_away', 'tackles_home', 'tackles_away',\n",
       "       'result', 'match_id'],\n",
       "      dtype='object')"
      ]
     },
     "execution_count": 56,
     "metadata": {},
     "output_type": "execute_result"
    }
   ],
   "source": [
    "df05ht.columns"
   ]
  },
  {
   "cell_type": "markdown",
   "metadata": {},
   "source": [
    "# Preprocess"
   ]
  },
  {
   "cell_type": "code",
   "execution_count": 57,
   "metadata": {},
   "outputs": [
    {
     "name": "stdout",
     "output_type": "stream",
     "text": [
      "(141589, 27)\n",
      "(141588, 27)\n"
     ]
    }
   ],
   "source": [
    "print(df05ht.shape)\n",
    "df05ht = df05ht.dropna()\n",
    "print(df05ht.dropna().shape)"
   ]
  },
  {
   "cell_type": "code",
   "execution_count": 58,
   "metadata": {},
   "outputs": [
    {
     "data": {
      "text/plain": [
       "(140158, 27)"
      ]
     },
     "execution_count": 58,
     "metadata": {},
     "output_type": "execute_result"
    }
   ],
   "source": [
    "df05ht.drop_duplicates(inplace=True)\n",
    "df05ht.shape"
   ]
  },
  {
   "cell_type": "code",
   "execution_count": 59,
   "metadata": {},
   "outputs": [],
   "source": [
    "# df05ht.to_csv('data_live_socres_clean.csv', index=False)"
   ]
  },
  {
   "cell_type": "code",
   "execution_count": 60,
   "metadata": {},
   "outputs": [],
   "source": [
    "new_columns_names = {'fouls_won_away': 'fouls_away', 'fouls_won_home': 'fouls_home'}\n",
    "df05ht = df05ht.rename(columns=new_columns_names)"
   ]
  },
  {
   "cell_type": "code",
   "execution_count": 61,
   "metadata": {},
   "outputs": [],
   "source": [
    "df05ht['possessiontime_away'] = (df05ht['passes_away'] / (df05ht['passes_away'] + df05ht['passes_home'])) * 100\n",
    "df05ht['possessiontime_home'] = (df05ht['passes_home'] / (df05ht['passes_away'] + df05ht['passes_home'])) * 100\n"
   ]
  },
  {
   "cell_type": "code",
   "execution_count": 62,
   "metadata": {},
   "outputs": [],
   "source": [
    "# df05ht.drop(columns=[\"date\",'passes_home', 'passes_away', 'fouls_c_home', 'fouls_c_away'], inplace=True)"
   ]
  },
  {
   "cell_type": "code",
   "execution_count": 63,
   "metadata": {},
   "outputs": [
    {
     "data": {
      "text/plain": [
       "(140158, 29)"
      ]
     },
     "execution_count": 63,
     "metadata": {},
     "output_type": "execute_result"
    }
   ],
   "source": [
    "df05ht.shape"
   ]
  },
  {
   "cell_type": "code",
   "execution_count": 64,
   "metadata": {},
   "outputs": [],
   "source": [
    "leagues_opta = df05ht['league'].unique()"
   ]
  },
  {
   "cell_type": "code",
   "execution_count": 65,
   "metadata": {},
   "outputs": [
    {
     "name": "stdout",
     "output_type": "stream",
     "text": [
      "England - Premier League\n",
      "Germany - Bundesliga\n",
      "Spain - Primera División\n",
      "France - Ligue 1\n",
      "USA - MLS\n",
      "Italy - Serie A\n",
      "Brazil - Serie A\n",
      "Netherlands - Eredivisie\n",
      "England - Championship\n",
      "Portugal - Primeira Liga\n",
      "Romania - Liga I\n",
      "World - FIFA Women's World Cup\n",
      "England - League One\n",
      "England - League Two\n",
      "Europe - UEFA Europa Conference League\n",
      "England - League Cup\n",
      "Europe - UEFA Super Cup\n",
      "Europe - UEFA Champions League\n",
      "Germany - DFB Pokal\n",
      "Italy - Coppa Italia\n",
      "Scotland - Premiership\n",
      "Germany - Super Cup\n",
      "South America - CONMEBOL Libertadores\n",
      "England - Community Shield\n",
      "N/C America - Concacaf Gold Cup\n",
      "Europe - UEFA U21 Championship\n",
      "Romania - Supercupa\n",
      "Romania - Play-offs 1/2\n",
      "Australia - A-League Men\n",
      "Portugal - Play-offs 1/2\n",
      "Europe - UEFA European Championship Qualifiers\n",
      "Germany - Play-offs 1/2\n",
      "Europe - UEFA Nations League\n",
      "Europe - UEFA Europa League\n",
      "England - FA Cup\n",
      "Spain - Copa del Rey\n",
      "World - FIFA World Cup\n",
      "France - Coupe de France\n",
      "Spain - Super Cup\n",
      "Italy - Super Cup\n",
      "World - FIFA Club World Cup\n"
     ]
    }
   ],
   "source": [
    "for league in leagues_opta:\n",
    "    print(league)"
   ]
  },
  {
   "cell_type": "code",
   "execution_count": 66,
   "metadata": {},
   "outputs": [],
   "source": [
    "# df[df['league'] == \"Europe - UEFA European Championship Qualifiers\"].tail(1)\n",
    "# 'Australia - A-League Men': 'Australia - A-League',"
   ]
  },
  {
   "cell_type": "code",
   "execution_count": 67,
   "metadata": {},
   "outputs": [
    {
     "name": "stdout",
     "output_type": "stream",
     "text": [
      "41\n",
      "41\n"
     ]
    }
   ],
   "source": [
    "name_mapping = {\n",
    "    'England - Premier League': 'England - Premier League',\n",
    "    'Germany - Bundesliga': 'Germany - Bundesliga',\n",
    "    'Spain - Primera División': 'Spain - La Liga',\n",
    "    'France - Ligue 1': 'France - Ligue 1',\n",
    "    'Italy - Serie A': 'Italy - Serie A',\n",
    "    'USA - MLS': 'USA - Major League Soccer',\n",
    "    'Brazil - Serie A': 'Brazil - Serie A',\n",
    "    'Netherlands - Eredivisie': 'Netherlands - Eredivisie',\n",
    "    'England - Championship': 'England - Championship',\n",
    "    'Portugal - Primeira Liga': 'Portugal - Liga Portugal',\n",
    "    'Romania - Liga I': 'Romania - Liga 1',\n",
    "    \"World - FIFA Women's World Cup\": 'World - World Cup Women',\n",
    "    'England - League One': 'England - League One',\n",
    "    'England - League Two': 'England - League Two',\n",
    "    'Europe - UEFA Europa Conference League': 'Europe - Europa Conference League',\n",
    "    'England - League Cup': 'England - Carabao Cup',\n",
    "    'Europe - UEFA Super Cup': 'Europe - Uefa Super Cup',\n",
    "    'Europe - UEFA Champions League': 'Europe - Champions League',\n",
    "    'Germany - DFB Pokal': 'Germany - DFB Pokal',\n",
    "    'Italy - Coppa Italia': 'Italy - Coppa Italia',\n",
    "    'Scotland - Premiership': 'Scotland - Premiership',\n",
    "    'Germany - Super Cup': 'Germany - Super Cup',\n",
    "    'South America - CONMEBOL Libertadores': 'South America - Copa Libertadores',\n",
    "    'England - Community Shield': 'England - Community Shield',\n",
    "    'N/C America - Concacaf Gold Cup': 'World - CONCACAF Gold Cup',\n",
    "    'Europe - UEFA U21 Championship': 'Europe - Euro U21',\n",
    "    'Romania - Supercupa': 'Romania - Super Cup',\n",
    "    'Romania - Play-offs 1/2': 'Romania - Liga 1 - Play-offs',\n",
    "    'Australia - A-League Men': 'Australia - A-League',\n",
    "    'Portugal - Play-offs 1/2': 'Portugal - Primeira Liga - Play-offs',\n",
    "    'Europe - UEFA European Championship Qualifiers': 'Europe - Euro Qualification',\n",
    "    'Germany - Play-offs 1/2': 'Germany - Bundesliga Play-offs',\n",
    "    'Europe - UEFA Nations League': 'Europe - UEFA Nations League',\n",
    "    'Europe - UEFA Europa League': 'Europe - Europa League',\n",
    "    'England - FA Cup': 'England - FA Cup',\n",
    "    'Spain - Copa del Rey': 'Spain - Copa Del Rey',\n",
    "    'World - FIFA World Cup': 'World - FIFA World Cup',\n",
    "    'France - Coupe de France': 'France - Coupe de France',\n",
    "    'Spain - Super Cup': 'Spain - Super Cup',\n",
    "    'Italy - Super Cup': 'Italy - Super Cup',\n",
    "    'World - FIFA Club World Cup': 'World - FIFA Club World Cup',\n",
    "\n",
    "}\n",
    "\n",
    "print(len(name_mapping))\n",
    "print(len(leagues_opta))\n",
    "\n",
    "# Atualize os nomes das ligas em df05ht\n",
    "df05ht['league'] = df05ht['league'].replace(name_mapping)\n"
   ]
  },
  {
   "cell_type": "code",
   "execution_count": 68,
   "metadata": {},
   "outputs": [
    {
     "name": "stdout",
     "output_type": "stream",
     "text": [
      "4481\n",
      "0    110886\n",
      "1     29272\n",
      "Name: result, dtype: int64\n",
      "140158\n"
     ]
    }
   ],
   "source": [
    "# # Define a variável alvo\n",
    "target = 'result'\n",
    "\n",
    "print(len(df05ht['match_id'].unique()))\n",
    "print(df05ht['result'].value_counts())\n",
    "print(len(df05ht))"
   ]
  },
  {
   "cell_type": "code",
   "execution_count": 69,
   "metadata": {},
   "outputs": [
    {
     "data": {
      "text/plain": [
       "(140158, 29)"
      ]
     },
     "execution_count": 69,
     "metadata": {},
     "output_type": "execute_result"
    }
   ],
   "source": [
    "df05ht.shape"
   ]
  },
  {
   "cell_type": "code",
   "execution_count": 70,
   "metadata": {},
   "outputs": [],
   "source": [
    "def convert_to_int_minutes(value):\n",
    "    if '+' in value:\n",
    "        # Separando o tempo base e o acréscimo\n",
    "        base_time, added_time = value.split('+')\n",
    "        added_minutes = int(added_time.split(':')[0])  # Ignorando os segundos, pegando apenas os minutos do acréscimo\n",
    "    else:\n",
    "        base_time = value\n",
    "        added_minutes = 0\n",
    "    \n",
    "    # Convertendo o tempo base em minutos\n",
    "    base_minutes = int(base_time.split(':')[0]) if ':' in base_time else int(base_time)\n",
    "    \n",
    "    # Somando os minutos\n",
    "    total_minutes = base_minutes + added_minutes\n",
    "    return total_minutes\n",
    "\n",
    "\n",
    "# Aplicando a função para converter os minutos\n",
    "df05ht['minute'] = df05ht['minute'].apply(convert_to_int_minutes)"
   ]
  },
  {
   "cell_type": "code",
   "execution_count": 71,
   "metadata": {},
   "outputs": [
    {
     "data": {
      "text/plain": [
       "4481"
      ]
     },
     "execution_count": 71,
     "metadata": {},
     "output_type": "execute_result"
    }
   ],
   "source": [
    "len(df05ht['match_id'].unique())"
   ]
  },
  {
   "cell_type": "code",
   "execution_count": 72,
   "metadata": {},
   "outputs": [
    {
     "data": {
      "text/plain": [
       "['England - Community Shield',\n",
       " 'Germany - Bundesliga Play-offs',\n",
       " 'Italy - Super Cup',\n",
       " 'Romania - Super Cup',\n",
       " 'Romania - Liga 1 - Play-offs',\n",
       " 'Spain - Super Cup',\n",
       " 'England - Community Shield',\n",
       " 'Romania - Super Cup',\n",
       " 'Europe - Uefa Super Cup',\n",
       " 'Portugal - Primeira Liga - Play-offs',\n",
       " 'Italy - Super Cup',\n",
       " 'Germany - Bundesliga Play-offs',\n",
       " 'Germany - Super Cup']"
      ]
     },
     "execution_count": 72,
     "metadata": {},
     "output_type": "execute_result"
    }
   ],
   "source": [
    "# 1. Identify leagues with only one unique value in 'result' column\n",
    "single_value_leagues = df05ht.groupby('league').apply(lambda x: len(x['result'].unique()) == 1)\n",
    "\n",
    "# 2. Identify leagues with fewer than 100 matches\n",
    "few_matches_leagues = df05ht['league'].value_counts()\n",
    "few_matches_leagues = few_matches_leagues[few_matches_leagues < 100].index.tolist()\n",
    "\n",
    "# Combine the lists of leagues to drop\n",
    "leagues_to_drop = single_value_leagues[single_value_leagues].index.tolist() + few_matches_leagues\n",
    "\n",
    "# Drop the identified leagues\n",
    "filtered_data = df05ht[~df05ht['league'].isin(leagues_to_drop)]\n",
    "\n",
    "# 3. Balance the 'result' column for each remaining league\n",
    "balanced_data = []\n",
    "for league in filtered_data['league'].unique():\n",
    "    league_data = filtered_data[filtered_data['league'] == league]\n",
    "    min_count = league_data['result'].value_counts().min()\n",
    "    \n",
    "    # Sample 'min_count' examples from each result value\n",
    "    balanced_samples = [league_data[league_data['result'] == result_val].sample(min_count, random_state=42) for result_val in [0, 1]]\n",
    "    balanced_data.extend(balanced_samples)\n",
    "\n",
    "# Combine the balanced data samples\n",
    "balanced_data = pd.concat(balanced_data, axis=0)\n",
    "balanced_data.dropna(inplace=True)\n",
    "\n",
    "# Display the first few rows of the balanced data and the list of dropped leagues\n",
    "leagues_to_drop\n"
   ]
  },
  {
   "cell_type": "code",
   "execution_count": 73,
   "metadata": {},
   "outputs": [
    {
     "data": {
      "text/plain": [
       "(58343, 29)"
      ]
     },
     "execution_count": 73,
     "metadata": {},
     "output_type": "execute_result"
    }
   ],
   "source": [
    "df = balanced_data.copy()\n",
    "df.shape"
   ]
  },
  {
   "cell_type": "code",
   "execution_count": 74,
   "metadata": {},
   "outputs": [
    {
     "data": {
      "image/png": "[encoded data removed]",
      "text/plain": [
       "<Figure size 1080x720 with 1 Axes>"
      ]
     },
     "metadata": {
      "needs_background": "light"
     },
     "output_type": "display_data"
    }
   ],
   "source": [
    "# Group the data by league and result and get the size of each group\n",
    "league_distribution = df.groupby(['league', 'result']).size().unstack().fillna(0)\n",
    "\n",
    "# Sort the leagues based on the total number of games\n",
    "sorted_leagues = league_distribution.sum(axis=1).sort_values(ascending=False).head(100).index\n",
    "\n",
    "# Plot\n",
    "plt.figure(figsize=(15, 10))\n",
    "league_distribution.loc[sorted_leagues].plot(kind='bar', stacked=True, ax=plt.gca())\n",
    "plt.title('Distribution of \"result\" for Each League')\n",
    "plt.ylabel('Number of Games')\n",
    "plt.xlabel('League')\n",
    "plt.tight_layout()\n",
    "plt.xticks(rotation=90)\n",
    "plt.show()\n"
   ]
  },
  {
   "cell_type": "code",
   "execution_count": 75,
   "metadata": {},
   "outputs": [
    {
     "data": {
      "text/plain": [
       "1    29175\n",
       "0    29168\n",
       "Name: result, dtype: int64"
      ]
     },
     "execution_count": 75,
     "metadata": {},
     "output_type": "execute_result"
    }
   ],
   "source": [
    "df['result'].value_counts()"
   ]
  },
  {
   "cell_type": "code",
   "execution_count": 76,
   "metadata": {},
   "outputs": [
    {
     "data": {
      "text/plain": [
       "(58343, 29)"
      ]
     },
     "execution_count": 76,
     "metadata": {},
     "output_type": "execute_result"
    }
   ],
   "source": [
    "df.shape"
   ]
  },
  {
   "cell_type": "code",
   "execution_count": 77,
   "metadata": {},
   "outputs": [],
   "source": [
    "df = df.sort_values('minute').reset_index(drop=True)\n",
    "# df.to_csv('data_live_scores_balanced.csv', index=False)\n",
    "# df = pd.read_csv('data_live_scores_balanced.csv')"
   ]
  },
  {
   "cell_type": "code",
   "execution_count": 78,
   "metadata": {},
   "outputs": [],
   "source": [
    "# IDs únicos no DataFrame\n",
    "unique_ids = df['match_id'].unique()\n",
    "\n",
    "invalid_ids = []\n",
    "\n",
    "for game_id in unique_ids:\n",
    "    # Obtenha as minutagens para o ID atual\n",
    "    game_df = df[df['match_id'] == game_id]\n",
    "    \n",
    "    # Verifique se há minutos fora do intervalo permitido (maior que 57)\n",
    "    if any(game_df['minute'] > 57):\n",
    "        invalid_ids.append(game_id)\n",
    "        continue  # Pode pular para o próximo ID já que este é inválido\n",
    "    \n",
    "# Remova os IDs inválidos do DataFrame original\n",
    "df_clean = df[~df['match_id'].isin(invalid_ids)]"
   ]
  },
  {
   "cell_type": "code",
   "execution_count": 79,
   "metadata": {},
   "outputs": [
    {
     "name": "stdout",
     "output_type": "stream",
     "text": [
      "(58289, 29)\n",
      "(58343, 29)\n"
     ]
    }
   ],
   "source": [
    "print(df_clean.shape)\n",
    "print(df.shape)"
   ]
  },
  {
   "cell_type": "code",
   "execution_count": 80,
   "metadata": {},
   "outputs": [],
   "source": [
    "df = df_clean"
   ]
  },
  {
   "cell_type": "code",
   "execution_count": 82,
   "metadata": {},
   "outputs": [],
   "source": [
    "df.to_csv(\"data_live_scores_clean.csv\", index=False)"
   ]
  },
  {
   "cell_type": "code",
   "execution_count": 81,
   "metadata": {},
   "outputs": [
    {
     "data": {
      "text/plain": [
       "Index(['date', 'minute', 'homeTeam', 'awayTeam', 'league', 'corners_home',\n",
       "       'corners_away', 'redcards_home', 'redcards_away', 'shotsOffgoal_home',\n",
       "       'shotsOffgoal_away', 'shotsOngoal_home', 'shotsOngoal_away',\n",
       "       'yellowcards_home', 'yellowcards_away', 'passes_home', 'passes_away',\n",
       "       'fouls_c_home', 'fouls_c_away', 'fouls_home', 'fouls_away',\n",
       "       'offsides_home', 'offsides_away', 'tackles_home', 'tackles_away',\n",
       "       'result', 'match_id', 'possessiontime_away', 'possessiontime_home'],\n",
       "      dtype='object')"
      ]
     },
     "execution_count": 81,
     "metadata": {},
     "output_type": "execute_result"
    }
   ],
   "source": [
    "df.columns"
   ]
  },
  {
   "cell_type": "code",
   "execution_count": 51,
   "metadata": {},
   "outputs": [],
   "source": [
    "\n",
    "\n",
    "# Separando os dados em características e variável alvo\n",
    "X = df.drop(columns=['result', 'homeTeam', 'awayTeam', 'match_id'])\n",
    "y = df['result']\n",
    "\n",
    "# Definindo as colunas numéricas e categóricas\n",
    "numeric_features = X.select_dtypes(exclude=['object']).columns.tolist()\n",
    "categorical_features = ['league']\n",
    "\n",
    "# Criando o transformador de colunas\n",
    "preprocessor = ColumnTransformer(\n",
    "    transformers=[\n",
    "        ('num', StandardScaler(), numeric_features),\n",
    "        ('cat', OneHotEncoder(drop='first'), categorical_features)\n",
    "    ])\n",
    "\n",
    "# Aplicando as transformações\n",
    "X = preprocessor.fit_transform(X)\n",
    "\n",
    "with open(f'../models/preprocessor.pickle', 'wb') as f:\n",
    "    pickle.dump(preprocessor, f)"
   ]
  },
  {
   "cell_type": "code",
   "execution_count": 52,
   "metadata": {},
   "outputs": [],
   "source": [
    "X_train, X_test, y_train, y_test = train_test_split(X, y, test_size=0.20,train_size=0.80, random_state=42)"
   ]
  },
  {
   "cell_type": "markdown",
   "metadata": {},
   "source": [
    "# Modeling"
   ]
  },
  {
   "cell_type": "markdown",
   "metadata": {},
   "source": [
    "## Automl h2o"
   ]
  },
  {
   "cell_type": "code",
   "execution_count": null,
   "metadata": {},
   "outputs": [],
   "source": [
    "\n",
    "\n",
    "# Inicializar o H2O\n",
    "h2o.init()\n",
    "\n",
    "# Convertendo dados do numpy para H2OFrame\n",
    "X_train_h2o = h2o.H2OFrame(pd.DataFrame(X_train, columns=[\"col_\" + str(i) for i in range(X_train.shape[1])]))\n",
    "X_test_h2o = h2o.H2OFrame(pd.DataFrame(X_test, columns=[\"col_\" + str(i) for i in range(X_test.shape[1])]))\n",
    "y_train_h2o = h2o.H2OFrame(pd.DataFrame(y_train, columns=[\"result\"]))\n",
    "y_test_h2o = h2o.H2OFrame(pd.DataFrame(y_test, columns=[\"result\"]))\n",
    "\n",
    "# Convert Pandas DataFrame or NumPy array to H2OFrame\n",
    "X_train_h2o = h2o.H2OFrame(X_train)\n",
    "X_test_h2o = h2o.H2OFrame(X_test)\n",
    "\n",
    "y_train_df = y_train.to_frame()\n",
    "y_train_h2o = h2o.H2OFrame(y_train_df)\n",
    "y_train_h2o['result'] = y_train_h2o['result'].asfactor()\n",
    "\n",
    "y_test_df = y_test.to_frame()\n",
    "y_test_h2o = h2o.H2OFrame(y_test_df)\n",
    "y_test_h2o['result'] = y_test_h2o['result'].asfactor()\n",
    "\n",
    "# Check the shape again\n",
    "print(\"X_train_h2o shape:\", X_train_h2o.shape)\n",
    "print(\"y_train_h2o shape:\", y_train_h2o.shape)\n",
    "print(\"X_test_h2o shape:\", X_test_h2o.shape)\n",
    "print(\"y_test_h2o shape:\", y_test_h2o.shape)\n",
    "\n",
    "# Combine them back into one frame\n",
    "train_data = X_train_h2o.cbind(y_train_h2o)\n",
    "test_data = X_test_h2o.cbind(y_test_h2o)\n",
    "\n",
    "# Identify predictors and response\n",
    "x = train_data.columns\n",
    "\n",
    "y = \"result\"\n",
    "x.remove(y)\n",
    "\n",
    "# Run AutoML\n",
    "aml = H2OAutoML(max_models=20, seed=42)\n",
    "aml.train(x=x, y=y, training_frame=train_data)\n",
    "\n",
    "# View leaderboard\n",
    "lb = aml.leaderboard\n",
    "print(lb)\n",
    "\n",
    "#save the model\n",
    "model_path = h2o.save_model(model=aml.leader, path=\"../models/\", force=True)"
   ]
  },
  {
   "cell_type": "code",
   "execution_count": null,
   "metadata": {},
   "outputs": [],
   "source": [
    "\n",
    "\n",
    "loaded_model = h2o.load_model(\"C:/Users/Pichau/Desktop/eofut/models/StackedEnsemble_AllModels_1_AutoML_1_20230923_153346\")\n",
    "y_pred_prob = loaded_model.predict(X_test_h2o)\n",
    "y_pred = h2o.as_list(y_pred_prob)\n",
    "y_pred_prob = y_pred['predict'].tolist()\n",
    "\n",
    "# Falsos positivos, verdadeiros positivos e limiares\n",
    "fpr, tpr, thresholds = roc_curve(y_test, y_pred_prob)\n",
    "\n",
    "# Área sob a curva\n",
    "roc_auc = auc(fpr, tpr)\n",
    "\n",
    "plt.figure()\n",
    "plt.plot(fpr, tpr, color='darkorange', lw=1, label='ROC curve (area = %0.2f)' % roc_auc)\n",
    "plt.xlim([0.0, 1.0])\n",
    "plt.ylim([0.0, 1.05])\n",
    "plt.xlabel('False Positive Rate')\n",
    "plt.ylabel('True Positive Rate')\n",
    "plt.title('Receiver Operating Characteristic')\n",
    "plt.legend(loc=\"lower right\")\n",
    "plt.show()\n",
    "\n",
    "# Matriz de confusão\n",
    "y_pred_round = [round(value) for value in y_pred_prob]\n",
    "cm = confusion_matrix(y_test.to_list(), y_pred_round)\n",
    "\n",
    "plt.figure(figsize=(7, 5))\n",
    "sns.heatmap(cm, annot=True, cmap='Blues', fmt='g')\n",
    "plt.xlabel('Predicted')\n",
    "plt.ylabel('True')\n",
    "plt.show()"
   ]
  },
  {
   "cell_type": "markdown",
   "metadata": {},
   "source": [
    "## Random Forest"
   ]
  },
  {
   "cell_type": "code",
   "execution_count": 104,
   "metadata": {},
   "outputs": [],
   "source": [
    "# teste com random forest foi feito mas não atingiu uma boa espectativa \n",
    "# # Criando o modelo base\n",
    "# # rfc = RandomForestClassifier(n_estimators=1000,max_depth=40, min_samples_leaf=1, min_samples_split=30, max_features=None, random_state=1, n_jobs=-1)\n",
    "# rfc = RandomForestClassifier(n_estimators=100, random_state=42, n_jobs=-1)\n",
    "\n",
    "# # # # Treinando o modelo com os melhores hiperparâmetros\n",
    "# rfc.fit(X_train, y_train)\n",
    "\n",
    "# predictions = rfc.predict(X_test)\n",
    "# accuracy = accuracy_score(y_test, predictions)\n",
    "\n",
    "\n",
    "# print(f\" Teste Acurácia do modelo Random Forest: {accuracy * 100:.2f}%\")\n",
    "# print(f\"Erro quadrático médio: {mean_squared_error(y_test, predictions)}\")\n",
    "# print(f\"Treino Acurácia do modelo Random Forest: {rfc.score(X_train, y_train) * 100:.2f}%\")\n",
    "\n",
    "# with open(f'random_forestht.pkl', 'wb') as f:\n",
    "#     pickle.dump(rfc, f)"
   ]
  },
  {
   "cell_type": "markdown",
   "metadata": {},
   "source": [
    "## Neural Network Keras"
   ]
  },
  {
   "cell_type": "code",
   "execution_count": 53,
   "metadata": {},
   "outputs": [
    {
     "name": "stdout",
     "output_type": "stream",
     "text": [
      "Epoch 1/500\n",
      "729/729 [==============================] - 2s 2ms/step - loss: 0.6877 - accuracy: 0.5329 - precision: 0.5306 - recall: 0.5805 - val_loss: 0.6833 - val_accuracy: 0.5446 - val_precision: 0.5297 - val_recall: 0.7532\n",
      "Epoch 2/500\n",
      "729/729 [==============================] - 1s 1ms/step - loss: 0.6739 - accuracy: 0.5694 - precision: 0.5631 - recall: 0.6244 - val_loss: 0.6762 - val_accuracy: 0.5661 - val_precision: 0.5502 - val_recall: 0.7005\n",
      "Epoch 3/500\n",
      "729/729 [==============================] - 1s 1ms/step - loss: 0.6602 - accuracy: 0.5955 - precision: 0.5893 - recall: 0.6342 - val_loss: 0.6629 - val_accuracy: 0.5886 - val_precision: 0.5703 - val_recall: 0.7015\n",
      "Epoch 4/500\n",
      "729/729 [==============================] - 1s 1ms/step - loss: 0.6441 - accuracy: 0.6168 - precision: 0.6090 - recall: 0.6556 - val_loss: 0.6560 - val_accuracy: 0.6022 - val_precision: 0.5931 - val_recall: 0.6377\n",
      "Epoch 5/500\n",
      "729/729 [==============================] - 1s 1ms/step - loss: 0.6275 - accuracy: 0.6360 - precision: 0.6293 - recall: 0.6639 - val_loss: 0.6521 - val_accuracy: 0.6175 - val_precision: 0.5892 - val_recall: 0.7629\n",
      "Epoch 6/500\n",
      "729/729 [==============================] - 1s 1ms/step - loss: 0.6139 - accuracy: 0.6502 - precision: 0.6432 - recall: 0.6767 - val_loss: 0.6410 - val_accuracy: 0.6245 - val_precision: 0.6019 - val_recall: 0.7237\n",
      "Epoch 7/500\n",
      "729/729 [==============================] - 1s 1ms/step - loss: 0.5985 - accuracy: 0.6636 - precision: 0.6552 - recall: 0.6927 - val_loss: 0.6305 - val_accuracy: 0.6312 - val_precision: 0.6113 - val_recall: 0.7105\n",
      "Epoch 8/500\n",
      "729/729 [==============================] - 1s 2ms/step - loss: 0.5859 - accuracy: 0.6768 - precision: 0.6677 - recall: 0.7058 - val_loss: 0.6261 - val_accuracy: 0.6396 - val_precision: 0.6326 - val_recall: 0.6568\n",
      "Epoch 9/500\n",
      "729/729 [==============================] - 1s 1ms/step - loss: 0.5748 - accuracy: 0.6841 - precision: 0.6750 - recall: 0.7118 - val_loss: 0.6211 - val_accuracy: 0.6408 - val_precision: 0.6353 - val_recall: 0.6522\n",
      "Epoch 10/500\n",
      "729/729 [==============================] - 1s 1ms/step - loss: 0.5634 - accuracy: 0.6935 - precision: 0.6836 - recall: 0.7221 - val_loss: 0.6237 - val_accuracy: 0.6576 - val_precision: 0.6235 - val_recall: 0.7867\n",
      "Epoch 11/500\n",
      "729/729 [==============================] - 1s 1ms/step - loss: 0.5545 - accuracy: 0.7014 - precision: 0.6899 - recall: 0.7331 - val_loss: 0.6145 - val_accuracy: 0.6607 - val_precision: 0.6373 - val_recall: 0.7377\n",
      "Epoch 12/500\n",
      "729/729 [==============================] - 1s 2ms/step - loss: 0.5441 - accuracy: 0.7106 - precision: 0.6988 - recall: 0.7416 - val_loss: 0.6085 - val_accuracy: 0.6606 - val_precision: 0.6382 - val_recall: 0.7334\n",
      "Epoch 13/500\n",
      "729/729 [==============================] - 1s 2ms/step - loss: 0.5360 - accuracy: 0.7173 - precision: 0.7043 - recall: 0.7504 - val_loss: 0.6135 - val_accuracy: 0.6606 - val_precision: 0.6446 - val_recall: 0.7081\n",
      "Epoch 14/500\n",
      "729/729 [==============================] - 1s 2ms/step - loss: 0.5285 - accuracy: 0.7222 - precision: 0.7098 - recall: 0.7529 - val_loss: 0.6099 - val_accuracy: 0.6625 - val_precision: 0.6431 - val_recall: 0.7227\n",
      "Epoch 15/500\n",
      "729/729 [==============================] - 1s 1ms/step - loss: 0.5228 - accuracy: 0.7266 - precision: 0.7135 - recall: 0.7585 - val_loss: 0.6046 - val_accuracy: 0.6589 - val_precision: 0.6632 - val_recall: 0.6387\n",
      "Epoch 16/500\n",
      "729/729 [==============================] - 1s 1ms/step - loss: 0.5163 - accuracy: 0.7327 - precision: 0.7188 - recall: 0.7657 - val_loss: 0.6056 - val_accuracy: 0.6662 - val_precision: 0.6760 - val_recall: 0.6317\n",
      "Epoch 17/500\n",
      "729/729 [==============================] - 1s 2ms/step - loss: 0.5110 - accuracy: 0.7305 - precision: 0.7181 - recall: 0.7600 - val_loss: 0.6097 - val_accuracy: 0.6705 - val_precision: 0.6439 - val_recall: 0.7553\n",
      "Epoch 18/500\n",
      "729/729 [==============================] - 1s 1ms/step - loss: 0.5063 - accuracy: 0.7393 - precision: 0.7249 - recall: 0.7722 - val_loss: 0.5997 - val_accuracy: 0.6678 - val_precision: 0.6512 - val_recall: 0.7151\n",
      "Epoch 19/500\n",
      "729/729 [==============================] - 1s 1ms/step - loss: 0.5024 - accuracy: 0.7413 - precision: 0.7277 - recall: 0.7723 - val_loss: 0.6244 - val_accuracy: 0.6758 - val_precision: 0.6354 - val_recall: 0.8174\n",
      "Epoch 20/500\n",
      "729/729 [==============================] - 1s 1ms/step - loss: 0.4956 - accuracy: 0.7445 - precision: 0.7306 - recall: 0.7757 - val_loss: 0.6007 - val_accuracy: 0.6712 - val_precision: 0.6742 - val_recall: 0.6560\n",
      "Epoch 21/500\n",
      "729/729 [==============================] - 1s 2ms/step - loss: 0.4918 - accuracy: 0.7481 - precision: 0.7334 - recall: 0.7807 - val_loss: 0.6000 - val_accuracy: 0.6716 - val_precision: 0.6547 - val_recall: 0.7189\n",
      "Epoch 22/500\n",
      "729/729 [==============================] - 1s 1ms/step - loss: 0.4862 - accuracy: 0.7495 - precision: 0.7354 - recall: 0.7803 - val_loss: 0.6019 - val_accuracy: 0.6788 - val_precision: 0.6472 - val_recall: 0.7791\n",
      "Epoch 23/500\n",
      "729/729 [==============================] - 1s 2ms/step - loss: 0.4859 - accuracy: 0.7511 - precision: 0.7360 - recall: 0.7841 - val_loss: 0.6136 - val_accuracy: 0.6581 - val_precision: 0.6922 - val_recall: 0.5630\n",
      "Epoch 24/500\n",
      "729/729 [==============================] - 1s 2ms/step - loss: 0.4796 - accuracy: 0.7554 - precision: 0.7399 - recall: 0.7889 - val_loss: 0.5967 - val_accuracy: 0.6860 - val_precision: 0.6650 - val_recall: 0.7429\n",
      "Epoch 25/500\n",
      "729/729 [==============================] - 1s 1ms/step - loss: 0.4759 - accuracy: 0.7577 - precision: 0.7430 - recall: 0.7889 - val_loss: 0.5979 - val_accuracy: 0.6882 - val_precision: 0.6733 - val_recall: 0.7250\n",
      "Epoch 26/500\n",
      "729/729 [==============================] - 1s 2ms/step - loss: 0.4743 - accuracy: 0.7583 - precision: 0.7433 - recall: 0.7903 - val_loss: 0.5967 - val_accuracy: 0.6844 - val_precision: 0.6740 - val_recall: 0.7081\n",
      "Epoch 27/500\n",
      "729/729 [==============================] - 1s 1ms/step - loss: 0.4706 - accuracy: 0.7594 - precision: 0.7446 - recall: 0.7906 - val_loss: 0.5997 - val_accuracy: 0.6853 - val_precision: 0.6760 - val_recall: 0.7053\n",
      "Epoch 28/500\n",
      "729/729 [==============================] - 1s 1ms/step - loss: 0.4679 - accuracy: 0.7638 - precision: 0.7477 - recall: 0.7973 - val_loss: 0.5954 - val_accuracy: 0.6889 - val_precision: 0.6653 - val_recall: 0.7536\n",
      "Epoch 29/500\n",
      "729/729 [==============================] - 1s 2ms/step - loss: 0.4652 - accuracy: 0.7643 - precision: 0.7494 - recall: 0.7952 - val_loss: 0.5983 - val_accuracy: 0.6990 - val_precision: 0.6733 - val_recall: 0.7672\n",
      "Epoch 30/500\n",
      "729/729 [==============================] - 1s 2ms/step - loss: 0.4622 - accuracy: 0.7644 - precision: 0.7488 - recall: 0.7967 - val_loss: 0.6006 - val_accuracy: 0.6810 - val_precision: 0.6860 - val_recall: 0.6615\n",
      "Epoch 31/500\n",
      "729/729 [==============================] - 1s 2ms/step - loss: 0.4586 - accuracy: 0.7679 - precision: 0.7518 - recall: 0.8008 - val_loss: 0.6044 - val_accuracy: 0.6957 - val_precision: 0.6702 - val_recall: 0.7646\n",
      "Epoch 32/500\n",
      "729/729 [==============================] - 1s 2ms/step - loss: 0.4575 - accuracy: 0.7696 - precision: 0.7532 - recall: 0.8029 - val_loss: 0.6065 - val_accuracy: 0.6958 - val_precision: 0.6603 - val_recall: 0.8001\n",
      "Epoch 33/500\n",
      "729/729 [==============================] - 1s 1ms/step - loss: 0.4549 - accuracy: 0.7691 - precision: 0.7537 - recall: 0.8004 - val_loss: 0.6033 - val_accuracy: 0.6924 - val_precision: 0.6686 - val_recall: 0.7565\n",
      "Epoch 34/500\n",
      "729/729 [==============================] - 1s 1ms/step - loss: 0.4541 - accuracy: 0.7711 - precision: 0.7556 - recall: 0.8023 - val_loss: 0.6052 - val_accuracy: 0.6892 - val_precision: 0.6828 - val_recall: 0.7008\n",
      "Epoch 35/500\n",
      "729/729 [==============================] - 1s 2ms/step - loss: 0.4506 - accuracy: 0.7744 - precision: 0.7586 - recall: 0.8060 - val_loss: 0.6083 - val_accuracy: 0.6788 - val_precision: 0.6845 - val_recall: 0.6570\n",
      "Epoch 36/500\n",
      "729/729 [==============================] - 1s 1ms/step - loss: 0.4483 - accuracy: 0.7727 - precision: 0.7560 - recall: 0.8063 - val_loss: 0.6035 - val_accuracy: 0.6823 - val_precision: 0.6839 - val_recall: 0.6717\n",
      "Epoch 37/500\n",
      "729/729 [==============================] - 1s 2ms/step - loss: 0.4469 - accuracy: 0.7766 - precision: 0.7604 - recall: 0.8085 - val_loss: 0.6156 - val_accuracy: 0.7026 - val_precision: 0.6666 - val_recall: 0.8044\n",
      "Epoch 38/500\n",
      "729/729 [==============================] - 1s 1ms/step - loss: 0.4463 - accuracy: 0.7757 - precision: 0.7597 - recall: 0.8073 - val_loss: 0.6145 - val_accuracy: 0.6953 - val_precision: 0.6627 - val_recall: 0.7893\n",
      "Epoch 39/500\n",
      "729/729 [==============================] - 1s 2ms/step - loss: 0.4432 - accuracy: 0.7780 - precision: 0.7617 - recall: 0.8100 - val_loss: 0.5981 - val_accuracy: 0.6873 - val_precision: 0.6848 - val_recall: 0.6882\n",
      "Epoch 40/500\n",
      "729/729 [==============================] - 1s 2ms/step - loss: 0.4405 - accuracy: 0.7796 - precision: 0.7633 - recall: 0.8114 - val_loss: 0.6044 - val_accuracy: 0.6885 - val_precision: 0.6751 - val_recall: 0.7205\n",
      "Epoch 41/500\n",
      "729/729 [==============================] - 1s 1ms/step - loss: 0.4392 - accuracy: 0.7789 - precision: 0.7622 - recall: 0.8115 - val_loss: 0.6067 - val_accuracy: 0.6976 - val_precision: 0.6861 - val_recall: 0.7229\n",
      "Epoch 42/500\n",
      "729/729 [==============================] - 1s 1ms/step - loss: 0.4373 - accuracy: 0.7821 - precision: 0.7659 - recall: 0.8133 - val_loss: 0.6098 - val_accuracy: 0.6964 - val_precision: 0.6783 - val_recall: 0.7412\n",
      "Epoch 43/500\n",
      "729/729 [==============================] - 1s 2ms/step - loss: 0.4350 - accuracy: 0.7819 - precision: 0.7650 - recall: 0.8148 - val_loss: 0.6271 - val_accuracy: 0.6915 - val_precision: 0.6879 - val_recall: 0.6949\n",
      "Epoch 44/500\n",
      "729/729 [==============================] - 1s 2ms/step - loss: 0.4343 - accuracy: 0.7814 - precision: 0.7652 - recall: 0.8128 - val_loss: 0.6156 - val_accuracy: 0.6981 - val_precision: 0.6785 - val_recall: 0.7469\n",
      "Epoch 45/500\n",
      "729/729 [==============================] - 1s 1ms/step - loss: 0.4328 - accuracy: 0.7847 - precision: 0.7682 - recall: 0.8162 - val_loss: 0.6094 - val_accuracy: 0.6887 - val_precision: 0.6791 - val_recall: 0.7094\n",
      "Epoch 46/500\n",
      "729/729 [==============================] - 1s 1ms/step - loss: 0.4322 - accuracy: 0.7831 - precision: 0.7668 - recall: 0.8143 - val_loss: 0.6030 - val_accuracy: 0.6911 - val_precision: 0.6844 - val_recall: 0.7034\n",
      "Epoch 47/500\n",
      "729/729 [==============================] - 1s 2ms/step - loss: 0.4302 - accuracy: 0.7845 - precision: 0.7675 - recall: 0.8173 - val_loss: 0.6102 - val_accuracy: 0.6830 - val_precision: 0.6899 - val_recall: 0.6587\n",
      "Epoch 48/500\n",
      "729/729 [==============================] - 1s 2ms/step - loss: 0.4278 - accuracy: 0.7861 - precision: 0.7687 - recall: 0.8191 - val_loss: 0.6110 - val_accuracy: 0.6915 - val_precision: 0.6751 - val_recall: 0.7322\n",
      "Epoch 49/500\n",
      "729/729 [==============================] - 1s 2ms/step - loss: 0.4268 - accuracy: 0.7870 - precision: 0.7697 - recall: 0.8199 - val_loss: 0.6130 - val_accuracy: 0.6921 - val_precision: 0.6809 - val_recall: 0.7168\n",
      "Epoch 50/500\n",
      "729/729 [==============================] - 1s 2ms/step - loss: 0.4240 - accuracy: 0.7887 - precision: 0.7717 - recall: 0.8208 - val_loss: 0.6131 - val_accuracy: 0.7007 - val_precision: 0.6885 - val_recall: 0.7275\n",
      "Epoch 51/500\n",
      "729/729 [==============================] - 1s 2ms/step - loss: 0.4232 - accuracy: 0.7907 - precision: 0.7735 - recall: 0.8230 - val_loss: 0.6261 - val_accuracy: 0.6951 - val_precision: 0.6872 - val_recall: 0.7103\n",
      "Epoch 52/500\n",
      "729/729 [==============================] - 1s 2ms/step - loss: 0.4225 - accuracy: 0.7903 - precision: 0.7733 - recall: 0.8222 - val_loss: 0.6158 - val_accuracy: 0.6957 - val_precision: 0.6861 - val_recall: 0.7158\n",
      "Epoch 53/500\n",
      "729/729 [==============================] - 1s 2ms/step - loss: 0.4227 - accuracy: 0.7884 - precision: 0.7720 - recall: 0.8195 - val_loss: 0.6210 - val_accuracy: 0.6878 - val_precision: 0.6951 - val_recall: 0.6632\n",
      "Epoch 54/500\n",
      "729/729 [==============================] - 1s 2ms/step - loss: 0.4207 - accuracy: 0.7906 - precision: 0.7748 - recall: 0.8201 - val_loss: 0.6254 - val_accuracy: 0.6988 - val_precision: 0.6680 - val_recall: 0.7844\n",
      "Epoch 55/500\n",
      "729/729 [==============================] - 1s 2ms/step - loss: 0.4178 - accuracy: 0.7913 - precision: 0.7742 - recall: 0.8231 - val_loss: 0.6411 - val_accuracy: 0.7059 - val_precision: 0.6687 - val_recall: 0.8100\n",
      "Epoch 56/500\n",
      "729/729 [==============================] - 2s 3ms/step - loss: 0.4186 - accuracy: 0.7921 - precision: 0.7751 - recall: 0.8237 - val_loss: 0.6273 - val_accuracy: 0.7038 - val_precision: 0.6791 - val_recall: 0.7670\n",
      "Epoch 57/500\n",
      "729/729 [==============================] - 2s 2ms/step - loss: 0.4167 - accuracy: 0.7927 - precision: 0.7757 - recall: 0.8243 - val_loss: 0.6235 - val_accuracy: 0.6939 - val_precision: 0.6837 - val_recall: 0.7156\n",
      "Epoch 58/500\n",
      "729/729 [==============================] - 2s 2ms/step - loss: 0.4161 - accuracy: 0.7943 - precision: 0.7771 - recall: 0.8262 - val_loss: 0.6365 - val_accuracy: 0.6995 - val_precision: 0.6730 - val_recall: 0.7700\n",
      "Epoch 59/500\n",
      "729/729 [==============================] - 2s 2ms/step - loss: 0.4146 - accuracy: 0.7915 - precision: 0.7753 - recall: 0.8219 - val_loss: 0.6285 - val_accuracy: 0.6975 - val_precision: 0.6935 - val_recall: 0.7024\n",
      "Epoch 60/500\n",
      "729/729 [==============================] - 2s 3ms/step - loss: 0.4141 - accuracy: 0.7949 - precision: 0.7772 - recall: 0.8277 - val_loss: 0.6273 - val_accuracy: 0.6957 - val_precision: 0.6832 - val_recall: 0.7237\n",
      "Epoch 61/500\n",
      "729/729 [==============================] - 3s 4ms/step - loss: 0.4116 - accuracy: 0.7973 - precision: 0.7802 - recall: 0.8286 - val_loss: 0.6336 - val_accuracy: 0.6791 - val_precision: 0.6932 - val_recall: 0.6367\n",
      "Epoch 62/500\n",
      "729/729 [==============================] - 2s 3ms/step - loss: 0.4118 - accuracy: 0.7944 - precision: 0.7774 - recall: 0.8258 - val_loss: 0.6295 - val_accuracy: 0.6878 - val_precision: 0.6912 - val_recall: 0.6729\n",
      "Epoch 63/500\n",
      "729/729 [==============================] - 2s 3ms/step - loss: 0.4124 - accuracy: 0.7955 - precision: 0.7785 - recall: 0.8267 - val_loss: 0.6537 - val_accuracy: 0.7134 - val_precision: 0.6745 - val_recall: 0.8193\n",
      "Epoch 64/500\n",
      "729/729 [==============================] - 2s 3ms/step - loss: 0.4091 - accuracy: 0.7964 - precision: 0.7792 - recall: 0.8280 - val_loss: 0.6351 - val_accuracy: 0.6927 - val_precision: 0.6831 - val_recall: 0.7129\n",
      "Epoch 65/500\n",
      "729/729 [==============================] - 3s 4ms/step - loss: 0.4091 - accuracy: 0.7979 - precision: 0.7805 - recall: 0.8297 - val_loss: 0.6298 - val_accuracy: 0.7014 - val_precision: 0.6847 - val_recall: 0.7410\n",
      "Epoch 66/500\n",
      "729/729 [==============================] - 2s 3ms/step - loss: 0.4096 - accuracy: 0.7982 - precision: 0.7813 - recall: 0.8290 - val_loss: 0.6316 - val_accuracy: 0.6860 - val_precision: 0.6918 - val_recall: 0.6649\n",
      "Epoch 67/500\n",
      "729/729 [==============================] - 2s 3ms/step - loss: 0.4068 - accuracy: 0.7981 - precision: 0.7810 - recall: 0.8292 - val_loss: 0.6395 - val_accuracy: 0.6866 - val_precision: 0.6696 - val_recall: 0.7301\n",
      "Epoch 68/500\n",
      "729/729 [==============================] - 1s 2ms/step - loss: 0.4073 - accuracy: 0.7976 - precision: 0.7811 - recall: 0.8277 - val_loss: 0.6366 - val_accuracy: 0.6972 - val_precision: 0.6744 - val_recall: 0.7565\n",
      "Epoch 69/500\n",
      "729/729 [==============================] - 1s 2ms/step - loss: 0.4054 - accuracy: 0.8015 - precision: 0.7841 - recall: 0.8327 - val_loss: 0.6295 - val_accuracy: 0.6970 - val_precision: 0.6754 - val_recall: 0.7525\n",
      "Epoch 70/500\n",
      "729/729 [==============================] - 1s 2ms/step - loss: 0.4047 - accuracy: 0.8006 - precision: 0.7843 - recall: 0.8300 - val_loss: 0.6372 - val_accuracy: 0.6886 - val_precision: 0.6850 - val_recall: 0.6924\n",
      "Epoch 71/500\n",
      "729/729 [==============================] - 1s 2ms/step - loss: 0.4022 - accuracy: 0.8000 - precision: 0.7828 - recall: 0.8310 - val_loss: 0.6439 - val_accuracy: 0.6770 - val_precision: 0.6922 - val_recall: 0.6317\n",
      "Epoch 72/500\n",
      "729/729 [==============================] - 1s 2ms/step - loss: 0.4026 - accuracy: 0.8013 - precision: 0.7849 - recall: 0.8310 - val_loss: 0.6311 - val_accuracy: 0.6959 - val_precision: 0.6852 - val_recall: 0.7189\n",
      "Epoch 73/500\n",
      "729/729 [==============================] - 1s 2ms/step - loss: 0.4018 - accuracy: 0.8014 - precision: 0.7838 - recall: 0.8332 - val_loss: 0.6304 - val_accuracy: 0.6912 - val_precision: 0.6841 - val_recall: 0.7044\n",
      "Epoch 74/500\n",
      "729/729 [==============================] - 1s 2ms/step - loss: 0.4018 - accuracy: 0.8007 - precision: 0.7841 - recall: 0.8306 - val_loss: 0.6448 - val_accuracy: 0.7090 - val_precision: 0.6767 - val_recall: 0.7944\n",
      "Epoch 75/500\n",
      "729/729 [==============================] - 1s 2ms/step - loss: 0.4005 - accuracy: 0.8020 - precision: 0.7847 - recall: 0.8331 - val_loss: 0.6397 - val_accuracy: 0.6945 - val_precision: 0.6818 - val_recall: 0.7236\n",
      "Epoch 76/500\n",
      "729/729 [==============================] - 1s 2ms/step - loss: 0.4003 - accuracy: 0.8013 - precision: 0.7841 - recall: 0.8323 - val_loss: 0.6372 - val_accuracy: 0.6991 - val_precision: 0.6854 - val_recall: 0.7303\n",
      "Epoch 77/500\n",
      "729/729 [==============================] - 1s 2ms/step - loss: 0.3976 - accuracy: 0.8031 - precision: 0.7856 - recall: 0.8345 - val_loss: 0.6410 - val_accuracy: 0.6917 - val_precision: 0.6833 - val_recall: 0.7087\n",
      "Epoch 78/500\n",
      "729/729 [==============================] - 1s 2ms/step - loss: 0.3984 - accuracy: 0.8027 - precision: 0.7852 - recall: 0.8342 - val_loss: 0.6402 - val_accuracy: 0.7023 - val_precision: 0.6782 - val_recall: 0.7639\n",
      "365/365 [==============================] - 0s 910us/step\n",
      "Accuracy on training set: 0.817095935344696\n",
      "Accuracy on test set: 0.7022645473480225\n"
     ]
    },
    {
     "data": {
      "image/png": "[encoded data removed]",
      "text/plain": [
       "<Figure size 432x288 with 1 Axes>"
      ]
     },
     "metadata": {
      "needs_background": "light"
     },
     "output_type": "display_data"
    }
   ],
   "source": [
    "predictions = []\n",
    "  \n",
    "model = Sequential()\n",
    "model.add(Dense(128, activation='relu', input_shape=(X_train.shape[1],)))\n",
    "# model.add(Dropout(0.1))\n",
    "model.add(Dense(64, activation='relu'))\n",
    "# model.add(Dense(256, activation='relu'))\n",
    "# model.add(Dropout(0.1))\n",
    "model.add(Dense(1, activation='sigmoid'))  # Binary classification\n",
    "\n",
    "\n",
    "# Compilando o modelo\n",
    "optimizer = Adam(learning_rate=0.001)\n",
    "model.compile(loss='binary_crossentropy',\n",
    "            optimizer=optimizer,\n",
    "            metrics=['accuracy', 'Precision', 'Recall'])\n",
    "\n",
    "\n",
    "\n",
    "\n",
    "early_stop = EarlyStopping(monitor='val_loss', patience=50)\n",
    "\n",
    "# Treinando o modelo\n",
    "history = model.fit(X_train, y_train, epochs=500, batch_size=64, validation_data=(X_test, y_test), callbacks=[early_stop], verbose=1)\n",
    "# history = model.fit(X_train, y_train, epochs=500, batch_size=64, validation_data=(X_test, y_test), verbose=1)\n",
    "\n",
    "\n",
    "\n",
    "# Faz a predição utilizando os dados de teste\n",
    "predictions = model.predict(X_test)\n",
    "predictions = np.where(predictions > 0.5, 1, 0)\n",
    "\n",
    "# Avaliando a acurácia do modelo no conjunto de treinamento e conjunto de teste\n",
    "train_acc = model.evaluate(X_train, y_train, verbose=0)[1]\n",
    "test_acc = model.evaluate(X_test, y_test, verbose=0)[1]\n",
    "print('Accuracy on training set:', train_acc)\n",
    "print('Accuracy on test set:', test_acc)\n",
    "\n",
    "# Plotando a curva de aprendizado\n",
    "plt.plot(history.history['accuracy'])\n",
    "plt.plot(history.history['val_accuracy'])\n",
    "plt.title('Curva de Aprendizado')\n",
    "plt.ylabel('Acurácia')\n",
    "plt.xlabel('Época')\n",
    "plt.legend(['Treino', 'Teste'], loc='upper left')\n",
    "plt.show()\n",
    "\n",
    "# save model .h5\n",
    "model.save('model_redeht.h5')"
   ]
  },
  {
   "cell_type": "code",
   "execution_count": 106,
   "metadata": {},
   "outputs": [],
   "source": [
    "# h2o.cluster().shutdown()\n"
   ]
  },
  {
   "cell_type": "code",
   "execution_count": null,
   "metadata": {},
   "outputs": [],
   "source": []
  },
  {
   "cell_type": "markdown",
   "metadata": {},
   "source": [
    "# In pratice"
   ]
  },
  {
   "cell_type": "code",
   "execution_count": 107,
   "metadata": {},
   "outputs": [
    {
     "name": "stdout",
     "output_type": "stream",
     "text": [
      "Checking whether there is an H2O instance running at http://localhost:54321. connected.\n"
     ]
    },
    {
     "data": {
      "text/html": [
       "\n",
       "<style>\n",
       "\n",
       "#h2o-table-2.h2o-container {\n",
       "  overflow-x: auto;\n",
       "}\n",
       "#h2o-table-2 .h2o-table {\n",
       "  /* width: 100%; */\n",
       "  margin-top: 1em;\n",
       "  margin-bottom: 1em;\n",
       "}\n",
       "#h2o-table-2 .h2o-table caption {\n",
       "  white-space: nowrap;\n",
       "  caption-side: top;\n",
       "  text-align: left;\n",
       "  /* margin-left: 1em; */\n",
       "  margin: 0;\n",
       "  font-size: larger;\n",
       "}\n",
       "#h2o-table-2 .h2o-table thead {\n",
       "  white-space: nowrap; \n",
       "  position: sticky;\n",
       "  top: 0;\n",
       "  box-shadow: 0 -1px inset;\n",
       "}\n",
       "#h2o-table-2 .h2o-table tbody {\n",
       "  overflow: auto;\n",
       "}\n",
       "#h2o-table-2 .h2o-table th,\n",
       "#h2o-table-2 .h2o-table td {\n",
       "  text-align: right;\n",
       "  /* border: 1px solid; */\n",
       "}\n",
       "#h2o-table-2 .h2o-table tr:nth-child(even) {\n",
       "  /* background: #F5F5F5 */\n",
       "}\n",
       "\n",
       "</style>      \n",
       "<div id=\"h2o-table-2\" class=\"h2o-container\">\n",
       "  <table class=\"h2o-table\">\n",
       "    <caption></caption>\n",
       "    <thead></thead>\n",
       "    <tbody><tr><td>H2O_cluster_uptime:</td>\n",
       "<td>1 hour 22 mins</td></tr>\n",
       "<tr><td>H2O_cluster_timezone:</td>\n",
       "<td>America/Sao_Paulo</td></tr>\n",
       "<tr><td>H2O_data_parsing_timezone:</td>\n",
       "<td>UTC</td></tr>\n",
       "<tr><td>H2O_cluster_version:</td>\n",
       "<td>3.42.0.3</td></tr>\n",
       "<tr><td>H2O_cluster_version_age:</td>\n",
       "<td>30 days</td></tr>\n",
       "<tr><td>H2O_cluster_name:</td>\n",
       "<td>H2O_from_python_Pichau_eas44d</td></tr>\n",
       "<tr><td>H2O_cluster_total_nodes:</td>\n",
       "<td>1</td></tr>\n",
       "<tr><td>H2O_cluster_free_memory:</td>\n",
       "<td>5.820 Gb</td></tr>\n",
       "<tr><td>H2O_cluster_total_cores:</td>\n",
       "<td>12</td></tr>\n",
       "<tr><td>H2O_cluster_allowed_cores:</td>\n",
       "<td>12</td></tr>\n",
       "<tr><td>H2O_cluster_status:</td>\n",
       "<td>locked, healthy</td></tr>\n",
       "<tr><td>H2O_connection_url:</td>\n",
       "<td>http://localhost:54321</td></tr>\n",
       "<tr><td>H2O_connection_proxy:</td>\n",
       "<td>{\"http\": null, \"https\": null}</td></tr>\n",
       "<tr><td>H2O_internal_security:</td>\n",
       "<td>False</td></tr>\n",
       "<tr><td>Python_version:</td>\n",
       "<td>3.10.1 final</td></tr></tbody>\n",
       "  </table>\n",
       "</div>\n"
      ],
      "text/plain": [
       "--------------------------  -----------------------------\n",
       "H2O_cluster_uptime:         1 hour 22 mins\n",
       "H2O_cluster_timezone:       America/Sao_Paulo\n",
       "H2O_data_parsing_timezone:  UTC\n",
       "H2O_cluster_version:        3.42.0.3\n",
       "H2O_cluster_version_age:    30 days\n",
       "H2O_cluster_name:           H2O_from_python_Pichau_eas44d\n",
       "H2O_cluster_total_nodes:    1\n",
       "H2O_cluster_free_memory:    5.820 Gb\n",
       "H2O_cluster_total_cores:    12\n",
       "H2O_cluster_allowed_cores:  12\n",
       "H2O_cluster_status:         locked, healthy\n",
       "H2O_connection_url:         http://localhost:54321\n",
       "H2O_connection_proxy:       {\"http\": null, \"https\": null}\n",
       "H2O_internal_security:      False\n",
       "Python_version:             3.10.1 final\n",
       "--------------------------  -----------------------------"
      ]
     },
     "metadata": {},
     "output_type": "display_data"
    },
    {
     "name": "stdout",
     "output_type": "stream",
     "text": [
      "Parse progress: |████████████████████████████████████████████████████████████████| (done) 100%\n",
      "stackedensemble prediction progress: |███████████████████████████████████████████| (done) 100%\n"
     ]
    },
    {
     "data": {
      "text/html": [
       "<table class='dataframe'>\n",
       "<thead>\n",
       "<tr><th style=\"text-align: right;\">  predict</th><th style=\"text-align: right;\">      p0</th><th style=\"text-align: right;\">      p1</th></tr>\n",
       "</thead>\n",
       "<tbody>\n",
       "<tr><td style=\"text-align: right;\">        1</td><td style=\"text-align: right;\">0.589734</td><td style=\"text-align: right;\">0.410266</td></tr>\n",
       "</tbody>\n",
       "</table><pre style='font-size: smaller; margin-bottom: 1em;'>[1 row x 3 columns]</pre>"
      ],
      "text/plain": [
       "  predict        p0        p1\n",
       "---------  --------  --------\n",
       "        1  0.589734  0.410266\n",
       "[1 row x 3 columns]\n"
      ]
     },
     "execution_count": 107,
     "metadata": {},
     "output_type": "execute_result"
    }
   ],
   "source": [
    "h2o.init()\n",
    "loaded_model = h2o.load_model(\"C:/Users/Pichau/Desktop/eo-fut-live/models/model_automl\")\n",
    "Xht = df.drop(columns=['result', 'homeTeam', 'awayTeam', 'match_id']).head(1699).tail(1)\n",
    "Xht = preprocessor.transform(Xht)\n",
    "Xht = h2o.H2OFrame(Xht)\n",
    "loaded_model.predict(Xht)"
   ]
  },
  {
   "cell_type": "code",
   "execution_count": 108,
   "metadata": {},
   "outputs": [
    {
     "name": "stdout",
     "output_type": "stream",
     "text": [
      "stackedensemble prediction progress: |███████████████████████████████████████████| (done) 100%\n"
     ]
    },
    {
     "data": {
      "text/plain": [
       "0.410265916561806"
      ]
     },
     "execution_count": 108,
     "metadata": {},
     "output_type": "execute_result"
    }
   ],
   "source": [
    "h2o.as_list(loaded_model.predict(Xht)).loc[0, 'p1']"
   ]
  }
 ],
 "metadata": {
  "kernelspec": {
   "display_name": "Python 3",
   "language": "python",
   "name": "python3"
  },
  "language_info": {
   "codemirror_mode": {
    "name": "ipython",
    "version": 3
   },
   "file_extension": ".py",
   "mimetype": "text/x-python",
   "name": "python",
   "nbconvert_exporter": "python",
   "pygments_lexer": "ipython3",
   "version": "3.10.1"
  },
  "orig_nbformat": 4,
  "vscode": {
   "interpreter": {
    "hash": "369f2c481f4da34e4445cda3fffd2e751bd1c4d706f27375911949ba6bb62e1c"
   }
  }
 },
 "nbformat": 4,
 "nbformat_minor": 2
}
