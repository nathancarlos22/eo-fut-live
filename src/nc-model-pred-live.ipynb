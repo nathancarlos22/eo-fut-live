{
 "cells": [
  {
   "cell_type": "markdown",
   "metadata": {},
   "source": [
    "# Imports and loads"
   ]
  },
  {
   "cell_type": "code",
   "execution_count": 15,
   "metadata": {},
   "outputs": [],
   "source": [
    "import pandas as pd\n",
    "import numpy as np\n",
    "import warnings\n",
    "import numpy as np\n",
    "import pandas as pd\n",
    "from keras.layers import Dense\n",
    "from keras.models import Sequential\n",
    "from sklearn.ensemble import RandomForestClassifier\n",
    "from sklearn.metrics import mean_squared_error\n",
    "from sklearn.model_selection import train_test_split\n",
    "from keras.optimizers import Adam\n",
    "import matplotlib.pyplot as plt\n",
    "import h2o\n",
    "\n",
    "from sklearn.preprocessing import StandardScaler, OneHotEncoder\n",
    "from sklearn.compose import ColumnTransformer\n",
    "import pickle\n",
    "from h2o.automl import H2OAutoML\n",
    "\n",
    "from sklearn.metrics import roc_curve, auc\n",
    "import matplotlib.pyplot as plt\n",
    "from sklearn.metrics import confusion_matrix\n",
    "import seaborn as sns\n",
    "from keras.callbacks import EarlyStopping\n",
    "\n",
    "warnings.filterwarnings('ignore')\n",
    "\n",
    "df05ht = pd.read_csv('data_live_scores.csv', encoding='utf-8')"
   ]
  },
  {
   "cell_type": "markdown",
   "metadata": {},
   "source": [
    "# Preprocess"
   ]
  },
  {
   "cell_type": "markdown",
   "metadata": {},
   "source": [
    "## Tratando as minutagens"
   ]
  },
  {
   "cell_type": "code",
   "execution_count": 16,
   "metadata": {},
   "outputs": [
    {
     "name": "stdout",
     "output_type": "stream",
     "text": [
      "Valores únicos de minutos antes da conversão: ['0:53' '2:00' '3:07' ... '45+3:18' '45+5:15' '45+6:44'] \n",
      "\n",
      "Valores únicos de minutos após a conversão: [ 0  2  3  4  5  6  7  8  9 10 12 13 14 15 16  1 11 17 18 19 20 21 22 23\n",
      " 24 25 26 27 28 29 30 31 32 33 34 35 36 37 38 39 41 42 43 44 45 40 71 90\n",
      " 67 68 69] \n",
      "\n",
      "Dimensão do DataFrame após remoção: (280498, 27)\n"
     ]
    }
   ],
   "source": [
    "df = df05ht.copy()\n",
    "print(f'Valores únicos de minutos antes da conversão: {df.minute.unique()} \\n')\n",
    "\n",
    "# Convertendo os minutos para inteiros\n",
    "df['minute'] = df['minute'].str.extract('(\\d+)').astype(int)\n",
    "\n",
    "print(f'Valores únicos de minutos após a conversão: {df.minute.unique()} \\n')\n",
    "\n",
    "# Removendo os minutos iguais a 0\n",
    "df = df[df['minute'] != 0]\n",
    "\n",
    "# Identificando e removendo IDs de jogos com minutos fora do intervalo permitido\n",
    "invalid_ids = df[df['minute'] > 45]['match_id'].unique()\n",
    "df = df[~df['match_id'].isin(invalid_ids)]\n",
    "\n",
    "print(f'Dimensão do DataFrame após remoção: {df.shape}')\n"
   ]
  },
  {
   "cell_type": "code",
   "execution_count": 17,
   "metadata": {},
   "outputs": [],
   "source": [
    "# Calculando o tempo de posse de bola\n",
    "total_passes = df['passes_away'] + df['passes_home']\n",
    "df['possessiontime_away'] = (df['passes_away'] / total_passes) * 100\n",
    "df['possessiontime_home'] = (df['passes_home'] / total_passes) * 100\n",
    "\n",
    "# Renomeando colunas\n",
    "new_column_names = {'fouls_won_away': 'fouls_away', 'fouls_won_home': 'fouls_home'}\n",
    "df.rename(columns=new_column_names, inplace=True)\n",
    "\n",
    "# Atualizando a coluna 'result' para 0, exceto onde já é 1\n",
    "df.loc[df['result'] != 1, 'result'] = 0\n",
    "\n",
    "# Removendo duplicatas com base em 'match_id' e 'minute'\n",
    "df.drop_duplicates(subset=['match_id', 'minute'], keep='last', inplace=True)\n",
    "\n",
    "# Classificando o DataFrame\n",
    "df.sort_values(by=['match_id', 'minute'], inplace=True)\n",
    "\n",
    "# Removendo colunas desnecessárias e limpando o DataFrame\n",
    "columns_to_drop = [\"date\", 'passes_home', 'passes_away', 'fouls_c_home', 'fouls_c_away']\n",
    "df.drop(columns=columns_to_drop, inplace=True)\n",
    "df.dropna(inplace=True)\n",
    "df.reset_index(drop=True, inplace=True)\n",
    "\n",
    "# Obtendo ligas únicas\n",
    "leagues_opta = df['league'].unique()\n",
    "\n",
    "# df.to_csv('data_teste.csv', index=False)"
   ]
  },
  {
   "cell_type": "markdown",
   "metadata": {},
   "source": [
    "## Tratando o formato das ligas para ligas legíveis na API"
   ]
  },
  {
   "cell_type": "code",
   "execution_count": 18,
   "metadata": {},
   "outputs": [
    {
     "name": "stdout",
     "output_type": "stream",
     "text": [
      "South America - CONMEBOL Libertadores\n",
      "Brazil - Paulista A1\n",
      "Asia - AFC Champions League\n",
      "Brazil - Supercopa do Brasil\n",
      "Japan - J1 League\n",
      "South America - CONMEBOL Sudamericana\n",
      "USA - MLS\n",
      "Brazil - Copa do Brasil\n",
      "Germany - Play-offs 1/2\n",
      "Mexico - Liga MX\n",
      "Scotland - Premiership\n",
      "Brazil - Serie A\n",
      "France - Ligue 1\n",
      "Europe - UEFA Champions League\n",
      "England - League Cup\n",
      "Europe - UEFA Nations League\n",
      "England - Premier League\n",
      "Germany - Bundesliga\n",
      "Italy - Serie A\n",
      "Italy - Serie B\n",
      "Netherlands - Eredivisie\n",
      "England - Championship\n",
      "Spain - Primera División\n",
      "Greece - Super League 1\n",
      "South America - CONMEBOL World Cup Qualifiers\n",
      "England - League One\n",
      "England - League Two\n",
      "Europe - UEFA Europa League\n",
      "Argentina - Liga Profesional Argentina\n",
      "England - FA Cup\n",
      "Australia - A-League Men\n",
      "Europe - UEFA European Championship\n",
      "N/C America - Concacaf Gold Cup\n",
      "Europe - UEFA World Cup Qualifiers\n",
      "Denmark - Superliga\n",
      "Saudi Arabia - Saudi League\n",
      "Italy - Coppa Italia\n",
      "Romania - Liga I\n",
      "Spain - Segunda División\n",
      "Germany - DFB Pokal\n",
      "Portugal - Primeira Liga\n",
      "Portugal - Play-offs 1/2\n",
      "Europe - UEFA Europa Conference League\n",
      "Europe - UEFA Women's Championship\n",
      "Spain - Copa del Rey\n",
      "World - FIFA World Cup\n",
      "France - Coupe de France\n",
      "Spain - Super Cup\n",
      "Italy - Super Cup\n",
      "World - FIFA Club World Cup\n",
      "South America - CONMEBOL Recopa\n",
      "Europe - UEFA European Championship Qualifiers\n",
      "Europe - UEFA U21 Championship\n",
      "World - FIFA Women's World Cup\n",
      "England - Community Shield\n",
      "N/C America - Leagues Cup\n",
      "Europe - UEFA Super Cup\n",
      "59\n",
      "57\n"
     ]
    }
   ],
   "source": [
    "for league in leagues_opta:\n",
    "    print(league)\n",
    "\n",
    "name_mapping = {\n",
    "    'England - Premier League': 'England - Premier League',\n",
    "    'Germany - Bundesliga': 'Germany - Bundesliga',\n",
    "    'Spain - Primera División': 'Spain - La Liga',\n",
    "    'France - Ligue 1': 'France - Ligue 1',\n",
    "    'Italy - Serie A': 'Italy - Serie A',\n",
    "    'USA - MLS': 'USA - Major League Soccer',\n",
    "    'Brazil - Serie A': 'Brazil - Serie A',\n",
    "    'Netherlands - Eredivisie': 'Netherlands - Eredivisie',\n",
    "    'England - Championship': 'England - Championship',\n",
    "    'Portugal - Primeira Liga': 'Portugal - Liga Portugal',\n",
    "    'Romania - Liga I': 'Romania - Liga 1',\n",
    "    \"World - FIFA Women's World Cup\": 'World - World Cup Women',\n",
    "    'England - League One': 'England - League One',\n",
    "    'England - League Two': 'England - League Two',\n",
    "    'Europe - UEFA Europa Conference League': 'Europe - Europa Conference League',\n",
    "    'England - League Cup': 'England - Carabao Cup',\n",
    "    'Europe - UEFA Super Cup': 'Europe - Uefa Super Cup',\n",
    "    'Europe - UEFA Champions League': 'Europe - Champions League',\n",
    "    'Germany - DFB Pokal': 'Germany - DFB Pokal',\n",
    "    'Italy - Coppa Italia': 'Italy - Coppa Italia',\n",
    "    'Scotland - Premiership': 'Scotland - Premiership',\n",
    "    'Germany - Super Cup': 'Germany - Super Cup',\n",
    "    'South America - CONMEBOL Libertadores': 'South America - Copa Libertadores',\n",
    "    'England - Community Shield': 'England - Community Shield',\n",
    "    'N/C America - Concacaf Gold Cup': 'World - CONCACAF Gold Cup',\n",
    "    'Europe - UEFA U21 Championship': 'Europe - Euro U21',\n",
    "    'Romania - Supercupa': 'Romania - Super Cup',\n",
    "    'Romania - Play-offs 1/2': 'Romania - Liga 1 - Play-offs',\n",
    "    'Australia - A-League Men': 'Australia - A-League',\n",
    "    'Portugal - Play-offs 1/2': 'Portugal - Primeira Liga - Play-offs',\n",
    "    'Europe - UEFA European Championship Qualifiers': 'Europe - Euro Qualification',\n",
    "    'Germany - Play-offs 1/2': 'Germany - Bundesliga Play-offs',\n",
    "    'Europe - UEFA Nations League': 'Europe - UEFA Nations League',\n",
    "    'Europe - UEFA Europa League': 'Europe - Europa League',\n",
    "    'England - FA Cup': 'England - FA Cup',\n",
    "    'Spain - Copa del Rey': 'Spain - Copa Del Rey',\n",
    "    'World - FIFA World Cup': 'World - FIFA World Cup',\n",
    "    'France - Coupe de France': 'France - Coupe de France',\n",
    "    'Spain - Super Cup': 'Spain - Super Cup',\n",
    "    'Italy - Super Cup': 'Italy - Super Cup',\n",
    "    'World - FIFA Club World Cup': 'World - FIFA Club World Cup',\n",
    "    'Argentina - Liga Profesional Argentina': \"Argentina - Superliga\",\n",
    "    'Brazil - Paulista A1': 'Brazil - Paulista A1',\n",
    "    'Brazil - Copa do Brasil': 'Brazil - Copa Do Brasil',\n",
    "    'Denmark - Superliga':'Denmark - Superliga',\n",
    "    'Mexico - Liga MX': 'Mexico - Liga MX',\n",
    "    'Greece - Super League 1': 'Greece - Super League',\n",
    "    'Asia - AFC Champions League': 'Asia - AFC Champions League', #* grupos f,j...\n",
    "    'South America - CONMEBOL Sudamericana': 'South America - CONMEBOL Sudamericana', # nao tem\n",
    "    'Spain - Segunda División': 'Spain - La Liga 2',\n",
    "    'Saudi Arabia - Saudi League': 'Saudi Arabia - Pro League',\n",
    "    'Italy - Serie B': 'Italy - Serie B',\n",
    "    'Japan - J1 League': 'Japan - J-League',\n",
    "    'South America - CONMEBOL World Cup Qualifiers': 'South America - CONMEBOL World Cup Qualifiers', # nao tem\n",
    "    'Europe - UEFA World Cup Qualifiers': 'Europe - UEFA World Cup Qualifiers', # nao tem\n",
    "    \"Europe - UEFA Women's Championship\": 'Europe - UEFA Women Championship', # nao tem\n",
    "    \"France - Trophée des Champions\": 'France - Trophée des Champions',\n",
    "    'Brazil - Supercopa do Brasil': 'Brazil - Supercopa do Brasil',\n",
    "    'South America - CONMEBOL Recopa': 'South America - Recopa Sudamericana',\n",
    "\n",
    "\n",
    "}\n",
    "\n",
    "print(len(name_mapping))\n",
    "print(len(leagues_opta))\n",
    "\n",
    "# Atualize os nomes das ligas em df05ht\n",
    "df['league'] = df['league'].replace(name_mapping)\n"
   ]
  },
  {
   "cell_type": "code",
   "execution_count": 19,
   "metadata": {},
   "outputs": [
    {
     "name": "stdout",
     "output_type": "stream",
     "text": [
      "6543\n",
      "0.0    155962\n",
      "1.0     15155\n",
      "Name: result, dtype: int64\n",
      "171117\n"
     ]
    }
   ],
   "source": [
    "print(len(df['match_id'].unique()))\n",
    "print(df['result'].value_counts())\n",
    "print(len(df))"
   ]
  },
  {
   "cell_type": "code",
   "execution_count": 20,
   "metadata": {},
   "outputs": [
    {
     "data": {
      "text/plain": [
       "(1. FC Heidenheim 1846          194.0\n",
       " 1. FC Köln                     782.0\n",
       " 1. FC Union Berlin            1517.0\n",
       " 1. FSV Mainz 05               1086.0\n",
       " AC Ajaccio                     513.0\n",
       "                                ...  \n",
       " Wolverhampton Wanderers FC    2295.0\n",
       " Wrexham FC                     135.0\n",
       " Wycombe Wanderers FC           291.0\n",
       " Yokohama F. Marinos            197.0\n",
       " Yokohama FC                    100.0\n",
       " Length: 570, dtype: float64,\n",
       " 0.0    0.821103\n",
       " 1.0    0.178897\n",
       " Name: result, dtype: float64)"
      ]
     },
     "execution_count": 20,
     "metadata": {},
     "output_type": "execute_result"
    }
   ],
   "source": [
    "# Counting the number of matches played by each team\n",
    "matches_home = df['homeTeam'].value_counts()\n",
    "matches_away = df['awayTeam'].value_counts()\n",
    "\n",
    "# Combining home and away matches for each team\n",
    "total_matches_per_team = matches_home.add(matches_away, fill_value=0)\n",
    "\n",
    "# Checking if each team has played at least 100 matches\n",
    "teams_with_100_plus_matches = total_matches_per_team[total_matches_per_team >= 100]\n",
    "\n",
    "# Analyzing the distribution of values in the 'result' column\n",
    "result_distribution = df05ht['result'].value_counts(normalize=True)\n",
    "\n",
    "teams_with_100_plus_matches, result_distribution\n"
   ]
  },
  {
   "cell_type": "code",
   "execution_count": 21,
   "metadata": {},
   "outputs": [
    {
     "data": {
      "text/plain": [
       "['England - Community Shield',\n",
       " 'Europe - Uefa Super Cup',\n",
       " 'Germany - Bundesliga Play-offs',\n",
       " 'Italy - Super Cup',\n",
       " 'N/C America - Leagues Cup',\n",
       " 'South America - Recopa Sudamericana',\n",
       " 'World - FIFA Club World Cup',\n",
       " 'South America - Recopa Sudamericana',\n",
       " 'Spain - Super Cup',\n",
       " 'England - Community Shield',\n",
       " 'Portugal - Primeira Liga - Play-offs',\n",
       " 'Brazil - Supercopa do Brasil',\n",
       " 'Europe - Uefa Super Cup',\n",
       " 'Germany - Bundesliga Play-offs',\n",
       " 'Italy - Super Cup',\n",
       " 'N/C America - Leagues Cup']"
      ]
     },
     "execution_count": 21,
     "metadata": {},
     "output_type": "execute_result"
    }
   ],
   "source": [
    "# 1. Identify leagues with only one unique value in 'result' column\n",
    "single_value_leagues = df.groupby('league').apply(lambda x: len(x['result'].unique()) == 1)\n",
    "\n",
    "# 2. Identify leagues with fewer than 100 matches\n",
    "few_matches_leagues = df['league'].value_counts()\n",
    "few_matches_leagues = few_matches_leagues[few_matches_leagues < 100].index.tolist()\n",
    "\n",
    "# Combine the lists of leagues to drop\n",
    "leagues_to_drop = single_value_leagues[single_value_leagues].index.tolist() + few_matches_leagues\n",
    "\n",
    "# Drop the identified leagues\n",
    "filtered_data = df[~df['league'].isin(leagues_to_drop)]\n",
    "\n",
    "# 3. Balance the 'result' column for each remaining league\n",
    "balanced_data = []\n",
    "for league in filtered_data['league'].unique():\n",
    "    league_data = filtered_data[filtered_data['league'] == league]\n",
    "    min_count = league_data['result'].value_counts().min()\n",
    "    \n",
    "    # Sample 'min_count' examples from each result value\n",
    "    balanced_samples = [league_data[league_data['result'] == result_val].sample(min_count, random_state=42) for result_val in [0, 1]]\n",
    "    balanced_data.extend(balanced_samples)\n",
    "\n",
    "# Combine the balanced data samples\n",
    "balanced_data = pd.concat(balanced_data, axis=0)\n",
    "balanced_data.dropna(inplace=True)\n",
    "\n",
    "# Display the first few rows of the balanced data and the list of dropped leagues\n",
    "leagues_to_drop\n"
   ]
  },
  {
   "cell_type": "code",
   "execution_count": 22,
   "metadata": {},
   "outputs": [
    {
     "data": {
      "text/plain": [
       "0.0    15059\n",
       "1.0    15059\n",
       "Name: result, dtype: int64"
      ]
     },
     "execution_count": 22,
     "metadata": {},
     "output_type": "execute_result"
    }
   ],
   "source": [
    "df = balanced_data.copy()\n",
    "df['result'].value_counts()"
   ]
  },
  {
   "cell_type": "code",
   "execution_count": 23,
   "metadata": {},
   "outputs": [
    {
     "data": {
      "image/png": "[encoded data removed]",
      "text/plain": [
       "<Figure size 1080x720 with 1 Axes>"
      ]
     },
     "metadata": {
      "needs_background": "light"
     },
     "output_type": "display_data"
    }
   ],
   "source": [
    "# Group the data by league and result and get the size of each group\n",
    "league_distribution = df.groupby(['league', 'result']).size().unstack().fillna(0)\n",
    "\n",
    "# Sort the leagues based on the total number of games\n",
    "sorted_leagues = league_distribution.sum(axis=1).sort_values(ascending=False).head(100).index\n",
    "\n",
    "# Plot\n",
    "plt.figure(figsize=(15, 10))\n",
    "league_distribution.loc[sorted_leagues].plot(kind='bar', stacked=True, ax=plt.gca())\n",
    "plt.title('Distribution of \"result\" for Each League')\n",
    "plt.ylabel('Number of Games')\n",
    "plt.xlabel('League')\n",
    "plt.tight_layout()\n",
    "plt.xticks(rotation=90)\n",
    "plt.show()\n"
   ]
  },
  {
   "cell_type": "code",
   "execution_count": null,
   "metadata": {},
   "outputs": [],
   "source": []
  },
  {
   "cell_type": "markdown",
   "metadata": {},
   "source": [
    "# Preprocessor Features"
   ]
  },
  {
   "cell_type": "code",
   "execution_count": 24,
   "metadata": {},
   "outputs": [],
   "source": [
    "# Separando os dados em características e variável alvo\n",
    "X = df.drop(columns=['result', 'homeTeam', 'awayTeam', 'match_id'])\n",
    "# X = df.drop(columns=['result','league', 'match_id'])\n",
    "y = df['result']\n",
    "\n",
    "# Definindo as colunas numéricas e categóricas\n",
    "numeric_features = X.select_dtypes(exclude=['object']).columns.tolist()\n",
    "# categorical_features = ['homeTeam', 'awayTeam']\n",
    "categorical_features = ['league']\n",
    "\n",
    "# Criando o transformador de colunas\n",
    "preprocessor = ColumnTransformer(\n",
    "    transformers=[\n",
    "        ('num', StandardScaler(), numeric_features),\n",
    "        ('cat', OneHotEncoder(drop='first'), categorical_features)\n",
    "    ])\n",
    "\n",
    "# Aplicando as transformações\n",
    "X = preprocessor.fit_transform(X)\n",
    "\n",
    "with open(f'../models/preprocessor.pickle', 'wb') as f:\n",
    "    pickle.dump(preprocessor, f)"
   ]
  },
  {
   "cell_type": "code",
   "execution_count": 25,
   "metadata": {},
   "outputs": [],
   "source": [
    "X_train, X_test, y_train, y_test = train_test_split(X, y, test_size=0.20,train_size=0.80, random_state=42)"
   ]
  },
  {
   "cell_type": "markdown",
   "metadata": {},
   "source": [
    "# Modeling"
   ]
  },
  {
   "cell_type": "markdown",
   "metadata": {},
   "source": [
    "## Automl h2o"
   ]
  },
  {
   "cell_type": "code",
   "execution_count": 26,
   "metadata": {},
   "outputs": [
    {
     "name": "stdout",
     "output_type": "stream",
     "text": [
      "Checking whether there is an H2O instance running at http://localhost:54321. connected.\n"
     ]
    },
    {
     "data": {
      "text/html": [
       "\n",
       "<style>\n",
       "\n",
       "#h2o-table-3.h2o-container {\n",
       "  overflow-x: auto;\n",
       "}\n",
       "#h2o-table-3 .h2o-table {\n",
       "  /* width: 100%; */\n",
       "  margin-top: 1em;\n",
       "  margin-bottom: 1em;\n",
       "}\n",
       "#h2o-table-3 .h2o-table caption {\n",
       "  white-space: nowrap;\n",
       "  caption-side: top;\n",
       "  text-align: left;\n",
       "  /* margin-left: 1em; */\n",
       "  margin: 0;\n",
       "  font-size: larger;\n",
       "}\n",
       "#h2o-table-3 .h2o-table thead {\n",
       "  white-space: nowrap; \n",
       "  position: sticky;\n",
       "  top: 0;\n",
       "  box-shadow: 0 -1px inset;\n",
       "}\n",
       "#h2o-table-3 .h2o-table tbody {\n",
       "  overflow: auto;\n",
       "}\n",
       "#h2o-table-3 .h2o-table th,\n",
       "#h2o-table-3 .h2o-table td {\n",
       "  text-align: right;\n",
       "  /* border: 1px solid; */\n",
       "}\n",
       "#h2o-table-3 .h2o-table tr:nth-child(even) {\n",
       "  /* background: #F5F5F5 */\n",
       "}\n",
       "\n",
       "</style>      \n",
       "<div id=\"h2o-table-3\" class=\"h2o-container\">\n",
       "  <table class=\"h2o-table\">\n",
       "    <caption></caption>\n",
       "    <thead></thead>\n",
       "    <tbody><tr><td>H2O_cluster_uptime:</td>\n",
       "<td>3 mins 26 secs</td></tr>\n",
       "<tr><td>H2O_cluster_timezone:</td>\n",
       "<td>America/Sao_Paulo</td></tr>\n",
       "<tr><td>H2O_data_parsing_timezone:</td>\n",
       "<td>UTC</td></tr>\n",
       "<tr><td>H2O_cluster_version:</td>\n",
       "<td>3.42.0.3</td></tr>\n",
       "<tr><td>H2O_cluster_version_age:</td>\n",
       "<td>2 months and 26 days</td></tr>\n",
       "<tr><td>H2O_cluster_name:</td>\n",
       "<td>H2O_from_python_Pichau_0llkz7</td></tr>\n",
       "<tr><td>H2O_cluster_total_nodes:</td>\n",
       "<td>1</td></tr>\n",
       "<tr><td>H2O_cluster_free_memory:</td>\n",
       "<td>5.965 Gb</td></tr>\n",
       "<tr><td>H2O_cluster_total_cores:</td>\n",
       "<td>12</td></tr>\n",
       "<tr><td>H2O_cluster_allowed_cores:</td>\n",
       "<td>12</td></tr>\n",
       "<tr><td>H2O_cluster_status:</td>\n",
       "<td>locked, healthy</td></tr>\n",
       "<tr><td>H2O_connection_url:</td>\n",
       "<td>http://localhost:54321</td></tr>\n",
       "<tr><td>H2O_connection_proxy:</td>\n",
       "<td>{\"http\": null, \"https\": null}</td></tr>\n",
       "<tr><td>H2O_internal_security:</td>\n",
       "<td>False</td></tr>\n",
       "<tr><td>Python_version:</td>\n",
       "<td>3.10.1 final</td></tr></tbody>\n",
       "  </table>\n",
       "</div>\n"
      ],
      "text/plain": [
       "--------------------------  -----------------------------\n",
       "H2O_cluster_uptime:         3 mins 26 secs\n",
       "H2O_cluster_timezone:       America/Sao_Paulo\n",
       "H2O_data_parsing_timezone:  UTC\n",
       "H2O_cluster_version:        3.42.0.3\n",
       "H2O_cluster_version_age:    2 months and 26 days\n",
       "H2O_cluster_name:           H2O_from_python_Pichau_0llkz7\n",
       "H2O_cluster_total_nodes:    1\n",
       "H2O_cluster_free_memory:    5.965 Gb\n",
       "H2O_cluster_total_cores:    12\n",
       "H2O_cluster_allowed_cores:  12\n",
       "H2O_cluster_status:         locked, healthy\n",
       "H2O_connection_url:         http://localhost:54321\n",
       "H2O_connection_proxy:       {\"http\": null, \"https\": null}\n",
       "H2O_internal_security:      False\n",
       "Python_version:             3.10.1 final\n",
       "--------------------------  -----------------------------"
      ]
     },
     "metadata": {},
     "output_type": "display_data"
    },
    {
     "name": "stdout",
     "output_type": "stream",
     "text": [
      "Parse progress: |████████████████████████████████████████████████████████████████| (done) 100%\n",
      "Parse progress: |████████████████████████████████████████████████████████████████| (done) 100%\n",
      "Parse progress: |████████████████████████████████████████████████████████████████| (done) 100%\n",
      "Parse progress: |████████████████████████████████████████████████████████████████| (done) 100%\n",
      "Parse progress: |████████████████████████████████████████████████████████████████| (done) 100%\n",
      "Parse progress: |████████████████████████████████████████████████████████████████| (done) 100%\n",
      "Parse progress: |████████████████████████████████████████████████████████████████| (done) 100%\n",
      "Parse progress: |████████████████████████████████████████████████████████████████| (done) 100%\n",
      "X_train_h2o shape: (24094, 65)\n",
      "y_train_h2o shape: (24094, 1)\n",
      "X_test_h2o shape: (6024, 65)\n",
      "y_test_h2o shape: (6024, 1)\n",
      "AutoML progress: |█\n",
      "12:30:54.139: AutoML: XGBoost is not available; skipping it.\n",
      "\n",
      "██████████████████████████████████████████████████████████████| (done) 100%\n",
      "model_id                                                      auc    logloss     aucpr    mean_per_class_error      rmse        mse\n",
      "StackedEnsemble_AllModels_1_AutoML_1_20231118_123054     0.936779   0.319715  0.941279                0.140686  0.315032  0.0992452\n",
      "StackedEnsemble_BestOfFamily_1_AutoML_1_20231118_123054  0.936042   0.321145  0.941133                0.139265  0.3158    0.0997297\n",
      "GBM_grid_1_AutoML_1_20231118_123054_model_3              0.93176    0.334135  0.937602                0.144415  0.322872  0.104246\n",
      "GBM_4_AutoML_1_20231118_123054                           0.903465   0.410026  0.899649                0.173817  0.358669  0.128644\n",
      "GBM_grid_1_AutoML_1_20231118_123054_model_5              0.900233   0.427643  0.897125                0.184262  0.367045  0.134722\n",
      "DRF_1_AutoML_1_20231118_123054                           0.882997   0.551784  0.890141                0.212227  0.427688  0.182917\n",
      "GBM_3_AutoML_1_20231118_123054                           0.870241   0.476645  0.865128                0.215566  0.392486  0.154045\n",
      "GBM_1_AutoML_1_20231118_123054                           0.845857   0.4992    0.838716                0.243217  0.404812  0.163872\n",
      "DeepLearning_grid_2_AutoML_1_20231118_123054_model_2     0.843911   0.488212  0.834571                0.26683   0.399886  0.159909\n",
      "GBM_grid_1_AutoML_1_20231118_123054_model_4              0.84332    0.546284  0.844614                0.246386  0.425804  0.181309\n",
      "[22 rows x 7 columns]\n",
      "\n"
     ]
    }
   ],
   "source": [
    "# Inicializar o H2O\n",
    "h2o.init()\n",
    "\n",
    "# Convertendo dados do numpy para H2OFrame\n",
    "X_train_h2o = h2o.H2OFrame(pd.DataFrame(X_train, columns=[\"col_\" + str(i) for i in range(X_train.shape[1])]))\n",
    "X_test_h2o = h2o.H2OFrame(pd.DataFrame(X_test, columns=[\"col_\" + str(i) for i in range(X_test.shape[1])]))\n",
    "y_train_h2o = h2o.H2OFrame(pd.DataFrame(y_train, columns=[\"result\"]))\n",
    "y_test_h2o = h2o.H2OFrame(pd.DataFrame(y_test, columns=[\"result\"]))\n",
    "\n",
    "# Convert Pandas DataFrame or NumPy array to H2OFrame\n",
    "X_train_h2o = h2o.H2OFrame(X_train)\n",
    "X_test_h2o = h2o.H2OFrame(X_test)\n",
    "\n",
    "y_train_df = y_train.to_frame()\n",
    "y_train_h2o = h2o.H2OFrame(y_train_df)\n",
    "y_train_h2o['result'] = y_train_h2o['result'].asfactor()\n",
    "\n",
    "y_test_df = y_test.to_frame()\n",
    "y_test_h2o = h2o.H2OFrame(y_test_df)\n",
    "y_test_h2o['result'] = y_test_h2o['result'].asfactor()\n",
    "\n",
    "# Check the shape again\n",
    "print(\"X_train_h2o shape:\", X_train_h2o.shape)\n",
    "print(\"y_train_h2o shape:\", y_train_h2o.shape)\n",
    "print(\"X_test_h2o shape:\", X_test_h2o.shape)\n",
    "print(\"y_test_h2o shape:\", y_test_h2o.shape)\n",
    "\n",
    "# Combine them back into one frame\n",
    "train_data = X_train_h2o.cbind(y_train_h2o)\n",
    "test_data = X_test_h2o.cbind(y_test_h2o)\n",
    "\n",
    "# Identify predictors and response\n",
    "x = train_data.columns\n",
    "\n",
    "y = \"result\"\n",
    "x.remove(y)\n",
    "\n",
    "# Run AutoML\n",
    "aml = H2OAutoML(max_models=20, seed=42)\n",
    "aml.train(x=x, y=y, training_frame=train_data)\n",
    "\n",
    "# View leaderboard\n",
    "lb = aml.leaderboard\n",
    "print(lb)\n",
    "\n",
    "#save the model\n",
    "model_path = h2o.save_model(model=aml.leader, path=\"../models/\", force=True)"
   ]
  },
  {
   "cell_type": "code",
   "execution_count": 33,
   "metadata": {},
   "outputs": [
    {
     "name": "stdout",
     "output_type": "stream",
     "text": [
      "stackedensemble prediction progress: |███████████████████████████████████████████| (done) 100%\n"
     ]
    },
    {
     "data": {
      "image/png": "[encoded data removed]",
      "text/plain": [
       "<Figure size 432x288 with 1 Axes>"
      ]
     },
     "metadata": {
      "needs_background": "light"
     },
     "output_type": "display_data"
    },
    {
     "data": {
      "image/png": "[encoded data removed]",
      "text/plain": [
       "<Figure size 504x360 with 2 Axes>"
      ]
     },
     "metadata": {
      "needs_background": "light"
     },
     "output_type": "display_data"
    }
   ],
   "source": [
    "loaded_model = h2o.load_model(\"C:/Users/Pichau/Desktop/eofut/models/model_automl\")\n",
    "y_pred_prob = loaded_model.predict(X_test_h2o)\n",
    "y_pred = h2o.as_list(y_pred_prob)\n",
    "y_pred_prob = y_pred['predict'].tolist()\n",
    "\n",
    "# Falsos positivos, verdadeiros positivos e limiares\n",
    "fpr, tpr, thresholds = roc_curve(y_test, y_pred_prob)\n",
    "\n",
    "# Área sob a curva\n",
    "roc_auc = auc(fpr, tpr)\n",
    "\n",
    "plt.figure()\n",
    "plt.plot(fpr, tpr, color='darkorange', lw=1, label='ROC curve (area = %0.2f)' % roc_auc)\n",
    "plt.xlim([0.0, 1.0])\n",
    "plt.ylim([0.0, 1.05])\n",
    "plt.xlabel('False Positive Rate')\n",
    "plt.ylabel('True Positive Rate')\n",
    "plt.title('Receiver Operating Characteristic')\n",
    "plt.legend(loc=\"lower right\")\n",
    "plt.show()\n",
    "\n",
    "# Matriz de confusão\n",
    "y_pred_round = [round(value) for value in y_pred_prob]\n",
    "cm = confusion_matrix(y_test.to_list(), y_pred_round)\n",
    "\n",
    "plt.figure(figsize=(7, 5))\n",
    "sns.heatmap(cm, annot=True, cmap='Blues', fmt='g')\n",
    "plt.xlabel('Predicted')\n",
    "plt.ylabel('True')\n",
    "plt.show()"
   ]
  },
  {
   "cell_type": "markdown",
   "metadata": {},
   "source": [
    "### In pratice"
   ]
  },
  {
   "cell_type": "code",
   "execution_count": 31,
   "metadata": {},
   "outputs": [
    {
     "name": "stdout",
     "output_type": "stream",
     "text": [
      "Parse progress: |████████████████████████████████████████████████████████████████| (done) 100%\n",
      "stackedensemble prediction progress: |███████████████████████████████████████████| (done) 100%\n"
     ]
    },
    {
     "data": {
      "text/html": [
       "<table class='dataframe'>\n",
       "<thead>\n",
       "<tr><th style=\"text-align: right;\">  predict</th><th style=\"text-align: right;\">       p0</th><th style=\"text-align: right;\">      p1</th></tr>\n",
       "</thead>\n",
       "<tbody>\n",
       "<tr><td style=\"text-align: right;\">        1</td><td style=\"text-align: right;\">0.0241045</td><td style=\"text-align: right;\">0.975896</td></tr>\n",
       "</tbody>\n",
       "</table><pre style='font-size: smaller; margin-bottom: 1em;'>[1 row x 3 columns]</pre>"
      ],
      "text/plain": [
       "  predict         p0        p1\n",
       "---------  ---------  --------\n",
       "        1  0.0241045  0.975896\n",
       "[1 row x 3 columns]\n"
      ]
     },
     "execution_count": 31,
     "metadata": {},
     "output_type": "execute_result"
    }
   ],
   "source": [
    "# h2o.init()\n",
    "loaded_model = h2o.load_model(\"C:/Users/Pichau/Desktop/eofut/models/model_automl\")\n",
    "Xht = df.drop(columns=['result', 'homeTeam', 'awayTeam', 'match_id']).head(1699).tail(1)\n",
    "Xht = preprocessor.transform(Xht)\n",
    "Xht = h2o.H2OFrame(Xht)\n",
    "loaded_model.predict(Xht)"
   ]
  },
  {
   "cell_type": "code",
   "execution_count": 34,
   "metadata": {},
   "outputs": [
    {
     "name": "stdout",
     "output_type": "stream",
     "text": [
      "stackedensemble prediction progress: |███████████████████████████████████████████| (done) 100%\n"
     ]
    },
    {
     "data": {
      "text/plain": [
       "0.975895507541737"
      ]
     },
     "execution_count": 34,
     "metadata": {},
     "output_type": "execute_result"
    }
   ],
   "source": [
    "h2o.as_list(loaded_model.predict(Xht)).loc[0, 'p1']"
   ]
  },
  {
   "cell_type": "markdown",
   "metadata": {},
   "source": [
    "## Random Forest"
   ]
  },
  {
   "cell_type": "code",
   "execution_count": 35,
   "metadata": {},
   "outputs": [
    {
     "name": "stdout",
     "output_type": "stream",
     "text": [
      " Teste Acurácia do modelo Random Forest: 89.72%\n",
      "Erro quadrático médio: 0.10275564409030545\n",
      "Treino Acurácia do modelo Random Forest: 99.97%\n"
     ]
    }
   ],
   "source": [
    "# teste com random forest foi feito mas não atingiu uma boa espectativa \n",
    "# # Criando o modelo base\n",
    "# rfc = RandomForestClassifier(n_estimators=1000,max_depth=40, min_samples_leaf=1, min_samples_split=30, max_features=None, random_state=1, n_jobs=-1)\n",
    "\n",
    "# import accuracy_score\n",
    "from sklearn.metrics import accuracy_score\n",
    "\n",
    "rfc = RandomForestClassifier(n_estimators=100)\n",
    "\n",
    "# # # Treinando o modelo com os melhores hiperparâmetros\n",
    "rfc.fit(X_train, y_train)\n",
    "\n",
    "predictions = rfc.predict(X_test)\n",
    "accuracy = accuracy_score(y_test, predictions)\n",
    "\n",
    "\n",
    "print(f\" Teste Acurácia do modelo Random Forest: {accuracy * 100:.2f}%\")\n",
    "print(f\"Erro quadrático médio: {mean_squared_error(y_test, predictions)}\")\n",
    "print(f\"Treino Acurácia do modelo Random Forest: {rfc.score(X_train, y_train) * 100:.2f}%\")\n",
    "\n",
    "with open(f'random_forestht.pkl', 'wb') as f:\n",
    "    pickle.dump(rfc, f)"
   ]
  },
  {
   "cell_type": "markdown",
   "metadata": {},
   "source": [
    "## Neural Network Keras"
   ]
  },
  {
   "cell_type": "code",
   "execution_count": 36,
   "metadata": {},
   "outputs": [],
   "source": [
    "# X_train = X_train.toarray()\n",
    "# X_test = X_test.toarray()"
   ]
  },
  {
   "cell_type": "code",
   "execution_count": 37,
   "metadata": {},
   "outputs": [
    {
     "name": "stdout",
     "output_type": "stream",
     "text": [
      "Epoch 1/500\n",
      "377/377 [==============================] - 1s 2ms/step - loss: 0.6863 - accuracy: 0.5448 - recall: 0.5436 - val_loss: 0.6806 - val_accuracy: 0.5647 - val_recall: 0.5124\n",
      "Epoch 2/500\n",
      "377/377 [==============================] - 1s 1ms/step - loss: 0.6666 - accuracy: 0.5954 - recall: 0.5943 - val_loss: 0.6651 - val_accuracy: 0.6013 - val_recall: 0.6570\n",
      "Epoch 3/500\n",
      "377/377 [==============================] - 1s 1ms/step - loss: 0.6461 - accuracy: 0.6273 - recall: 0.6278 - val_loss: 0.6516 - val_accuracy: 0.6155 - val_recall: 0.6392\n",
      "Epoch 4/500\n",
      "377/377 [==============================] - 0s 1ms/step - loss: 0.6217 - accuracy: 0.6535 - recall: 0.6559 - val_loss: 0.6449 - val_accuracy: 0.6243 - val_recall: 0.5493\n",
      "Epoch 5/500\n",
      "377/377 [==============================] - 0s 1ms/step - loss: 0.5962 - accuracy: 0.6788 - recall: 0.6781 - val_loss: 0.6161 - val_accuracy: 0.6614 - val_recall: 0.6913\n",
      "Epoch 6/500\n",
      "377/377 [==============================] - 0s 1ms/step - loss: 0.5693 - accuracy: 0.7037 - recall: 0.7068 - val_loss: 0.6000 - val_accuracy: 0.6683 - val_recall: 0.7684\n",
      "Epoch 7/500\n",
      "377/377 [==============================] - 0s 1ms/step - loss: 0.5415 - accuracy: 0.7231 - recall: 0.7281 - val_loss: 0.5784 - val_accuracy: 0.6951 - val_recall: 0.6468\n",
      "Epoch 8/500\n",
      "377/377 [==============================] - 0s 1ms/step - loss: 0.5144 - accuracy: 0.7447 - recall: 0.7490 - val_loss: 0.5676 - val_accuracy: 0.7002 - val_recall: 0.7318\n",
      "Epoch 9/500\n",
      "377/377 [==============================] - 0s 1ms/step - loss: 0.4933 - accuracy: 0.7621 - recall: 0.7694 - val_loss: 0.5562 - val_accuracy: 0.7191 - val_recall: 0.7295\n",
      "Epoch 10/500\n",
      "377/377 [==============================] - 0s 1ms/step - loss: 0.4705 - accuracy: 0.7731 - recall: 0.7788 - val_loss: 0.5492 - val_accuracy: 0.7193 - val_recall: 0.7357\n",
      "Epoch 11/500\n",
      "377/377 [==============================] - 0s 1ms/step - loss: 0.4483 - accuracy: 0.7922 - recall: 0.7991 - val_loss: 0.5295 - val_accuracy: 0.7351 - val_recall: 0.7855\n",
      "Epoch 12/500\n",
      "377/377 [==============================] - 0s 1ms/step - loss: 0.4294 - accuracy: 0.8022 - recall: 0.8105 - val_loss: 0.5308 - val_accuracy: 0.7430 - val_recall: 0.7829\n",
      "Epoch 13/500\n",
      "377/377 [==============================] - 0s 1ms/step - loss: 0.4099 - accuracy: 0.8119 - recall: 0.8189 - val_loss: 0.5301 - val_accuracy: 0.7425 - val_recall: 0.6988\n",
      "Epoch 14/500\n",
      "377/377 [==============================] - 0s 1ms/step - loss: 0.3954 - accuracy: 0.8189 - recall: 0.8271 - val_loss: 0.5067 - val_accuracy: 0.7580 - val_recall: 0.7479\n",
      "Epoch 15/500\n",
      "377/377 [==============================] - 0s 1ms/step - loss: 0.3807 - accuracy: 0.8295 - recall: 0.8369 - val_loss: 0.5084 - val_accuracy: 0.7616 - val_recall: 0.8069\n",
      "Epoch 16/500\n",
      "377/377 [==============================] - 0s 1ms/step - loss: 0.3663 - accuracy: 0.8360 - recall: 0.8451 - val_loss: 0.4881 - val_accuracy: 0.7726 - val_recall: 0.7819\n",
      "Epoch 17/500\n",
      "377/377 [==============================] - 0s 1ms/step - loss: 0.3558 - accuracy: 0.8419 - recall: 0.8527 - val_loss: 0.4822 - val_accuracy: 0.7787 - val_recall: 0.7974\n",
      "Epoch 18/500\n",
      "377/377 [==============================] - 0s 1ms/step - loss: 0.3418 - accuracy: 0.8507 - recall: 0.8598 - val_loss: 0.4832 - val_accuracy: 0.7784 - val_recall: 0.8323\n",
      "Epoch 19/500\n",
      "377/377 [==============================] - 0s 1ms/step - loss: 0.3313 - accuracy: 0.8565 - recall: 0.8672 - val_loss: 0.4962 - val_accuracy: 0.7719 - val_recall: 0.8738\n",
      "Epoch 20/500\n",
      "377/377 [==============================] - 0s 1ms/step - loss: 0.3211 - accuracy: 0.8619 - recall: 0.8722 - val_loss: 0.4850 - val_accuracy: 0.7789 - val_recall: 0.8063\n",
      "Epoch 21/500\n",
      "377/377 [==============================] - 0s 1ms/step - loss: 0.3119 - accuracy: 0.8661 - recall: 0.8754 - val_loss: 0.4667 - val_accuracy: 0.7883 - val_recall: 0.7839\n",
      "Epoch 22/500\n",
      "377/377 [==============================] - 0s 1ms/step - loss: 0.3031 - accuracy: 0.8701 - recall: 0.8816 - val_loss: 0.4695 - val_accuracy: 0.7908 - val_recall: 0.8264\n",
      "Epoch 23/500\n",
      "377/377 [==============================] - 0s 1ms/step - loss: 0.2945 - accuracy: 0.8763 - recall: 0.8854 - val_loss: 0.4799 - val_accuracy: 0.7814 - val_recall: 0.7371\n",
      "Epoch 24/500\n",
      "377/377 [==============================] - 0s 1ms/step - loss: 0.2900 - accuracy: 0.8780 - recall: 0.8856 - val_loss: 0.4720 - val_accuracy: 0.7920 - val_recall: 0.7934\n",
      "Epoch 25/500\n",
      "377/377 [==============================] - 0s 1ms/step - loss: 0.2790 - accuracy: 0.8820 - recall: 0.8891 - val_loss: 0.4697 - val_accuracy: 0.7943 - val_recall: 0.8573\n",
      "Epoch 26/500\n",
      "377/377 [==============================] - 0s 1ms/step - loss: 0.2739 - accuracy: 0.8839 - recall: 0.8936 - val_loss: 0.4680 - val_accuracy: 0.8020 - val_recall: 0.8606\n",
      "Epoch 27/500\n",
      "377/377 [==============================] - 1s 1ms/step - loss: 0.2625 - accuracy: 0.8920 - recall: 0.8984 - val_loss: 0.4871 - val_accuracy: 0.7985 - val_recall: 0.8791\n",
      "Epoch 28/500\n",
      "377/377 [==============================] - 0s 1ms/step - loss: 0.2595 - accuracy: 0.8922 - recall: 0.9008 - val_loss: 0.4799 - val_accuracy: 0.7925 - val_recall: 0.8010\n",
      "Epoch 29/500\n",
      "377/377 [==============================] - 0s 1ms/step - loss: 0.2538 - accuracy: 0.8941 - recall: 0.9009 - val_loss: 0.4697 - val_accuracy: 0.8068 - val_recall: 0.8478\n",
      "Epoch 30/500\n",
      "377/377 [==============================] - 1s 1ms/step - loss: 0.2457 - accuracy: 0.8992 - recall: 0.9064 - val_loss: 0.4682 - val_accuracy: 0.8049 - val_recall: 0.8053\n",
      "Epoch 31/500\n",
      "377/377 [==============================] - 1s 1ms/step - loss: 0.2388 - accuracy: 0.9012 - recall: 0.9092 - val_loss: 0.4536 - val_accuracy: 0.8116 - val_recall: 0.8580\n",
      "Epoch 32/500\n",
      "377/377 [==============================] - 1s 1ms/step - loss: 0.2372 - accuracy: 0.9029 - recall: 0.9093 - val_loss: 0.4807 - val_accuracy: 0.8079 - val_recall: 0.8824\n",
      "Epoch 33/500\n",
      "377/377 [==============================] - 1s 1ms/step - loss: 0.2338 - accuracy: 0.9020 - recall: 0.9087 - val_loss: 0.4718 - val_accuracy: 0.8103 - val_recall: 0.8811\n",
      "Epoch 34/500\n",
      "377/377 [==============================] - 0s 1ms/step - loss: 0.2307 - accuracy: 0.9046 - recall: 0.9112 - val_loss: 0.4644 - val_accuracy: 0.8151 - val_recall: 0.8873\n",
      "Epoch 35/500\n",
      "377/377 [==============================] - 0s 1ms/step - loss: 0.2236 - accuracy: 0.9083 - recall: 0.9132 - val_loss: 0.4949 - val_accuracy: 0.8071 - val_recall: 0.8791\n",
      "Epoch 36/500\n",
      "377/377 [==============================] - 0s 1ms/step - loss: 0.2175 - accuracy: 0.9139 - recall: 0.9189 - val_loss: 0.4601 - val_accuracy: 0.8111 - val_recall: 0.8171\n",
      "Epoch 37/500\n",
      "377/377 [==============================] - 0s 1ms/step - loss: 0.2149 - accuracy: 0.9138 - recall: 0.9208 - val_loss: 0.4625 - val_accuracy: 0.8134 - val_recall: 0.8329\n",
      "Epoch 38/500\n",
      "377/377 [==============================] - 0s 1ms/step - loss: 0.2123 - accuracy: 0.9163 - recall: 0.9219 - val_loss: 0.4955 - val_accuracy: 0.8063 - val_recall: 0.8919\n",
      "Epoch 39/500\n",
      "377/377 [==============================] - 1s 1ms/step - loss: 0.2064 - accuracy: 0.9160 - recall: 0.9216 - val_loss: 0.4787 - val_accuracy: 0.8124 - val_recall: 0.7796\n",
      "Epoch 40/500\n",
      "377/377 [==============================] - 0s 1ms/step - loss: 0.2043 - accuracy: 0.9187 - recall: 0.9243 - val_loss: 0.4866 - val_accuracy: 0.8137 - val_recall: 0.8639\n",
      "Epoch 41/500\n",
      "377/377 [==============================] - 0s 1ms/step - loss: 0.1996 - accuracy: 0.9178 - recall: 0.9237 - val_loss: 0.5005 - val_accuracy: 0.8106 - val_recall: 0.8725\n",
      "Epoch 42/500\n",
      "377/377 [==============================] - 0s 1ms/step - loss: 0.1965 - accuracy: 0.9186 - recall: 0.9232 - val_loss: 0.4533 - val_accuracy: 0.8254 - val_recall: 0.8745\n",
      "Epoch 43/500\n",
      "377/377 [==============================] - 0s 1ms/step - loss: 0.1928 - accuracy: 0.9220 - recall: 0.9279 - val_loss: 0.4766 - val_accuracy: 0.8224 - val_recall: 0.8751\n",
      "Epoch 44/500\n",
      "377/377 [==============================] - 0s 1ms/step - loss: 0.1893 - accuracy: 0.9235 - recall: 0.9296 - val_loss: 0.4793 - val_accuracy: 0.8202 - val_recall: 0.8666\n",
      "Epoch 45/500\n",
      "377/377 [==============================] - 0s 1ms/step - loss: 0.1869 - accuracy: 0.9246 - recall: 0.9311 - val_loss: 0.4910 - val_accuracy: 0.8194 - val_recall: 0.8843\n",
      "Epoch 46/500\n",
      "377/377 [==============================] - 0s 1ms/step - loss: 0.1812 - accuracy: 0.9260 - recall: 0.9304 - val_loss: 0.4823 - val_accuracy: 0.8265 - val_recall: 0.8672\n",
      "Epoch 47/500\n",
      "377/377 [==============================] - 0s 1ms/step - loss: 0.1844 - accuracy: 0.9253 - recall: 0.9295 - val_loss: 0.5018 - val_accuracy: 0.8182 - val_recall: 0.8412\n",
      "Epoch 48/500\n",
      "377/377 [==============================] - 0s 1ms/step - loss: 0.1796 - accuracy: 0.9271 - recall: 0.9316 - val_loss: 0.4865 - val_accuracy: 0.8269 - val_recall: 0.8633\n",
      "Epoch 49/500\n",
      "377/377 [==============================] - 0s 1ms/step - loss: 0.1800 - accuracy: 0.9286 - recall: 0.9307 - val_loss: 0.5019 - val_accuracy: 0.8162 - val_recall: 0.8399\n",
      "Epoch 50/500\n",
      "377/377 [==============================] - 1s 1ms/step - loss: 0.1738 - accuracy: 0.9288 - recall: 0.9348 - val_loss: 0.4799 - val_accuracy: 0.8259 - val_recall: 0.8484\n",
      "Epoch 51/500\n",
      "377/377 [==============================] - 1s 2ms/step - loss: 0.1696 - accuracy: 0.9320 - recall: 0.9358 - val_loss: 0.5307 - val_accuracy: 0.8166 - val_recall: 0.9150\n",
      "Epoch 52/500\n",
      "377/377 [==============================] - 1s 1ms/step - loss: 0.1685 - accuracy: 0.9329 - recall: 0.9366 - val_loss: 0.5008 - val_accuracy: 0.8285 - val_recall: 0.8843\n",
      "Epoch 53/500\n",
      "377/377 [==============================] - 1s 2ms/step - loss: 0.1676 - accuracy: 0.9336 - recall: 0.9370 - val_loss: 0.4892 - val_accuracy: 0.8303 - val_recall: 0.8919\n",
      "Epoch 54/500\n",
      "377/377 [==============================] - 1s 1ms/step - loss: 0.1644 - accuracy: 0.9355 - recall: 0.9390 - val_loss: 0.5197 - val_accuracy: 0.8229 - val_recall: 0.8900\n",
      "Epoch 55/500\n",
      "377/377 [==============================] - 1s 2ms/step - loss: 0.1610 - accuracy: 0.9332 - recall: 0.9362 - val_loss: 0.5152 - val_accuracy: 0.8157 - val_recall: 0.7977\n",
      "Epoch 56/500\n",
      "377/377 [==============================] - 1s 2ms/step - loss: 0.1615 - accuracy: 0.9352 - recall: 0.9379 - val_loss: 0.5042 - val_accuracy: 0.8285 - val_recall: 0.8514\n",
      "Epoch 57/500\n",
      "377/377 [==============================] - 1s 2ms/step - loss: 0.1568 - accuracy: 0.9375 - recall: 0.9417 - val_loss: 0.5044 - val_accuracy: 0.8325 - val_recall: 0.8577\n",
      "Epoch 58/500\n",
      "377/377 [==============================] - 1s 2ms/step - loss: 0.1564 - accuracy: 0.9392 - recall: 0.9434 - val_loss: 0.5025 - val_accuracy: 0.8332 - val_recall: 0.8916\n",
      "Epoch 59/500\n",
      "377/377 [==============================] - 1s 2ms/step - loss: 0.1556 - accuracy: 0.9377 - recall: 0.9405 - val_loss: 0.5161 - val_accuracy: 0.8295 - val_recall: 0.8593\n",
      "Epoch 60/500\n",
      "377/377 [==============================] - 1s 2ms/step - loss: 0.1504 - accuracy: 0.9414 - recall: 0.9428 - val_loss: 0.5033 - val_accuracy: 0.8264 - val_recall: 0.8300\n",
      "Epoch 61/500\n",
      "377/377 [==============================] - 1s 2ms/step - loss: 0.1487 - accuracy: 0.9399 - recall: 0.9433 - val_loss: 0.5159 - val_accuracy: 0.8323 - val_recall: 0.8949\n",
      "Epoch 62/500\n",
      "377/377 [==============================] - 1s 2ms/step - loss: 0.1518 - accuracy: 0.9383 - recall: 0.9410 - val_loss: 0.5266 - val_accuracy: 0.8318 - val_recall: 0.8873\n",
      "Epoch 63/500\n",
      "377/377 [==============================] - 1s 2ms/step - loss: 0.1472 - accuracy: 0.9417 - recall: 0.9456 - val_loss: 0.5056 - val_accuracy: 0.8307 - val_recall: 0.8685\n",
      "Epoch 64/500\n",
      "377/377 [==============================] - 1s 2ms/step - loss: 0.1472 - accuracy: 0.9398 - recall: 0.9426 - val_loss: 0.5158 - val_accuracy: 0.8302 - val_recall: 0.8633\n",
      "Epoch 65/500\n",
      "377/377 [==============================] - 1s 2ms/step - loss: 0.1419 - accuracy: 0.9440 - recall: 0.9484 - val_loss: 0.5073 - val_accuracy: 0.8308 - val_recall: 0.8761\n",
      "Epoch 66/500\n",
      "377/377 [==============================] - 1s 2ms/step - loss: 0.1421 - accuracy: 0.9438 - recall: 0.9469 - val_loss: 0.5208 - val_accuracy: 0.8302 - val_recall: 0.8830\n",
      "Epoch 67/500\n",
      "377/377 [==============================] - 1s 2ms/step - loss: 0.1420 - accuracy: 0.9430 - recall: 0.9450 - val_loss: 0.5556 - val_accuracy: 0.8252 - val_recall: 0.8890\n",
      "Epoch 68/500\n",
      "377/377 [==============================] - 1s 2ms/step - loss: 0.1410 - accuracy: 0.9447 - recall: 0.9472 - val_loss: 0.5694 - val_accuracy: 0.8277 - val_recall: 0.9094\n",
      "Epoch 69/500\n",
      "377/377 [==============================] - 1s 2ms/step - loss: 0.1340 - accuracy: 0.9480 - recall: 0.9511 - val_loss: 0.5139 - val_accuracy: 0.8358 - val_recall: 0.8843\n",
      "Epoch 70/500\n",
      "377/377 [==============================] - 1s 1ms/step - loss: 0.1333 - accuracy: 0.9482 - recall: 0.9500 - val_loss: 0.5126 - val_accuracy: 0.8327 - val_recall: 0.8333\n",
      "Epoch 71/500\n",
      "377/377 [==============================] - 0s 1ms/step - loss: 0.1358 - accuracy: 0.9465 - recall: 0.9480 - val_loss: 0.5343 - val_accuracy: 0.8310 - val_recall: 0.8343\n",
      "Epoch 72/500\n",
      "377/377 [==============================] - 0s 1ms/step - loss: 0.1328 - accuracy: 0.9477 - recall: 0.9488 - val_loss: 0.5550 - val_accuracy: 0.8298 - val_recall: 0.8817\n",
      "Epoch 73/500\n",
      "377/377 [==============================] - 0s 1ms/step - loss: 0.1318 - accuracy: 0.9470 - recall: 0.9504 - val_loss: 0.5472 - val_accuracy: 0.8348 - val_recall: 0.8863\n",
      "Epoch 74/500\n",
      "377/377 [==============================] - 0s 1ms/step - loss: 0.1266 - accuracy: 0.9514 - recall: 0.9538 - val_loss: 0.5659 - val_accuracy: 0.8315 - val_recall: 0.8850\n",
      "Epoch 75/500\n",
      "377/377 [==============================] - 0s 1ms/step - loss: 0.1316 - accuracy: 0.9482 - recall: 0.9497 - val_loss: 0.5534 - val_accuracy: 0.8390 - val_recall: 0.8824\n",
      "Epoch 76/500\n",
      "377/377 [==============================] - 0s 1ms/step - loss: 0.1268 - accuracy: 0.9518 - recall: 0.9545 - val_loss: 0.5296 - val_accuracy: 0.8378 - val_recall: 0.8593\n",
      "Epoch 77/500\n",
      "377/377 [==============================] - 1s 1ms/step - loss: 0.1281 - accuracy: 0.9497 - recall: 0.9518 - val_loss: 0.5591 - val_accuracy: 0.8386 - val_recall: 0.8946\n",
      "Epoch 78/500\n",
      "377/377 [==============================] - 0s 1ms/step - loss: 0.1262 - accuracy: 0.9503 - recall: 0.9530 - val_loss: 0.5331 - val_accuracy: 0.8367 - val_recall: 0.8728\n",
      "Epoch 79/500\n",
      "377/377 [==============================] - 1s 1ms/step - loss: 0.1205 - accuracy: 0.9538 - recall: 0.9563 - val_loss: 0.5531 - val_accuracy: 0.8345 - val_recall: 0.8669\n",
      "Epoch 80/500\n",
      "377/377 [==============================] - 1s 1ms/step - loss: 0.1250 - accuracy: 0.9529 - recall: 0.9529 - val_loss: 0.6393 - val_accuracy: 0.8227 - val_recall: 0.9414\n",
      "Epoch 81/500\n",
      "377/377 [==============================] - 0s 1ms/step - loss: 0.1250 - accuracy: 0.9496 - recall: 0.9527 - val_loss: 0.5932 - val_accuracy: 0.8230 - val_recall: 0.9117\n",
      "Epoch 82/500\n",
      "377/377 [==============================] - 1s 1ms/step - loss: 0.1225 - accuracy: 0.9517 - recall: 0.9541 - val_loss: 0.5470 - val_accuracy: 0.8411 - val_recall: 0.8606\n",
      "Epoch 83/500\n",
      "377/377 [==============================] - 0s 1ms/step - loss: 0.1181 - accuracy: 0.9544 - recall: 0.9554 - val_loss: 0.5908 - val_accuracy: 0.8262 - val_recall: 0.8853\n",
      "Epoch 84/500\n",
      "377/377 [==============================] - 0s 1ms/step - loss: 0.1209 - accuracy: 0.9531 - recall: 0.9549 - val_loss: 0.5926 - val_accuracy: 0.8275 - val_recall: 0.8969\n",
      "Epoch 85/500\n",
      "377/377 [==============================] - 0s 1ms/step - loss: 0.1213 - accuracy: 0.9510 - recall: 0.9514 - val_loss: 0.5394 - val_accuracy: 0.8388 - val_recall: 0.8728\n",
      "Epoch 86/500\n",
      "377/377 [==============================] - 0s 1ms/step - loss: 0.1175 - accuracy: 0.9547 - recall: 0.9563 - val_loss: 0.5798 - val_accuracy: 0.8352 - val_recall: 0.8712\n",
      "Epoch 87/500\n",
      "377/377 [==============================] - 0s 1ms/step - loss: 0.1110 - accuracy: 0.9565 - recall: 0.9590 - val_loss: 0.5486 - val_accuracy: 0.8398 - val_recall: 0.8613\n",
      "Epoch 88/500\n",
      "377/377 [==============================] - 0s 1ms/step - loss: 0.1244 - accuracy: 0.9508 - recall: 0.9533 - val_loss: 0.5858 - val_accuracy: 0.8340 - val_recall: 0.9002\n",
      "Epoch 89/500\n",
      "377/377 [==============================] - 0s 1ms/step - loss: 0.1120 - accuracy: 0.9558 - recall: 0.9583 - val_loss: 0.6041 - val_accuracy: 0.8365 - val_recall: 0.8998\n",
      "Epoch 90/500\n",
      "377/377 [==============================] - 0s 1ms/step - loss: 0.1118 - accuracy: 0.9556 - recall: 0.9575 - val_loss: 0.5844 - val_accuracy: 0.8350 - val_recall: 0.8395\n",
      "Epoch 91/500\n",
      "377/377 [==============================] - 0s 1ms/step - loss: 0.1092 - accuracy: 0.9573 - recall: 0.9579 - val_loss: 0.5766 - val_accuracy: 0.8348 - val_recall: 0.9091\n",
      "Epoch 92/500\n",
      "377/377 [==============================] - 0s 1ms/step - loss: 0.1148 - accuracy: 0.9560 - recall: 0.9583 - val_loss: 0.5748 - val_accuracy: 0.8383 - val_recall: 0.8669\n",
      "189/189 [==============================] - 0s 658us/step\n",
      "Accuracy on training set: 0.9643895030021667\n",
      "Accuracy on test set: 0.8383134007453918\n"
     ]
    },
    {
     "data": {
      "image/png": "[encoded data removed]",
      "text/plain": [
       "<Figure size 432x288 with 1 Axes>"
      ]
     },
     "metadata": {
      "needs_background": "light"
     },
     "output_type": "display_data"
    }
   ],
   "source": [
    "predictions = []\n",
    "  \n",
    "model = Sequential()\n",
    "model.add(Dense(128, activation='relu', input_shape=(X_train.shape[1],)))\n",
    "# model.add(Dropout(0.1))\n",
    "model.add(Dense(64, activation='relu'))\n",
    "# model.add(Dense(256, activation='relu'))\n",
    "# model.add(Dropout(0.1))\n",
    "model.add(Dense(1, activation='sigmoid'))  # Binary classification\n",
    "\n",
    "\n",
    "# Compilando o modelo\n",
    "optimizer = Adam(learning_rate=0.001)\n",
    "model.compile(loss='binary_crossentropy',\n",
    "            optimizer=optimizer,\n",
    "            metrics=['accuracy', 'Recall'])\n",
    "\n",
    "\n",
    "\n",
    "\n",
    "early_stop = EarlyStopping(monitor='val_loss', patience=50)\n",
    "\n",
    "# Treinando o modelo\n",
    "history = model.fit(X_train, y_train, epochs=500, batch_size=64, validation_data=(X_test, y_test), callbacks=[early_stop], verbose=1)\n",
    "# history = model.fit(X_train, y_train, epochs=500, batch_size=64, validation_data=(X_test, y_test), verbose=1)\n",
    "\n",
    "\n",
    "\n",
    "# Faz a predição utilizando os dados de teste\n",
    "predictions = model.predict(X_test)\n",
    "predictions = np.where(predictions > 0.5, 1, 0)\n",
    "\n",
    "# Avaliando a acurácia do modelo no conjunto de treinamento e conjunto de teste\n",
    "train_acc = model.evaluate(X_train, y_train, verbose=0)[1]\n",
    "test_acc = model.evaluate(X_test, y_test, verbose=0)[1]\n",
    "print('Accuracy on training set:', train_acc)\n",
    "print('Accuracy on test set:', test_acc)\n",
    "\n",
    "# Plotando a curva de aprendizado\n",
    "plt.plot(history.history['accuracy'])\n",
    "plt.plot(history.history['val_accuracy'])\n",
    "plt.title('Curva de Aprendizado')\n",
    "plt.ylabel('Acurácia')\n",
    "plt.xlabel('Época')\n",
    "plt.legend(['Treino', 'Teste'], loc='upper left')\n",
    "plt.show()\n",
    "\n",
    "# save model .h5\n",
    "model.save('model_redeht.h5')"
   ]
  },
  {
   "cell_type": "code",
   "execution_count": 38,
   "metadata": {},
   "outputs": [],
   "source": [
    "# Predict with model generation gan\n",
    "\n"
   ]
  }
 ],
 "metadata": {
  "kernelspec": {
   "display_name": "Python 3",
   "language": "python",
   "name": "python3"
  },
  "language_info": {
   "codemirror_mode": {
    "name": "ipython",
    "version": 3
   },
   "file_extension": ".py",
   "mimetype": "text/x-python",
   "name": "python",
   "nbconvert_exporter": "python",
   "pygments_lexer": "ipython3",
   "version": "3.10.1"
  },
  "orig_nbformat": 4,
  "vscode": {
   "interpreter": {
    "hash": "369f2c481f4da34e4445cda3fffd2e751bd1c4d706f27375911949ba6bb62e1c"
   }
  }
 },
 "nbformat": 4,
 "nbformat_minor": 2
}
