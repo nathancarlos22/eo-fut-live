{
 "cells": [
  {
   "cell_type": "code",
   "execution_count": 18,
   "metadata": {},
   "outputs": [],
   "source": [
    "import pandas as pd\n",
    "import warnings\n",
    "import os\n",
    "import concurrent.futures\n",
    "\n",
    "warnings.filterwarnings('ignore')\n",
    "df = pd.read_csv('data_live_engineer_filtered.csv', encoding='utf-8')\n"
   ]
  },
  {
   "cell_type": "code",
   "execution_count": 19,
   "metadata": {},
   "outputs": [
    {
     "data": {
      "text/plain": [
       "result\n",
       "0    358381\n",
       "1     61965\n",
       "Name: count, dtype: int64"
      ]
     },
     "execution_count": 19,
     "metadata": {},
     "output_type": "execute_result"
    }
   ],
   "source": [
    "df['result'].value_counts()"
   ]
  },
  {
   "cell_type": "code",
   "execution_count": 20,
   "metadata": {},
   "outputs": [
    {
     "data": {
      "text/plain": [
       "Index(['minute', 'homeTeam', 'awayTeam', 'goal_home', 'goal_away',\n",
       "       'shots_home', 'shots_away', 'blockedShots_home', 'blockedShots_away',\n",
       "       'league', 'corners_home', 'corners_away', 'redcards_home',\n",
       "       'redcards_away', 'shotsOffgoal_home', 'shotsOffgoal_away',\n",
       "       'shotsOngoal_home', 'shotsOngoal_away', 'yellowcards_home',\n",
       "       'yellowcards_away', 'fouls_home', 'fouls_away', 'offsides_home',\n",
       "       'offsides_away', 'tackles_home', 'tackles_away', 'result', 'match_id',\n",
       "       'match_result', 'win_rate', 'draw_rate', 'loss_rate', 'homeTeam_win',\n",
       "       'homeTeam_loss', 'homeTeam_draw', 'win_rate_homeTeam',\n",
       "       'loss_rate_homeTeam', 'draw_rate_homeTeam', 'awayTeam_win',\n",
       "       'awayTeam_loss', 'awayTeam_draw', 'win_rate_awayTeam',\n",
       "       'loss_rate_awayTeam', 'draw_rate_awayTeam', 'f_attack_home',\n",
       "       'f_attack_away', 'f_defensive_home', 'f_defensive_away', '05ht_home',\n",
       "       '15ht_home', '25ht_home', '05ht_away', '15ht_away', '25ht_away',\n",
       "       'possessiontime_away', 'possessiontime_home', 'shotAccuracy_home',\n",
       "       'shotAccuracy_away', 'attackPressureOverTime_home',\n",
       "       'attackPressureOverTime_away', 'aggrressionOverTime_home',\n",
       "       'aggresssionOverTime_away', 'defensiveEfficacy_home',\n",
       "       'defensiveEfficacy_away', 'taklesOverTime_home', 'taklesOverTime_away',\n",
       "       'possessionControl', 'passRisk_home', 'passRisk_away',\n",
       "       'TotalCards_home', 'TotalCards_away'],\n",
       "      dtype='object')"
      ]
     },
     "execution_count": 20,
     "metadata": {},
     "output_type": "execute_result"
    }
   ],
   "source": [
    "df.columns"
   ]
  },
  {
   "cell_type": "code",
   "execution_count": 21,
   "metadata": {},
   "outputs": [
    {
     "data": {
      "text/html": [
       "<div>\n",
       "<style scoped>\n",
       "    .dataframe tbody tr th:only-of-type {\n",
       "        vertical-align: middle;\n",
       "    }\n",
       "\n",
       "    .dataframe tbody tr th {\n",
       "        vertical-align: top;\n",
       "    }\n",
       "\n",
       "    .dataframe thead th {\n",
       "        text-align: right;\n",
       "    }\n",
       "</style>\n",
       "<table border=\"1\" class=\"dataframe\">\n",
       "  <thead>\n",
       "    <tr style=\"text-align: right;\">\n",
       "      <th></th>\n",
       "      <th>minute</th>\n",
       "      <th>homeTeam</th>\n",
       "      <th>awayTeam</th>\n",
       "      <th>goal_home</th>\n",
       "      <th>goal_away</th>\n",
       "      <th>shots_home</th>\n",
       "      <th>shots_away</th>\n",
       "      <th>blockedShots_home</th>\n",
       "      <th>blockedShots_away</th>\n",
       "      <th>league</th>\n",
       "      <th>...</th>\n",
       "      <th>aggresssionOverTime_away</th>\n",
       "      <th>defensiveEfficacy_home</th>\n",
       "      <th>defensiveEfficacy_away</th>\n",
       "      <th>taklesOverTime_home</th>\n",
       "      <th>taklesOverTime_away</th>\n",
       "      <th>possessionControl</th>\n",
       "      <th>passRisk_home</th>\n",
       "      <th>passRisk_away</th>\n",
       "      <th>TotalCards_home</th>\n",
       "      <th>TotalCards_away</th>\n",
       "    </tr>\n",
       "  </thead>\n",
       "  <tbody>\n",
       "    <tr>\n",
       "      <th>0</th>\n",
       "      <td>1.49</td>\n",
       "      <td>carabobo fc</td>\n",
       "      <td>club universitario de deportes</td>\n",
       "      <td>0.0</td>\n",
       "      <td>0.0</td>\n",
       "      <td>0.0</td>\n",
       "      <td>0.0</td>\n",
       "      <td>0.0</td>\n",
       "      <td>0.0</td>\n",
       "      <td>south america - copa libertadores</td>\n",
       "      <td>...</td>\n",
       "      <td>0.0</td>\n",
       "      <td>0.0</td>\n",
       "      <td>0.0</td>\n",
       "      <td>0.0</td>\n",
       "      <td>0.000000</td>\n",
       "      <td>6.0</td>\n",
       "      <td>0.0</td>\n",
       "      <td>0.0</td>\n",
       "      <td>0.0</td>\n",
       "      <td>0.0</td>\n",
       "    </tr>\n",
       "    <tr>\n",
       "      <th>1</th>\n",
       "      <td>1.90</td>\n",
       "      <td>carabobo fc</td>\n",
       "      <td>club universitario de deportes</td>\n",
       "      <td>0.0</td>\n",
       "      <td>0.0</td>\n",
       "      <td>0.0</td>\n",
       "      <td>0.0</td>\n",
       "      <td>0.0</td>\n",
       "      <td>0.0</td>\n",
       "      <td>south america - copa libertadores</td>\n",
       "      <td>...</td>\n",
       "      <td>0.0</td>\n",
       "      <td>0.0</td>\n",
       "      <td>0.0</td>\n",
       "      <td>0.0</td>\n",
       "      <td>0.000000</td>\n",
       "      <td>20.0</td>\n",
       "      <td>0.0</td>\n",
       "      <td>0.0</td>\n",
       "      <td>0.0</td>\n",
       "      <td>0.0</td>\n",
       "    </tr>\n",
       "    <tr>\n",
       "      <th>2</th>\n",
       "      <td>2.28</td>\n",
       "      <td>carabobo fc</td>\n",
       "      <td>club universitario de deportes</td>\n",
       "      <td>0.0</td>\n",
       "      <td>0.0</td>\n",
       "      <td>0.0</td>\n",
       "      <td>1.0</td>\n",
       "      <td>0.0</td>\n",
       "      <td>1.0</td>\n",
       "      <td>south america - copa libertadores</td>\n",
       "      <td>...</td>\n",
       "      <td>0.0</td>\n",
       "      <td>0.0</td>\n",
       "      <td>100.0</td>\n",
       "      <td>0.0</td>\n",
       "      <td>0.438596</td>\n",
       "      <td>16.0</td>\n",
       "      <td>0.0</td>\n",
       "      <td>0.0</td>\n",
       "      <td>0.0</td>\n",
       "      <td>0.0</td>\n",
       "    </tr>\n",
       "    <tr>\n",
       "      <th>3</th>\n",
       "      <td>3.48</td>\n",
       "      <td>carabobo fc</td>\n",
       "      <td>club universitario de deportes</td>\n",
       "      <td>0.0</td>\n",
       "      <td>0.0</td>\n",
       "      <td>0.0</td>\n",
       "      <td>1.0</td>\n",
       "      <td>0.0</td>\n",
       "      <td>1.0</td>\n",
       "      <td>south america - copa libertadores</td>\n",
       "      <td>...</td>\n",
       "      <td>0.0</td>\n",
       "      <td>0.0</td>\n",
       "      <td>100.0</td>\n",
       "      <td>0.0</td>\n",
       "      <td>0.287356</td>\n",
       "      <td>18.0</td>\n",
       "      <td>0.0</td>\n",
       "      <td>0.0</td>\n",
       "      <td>0.0</td>\n",
       "      <td>0.0</td>\n",
       "    </tr>\n",
       "    <tr>\n",
       "      <th>4</th>\n",
       "      <td>3.80</td>\n",
       "      <td>carabobo fc</td>\n",
       "      <td>club universitario de deportes</td>\n",
       "      <td>0.0</td>\n",
       "      <td>0.0</td>\n",
       "      <td>0.0</td>\n",
       "      <td>1.0</td>\n",
       "      <td>0.0</td>\n",
       "      <td>1.0</td>\n",
       "      <td>south america - copa libertadores</td>\n",
       "      <td>...</td>\n",
       "      <td>0.0</td>\n",
       "      <td>0.0</td>\n",
       "      <td>100.0</td>\n",
       "      <td>0.0</td>\n",
       "      <td>0.263158</td>\n",
       "      <td>18.0</td>\n",
       "      <td>0.0</td>\n",
       "      <td>0.0</td>\n",
       "      <td>0.0</td>\n",
       "      <td>0.0</td>\n",
       "    </tr>\n",
       "  </tbody>\n",
       "</table>\n",
       "<p>5 rows × 71 columns</p>\n",
       "</div>"
      ],
      "text/plain": [
       "   minute     homeTeam                        awayTeam  goal_home  goal_away  \\\n",
       "0    1.49  carabobo fc  club universitario de deportes        0.0        0.0   \n",
       "1    1.90  carabobo fc  club universitario de deportes        0.0        0.0   \n",
       "2    2.28  carabobo fc  club universitario de deportes        0.0        0.0   \n",
       "3    3.48  carabobo fc  club universitario de deportes        0.0        0.0   \n",
       "4    3.80  carabobo fc  club universitario de deportes        0.0        0.0   \n",
       "\n",
       "   shots_home  shots_away  blockedShots_home  blockedShots_away  \\\n",
       "0         0.0         0.0                0.0                0.0   \n",
       "1         0.0         0.0                0.0                0.0   \n",
       "2         0.0         1.0                0.0                1.0   \n",
       "3         0.0         1.0                0.0                1.0   \n",
       "4         0.0         1.0                0.0                1.0   \n",
       "\n",
       "                              league  ...  aggresssionOverTime_away  \\\n",
       "0  south america - copa libertadores  ...                       0.0   \n",
       "1  south america - copa libertadores  ...                       0.0   \n",
       "2  south america - copa libertadores  ...                       0.0   \n",
       "3  south america - copa libertadores  ...                       0.0   \n",
       "4  south america - copa libertadores  ...                       0.0   \n",
       "\n",
       "   defensiveEfficacy_home  defensiveEfficacy_away  taklesOverTime_home  \\\n",
       "0                     0.0                     0.0                  0.0   \n",
       "1                     0.0                     0.0                  0.0   \n",
       "2                     0.0                   100.0                  0.0   \n",
       "3                     0.0                   100.0                  0.0   \n",
       "4                     0.0                   100.0                  0.0   \n",
       "\n",
       "   taklesOverTime_away  possessionControl  passRisk_home  passRisk_away  \\\n",
       "0             0.000000                6.0            0.0            0.0   \n",
       "1             0.000000               20.0            0.0            0.0   \n",
       "2             0.438596               16.0            0.0            0.0   \n",
       "3             0.287356               18.0            0.0            0.0   \n",
       "4             0.263158               18.0            0.0            0.0   \n",
       "\n",
       "   TotalCards_home  TotalCards_away  \n",
       "0              0.0              0.0  \n",
       "1              0.0              0.0  \n",
       "2              0.0              0.0  \n",
       "3              0.0              0.0  \n",
       "4              0.0              0.0  \n",
       "\n",
       "[5 rows x 71 columns]"
      ]
     },
     "execution_count": 21,
     "metadata": {},
     "output_type": "execute_result"
    }
   ],
   "source": [
    "import unicodedata\n",
    "\n",
    "# Define a function to normalize text using unicodedata\n",
    "def normalize_text_unicode(text):\n",
    "    text = unicodedata.normalize('NFKD', text)\n",
    "    text = text.encode('ascii', 'ignore').decode('utf-8')\n",
    "    return text.lower()\n",
    "\n",
    "# Apply the function to the relevant columns\n",
    "df['league'] = df['league'].apply(normalize_text_unicode)\n",
    "df['homeTeam'] = df['homeTeam'].apply(normalize_text_unicode)\n",
    "df['awayTeam'] = df['awayTeam'].apply(normalize_text_unicode)\n",
    "df.head()"
   ]
  },
  {
   "cell_type": "code",
   "execution_count": 22,
   "metadata": {},
   "outputs": [
    {
     "data": {
      "text/plain": [
       "Index(['minute', 'homeTeam', 'awayTeam', 'goal_home', 'goal_away',\n",
       "       'shots_home', 'shots_away', 'blockedShots_home', 'blockedShots_away',\n",
       "       'league', 'corners_home', 'corners_away', 'redcards_home',\n",
       "       'redcards_away', 'shotsOffgoal_home', 'shotsOffgoal_away',\n",
       "       'shotsOngoal_home', 'shotsOngoal_away', 'yellowcards_home',\n",
       "       'yellowcards_away', 'fouls_home', 'fouls_away', 'offsides_home',\n",
       "       'offsides_away', 'tackles_home', 'tackles_away', 'result', 'match_id',\n",
       "       'match_result', 'win_rate', 'draw_rate', 'loss_rate', 'homeTeam_win',\n",
       "       'homeTeam_loss', 'homeTeam_draw', 'win_rate_homeTeam',\n",
       "       'loss_rate_homeTeam', 'draw_rate_homeTeam', 'awayTeam_win',\n",
       "       'awayTeam_loss', 'awayTeam_draw', 'win_rate_awayTeam',\n",
       "       'loss_rate_awayTeam', 'draw_rate_awayTeam', 'f_attack_home',\n",
       "       'f_attack_away', 'f_defensive_home', 'f_defensive_away', '05ht_home',\n",
       "       '15ht_home', '25ht_home', '05ht_away', '15ht_away', '25ht_away',\n",
       "       'possessiontime_away', 'possessiontime_home', 'shotAccuracy_home',\n",
       "       'shotAccuracy_away', 'attackPressureOverTime_home',\n",
       "       'attackPressureOverTime_away', 'aggrressionOverTime_home',\n",
       "       'aggresssionOverTime_away', 'defensiveEfficacy_home',\n",
       "       'defensiveEfficacy_away', 'taklesOverTime_home', 'taklesOverTime_away',\n",
       "       'possessionControl', 'passRisk_home', 'passRisk_away',\n",
       "       'TotalCards_home', 'TotalCards_away'],\n",
       "      dtype='object')"
      ]
     },
     "execution_count": 22,
     "metadata": {},
     "output_type": "execute_result"
    }
   ],
   "source": [
    "df.columns"
   ]
  },
  {
   "cell_type": "code",
   "execution_count": 26,
   "metadata": {},
   "outputs": [],
   "source": [
    "# Arredondando todos os valores decimais para 2 casas decimais\n",
    "df = df.round(2)"
   ]
  },
  {
   "cell_type": "code",
   "execution_count": 28,
   "metadata": {},
   "outputs": [
    {
     "data": {
      "text/plain": [
       "(420346, 71)"
      ]
     },
     "execution_count": 28,
     "metadata": {},
     "output_type": "execute_result"
    }
   ],
   "source": [
    "df.shape"
   ]
  },
  {
   "cell_type": "code",
   "execution_count": 30,
   "metadata": {},
   "outputs": [
    {
     "data": {
      "text/plain": [
       "(417662, 71)"
      ]
     },
     "execution_count": 30,
     "metadata": {},
     "output_type": "execute_result"
    }
   ],
   "source": [
    "import numpy as np\n",
    "\n",
    "\n",
    "# Substitua valores infinitos por NaN e então preencha ou remova NaNs\n",
    "df.replace([np.inf, -np.inf], np.nan, inplace=True)\n",
    "df.dropna(inplace=True)\n",
    "df.shape"
   ]
  },
  {
   "cell_type": "code",
   "execution_count": 31,
   "metadata": {},
   "outputs": [],
   "source": [
    "from sklearn.model_selection import train_test_split\n",
    "from sklearn.preprocessing import StandardScaler, LabelEncoder\n",
    "from sklearn.ensemble import RandomForestClassifier\n",
    "from sklearn.metrics import accuracy_score, classification_report\n",
    "\n",
    "# Encode categorical variables\n",
    "label_encoders = {}\n",
    "for column in ['league', 'homeTeam', 'awayTeam']:\n",
    "    le = LabelEncoder()\n",
    "    df[column] = le.fit_transform(df[column])\n",
    "    label_encoders[column] = le\n",
    "\n",
    "# Split the df into features and target variable\n",
    "X = df.drop(['result', 'match_id'], axis=1)\n",
    "y = df['result']\n",
    "\n",
    "# Split the df into training and testing sets\n",
    "X_train, X_test, y_train, y_test = train_test_split(X, y, test_size=0.2, random_state=42)\n",
    "\n",
    "# Normalize numerical features\n",
    "scaler = StandardScaler()\n",
    "X_train = scaler.fit_transform(X_train)\n",
    "X_test = scaler.transform(X_test)\n",
    "\n",
    "# Train a Random Forest classifier\n",
    "model = RandomForestClassifier(random_state=42)\n",
    "model.fit(X_train, y_train)\n",
    "\n",
    "# Make predictions and evaluate the model\n",
    "y_pred = model.predict(X_test)\n",
    "accuracy = accuracy_score(y_test, y_pred)\n",
    "report = classification_report(y_test, y_pred)"
   ]
  },
  {
   "cell_type": "code",
   "execution_count": 32,
   "metadata": {},
   "outputs": [
    {
     "data": {
      "text/plain": [
       "Index(['minute', 'homeTeam', 'awayTeam', 'goal_home', 'goal_away',\n",
       "       'shots_home', 'shots_away', 'blockedShots_home', 'blockedShots_away',\n",
       "       'league', 'corners_home', 'corners_away', 'redcards_home',\n",
       "       'redcards_away', 'shotsOffgoal_home', 'shotsOffgoal_away',\n",
       "       'shotsOngoal_home', 'shotsOngoal_away', 'yellowcards_home',\n",
       "       'yellowcards_away', 'fouls_home', 'fouls_away', 'offsides_home',\n",
       "       'offsides_away', 'tackles_home', 'tackles_away', 'match_result',\n",
       "       'win_rate', 'draw_rate', 'loss_rate', 'homeTeam_win', 'homeTeam_loss',\n",
       "       'homeTeam_draw', 'win_rate_homeTeam', 'loss_rate_homeTeam',\n",
       "       'draw_rate_homeTeam', 'awayTeam_win', 'awayTeam_loss', 'awayTeam_draw',\n",
       "       'win_rate_awayTeam', 'loss_rate_awayTeam', 'draw_rate_awayTeam',\n",
       "       'f_attack_home', 'f_attack_away', 'f_defensive_home',\n",
       "       'f_defensive_away', '05ht_home', '15ht_home', '25ht_home', '05ht_away',\n",
       "       '15ht_away', '25ht_away', 'possessiontime_away', 'possessiontime_home',\n",
       "       'shotAccuracy_home', 'shotAccuracy_away', 'attackPressureOverTime_home',\n",
       "       'attackPressureOverTime_away', 'aggrressionOverTime_home',\n",
       "       'aggresssionOverTime_away', 'defensiveEfficacy_home',\n",
       "       'defensiveEfficacy_away', 'taklesOverTime_home', 'taklesOverTime_away',\n",
       "       'possessionControl', 'passRisk_home', 'passRisk_away',\n",
       "       'TotalCards_home', 'TotalCards_away'],\n",
       "      dtype='object')"
      ]
     },
     "execution_count": 32,
     "metadata": {},
     "output_type": "execute_result"
    }
   ],
   "source": [
    "X.columns"
   ]
  },
  {
   "cell_type": "code",
   "execution_count": 28,
   "metadata": {},
   "outputs": [
    {
     "name": "stdout",
     "output_type": "stream",
     "text": [
      "              precision    recall  f1-score   support\n",
      "\n",
      "           0       0.95      1.00      0.97     71757\n",
      "           1       0.96      0.71      0.82     12313\n",
      "\n",
      "    accuracy                           0.95     84070\n",
      "   macro avg       0.96      0.85      0.90     84070\n",
      "weighted avg       0.95      0.95      0.95     84070\n",
      "\n"
     ]
    }
   ],
   "source": [
    "print(report)"
   ]
  },
  {
   "cell_type": "code",
   "execution_count": 33,
   "metadata": {},
   "outputs": [
    {
     "name": "stdout",
     "output_type": "stream",
     "text": [
      "              precision    recall  f1-score   support\n",
      "\n",
      "           0       0.98      1.00      0.99     71328\n",
      "           1       0.99      0.91      0.94     12205\n",
      "\n",
      "    accuracy                           0.98     83533\n",
      "   macro avg       0.98      0.95      0.97     83533\n",
      "weighted avg       0.98      0.98      0.98     83533\n",
      "\n"
     ]
    }
   ],
   "source": [
    "print(report)"
   ]
  },
  {
   "cell_type": "code",
   "execution_count": 34,
   "metadata": {},
   "outputs": [
    {
     "data": {
      "text/plain": [
       "['../models/random_forest_model.pkl']"
      ]
     },
     "execution_count": 34,
     "metadata": {},
     "output_type": "execute_result"
    }
   ],
   "source": [
    "import joblib\n",
    "\n",
    "# Save the label encoders, scaler, and model\n",
    "joblib.dump(label_encoders, '../models/label_encoders.pkl')\n",
    "joblib.dump(scaler, '../models/scaler.pkl')\n",
    "joblib.dump(model, '../models/random_forest_model.pkl')"
   ]
  }
 ],
 "metadata": {
  "kernelspec": {
   "display_name": "Python 3",
   "language": "python",
   "name": "python3"
  },
  "language_info": {
   "codemirror_mode": {
    "name": "ipython",
    "version": 3
   },
   "file_extension": ".py",
   "mimetype": "text/x-python",
   "name": "python",
   "nbconvert_exporter": "python",
   "pygments_lexer": "ipython3",
   "version": "3.10.1"
  }
 },
 "nbformat": 4,
 "nbformat_minor": 2
}
