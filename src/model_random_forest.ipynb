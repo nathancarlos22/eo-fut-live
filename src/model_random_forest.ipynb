{
 "cells": [
  {
   "cell_type": "code",
   "execution_count": 33,
   "metadata": {},
   "outputs": [],
   "source": [
    "import pandas as pd\n",
    "import warnings\n",
    "import os\n",
    "import concurrent.futures\n",
    "\n",
    "warnings.filterwarnings('ignore')\n",
    "df = pd.read_csv('data_live_engineer_filtered.csv', encoding='utf-8')\n"
   ]
  },
  {
   "cell_type": "code",
   "execution_count": 34,
   "metadata": {},
   "outputs": [
    {
     "data": {
      "text/html": [
       "<div>\n",
       "<style scoped>\n",
       "    .dataframe tbody tr th:only-of-type {\n",
       "        vertical-align: middle;\n",
       "    }\n",
       "\n",
       "    .dataframe tbody tr th {\n",
       "        vertical-align: top;\n",
       "    }\n",
       "\n",
       "    .dataframe thead th {\n",
       "        text-align: right;\n",
       "    }\n",
       "</style>\n",
       "<table border=\"1\" class=\"dataframe\">\n",
       "  <thead>\n",
       "    <tr style=\"text-align: right;\">\n",
       "      <th></th>\n",
       "      <th>minute</th>\n",
       "      <th>homeTeam</th>\n",
       "      <th>awayTeam</th>\n",
       "      <th>goal_home</th>\n",
       "      <th>goal_away</th>\n",
       "      <th>shots_home</th>\n",
       "      <th>shots_away</th>\n",
       "      <th>blockedShots_home</th>\n",
       "      <th>blockedShots_away</th>\n",
       "      <th>league</th>\n",
       "      <th>...</th>\n",
       "      <th>passRisk_home</th>\n",
       "      <th>passRisk_away</th>\n",
       "      <th>TotalCards_home</th>\n",
       "      <th>TotalCards_away</th>\n",
       "      <th>05ht_home</th>\n",
       "      <th>15ht_home</th>\n",
       "      <th>25ht_home</th>\n",
       "      <th>05ht_away</th>\n",
       "      <th>15ht_away</th>\n",
       "      <th>25ht_away</th>\n",
       "    </tr>\n",
       "  </thead>\n",
       "  <tbody>\n",
       "  </tbody>\n",
       "</table>\n",
       "<p>0 rows × 61 columns</p>\n",
       "</div>"
      ],
      "text/plain": [
       "Empty DataFrame\n",
       "Columns: [minute, homeTeam, awayTeam, goal_home, goal_away, shots_home, shots_away, blockedShots_home, blockedShots_away, league, corners_home, corners_away, redcards_home, redcards_away, shotsOffgoal_home, shotsOffgoal_away, shotsOngoal_home, shotsOngoal_away, yellowcards_home, yellowcards_away, fouls_home, fouls_away, offsides_home, offsides_away, tackles_home, tackles_away, result, match_id, possessiontime_away, possessiontime_home, f_attack_home, f_defensive_away, f_defensive_home, f_attack_away, win_rate_home, loss_rate_home, draw_rate_home, win_rate_away, loss_rate_away, draw_rate_away, shotAccuracy_home, shotAccuracy_away, attackPressureOverTime_home, attackPressureOverTime_away, aggrressionOverTime_home, aggresssionOverTime_away, defensiveEfficacy_home, defensiveEfficacy_away, taklesOverTime_home, taklesOverTime_away, possessionControl, passRisk_home, passRisk_away, TotalCards_home, TotalCards_away, 05ht_home, 15ht_home, 25ht_home, 05ht_away, 15ht_away, 25ht_away]\n",
       "Index: []\n",
       "\n",
       "[0 rows x 61 columns]"
      ]
     },
     "execution_count": 34,
     "metadata": {},
     "output_type": "execute_result"
    }
   ],
   "source": [
    "df[(df['homeTeam']== 'France') & (df['awayTeam']== 'Kazakhstan')].sort_values(by='goal_home').head(45)"
   ]
  },
  {
   "cell_type": "code",
   "execution_count": 35,
   "metadata": {},
   "outputs": [
    {
     "data": {
      "text/plain": [
       "array([0.])"
      ]
     },
     "execution_count": 35,
     "metadata": {},
     "output_type": "execute_result"
    }
   ],
   "source": [
    "df['goal_home'].unique()"
   ]
  },
  {
   "cell_type": "code",
   "execution_count": 36,
   "metadata": {},
   "outputs": [
    {
     "data": {
      "text/html": [
       "<div>\n",
       "<style scoped>\n",
       "    .dataframe tbody tr th:only-of-type {\n",
       "        vertical-align: middle;\n",
       "    }\n",
       "\n",
       "    .dataframe tbody tr th {\n",
       "        vertical-align: top;\n",
       "    }\n",
       "\n",
       "    .dataframe thead th {\n",
       "        text-align: right;\n",
       "    }\n",
       "</style>\n",
       "<table border=\"1\" class=\"dataframe\">\n",
       "  <thead>\n",
       "    <tr style=\"text-align: right;\">\n",
       "      <th></th>\n",
       "      <th>minute</th>\n",
       "      <th>homeTeam</th>\n",
       "      <th>awayTeam</th>\n",
       "      <th>goal_home</th>\n",
       "      <th>goal_away</th>\n",
       "      <th>shots_home</th>\n",
       "      <th>shots_away</th>\n",
       "      <th>blockedShots_home</th>\n",
       "      <th>blockedShots_away</th>\n",
       "      <th>league</th>\n",
       "      <th>...</th>\n",
       "      <th>passRisk_home</th>\n",
       "      <th>passRisk_away</th>\n",
       "      <th>TotalCards_home</th>\n",
       "      <th>TotalCards_away</th>\n",
       "      <th>05ht_home</th>\n",
       "      <th>15ht_home</th>\n",
       "      <th>25ht_home</th>\n",
       "      <th>05ht_away</th>\n",
       "      <th>15ht_away</th>\n",
       "      <th>25ht_away</th>\n",
       "    </tr>\n",
       "  </thead>\n",
       "  <tbody>\n",
       "    <tr>\n",
       "      <th>0</th>\n",
       "      <td>15.53</td>\n",
       "      <td>club guarani</td>\n",
       "      <td>cd san jose</td>\n",
       "      <td>0.0</td>\n",
       "      <td>0.0</td>\n",
       "      <td>7.0</td>\n",
       "      <td>0.0</td>\n",
       "      <td>1.0</td>\n",
       "      <td>0.0</td>\n",
       "      <td>south america - copa libertadores</td>\n",
       "      <td>...</td>\n",
       "      <td>0.000000</td>\n",
       "      <td>0.000000</td>\n",
       "      <td>1.0</td>\n",
       "      <td>0.0</td>\n",
       "      <td>0.0</td>\n",
       "      <td>0.0</td>\n",
       "      <td>0.0</td>\n",
       "      <td>0.0</td>\n",
       "      <td>0.0</td>\n",
       "      <td>0.0</td>\n",
       "    </tr>\n",
       "    <tr>\n",
       "      <th>1</th>\n",
       "      <td>16.32</td>\n",
       "      <td>club guarani</td>\n",
       "      <td>cd san jose</td>\n",
       "      <td>0.0</td>\n",
       "      <td>0.0</td>\n",
       "      <td>7.0</td>\n",
       "      <td>0.0</td>\n",
       "      <td>1.0</td>\n",
       "      <td>0.0</td>\n",
       "      <td>south america - copa libertadores</td>\n",
       "      <td>...</td>\n",
       "      <td>0.000000</td>\n",
       "      <td>0.000000</td>\n",
       "      <td>1.0</td>\n",
       "      <td>0.0</td>\n",
       "      <td>0.0</td>\n",
       "      <td>0.0</td>\n",
       "      <td>0.0</td>\n",
       "      <td>0.0</td>\n",
       "      <td>0.0</td>\n",
       "      <td>0.0</td>\n",
       "    </tr>\n",
       "    <tr>\n",
       "      <th>2</th>\n",
       "      <td>22.60</td>\n",
       "      <td>club universitario de deportes</td>\n",
       "      <td>carabobo fc</td>\n",
       "      <td>0.0</td>\n",
       "      <td>0.0</td>\n",
       "      <td>6.0</td>\n",
       "      <td>1.0</td>\n",
       "      <td>1.0</td>\n",
       "      <td>0.0</td>\n",
       "      <td>south america - copa libertadores</td>\n",
       "      <td>...</td>\n",
       "      <td>0.044435</td>\n",
       "      <td>0.018179</td>\n",
       "      <td>0.0</td>\n",
       "      <td>0.0</td>\n",
       "      <td>0.0</td>\n",
       "      <td>0.0</td>\n",
       "      <td>0.0</td>\n",
       "      <td>0.0</td>\n",
       "      <td>0.0</td>\n",
       "      <td>0.0</td>\n",
       "    </tr>\n",
       "    <tr>\n",
       "      <th>3</th>\n",
       "      <td>23.24</td>\n",
       "      <td>club universitario de deportes</td>\n",
       "      <td>carabobo fc</td>\n",
       "      <td>0.0</td>\n",
       "      <td>0.0</td>\n",
       "      <td>6.0</td>\n",
       "      <td>1.0</td>\n",
       "      <td>1.0</td>\n",
       "      <td>0.0</td>\n",
       "      <td>south america - copa libertadores</td>\n",
       "      <td>...</td>\n",
       "      <td>0.044435</td>\n",
       "      <td>0.018179</td>\n",
       "      <td>0.0</td>\n",
       "      <td>0.0</td>\n",
       "      <td>0.0</td>\n",
       "      <td>0.0</td>\n",
       "      <td>0.0</td>\n",
       "      <td>0.0</td>\n",
       "      <td>0.0</td>\n",
       "      <td>0.0</td>\n",
       "    </tr>\n",
       "    <tr>\n",
       "      <th>4</th>\n",
       "      <td>11.60</td>\n",
       "      <td>barcelona sc</td>\n",
       "      <td>ca progreso</td>\n",
       "      <td>0.0</td>\n",
       "      <td>0.0</td>\n",
       "      <td>1.0</td>\n",
       "      <td>1.0</td>\n",
       "      <td>0.0</td>\n",
       "      <td>0.0</td>\n",
       "      <td>south america - copa libertadores</td>\n",
       "      <td>...</td>\n",
       "      <td>0.000000</td>\n",
       "      <td>0.000000</td>\n",
       "      <td>0.0</td>\n",
       "      <td>0.0</td>\n",
       "      <td>0.0</td>\n",
       "      <td>0.0</td>\n",
       "      <td>0.0</td>\n",
       "      <td>0.0</td>\n",
       "      <td>0.0</td>\n",
       "      <td>0.0</td>\n",
       "    </tr>\n",
       "  </tbody>\n",
       "</table>\n",
       "<p>5 rows × 61 columns</p>\n",
       "</div>"
      ],
      "text/plain": [
       "   minute                        homeTeam     awayTeam  goal_home  goal_away  \\\n",
       "0   15.53                    club guarani  cd san jose        0.0        0.0   \n",
       "1   16.32                    club guarani  cd san jose        0.0        0.0   \n",
       "2   22.60  club universitario de deportes  carabobo fc        0.0        0.0   \n",
       "3   23.24  club universitario de deportes  carabobo fc        0.0        0.0   \n",
       "4   11.60                    barcelona sc  ca progreso        0.0        0.0   \n",
       "\n",
       "   shots_home  shots_away  blockedShots_home  blockedShots_away  \\\n",
       "0         7.0         0.0                1.0                0.0   \n",
       "1         7.0         0.0                1.0                0.0   \n",
       "2         6.0         1.0                1.0                0.0   \n",
       "3         6.0         1.0                1.0                0.0   \n",
       "4         1.0         1.0                0.0                0.0   \n",
       "\n",
       "                              league  ...  passRisk_home  passRisk_away  \\\n",
       "0  south america - copa libertadores  ...       0.000000       0.000000   \n",
       "1  south america - copa libertadores  ...       0.000000       0.000000   \n",
       "2  south america - copa libertadores  ...       0.044435       0.018179   \n",
       "3  south america - copa libertadores  ...       0.044435       0.018179   \n",
       "4  south america - copa libertadores  ...       0.000000       0.000000   \n",
       "\n",
       "   TotalCards_home  TotalCards_away  05ht_home  15ht_home  25ht_home  \\\n",
       "0              1.0              0.0        0.0        0.0        0.0   \n",
       "1              1.0              0.0        0.0        0.0        0.0   \n",
       "2              0.0              0.0        0.0        0.0        0.0   \n",
       "3              0.0              0.0        0.0        0.0        0.0   \n",
       "4              0.0              0.0        0.0        0.0        0.0   \n",
       "\n",
       "   05ht_away  15ht_away  25ht_away  \n",
       "0        0.0        0.0        0.0  \n",
       "1        0.0        0.0        0.0  \n",
       "2        0.0        0.0        0.0  \n",
       "3        0.0        0.0        0.0  \n",
       "4        0.0        0.0        0.0  \n",
       "\n",
       "[5 rows x 61 columns]"
      ]
     },
     "execution_count": 36,
     "metadata": {},
     "output_type": "execute_result"
    }
   ],
   "source": [
    "import unicodedata\n",
    "\n",
    "# Define a function to normalize text using unicodedata\n",
    "def normalize_text_unicode(text):\n",
    "    text = unicodedata.normalize('NFKD', text)\n",
    "    text = text.encode('ascii', 'ignore').decode('utf-8')\n",
    "    return text.lower()\n",
    "\n",
    "# Apply the function to the relevant columns\n",
    "df['league'] = df['league'].apply(normalize_text_unicode)\n",
    "df['homeTeam'] = df['homeTeam'].apply(normalize_text_unicode)\n",
    "df['awayTeam'] = df['awayTeam'].apply(normalize_text_unicode)\n",
    "df.head()"
   ]
  },
  {
   "cell_type": "code",
   "execution_count": 37,
   "metadata": {},
   "outputs": [
    {
     "data": {
      "text/plain": [
       "array([0.])"
      ]
     },
     "execution_count": 37,
     "metadata": {},
     "output_type": "execute_result"
    }
   ],
   "source": [
    "df['05ht_home'].unique()"
   ]
  },
  {
   "cell_type": "code",
   "execution_count": 38,
   "metadata": {},
   "outputs": [],
   "source": [
    "from sklearn.model_selection import train_test_split\n",
    "from sklearn.preprocessing import StandardScaler, LabelEncoder\n",
    "from sklearn.ensemble import RandomForestClassifier\n",
    "from sklearn.metrics import accuracy_score, classification_report\n",
    "\n",
    "# Encode categorical variables\n",
    "label_encoders = {}\n",
    "for column in ['homeTeam', 'awayTeam', 'league']:\n",
    "    le = LabelEncoder()\n",
    "    df[column] = le.fit_transform(df[column])\n",
    "    label_encoders[column] = le\n",
    "\n",
    "# Split the df into features and target variable\n",
    "X = df.drop(['result', 'match_id'], axis=1)\n",
    "y = df['result']\n",
    "\n",
    "# Split the df into training and testing sets\n",
    "X_train, X_test, y_train, y_test = train_test_split(X, y, test_size=0.2, random_state=42)\n",
    "\n",
    "# Normalize numerical features\n",
    "scaler = StandardScaler()\n",
    "X_train = scaler.fit_transform(X_train)\n",
    "X_test = scaler.transform(X_test)\n",
    "\n",
    "# Train a Random Forest classifier\n",
    "model = RandomForestClassifier(random_state=42)\n",
    "model.fit(X_train, y_train)\n",
    "\n",
    "# Make predictions and evaluate the model\n",
    "y_pred = model.predict(X_test)\n",
    "accuracy = accuracy_score(y_test, y_pred)\n",
    "report = classification_report(y_test, y_pred)"
   ]
  },
  {
   "cell_type": "code",
   "execution_count": 39,
   "metadata": {},
   "outputs": [
    {
     "data": {
      "text/plain": [
       "Index(['minute', 'homeTeam', 'awayTeam', 'goal_home', 'goal_away',\n",
       "       'shots_home', 'shots_away', 'blockedShots_home', 'blockedShots_away',\n",
       "       'league', 'corners_home', 'corners_away', 'redcards_home',\n",
       "       'redcards_away', 'shotsOffgoal_home', 'shotsOffgoal_away',\n",
       "       'shotsOngoal_home', 'shotsOngoal_away', 'yellowcards_home',\n",
       "       'yellowcards_away', 'fouls_home', 'fouls_away', 'offsides_home',\n",
       "       'offsides_away', 'tackles_home', 'tackles_away', 'possessiontime_away',\n",
       "       'possessiontime_home', 'f_attack_home', 'f_defensive_away',\n",
       "       'f_defensive_home', 'f_attack_away', 'win_rate_home', 'loss_rate_home',\n",
       "       'draw_rate_home', 'win_rate_away', 'loss_rate_away', 'draw_rate_away',\n",
       "       'shotAccuracy_home', 'shotAccuracy_away', 'attackPressureOverTime_home',\n",
       "       'attackPressureOverTime_away', 'aggrressionOverTime_home',\n",
       "       'aggresssionOverTime_away', 'defensiveEfficacy_home',\n",
       "       'defensiveEfficacy_away', 'taklesOverTime_home', 'taklesOverTime_away',\n",
       "       'possessionControl', 'passRisk_home', 'passRisk_away',\n",
       "       'TotalCards_home', 'TotalCards_away', '05ht_home', '15ht_home',\n",
       "       '25ht_home', '05ht_away', '15ht_away', '25ht_away'],\n",
       "      dtype='object')"
      ]
     },
     "execution_count": 39,
     "metadata": {},
     "output_type": "execute_result"
    }
   ],
   "source": [
    "X.columns"
   ]
  },
  {
   "cell_type": "code",
   "execution_count": 40,
   "metadata": {},
   "outputs": [
    {
     "name": "stdout",
     "output_type": "stream",
     "text": [
      "              precision    recall  f1-score   support\n",
      "\n",
      "           0       0.88      0.80      0.84      2696\n",
      "           1       0.81      0.89      0.85      2681\n",
      "\n",
      "    accuracy                           0.85      5377\n",
      "   macro avg       0.85      0.85      0.85      5377\n",
      "weighted avg       0.85      0.85      0.85      5377\n",
      "\n"
     ]
    }
   ],
   "source": [
    "print(report)"
   ]
  },
  {
   "cell_type": "code",
   "execution_count": 41,
   "metadata": {},
   "outputs": [
    {
     "data": {
      "text/plain": [
       "['../models/random_forest_model.pkl']"
      ]
     },
     "execution_count": 41,
     "metadata": {},
     "output_type": "execute_result"
    }
   ],
   "source": [
    "import joblib\n",
    "\n",
    "# Save the label encoders, scaler, and model\n",
    "joblib.dump(label_encoders, '../models/label_encoders.pkl')\n",
    "joblib.dump(scaler, '../models/scaler.pkl')\n",
    "joblib.dump(model, '../models/random_forest_model.pkl')"
   ]
  }
 ],
 "metadata": {
  "kernelspec": {
   "display_name": "Python 3",
   "language": "python",
   "name": "python3"
  },
  "language_info": {
   "codemirror_mode": {
    "name": "ipython",
    "version": 3
   },
   "file_extension": ".py",
   "mimetype": "text/x-python",
   "name": "python",
   "nbconvert_exporter": "python",
   "pygments_lexer": "ipython3",
   "version": "3.10.1"
  }
 },
 "nbformat": 4,
 "nbformat_minor": 2
}
