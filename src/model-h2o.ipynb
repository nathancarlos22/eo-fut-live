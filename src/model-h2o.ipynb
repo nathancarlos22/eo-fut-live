{
 "cells": [
  {
   "cell_type": "code",
   "execution_count": null,
   "metadata": {},
   "outputs": [],
   "source": []
  },
  {
   "cell_type": "markdown",
   "metadata": {},
   "source": [
    "# Imports e carregamentos"
   ]
  },
  {
   "cell_type": "code",
   "execution_count": 29,
   "metadata": {},
   "outputs": [],
   "source": [
    "import pandas as pd\n",
    "import numpy as np\n",
    "import warnings\n",
    "import numpy as np\n",
    "import pandas as pd\n",
    "from keras.layers import Dense, LSTM, Dropout\n",
    "from keras.models import Sequential\n",
    "from sklearn.ensemble import RandomForestClassifier\n",
    "from sklearn.metrics import mean_squared_error\n",
    "from sklearn.model_selection import train_test_split\n",
    "from keras.optimizers import Adam\n",
    "import matplotlib.pyplot as plt\n",
    "import h2o\n",
    "\n",
    "from sklearn.preprocessing import StandardScaler, OneHotEncoder\n",
    "from sklearn.compose import ColumnTransformer\n",
    "import pickle\n",
    "from h2o.automl import H2OAutoML\n",
    "\n",
    "from sklearn.metrics import roc_curve, auc\n",
    "import matplotlib.pyplot as plt\n",
    "from sklearn.metrics import confusion_matrix\n",
    "import seaborn as sns\n",
    "from keras.callbacks import EarlyStopping\n",
    "\n",
    "warnings.filterwarnings('ignore')"
   ]
  },
  {
   "cell_type": "code",
   "execution_count": 30,
   "metadata": {},
   "outputs": [],
   "source": [
    "df = pd.read_csv('data_live_engineer_filtered.csv', encoding='utf-8')"
   ]
  },
  {
   "cell_type": "markdown",
   "metadata": {},
   "source": [
    "## Preprocessamento"
   ]
  },
  {
   "cell_type": "code",
   "execution_count": 31,
   "metadata": {},
   "outputs": [
    {
     "name": "stdout",
     "output_type": "stream",
     "text": [
      "Dados separados em características (X) e variável alvo (y).\n",
      "Preprocessador criado com transformações para características numéricas e categóricas.\n",
      "Preprocessador ajustado aos dados.\n",
      "Preprocessador salvo em '../models/preprocessor.pickle'.\n",
      "Dados transformados pelo preprocessador.\n",
      "Dados divididos em conjuntos de treino e teste.\n"
     ]
    }
   ],
   "source": [
    "from sklearn.model_selection import train_test_split\n",
    "from sklearn.compose import ColumnTransformer\n",
    "from sklearn.preprocessing import StandardScaler, OneHotEncoder\n",
    "import pickle\n",
    "\n",
    "# Função para separar os dados em características e variável alvo\n",
    "def prepare_data(df):\n",
    "    X = df.drop(columns=['result', 'homeTeam', 'awayTeam', 'match_id'])\n",
    "    y = df['result']\n",
    "    print(\"Dados separados em características (X) e variável alvo (y).\")\n",
    "    return X, y\n",
    "\n",
    "# Função para criar e aplicar o transformador de colunas\n",
    "def create_preprocessor(X):\n",
    "    numeric_features = X.select_dtypes(exclude=['object']).columns.tolist()\n",
    "    categorical_features = ['league']\n",
    "\n",
    "    preprocessor = ColumnTransformer(\n",
    "        transformers=[\n",
    "            ('num', StandardScaler(), numeric_features),\n",
    "            ('cat', OneHotEncoder(drop='first'), categorical_features)\n",
    "        ])\n",
    "    \n",
    "    print(\"Preprocessador criado com transformações para características numéricas e categóricas.\")\n",
    "    return preprocessor.fit(X)\n",
    "\n",
    "# # Preparando os dados\n",
    "X, y = prepare_data(df)\n",
    "preprocessor = create_preprocessor(X)\n",
    "print(\"Preprocessador ajustado aos dados.\")\n",
    "\n",
    "# Salvando o preprocessador para uso futuro\n",
    "with open('../models/preprocessor.pickle', 'wb') as f:\n",
    "    pickle.dump(preprocessor, f)\n",
    "    print(\"Preprocessador salvo em '../models/preprocessor.pickle'.\")\n",
    "\n",
    "# Dividindo os dados em conjuntos de treino e teste\n",
    "X_transformed = preprocessor.transform(X)\n",
    "print(\"Dados transformados pelo preprocessador.\")\n",
    "\n",
    "X_train, X_test, y_train, y_test = train_test_split(X_transformed, y, test_size=0.20, random_state=42)\n",
    "print(\"Dados divididos em conjuntos de treino e teste.\")"
   ]
  },
  {
   "cell_type": "markdown",
   "metadata": {},
   "source": [
    "## H2O AutoML"
   ]
  },
  {
   "cell_type": "markdown",
   "metadata": {},
   "source": [
    "### Conversão de Dados a Treinamento"
   ]
  },
  {
   "cell_type": "code",
   "execution_count": 32,
   "metadata": {},
   "outputs": [
    {
     "name": "stdout",
     "output_type": "stream",
     "text": [
      "Checking whether there is an H2O instance running at http://localhost:54321. connected.\n",
      "Warning: Your H2O cluster version is (3 months and 11 days) old.  There may be a newer version available.\n",
      "Please download and install the latest version from: https://h2o-release.s3.amazonaws.com/h2o/latest_stable.html\n"
     ]
    },
    {
     "data": {
      "text/html": [
       "\n",
       "<style>\n",
       "\n",
       "#h2o-table-3.h2o-container {\n",
       "  overflow-x: auto;\n",
       "}\n",
       "#h2o-table-3 .h2o-table {\n",
       "  /* width: 100%; */\n",
       "  margin-top: 1em;\n",
       "  margin-bottom: 1em;\n",
       "}\n",
       "#h2o-table-3 .h2o-table caption {\n",
       "  white-space: nowrap;\n",
       "  caption-side: top;\n",
       "  text-align: left;\n",
       "  /* margin-left: 1em; */\n",
       "  margin: 0;\n",
       "  font-size: larger;\n",
       "}\n",
       "#h2o-table-3 .h2o-table thead {\n",
       "  white-space: nowrap; \n",
       "  position: sticky;\n",
       "  top: 0;\n",
       "  box-shadow: 0 -1px inset;\n",
       "}\n",
       "#h2o-table-3 .h2o-table tbody {\n",
       "  overflow: auto;\n",
       "}\n",
       "#h2o-table-3 .h2o-table th,\n",
       "#h2o-table-3 .h2o-table td {\n",
       "  text-align: right;\n",
       "  /* border: 1px solid; */\n",
       "}\n",
       "#h2o-table-3 .h2o-table tr:nth-child(even) {\n",
       "  /* background: #F5F5F5 */\n",
       "}\n",
       "\n",
       "</style>      \n",
       "<div id=\"h2o-table-3\" class=\"h2o-container\">\n",
       "  <table class=\"h2o-table\">\n",
       "    <caption></caption>\n",
       "    <thead></thead>\n",
       "    <tbody><tr><td>H2O_cluster_uptime:</td>\n",
       "<td>4 hours 18 mins</td></tr>\n",
       "<tr><td>H2O_cluster_timezone:</td>\n",
       "<td>America/Sao_Paulo</td></tr>\n",
       "<tr><td>H2O_data_parsing_timezone:</td>\n",
       "<td>UTC</td></tr>\n",
       "<tr><td>H2O_cluster_version:</td>\n",
       "<td>3.42.0.3</td></tr>\n",
       "<tr><td>H2O_cluster_version_age:</td>\n",
       "<td>3 months and 11 days</td></tr>\n",
       "<tr><td>H2O_cluster_name:</td>\n",
       "<td>H2O_from_python_Pichau_jd7hv3</td></tr>\n",
       "<tr><td>H2O_cluster_total_nodes:</td>\n",
       "<td>1</td></tr>\n",
       "<tr><td>H2O_cluster_free_memory:</td>\n",
       "<td>5.376 Gb</td></tr>\n",
       "<tr><td>H2O_cluster_total_cores:</td>\n",
       "<td>12</td></tr>\n",
       "<tr><td>H2O_cluster_allowed_cores:</td>\n",
       "<td>12</td></tr>\n",
       "<tr><td>H2O_cluster_status:</td>\n",
       "<td>locked, healthy</td></tr>\n",
       "<tr><td>H2O_connection_url:</td>\n",
       "<td>http://localhost:54321</td></tr>\n",
       "<tr><td>H2O_connection_proxy:</td>\n",
       "<td>{\"http\": null, \"https\": null}</td></tr>\n",
       "<tr><td>H2O_internal_security:</td>\n",
       "<td>False</td></tr>\n",
       "<tr><td>Python_version:</td>\n",
       "<td>3.10.1 final</td></tr></tbody>\n",
       "  </table>\n",
       "</div>\n"
      ],
      "text/plain": [
       "--------------------------  -----------------------------\n",
       "H2O_cluster_uptime:         4 hours 18 mins\n",
       "H2O_cluster_timezone:       America/Sao_Paulo\n",
       "H2O_data_parsing_timezone:  UTC\n",
       "H2O_cluster_version:        3.42.0.3\n",
       "H2O_cluster_version_age:    3 months and 11 days\n",
       "H2O_cluster_name:           H2O_from_python_Pichau_jd7hv3\n",
       "H2O_cluster_total_nodes:    1\n",
       "H2O_cluster_free_memory:    5.376 Gb\n",
       "H2O_cluster_total_cores:    12\n",
       "H2O_cluster_allowed_cores:  12\n",
       "H2O_cluster_status:         locked, healthy\n",
       "H2O_connection_url:         http://localhost:54321\n",
       "H2O_connection_proxy:       {\"http\": null, \"https\": null}\n",
       "H2O_internal_security:      False\n",
       "Python_version:             3.10.1 final\n",
       "--------------------------  -----------------------------"
      ]
     },
     "metadata": {},
     "output_type": "display_data"
    },
    {
     "name": "stdout",
     "output_type": "stream",
     "text": [
      "Parse progress: |████████████████████████████████████████████████████████████████| (done) 100%\n",
      "Parse progress: |████████████████████████████████████████████████████████████████| (done) 100%\n",
      "Parse progress: |████████████████████████████████████████████████████████████████| (done) 100%\n",
      "Parse progress: |████████████████████████████████████████████████████████████████| (done) 100%\n",
      "Parse progress: |████████████████████████████████████████████████████████████████| (done) 100%\n",
      "Parse progress: |████████████████████████████████████████████████████████████████| (done) 100%\n",
      "Parse progress: |████████████████████████████████████████████████████████████████| (done) 100%\n",
      "Parse progress: |████████████████████████████████████████████████████████████████| (done) 100%\n",
      "X_train_h2o shape: (44171, 60)\n",
      "y_train_h2o shape: (44171, 1)\n",
      "X_test_h2o shape: (11043, 60)\n",
      "y_test_h2o shape: (11043, 1)\n"
     ]
    }
   ],
   "source": [
    "# Inicializar o H2O\n",
    "h2o.init()\n",
    "\n",
    "# Convertendo dados do numpy para H2OFrame\n",
    "X_train_h2o = h2o.H2OFrame(pd.DataFrame(X_train, columns=[\"C\" + str(i) for i in range(X_train.shape[1])]))\n",
    "X_test_h2o = h2o.H2OFrame(pd.DataFrame(X_test, columns=[\"C\" + str(i) for i in range(X_test.shape[1])]))\n",
    "y_train_h2o = h2o.H2OFrame(pd.DataFrame(y_train, columns=[\"result\"]))\n",
    "y_test_h2o = h2o.H2OFrame(pd.DataFrame(y_test, columns=[\"result\"]))\n",
    "\n",
    "# Convert Pandas DataFrame or NumPy array to H2OFrame\n",
    "X_train_h2o = h2o.H2OFrame(X_train)\n",
    "X_test_h2o = h2o.H2OFrame(X_test)\n",
    "\n",
    "y_train_df = y_train.to_frame()\n",
    "y_train_h2o = h2o.H2OFrame(y_train_df)\n",
    "y_train_h2o['result'] = y_train_h2o['result'].asfactor()\n",
    "\n",
    "y_test_df = y_test.to_frame()\n",
    "y_test_h2o = h2o.H2OFrame(y_test_df)\n",
    "y_test_h2o['result'] = y_test_h2o['result'].asfactor()\n",
    "\n",
    "# Check the shape again\n",
    "print(\"X_train_h2o shape:\", X_train_h2o.shape)\n",
    "print(\"y_train_h2o shape:\", y_train_h2o.shape)\n",
    "print(\"X_test_h2o shape:\", X_test_h2o.shape)\n",
    "print(\"y_test_h2o shape:\", y_test_h2o.shape)\n",
    "\n",
    "# Combine them back into one frame\n",
    "train_data = X_train_h2o.cbind(y_train_h2o)\n",
    "test_data = X_test_h2o.cbind(y_test_h2o)\n",
    "\n",
    "# Identify predictors and response\n",
    "x = train_data.columns\n",
    "\n",
    "y = \"result\"\n",
    "x.remove(y)"
   ]
  },
  {
   "cell_type": "markdown",
   "metadata": {},
   "source": [
    "### Treinamento"
   ]
  },
  {
   "cell_type": "code",
   "execution_count": 33,
   "metadata": {},
   "outputs": [
    {
     "name": "stdout",
     "output_type": "stream",
     "text": [
      "AutoML progress: |██\n",
      "13:06:01.35: AutoML: XGBoost is not available; skipping it.\n",
      "\n",
      "█████████████████████████████████████████████████████████████| (done) 100%\n",
      "model_id                                                    aucpr       auc    logloss    mean_per_class_error      rmse        mse\n",
      "StackedEnsemble_AllModels_1_AutoML_3_20231204_130601     0.960696  0.969583   0.219984               0.0730668  0.24471   0.0598831\n",
      "GBM_grid_1_AutoML_3_20231204_130601_model_5              0.960541  0.969264   0.224208               0.0743143  0.243396  0.0592416\n",
      "StackedEnsemble_BestOfFamily_1_AutoML_3_20231204_130601  0.959879  0.969199   0.220854               0.0742232  0.245669  0.0603531\n",
      "GBM_4_AutoML_3_20231204_130601                           0.95751   0.966703   0.233934               0.0806222  0.252789  0.0639022\n",
      "GBM_grid_1_AutoML_3_20231204_130601_model_4              0.953089  0.962025   0.253388               0.0883772  0.267389  0.0714967\n",
      "GBM_3_AutoML_3_20231204_130601                           0.952606  0.961485   0.255667               0.090884   0.269845  0.0728163\n",
      "GBM_1_AutoML_3_20231204_130601                           0.951028  0.959124   0.262391               0.0982788  0.275113  0.0756874\n",
      "GBM_grid_1_AutoML_3_20231204_130601_model_2              0.948115  0.95627    0.279947               0.101488   0.286496  0.0820799\n",
      "GBM_2_AutoML_3_20231204_130601                           0.947053  0.955402   0.277764               0.105271   0.285958  0.0817721\n",
      "DRF_1_AutoML_3_20231204_130601                           0.94453   0.954472   0.311182               0.103423   0.301029  0.0906187\n",
      "[22 rows x 7 columns]\n",
      "\n"
     ]
    }
   ],
   "source": [
    "# Run AutoML\n",
    "aml = H2OAutoML(max_models=20, sort_metric='aucpr')\n",
    "aml.train(x=x, y=y, training_frame=train_data)\n",
    "\n",
    "# View leaderboard\n",
    "lb = aml.leaderboard\n",
    "print(lb)\n",
    "\n",
    "#save the model\n",
    "model_path = h2o.save_model(model=aml.leader, path=\"../models/\", force=True)"
   ]
  },
  {
   "cell_type": "markdown",
   "metadata": {},
   "source": [
    "### Avaliação de métricas"
   ]
  },
  {
   "cell_type": "code",
   "execution_count": 34,
   "metadata": {},
   "outputs": [
    {
     "name": "stdout",
     "output_type": "stream",
     "text": [
      "stackedensemble prediction progress: |███████████████████████████████████████████| (done) 100%\n"
     ]
    },
    {
     "data": {
      "image/png": "[encoded data removed]",
      "text/plain": [
       "<Figure size 432x288 with 1 Axes>"
      ]
     },
     "metadata": {
      "needs_background": "light"
     },
     "output_type": "display_data"
    },
    {
     "data": {
      "image/png": "[encoded data removed]",
      "text/plain": [
       "<Figure size 504x360 with 2 Axes>"
      ]
     },
     "metadata": {
      "needs_background": "light"
     },
     "output_type": "display_data"
    }
   ],
   "source": [
    "# h2o.init()\n",
    "# loaded_model = h2o.load_model(\"../models/model_automl\")\n",
    "loaded_model = h2o.load_model(model_path)\n",
    "y_pred_prob = loaded_model.predict(X_test_h2o)\n",
    "y_pred = h2o.as_list(y_pred_prob)\n",
    "y_pred_prob = y_pred['predict'].tolist()\n",
    "\n",
    "# Falsos positivos, verdadeiros positivos e limiares\n",
    "fpr, tpr, thresholds = roc_curve(y_test, y_pred_prob)\n",
    "\n",
    "# Área sob a curva\n",
    "roc_auc = auc(fpr, tpr)\n",
    "\n",
    "plt.figure()\n",
    "plt.plot(fpr, tpr, color='darkorange', lw=1, label='ROC curve (area = %0.2f)' % roc_auc)\n",
    "plt.xlim([0.0, 1.0])\n",
    "plt.ylim([0.0, 1.05])\n",
    "plt.xlabel('False Positive Rate')\n",
    "plt.ylabel('True Positive Rate')\n",
    "plt.title('Receiver Operating Characteristic')\n",
    "plt.legend(loc=\"lower right\")\n",
    "plt.show()\n",
    "\n",
    "# Matriz de confusão\n",
    "y_pred_round = [round(value) for value in y_pred_prob]\n",
    "cm = confusion_matrix(y_test.to_list(), y_pred_round)\n",
    "\n",
    "plt.figure(figsize=(7, 5))\n",
    "sns.heatmap(cm, annot=True, cmap='Blues', fmt='g')\n",
    "plt.xlabel('Predicted')\n",
    "plt.ylabel('True')\n",
    "plt.show()"
   ]
  },
  {
   "cell_type": "code",
   "execution_count": 35,
   "metadata": {},
   "outputs": [
    {
     "name": "stdout",
     "output_type": "stream",
     "text": [
      "Relatório de Classificação:\n",
      "              precision    recall  f1-score   support\n",
      "\n",
      "    Classe 0       0.95      0.93      0.94      5479\n",
      "    Classe 1       0.93      0.95      0.94      5564\n",
      "\n",
      "    accuracy                           0.94     11043\n",
      "   macro avg       0.94      0.94      0.94     11043\n",
      "weighted avg       0.94      0.94      0.94     11043\n",
      "\n"
     ]
    }
   ],
   "source": [
    "from sklearn.metrics import classification_report\n",
    "\n",
    "# Certifique-se de que y_test é um array ou lista\n",
    "# Se y_test for um DataFrame ou Series, converta usando .tolist() ou .values\n",
    "y_test_list = y_test.tolist() if hasattr(y_test, 'tolist') else y_test\n",
    "\n",
    "# Gerando o relatório de classificação\n",
    "report = classification_report(y_test_list, y_pred_round, target_names=['Classe 0', 'Classe 1'])\n",
    "\n",
    "# Imprimindo o relatório de classificação\n",
    "print(\"Relatório de Classificação:\")\n",
    "print(report)\n"
   ]
  },
  {
   "cell_type": "markdown",
   "metadata": {},
   "source": [
    "### Na prática"
   ]
  },
  {
   "cell_type": "code",
   "execution_count": 36,
   "metadata": {},
   "outputs": [
    {
     "data": {
      "text/plain": [
       "1698    1\n",
       "Name: result, dtype: int64"
      ]
     },
     "execution_count": 36,
     "metadata": {},
     "output_type": "execute_result"
    }
   ],
   "source": [
    "df.head(1699).tail(1)['result']"
   ]
  },
  {
   "cell_type": "code",
   "execution_count": 37,
   "metadata": {},
   "outputs": [
    {
     "name": "stdout",
     "output_type": "stream",
     "text": [
      "Parse progress: |████████████████████████████████████████████████████████████████| (done) 100%\n",
      "stackedensemble prediction progress: |███████████████████████████████████████████| (done) 100%\n"
     ]
    },
    {
     "data": {
      "text/html": [
       "<table class='dataframe'>\n",
       "<thead>\n",
       "<tr><th style=\"text-align: right;\">  predict</th><th style=\"text-align: right;\">        p0</th><th style=\"text-align: right;\">      p1</th></tr>\n",
       "</thead>\n",
       "<tbody>\n",
       "<tr><td style=\"text-align: right;\">        1</td><td style=\"text-align: right;\">0.00621476</td><td style=\"text-align: right;\">0.993785</td></tr>\n",
       "</tbody>\n",
       "</table><pre style='font-size: smaller; margin-bottom: 1em;'>[1 row x 3 columns]</pre>"
      ],
      "text/plain": [
       "  predict          p0        p1\n",
       "---------  ----------  --------\n",
       "        1  0.00621476  0.993785\n",
       "[1 row x 3 columns]\n"
      ]
     },
     "execution_count": 37,
     "metadata": {},
     "output_type": "execute_result"
    }
   ],
   "source": [
    "# h2o.init()\n",
    "# loaded_model = h2o.load_model(\"../models/model_automl\")\n",
    "Xht = df.drop(columns=['result', 'homeTeam', 'awayTeam', 'match_id']).head(1699).tail(1)\n",
    "Xht = preprocessor.transform(Xht)\n",
    "Xht = h2o.H2OFrame(Xht)\n",
    "loaded_model.predict(Xht)"
   ]
  },
  {
   "cell_type": "code",
   "execution_count": 38,
   "metadata": {},
   "outputs": [],
   "source": [
    "# h2o.export_file(frame=lb, path='lb.csv', force=True)"
   ]
  },
  {
   "cell_type": "code",
   "execution_count": 39,
   "metadata": {},
   "outputs": [
    {
     "name": "stdout",
     "output_type": "stream",
     "text": [
      "stackedensemble prediction progress: |███████████████████████████████████████████| (done) 100%\n"
     ]
    },
    {
     "data": {
      "text/plain": [
       "0.9937852436228648"
      ]
     },
     "execution_count": 39,
     "metadata": {},
     "output_type": "execute_result"
    }
   ],
   "source": [
    "# obter o valor da predição colocando o item preditor em uma lista e pegando o primeiro valor\n",
    "h2o.as_list(loaded_model.predict(Xht)).loc[0, 'p1']"
   ]
  },
  {
   "cell_type": "markdown",
   "metadata": {},
   "source": [
    "### Importancia dos atributos"
   ]
  },
  {
   "cell_type": "code",
   "execution_count": 40,
   "metadata": {},
   "outputs": [
    {
     "name": "stdout",
     "output_type": "stream",
     "text": [
      "Parse progress: |████████████████████████████████████████████████████████████████| (done) 100%\n",
      "stackedensemble prediction progress: |███████████████████████████████████████████| (done) 100%\n"
     ]
    }
   ],
   "source": [
    "import shap\n",
    "# função de previsão para o modelo H2O\n",
    "def model_predict(data_as_array):\n",
    "    h2o_df = h2o.H2OFrame(pd.DataFrame(data_as_array, columns=[\"C\" + str(i) for i in range(data_as_array.shape[1])]))\n",
    "    preds = loaded_model.predict(h2o_df)\n",
    "    preds_df = preds.as_data_frame()\n",
    "    # Assegurar que as previsões estejam no formato correto (array 2D com duas colunas)\n",
    "    return preds_df.iloc[:, -2:].values\n",
    "\n",
    "\n",
    "# Converter H2OFrame para DataFrame do pandas\n",
    "X_train_pd = h2o.as_list(X_train_h2o)\n",
    "X_test_pd = h2o.as_list(X_test_h2o)\n",
    "\n",
    "# explainer usando KernelExplainer para um modelo H2O\n",
    "explainer = shap.KernelExplainer(model_predict, X_train_pd.iloc[:50])"
   ]
  },
  {
   "cell_type": "code",
   "execution_count": null,
   "metadata": {},
   "outputs": [],
   "source": [
    "# Calcula os valores SHAP para um subconjunto do conjunto de teste\n",
    "# shap_values_h2o = explainer.shap_values(X_test_pd[:50])"
   ]
  },
  {
   "cell_type": "code",
   "execution_count": null,
   "metadata": {},
   "outputs": [],
   "source": [
    "# # Obter os nomes das colunas numéricas\n",
    "# numeric_features = X.select_dtypes(exclude=['object']).columns.tolist()\n",
    "\n",
    "# # Obter os nomes das colunas após a transformação\n",
    "# # Para as características numéricas, permanecem os mesmos\n",
    "# transformed_numeric_features = numeric_features\n",
    "\n",
    "# # como so tem uma caracteristica categorica:\n",
    "# categories = preprocessor.named_transformers_['cat'].categories_\n",
    "# transformed_categorical_features = [\n",
    "#     f'league_{category}' for category in categories[0][1:]  # drop='first' remove a primeira categoria\n",
    "# ]\n",
    "\n",
    "# # Combina os dois\n",
    "# all_transformed_features = transformed_numeric_features + transformed_categorical_features\n",
    "\n",
    "# shap.summary_plot(shap_values_h2o, features=X_test_pd.iloc[:50], feature_names=all_transformed_features, max_display=X_test_pd.iloc[:50].shape[1])"
   ]
  }
 ],
 "metadata": {
  "kernelspec": {
   "display_name": "Python 3",
   "language": "python",
   "name": "python3"
  },
  "language_info": {
   "codemirror_mode": {
    "name": "ipython",
    "version": 3
   },
   "file_extension": ".py",
   "mimetype": "text/x-python",
   "name": "python",
   "nbconvert_exporter": "python",
   "pygments_lexer": "ipython3",
   "version": "3.10.1"
  }
 },
 "nbformat": 4,
 "nbformat_minor": 2
}
