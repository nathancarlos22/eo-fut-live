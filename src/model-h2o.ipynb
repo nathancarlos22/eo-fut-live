{
 "cells": [
  {
   "cell_type": "code",
   "execution_count": null,
   "metadata": {},
   "outputs": [],
   "source": []
  },
  {
   "cell_type": "markdown",
   "metadata": {},
   "source": [
    "# Imports e carregamentos"
   ]
  },
  {
   "cell_type": "code",
   "execution_count": 1,
   "metadata": {},
   "outputs": [],
   "source": [
    "import pandas as pd\n",
    "import numpy as np\n",
    "import warnings\n",
    "import numpy as np\n",
    "import pandas as pd\n",
    "from keras.layers import Dense, LSTM, Dropout\n",
    "from keras.models import Sequential\n",
    "from sklearn.ensemble import RandomForestClassifier\n",
    "from sklearn.metrics import mean_squared_error\n",
    "from sklearn.model_selection import train_test_split\n",
    "from keras.optimizers import Adam\n",
    "import matplotlib.pyplot as plt\n",
    "import h2o\n",
    "\n",
    "from sklearn.preprocessing import StandardScaler, OneHotEncoder\n",
    "from sklearn.compose import ColumnTransformer\n",
    "import pickle\n",
    "from h2o.automl import H2OAutoML\n",
    "\n",
    "from sklearn.metrics import roc_curve, auc\n",
    "import matplotlib.pyplot as plt\n",
    "from sklearn.metrics import confusion_matrix\n",
    "import seaborn as sns\n",
    "from keras.callbacks import EarlyStopping\n",
    "\n",
    "warnings.filterwarnings('ignore')"
   ]
  },
  {
   "cell_type": "code",
   "execution_count": 2,
   "metadata": {},
   "outputs": [],
   "source": [
    "df = pd.read_csv('data_live_engineer_filtered.csv', encoding='utf-8')"
   ]
  },
  {
   "cell_type": "markdown",
   "metadata": {},
   "source": [
    "## Preprocessamento"
   ]
  },
  {
   "cell_type": "code",
   "execution_count": 3,
   "metadata": {},
   "outputs": [
    {
     "name": "stdout",
     "output_type": "stream",
     "text": [
      "Dados separados em características (X) e variável alvo (y).\n",
      "Preprocessador criado com transformações para características numéricas e categóricas.\n",
      "Preprocessador ajustado aos dados.\n",
      "Preprocessador salvo em '../models/preprocessor.pickle'.\n",
      "Dados transformados pelo preprocessador.\n",
      "Dados divididos em conjuntos de treino e teste.\n"
     ]
    }
   ],
   "source": [
    "from sklearn.model_selection import train_test_split\n",
    "from sklearn.compose import ColumnTransformer\n",
    "from sklearn.preprocessing import StandardScaler, OneHotEncoder\n",
    "import pickle\n",
    "\n",
    "# Função para separar os dados em características e variável alvo\n",
    "def prepare_data(df):\n",
    "    X = df.drop(columns=['result', 'homeTeam', 'awayTeam', 'match_id'])\n",
    "    y = df['result']\n",
    "    print(\"Dados separados em características (X) e variável alvo (y).\")\n",
    "    return X, y\n",
    "\n",
    "# Função para criar e aplicar o transformador de colunas\n",
    "def create_preprocessor(X):\n",
    "    numeric_features = X.select_dtypes(exclude=['object']).columns.tolist()\n",
    "    categorical_features = ['league']\n",
    "\n",
    "    preprocessor = ColumnTransformer(\n",
    "        transformers=[\n",
    "            ('num', StandardScaler(), numeric_features),\n",
    "            ('cat', OneHotEncoder(drop='first'), categorical_features)\n",
    "        ])\n",
    "    \n",
    "    print(\"Preprocessador criado com transformações para características numéricas e categóricas.\")\n",
    "    return preprocessor.fit(X)\n",
    "\n",
    "# # Preparando os dados\n",
    "X, y = prepare_data(df)\n",
    "preprocessor = create_preprocessor(X)\n",
    "print(\"Preprocessador ajustado aos dados.\")\n",
    "\n",
    "# Salvando o preprocessador para uso futuro\n",
    "with open('../models/preprocessor.pickle', 'wb') as f:\n",
    "    pickle.dump(preprocessor, f)\n",
    "    print(\"Preprocessador salvo em '../models/preprocessor.pickle'.\")\n",
    "\n",
    "# Dividindo os dados em conjuntos de treino e teste\n",
    "X_transformed = preprocessor.transform(X)\n",
    "print(\"Dados transformados pelo preprocessador.\")\n",
    "\n",
    "X_train, X_test, y_train, y_test = train_test_split(X_transformed, y, test_size=0.20, random_state=42)\n",
    "print(\"Dados divididos em conjuntos de treino e teste.\")"
   ]
  },
  {
   "cell_type": "markdown",
   "metadata": {},
   "source": [
    "## H2O AutoML"
   ]
  },
  {
   "cell_type": "markdown",
   "metadata": {},
   "source": [
    "### Conversão de Dados a Treinamento"
   ]
  },
  {
   "cell_type": "code",
   "execution_count": 4,
   "metadata": {},
   "outputs": [
    {
     "name": "stdout",
     "output_type": "stream",
     "text": [
      "Checking whether there is an H2O instance running at http://localhost:54321..... not found.\n",
      "Attempting to start a local H2O server...\n",
      "; Java HotSpot(TM) 64-Bit Server VM (build 17.0.8+9-LTS-211, mixed mode, sharing)\n",
      "  Starting server from C:\\Python310\\Lib\\site-packages\\h2o\\backend\\bin\\h2o.jar\n",
      "  Ice root: C:\\Users\\Pichau\\AppData\\Local\\Temp\\tmp0gev078l\n",
      "  JVM stdout: C:\\Users\\Pichau\\AppData\\Local\\Temp\\tmp0gev078l\\h2o_Pichau_started_from_python.out\n",
      "  JVM stderr: C:\\Users\\Pichau\\AppData\\Local\\Temp\\tmp0gev078l\\h2o_Pichau_started_from_python.err\n",
      "  Server is running at http://127.0.0.1:54321\n",
      "Connecting to H2O server at http://127.0.0.1:54321 ... successful.\n",
      "Warning: Your H2O cluster version is (3 months and 13 days) old.  There may be a newer version available.\n",
      "Please download and install the latest version from: https://h2o-release.s3.amazonaws.com/h2o/latest_stable.html\n"
     ]
    },
    {
     "data": {
      "text/html": [
       "\n",
       "<style>\n",
       "\n",
       "#h2o-table-1.h2o-container {\n",
       "  overflow-x: auto;\n",
       "}\n",
       "#h2o-table-1 .h2o-table {\n",
       "  /* width: 100%; */\n",
       "  margin-top: 1em;\n",
       "  margin-bottom: 1em;\n",
       "}\n",
       "#h2o-table-1 .h2o-table caption {\n",
       "  white-space: nowrap;\n",
       "  caption-side: top;\n",
       "  text-align: left;\n",
       "  /* margin-left: 1em; */\n",
       "  margin: 0;\n",
       "  font-size: larger;\n",
       "}\n",
       "#h2o-table-1 .h2o-table thead {\n",
       "  white-space: nowrap; \n",
       "  position: sticky;\n",
       "  top: 0;\n",
       "  box-shadow: 0 -1px inset;\n",
       "}\n",
       "#h2o-table-1 .h2o-table tbody {\n",
       "  overflow: auto;\n",
       "}\n",
       "#h2o-table-1 .h2o-table th,\n",
       "#h2o-table-1 .h2o-table td {\n",
       "  text-align: right;\n",
       "  /* border: 1px solid; */\n",
       "}\n",
       "#h2o-table-1 .h2o-table tr:nth-child(even) {\n",
       "  /* background: #F5F5F5 */\n",
       "}\n",
       "\n",
       "</style>      \n",
       "<div id=\"h2o-table-1\" class=\"h2o-container\">\n",
       "  <table class=\"h2o-table\">\n",
       "    <caption></caption>\n",
       "    <thead></thead>\n",
       "    <tbody><tr><td>H2O_cluster_uptime:</td>\n",
       "<td>02 secs</td></tr>\n",
       "<tr><td>H2O_cluster_timezone:</td>\n",
       "<td>America/Sao_Paulo</td></tr>\n",
       "<tr><td>H2O_data_parsing_timezone:</td>\n",
       "<td>UTC</td></tr>\n",
       "<tr><td>H2O_cluster_version:</td>\n",
       "<td>3.42.0.3</td></tr>\n",
       "<tr><td>H2O_cluster_version_age:</td>\n",
       "<td>3 months and 13 days</td></tr>\n",
       "<tr><td>H2O_cluster_name:</td>\n",
       "<td>H2O_from_python_Pichau_7v7b6a</td></tr>\n",
       "<tr><td>H2O_cluster_total_nodes:</td>\n",
       "<td>1</td></tr>\n",
       "<tr><td>H2O_cluster_free_memory:</td>\n",
       "<td>5.965 Gb</td></tr>\n",
       "<tr><td>H2O_cluster_total_cores:</td>\n",
       "<td>12</td></tr>\n",
       "<tr><td>H2O_cluster_allowed_cores:</td>\n",
       "<td>12</td></tr>\n",
       "<tr><td>H2O_cluster_status:</td>\n",
       "<td>locked, healthy</td></tr>\n",
       "<tr><td>H2O_connection_url:</td>\n",
       "<td>http://127.0.0.1:54321</td></tr>\n",
       "<tr><td>H2O_connection_proxy:</td>\n",
       "<td>{\"http\": null, \"https\": null}</td></tr>\n",
       "<tr><td>H2O_internal_security:</td>\n",
       "<td>False</td></tr>\n",
       "<tr><td>Python_version:</td>\n",
       "<td>3.10.1 final</td></tr></tbody>\n",
       "  </table>\n",
       "</div>\n"
      ],
      "text/plain": [
       "--------------------------  -----------------------------\n",
       "H2O_cluster_uptime:         02 secs\n",
       "H2O_cluster_timezone:       America/Sao_Paulo\n",
       "H2O_data_parsing_timezone:  UTC\n",
       "H2O_cluster_version:        3.42.0.3\n",
       "H2O_cluster_version_age:    3 months and 13 days\n",
       "H2O_cluster_name:           H2O_from_python_Pichau_7v7b6a\n",
       "H2O_cluster_total_nodes:    1\n",
       "H2O_cluster_free_memory:    5.965 Gb\n",
       "H2O_cluster_total_cores:    12\n",
       "H2O_cluster_allowed_cores:  12\n",
       "H2O_cluster_status:         locked, healthy\n",
       "H2O_connection_url:         http://127.0.0.1:54321\n",
       "H2O_connection_proxy:       {\"http\": null, \"https\": null}\n",
       "H2O_internal_security:      False\n",
       "Python_version:             3.10.1 final\n",
       "--------------------------  -----------------------------"
      ]
     },
     "metadata": {},
     "output_type": "display_data"
    },
    {
     "name": "stdout",
     "output_type": "stream",
     "text": [
      "Parse progress: |████████████████████████████████████████████████████████████████| (done) 100%\n",
      "Parse progress: |████████████████████████████████████████████████████████████████| (done) 100%\n",
      "Parse progress: |████████████████████████████████████████████████████████████████| (done) 100%\n",
      "Parse progress: |████████████████████████████████████████████████████████████████| (done) 100%\n",
      "Parse progress: |████████████████████████████████████████████████████████████████| (done) 100%\n",
      "Parse progress: |████████████████████████████████████████████████████████████████| (done) 100%\n",
      "Parse progress: |████████████████████████████████████████████████████████████████| (done) 100%\n",
      "Parse progress: |████████████████████████████████████████████████████████████████| (done) 100%\n",
      "X_train_h2o shape: (92859, 54)\n",
      "y_train_h2o shape: (92859, 1)\n",
      "X_test_h2o shape: (23215, 54)\n",
      "y_test_h2o shape: (23215, 1)\n"
     ]
    }
   ],
   "source": [
    "# Inicializar o H2O\n",
    "h2o.init()\n",
    "\n",
    "# Convertendo dados do numpy para H2OFrame\n",
    "X_train_h2o = h2o.H2OFrame(pd.DataFrame(X_train, columns=[\"C\" + str(i) for i in range(X_train.shape[1])]))\n",
    "X_test_h2o = h2o.H2OFrame(pd.DataFrame(X_test, columns=[\"C\" + str(i) for i in range(X_test.shape[1])]))\n",
    "y_train_h2o = h2o.H2OFrame(pd.DataFrame(y_train, columns=[\"result\"]))\n",
    "y_test_h2o = h2o.H2OFrame(pd.DataFrame(y_test, columns=[\"result\"]))\n",
    "\n",
    "# Convert Pandas DataFrame or NumPy array to H2OFrame\n",
    "X_train_h2o = h2o.H2OFrame(X_train)\n",
    "X_test_h2o = h2o.H2OFrame(X_test)\n",
    "\n",
    "y_train_df = y_train.to_frame()\n",
    "y_train_h2o = h2o.H2OFrame(y_train_df)\n",
    "y_train_h2o['result'] = y_train_h2o['result'].asfactor()\n",
    "\n",
    "y_test_df = y_test.to_frame()\n",
    "y_test_h2o = h2o.H2OFrame(y_test_df)\n",
    "y_test_h2o['result'] = y_test_h2o['result'].asfactor()\n",
    "\n",
    "# Check the shape again\n",
    "print(\"X_train_h2o shape:\", X_train_h2o.shape)\n",
    "print(\"y_train_h2o shape:\", y_train_h2o.shape)\n",
    "print(\"X_test_h2o shape:\", X_test_h2o.shape)\n",
    "print(\"y_test_h2o shape:\", y_test_h2o.shape)\n",
    "\n",
    "# Combine them back into one frame\n",
    "train_data = X_train_h2o.cbind(y_train_h2o)\n",
    "test_data = X_test_h2o.cbind(y_test_h2o)\n",
    "\n",
    "# Identify predictors and response\n",
    "x = train_data.columns\n",
    "\n",
    "y = \"result\"\n",
    "x.remove(y)"
   ]
  },
  {
   "cell_type": "markdown",
   "metadata": {},
   "source": [
    "### Treinamento"
   ]
  },
  {
   "cell_type": "code",
   "execution_count": 5,
   "metadata": {},
   "outputs": [
    {
     "name": "stdout",
     "output_type": "stream",
     "text": [
      "AutoML progress: |\n",
      "18:24:38.486: AutoML: XGBoost is not available; skipping it.\n",
      "\n",
      "███████████████████████████████████████████████████████████████| (done) 100%\n",
      "model_id                                                    aucpr       auc    logloss    mean_per_class_error      rmse        mse\n",
      "StackedEnsemble_AllModels_1_AutoML_1_20231205_182438     0.976168  0.978543   0.182621               0.0640803  0.225552  0.0508737\n",
      "StackedEnsemble_BestOfFamily_1_AutoML_1_20231205_182438  0.975489  0.978105   0.185387               0.0651356  0.227598  0.0518006\n",
      "GBM_4_AutoML_1_20231205_182438                           0.975454  0.978111   0.188402               0.0651354  0.228667  0.0522888\n",
      "GBM_1_AutoML_1_20231205_182438                           0.972473  0.974521   0.206978               0.0735392  0.241696  0.0584171\n",
      "GBM_grid_1_AutoML_1_20231205_182438_model_4              0.971486  0.973707   0.214641               0.074156   0.246117  0.0605734\n",
      "GBM_grid_1_AutoML_1_20231205_182438_model_3              0.971086  0.973549   0.208826               0.071859   0.240851  0.0580091\n",
      "GBM_grid_1_AutoML_1_20231205_182438_model_1              0.970833  0.973846   0.20348                0.0703817  0.237205  0.0562662\n",
      "GBM_3_AutoML_1_20231205_182438                           0.964406  0.966138   0.249051               0.0916349  0.26911   0.0724201\n",
      "DRF_1_AutoML_1_20231205_182438                           0.958216  0.961864   0.28673                0.0976345  0.286837  0.0822752\n",
      "GBM_2_AutoML_1_20231205_182438                           0.956599  0.956626   0.280975               0.108745   0.289792  0.0839796\n",
      "[22 rows x 7 columns]\n",
      "\n"
     ]
    }
   ],
   "source": [
    "# Run AutoML\n",
    "aml = H2OAutoML(max_models=20, sort_metric='aucpr')\n",
    "aml.train(x=x, y=y, training_frame=train_data)\n",
    "\n",
    "# View leaderboard\n",
    "lb = aml.leaderboard\n",
    "print(lb)\n",
    "\n",
    "#save the model\n",
    "model_path = h2o.save_model(model=aml.leader, path=\"../models/\", force=True)"
   ]
  },
  {
   "cell_type": "markdown",
   "metadata": {},
   "source": [
    "### Avaliação de métricas"
   ]
  },
  {
   "cell_type": "code",
   "execution_count": 6,
   "metadata": {},
   "outputs": [
    {
     "name": "stdout",
     "output_type": "stream",
     "text": [
      "stackedensemble prediction progress: |███████████████████████████████████████████| (done) 100%\n"
     ]
    },
    {
     "data": {
      "image/png": "[encoded data removed]",
      "text/plain": [
       "<Figure size 432x288 with 1 Axes>"
      ]
     },
     "metadata": {
      "needs_background": "light"
     },
     "output_type": "display_data"
    },
    {
     "data": {
      "image/png": "[encoded data removed]",
      "text/plain": [
       "<Figure size 504x360 with 2 Axes>"
      ]
     },
     "metadata": {
      "needs_background": "light"
     },
     "output_type": "display_data"
    }
   ],
   "source": [
    "# h2o.init()\n",
    "# loaded_model = h2o.load_model(\"../models/model_automl\")\n",
    "loaded_model = h2o.load_model(model_path)\n",
    "y_pred_prob = loaded_model.predict(X_test_h2o)\n",
    "y_pred = h2o.as_list(y_pred_prob)\n",
    "y_pred_prob = y_pred['predict'].tolist()\n",
    "\n",
    "# Falsos positivos, verdadeiros positivos e limiares\n",
    "fpr, tpr, thresholds = roc_curve(y_test, y_pred_prob)\n",
    "\n",
    "# Área sob a curva\n",
    "roc_auc = auc(fpr, tpr)\n",
    "\n",
    "plt.figure()\n",
    "plt.plot(fpr, tpr, color='darkorange', lw=1, label='ROC curve (area = %0.2f)' % roc_auc)\n",
    "plt.xlim([0.0, 1.0])\n",
    "plt.ylim([0.0, 1.05])\n",
    "plt.xlabel('False Positive Rate')\n",
    "plt.ylabel('True Positive Rate')\n",
    "plt.title('Receiver Operating Characteristic')\n",
    "plt.legend(loc=\"lower right\")\n",
    "plt.show()\n",
    "\n",
    "# Matriz de confusão\n",
    "y_pred_round = [round(value) for value in y_pred_prob]\n",
    "cm = confusion_matrix(y_test.to_list(), y_pred_round)\n",
    "\n",
    "plt.figure(figsize=(7, 5))\n",
    "sns.heatmap(cm, annot=True, cmap='Blues', fmt='g')\n",
    "plt.xlabel('Predicted')\n",
    "plt.ylabel('True')\n",
    "plt.show()"
   ]
  },
  {
   "cell_type": "code",
   "execution_count": 7,
   "metadata": {},
   "outputs": [
    {
     "name": "stdout",
     "output_type": "stream",
     "text": [
      "Relatório de Classificação:\n",
      "              precision    recall  f1-score   support\n",
      "\n",
      "    Classe 0       0.96      0.93      0.94     11654\n",
      "    Classe 1       0.93      0.96      0.94     11561\n",
      "\n",
      "    accuracy                           0.94     23215\n",
      "   macro avg       0.94      0.94      0.94     23215\n",
      "weighted avg       0.94      0.94      0.94     23215\n",
      "\n"
     ]
    }
   ],
   "source": [
    "from sklearn.metrics import classification_report\n",
    "\n",
    "# Certifique-se de que y_test é um array ou lista\n",
    "# Se y_test for um DataFrame ou Series, converta usando .tolist() ou .values\n",
    "y_test_list = y_test.tolist() if hasattr(y_test, 'tolist') else y_test\n",
    "\n",
    "# Gerando o relatório de classificação\n",
    "report = classification_report(y_test_list, y_pred_round, target_names=['Classe 0', 'Classe 1'])\n",
    "\n",
    "# Imprimindo o relatório de classificação\n",
    "print(\"Relatório de Classificação:\")\n",
    "print(report)\n"
   ]
  },
  {
   "cell_type": "markdown",
   "metadata": {},
   "source": [
    "### Na prática"
   ]
  },
  {
   "cell_type": "code",
   "execution_count": 8,
   "metadata": {},
   "outputs": [
    {
     "data": {
      "text/plain": [
       "1698    0\n",
       "Name: result, dtype: int64"
      ]
     },
     "execution_count": 8,
     "metadata": {},
     "output_type": "execute_result"
    }
   ],
   "source": [
    "df.head(1699).tail(1)['result']"
   ]
  },
  {
   "cell_type": "code",
   "execution_count": 9,
   "metadata": {},
   "outputs": [
    {
     "name": "stdout",
     "output_type": "stream",
     "text": [
      "Parse progress: |████████████████████████████████████████████████████████████████| (done) 100%\n",
      "stackedensemble prediction progress: |███████████████████████████████████████████| (done) 100%\n"
     ]
    },
    {
     "data": {
      "text/html": [
       "<table class='dataframe'>\n",
       "<thead>\n",
       "<tr><th style=\"text-align: right;\">  predict</th><th style=\"text-align: right;\">      p0</th><th style=\"text-align: right;\">        p1</th></tr>\n",
       "</thead>\n",
       "<tbody>\n",
       "<tr><td style=\"text-align: right;\">        0</td><td style=\"text-align: right;\">0.997107</td><td style=\"text-align: right;\">0.00289265</td></tr>\n",
       "</tbody>\n",
       "</table><pre style='font-size: smaller; margin-bottom: 1em;'>[1 row x 3 columns]</pre>"
      ],
      "text/plain": [
       "  predict        p0          p1\n",
       "---------  --------  ----------\n",
       "        0  0.997107  0.00289265\n",
       "[1 row x 3 columns]\n"
      ]
     },
     "execution_count": 9,
     "metadata": {},
     "output_type": "execute_result"
    }
   ],
   "source": [
    "# h2o.init()\n",
    "# loaded_model = h2o.load_model(\"../models/model_automl\")\n",
    "Xht = df.drop(columns=['result', 'homeTeam', 'awayTeam', 'match_id']).head(1699).tail(1)\n",
    "Xht = preprocessor.transform(Xht)\n",
    "Xht = h2o.H2OFrame(Xht)\n",
    "loaded_model.predict(Xht)"
   ]
  },
  {
   "cell_type": "code",
   "execution_count": 10,
   "metadata": {},
   "outputs": [],
   "source": [
    "# h2o.export_file(frame=lb, path='lb.csv', force=True)"
   ]
  },
  {
   "cell_type": "code",
   "execution_count": 11,
   "metadata": {},
   "outputs": [
    {
     "name": "stdout",
     "output_type": "stream",
     "text": [
      "stackedensemble prediction progress: |███████████████████████████████████████████| (done) 100%\n"
     ]
    },
    {
     "data": {
      "text/plain": [
       "0.0028926488652433"
      ]
     },
     "execution_count": 11,
     "metadata": {},
     "output_type": "execute_result"
    }
   ],
   "source": [
    "# obter o valor da predição colocando o item preditor em uma lista e pegando o primeiro valor\n",
    "h2o.as_list(loaded_model.predict(Xht)).loc[0, 'p1']"
   ]
  },
  {
   "cell_type": "markdown",
   "metadata": {},
   "source": [
    "### Importancia dos atributos"
   ]
  },
  {
   "cell_type": "code",
   "execution_count": 12,
   "metadata": {},
   "outputs": [
    {
     "name": "stdout",
     "output_type": "stream",
     "text": [
      "Parse progress: |████████████████████████████████████████████████████████████████| (done) 100%\n",
      "stackedensemble prediction progress: |███████████████████████████████████████████| (done) 100%\n"
     ]
    }
   ],
   "source": [
    "import shap\n",
    "# função de previsão para o modelo H2O\n",
    "def model_predict(data_as_array):\n",
    "    h2o_df = h2o.H2OFrame(pd.DataFrame(data_as_array, columns=[\"C\" + str(i) for i in range(data_as_array.shape[1])]))\n",
    "    preds = loaded_model.predict(h2o_df)\n",
    "    preds_df = preds.as_data_frame()\n",
    "    # Assegurar que as previsões estejam no formato correto (array 2D com duas colunas)\n",
    "    return preds_df.iloc[:, -2:].values\n",
    "\n",
    "\n",
    "# Converter H2OFrame para DataFrame do pandas\n",
    "X_train_pd = h2o.as_list(X_train_h2o)\n",
    "X_test_pd = h2o.as_list(X_test_h2o)\n",
    "\n",
    "# explainer usando KernelExplainer para um modelo H2O\n",
    "explainer = shap.KernelExplainer(model_predict, X_train_pd.iloc[:50])"
   ]
  },
  {
   "cell_type": "code",
   "execution_count": 13,
   "metadata": {},
   "outputs": [],
   "source": [
    "# Calcula os valores SHAP para um subconjunto do conjunto de teste\n",
    "# shap_values_h2o = explainer.shap_values(X_test_pd[:50])"
   ]
  },
  {
   "cell_type": "code",
   "execution_count": 14,
   "metadata": {},
   "outputs": [],
   "source": [
    "# # Obter os nomes das colunas numéricas\n",
    "# numeric_features = X.select_dtypes(exclude=['object']).columns.tolist()\n",
    "\n",
    "# # Obter os nomes das colunas após a transformação\n",
    "# # Para as características numéricas, permanecem os mesmos\n",
    "# transformed_numeric_features = numeric_features\n",
    "\n",
    "# # como so tem uma caracteristica categorica:\n",
    "# categories = preprocessor.named_transformers_['cat'].categories_\n",
    "# transformed_categorical_features = [\n",
    "#     f'league_{category}' for category in categories[0][1:]  # drop='first' remove a primeira categoria\n",
    "# ]\n",
    "\n",
    "# # Combina os dois\n",
    "# all_transformed_features = transformed_numeric_features + transformed_categorical_features\n",
    "\n",
    "# shap.summary_plot(shap_values_h2o, features=X_test_pd.iloc[:50], feature_names=all_transformed_features, max_display=X_test_pd.iloc[:50].shape[1])"
   ]
  }
 ],
 "metadata": {
  "kernelspec": {
   "display_name": "Python 3",
   "language": "python",
   "name": "python3"
  },
  "language_info": {
   "codemirror_mode": {
    "name": "ipython",
    "version": 3
   },
   "file_extension": ".py",
   "mimetype": "text/x-python",
   "name": "python",
   "nbconvert_exporter": "python",
   "pygments_lexer": "ipython3",
   "version": "3.10.1"
  }
 },
 "nbformat": 4,
 "nbformat_minor": 2
}
