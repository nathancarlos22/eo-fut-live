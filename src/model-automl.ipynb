{
 "cells": [
  {
   "cell_type": "markdown",
   "metadata": {},
   "source": [
    "# Imports e carregamentos"
   ]
  },
  {
   "cell_type": "code",
   "execution_count": 28,
   "metadata": {},
   "outputs": [],
   "source": [
    "import pandas as pd\n",
    "\n",
    "import h2o\n",
    "from h2o.automl import H2OAutoML\n",
    "from sklearn.metrics import roc_curve, auc\n",
    "from sklearn.metrics import confusion_matrix\n",
    "\n",
    "import matplotlib.pyplot as plt\n",
    "import seaborn as sns\n",
    "\n",
    "import warnings\n",
    "warnings.filterwarnings('ignore')"
   ]
  },
  {
   "cell_type": "code",
   "execution_count": 29,
   "metadata": {},
   "outputs": [],
   "source": [
    "df = pd.read_csv('data_live_engineer_filtered.csv', encoding='utf-8')"
   ]
  },
  {
   "cell_type": "code",
   "execution_count": 30,
   "metadata": {},
   "outputs": [
    {
     "data": {
      "text/plain": [
       "result\n",
       "0    31731\n",
       "1    31731\n",
       "Name: count, dtype: int64"
      ]
     },
     "execution_count": 30,
     "metadata": {},
     "output_type": "execute_result"
    }
   ],
   "source": [
    "df.value_counts('result')"
   ]
  },
  {
   "cell_type": "markdown",
   "metadata": {},
   "source": [
    "## Preprocessamento"
   ]
  },
  {
   "cell_type": "code",
   "execution_count": 31,
   "metadata": {},
   "outputs": [],
   "source": [
    "from sklearn.model_selection import train_test_split\n",
    "from sklearn.compose import ColumnTransformer\n",
    "from sklearn.preprocessing import StandardScaler, OneHotEncoder\n",
    "import pickle\n",
    "\n",
    "# Função para separar os dados em características e variável alvo\n",
    "def prepare_data(df):\n",
    "    X = df.drop(columns=['result', 'homeTeam', 'awayTeam', 'match_id'])\n",
    "    y = df['result']\n",
    "    return X, y\n",
    "\n",
    "# Função para criar e aplicar o transformador de colunas\n",
    "def create_preprocessor(X):\n",
    "    numeric_features = X.select_dtypes(exclude=['object']).columns.tolist()\n",
    "    categorical_features = ['league']\n",
    "\n",
    "    preprocessor = ColumnTransformer(\n",
    "        transformers=[\n",
    "            ('num', StandardScaler(), numeric_features),\n",
    "            ('cat', OneHotEncoder(drop='first'), categorical_features)\n",
    "        ])\n",
    "    return preprocessor.fit(X)\n",
    "X, y = prepare_data(df)\n",
    "preprocessor = create_preprocessor(X)\n",
    "\n",
    "# Salvando o preprocessador para uso futuro\n",
    "pickle.dump(preprocessor, open('../models/preprocessor.pickle', 'wb'))\n",
    "\n",
    "# Dividindo os dados em conjuntos de treino e teste\n",
    "X_transformed = preprocessor.transform(X)\n",
    "X_train, X_test, y_train, y_test = train_test_split(X_transformed, y, test_size=0.20, random_state=42)\n"
   ]
  },
  {
   "cell_type": "code",
   "execution_count": 32,
   "metadata": {},
   "outputs": [
    {
     "name": "stdout",
     "output_type": "stream",
     "text": [
      "                                                                                   \n",
      "Generation 1 - Current best internal CV score: 0.7983219029719819\n",
      "                                                                                    \n",
      "Generation 2 - Current best internal CV score: 0.8037189111770141\n",
      "                                                                                   \n",
      "Generation 3 - Current best internal CV score: 0.8096082857239912\n",
      "                                                                                   \n",
      "Generation 4 - Current best internal CV score: 0.8400993575137117\n",
      "Optimization Progress: 310pipeline [8:29:47, 103.03s/pipeline]                   "
     ]
    }
   ],
   "source": [
    "from tpot import TPOTClassifier\n",
    "from sklearn.metrics import classification_report\n",
    "\n",
    "# Inicializando TPOT\n",
    "tpot = TPOTClassifier(generations=5, population_size=50, verbosity=2, random_state=42)\n",
    "tpot.fit(X_train, y_train)\n",
    "\n",
    "# Salvando o pipeline otimizado\n",
    "# tpot.export('tpot_exported_pipeline.py')\n",
    "\n",
    "# Avaliação do Modelo\n",
    "y_pred_prob = tpot.predict_proba(X_test)[:, 1]  # pegar as probabilidades da classe 1\n",
    "y_pred = tpot.predict(X_test)\n",
    "\n",
    "# Curva ROC\n",
    "fpr, tpr, thresholds = roc_curve(y_test, y_pred_prob)\n",
    "roc_auc = auc(fpr, tpr)\n",
    "\n",
    "# Visualizar a curva ROC\n",
    "plt.figure()\n",
    "plt.plot(fpr, tpr, color='darkorange', lw=2, label='ROC curve (area = %0.2f)' % roc_auc)\n",
    "plt.plot([0, 1], [0, 1], color='navy', lw=2, linestyle='--')\n",
    "plt.xlim([0.0, 1.0])\n",
    "plt.ylim([0.0, 1.05])\n",
    "plt.xlabel('False Positive Rate')\n",
    "plt.ylabel('True Positive Rate')\n",
    "plt.title('Receiver Operating Characteristic')\n",
    "plt.legend(loc=\"lower right\")\n",
    "plt.show()\n",
    "\n",
    "# Matriz de Confusão\n",
    "cm = confusion_matrix(y_test, y_pred)\n",
    "\n",
    "# Visualizar a matriz de confusão\n",
    "plt.figure(figsize=(7, 5))\n",
    "sns.heatmap(cm, annot=True, fmt='g', cmap='Blues', xticklabels=['Classe 0', 'Classe 1'], yticklabels=['Classe 0', 'Classe 1'])\n",
    "plt.xlabel('Predicted')\n",
    "plt.ylabel('True')\n",
    "plt.show()\n",
    "\n",
    "# Relatório de classificação\n",
    "print(\"Relatório de Classificação:\\n\", classification_report(y_test, y_pred, target_names=['Classe 0', 'Classe 1']))\n"
   ]
  },
  {
   "cell_type": "code",
   "execution_count": null,
   "metadata": {},
   "outputs": [],
   "source": [
    "# Salvar o modelo TPOT\n",
    "with open('../models/tpot_model.pkl', 'wb') as file:\n",
    "    pickle.dump(tpot.fitted_pipeline_, file)"
   ]
  },
  {
   "cell_type": "code",
   "execution_count": null,
   "metadata": {},
   "outputs": [
    {
     "data": {
      "text/plain": [
       "1698    1\n",
       "Name: result, dtype: int64"
      ]
     },
     "execution_count": 25,
     "metadata": {},
     "output_type": "execute_result"
    }
   ],
   "source": [
    "df.head(1699).tail(1)['result']"
   ]
  },
  {
   "cell_type": "code",
   "execution_count": 27,
   "metadata": {},
   "outputs": [
    {
     "data": {
      "text/plain": [
       "array([1], dtype=int64)"
      ]
     },
     "execution_count": 27,
     "metadata": {},
     "output_type": "execute_result"
    }
   ],
   "source": [
    "model_Automl = pickle.load(open('../models/tpot_model.pkl', 'rb'))\n",
    "\n",
    "# na prática\n",
    "Xht = df.drop(columns=['result', 'homeTeam', 'awayTeam', 'match_id']).head(1699).tail(1)\n",
    "Xht = preprocessor.transform(Xht)\n",
    "yht = df['result'].head(1699).tail(1)\n",
    "\n",
    "model_Automl.predict(Xht)  # pegar as probabilidades da classe 1"
   ]
  },
  {
   "cell_type": "markdown",
   "metadata": {},
   "source": [
    "## H2O AutoML"
   ]
  },
  {
   "cell_type": "markdown",
   "metadata": {},
   "source": [
    "### Conversão de Dados a Treinamento"
   ]
  },
  {
   "cell_type": "code",
   "execution_count": null,
   "metadata": {},
   "outputs": [],
   "source": [
    "# Função para converter para H2OFrame\n",
    "def convert_to_h2oframe(X, y):\n",
    "    \n",
    "    X_h2o = h2o.H2OFrame(pd.DataFrame(X))\n",
    "    y_h2o = h2o.H2OFrame(pd.DataFrame(y, columns=[\"result\"]))\n",
    "\n",
    "    if X_h2o.shape[0] > y_h2o.shape[0]:\n",
    "        X_train_h2o = X_train_h2o.head(rows=y_h2o.shape[0])\n",
    "        # Verificando as formas após ajustar\n",
    "        print(\"Shapes após ajustar X_train_h2o:\")\n",
    "        print(\"X_train_h2o shape:\", X_train_h2o.shape)\n",
    "        print(\"y_train_h2o shape:\", y_h2o.shape)\n",
    "        \n",
    "    return X_h2o.cbind(y_h2o)"
   ]
  },
  {
   "cell_type": "code",
   "execution_count": null,
   "metadata": {},
   "outputs": [
    {
     "name": "stdout",
     "output_type": "stream",
     "text": [
      "Parse progress: |████████████████████████████████████████████████████████████████| (done) 100%\n",
      "Parse progress: |████████████████████████████████████████████████████████████████| (done) 100%\n",
      "Parse progress: |████████████████████████████████████████████████████████████████| (done) 100%\n",
      "Parse progress: |████████████████████████████████████████████████████████████████| (done) 100%\n"
     ]
    }
   ],
   "source": [
    "# # # Inicializar o H2O\n",
    "# h2o.init()\n",
    "\n",
    "# # # Convertendo dados para H2OFrame\n",
    "# X_train_h2o = h2o.H2OFrame(X_train)\n",
    "# y_train_h2o = h2o.H2OFrame(pd.DataFrame(y_train, columns=[\"result\"]))\n",
    "\n",
    "# # Verifique as formas após a conversão\n",
    "# print(\"Shapes após a conversão para H2OFrame:\")\n",
    "# print(\"X_train_h2o shape:\", X_train_h2o.shape)\n",
    "# print(\"y_train_h2o shape:\", y_train_h2o.shape)\n",
    "\n",
    "# # Se X_train_h2o tem uma linha a mais, remova a última linha\n",
    "# if X_train_h2o.shape[0] > y_train_h2o.shape[0]:\n",
    "#     X_train_h2o = X_train_h2o.head(rows=y_train_h2o.shape[0])\n",
    "#     # Verificando as formas após ajustar\n",
    "#     print(\"Shapes após ajustar X_train_h2o:\")\n",
    "#     print(\"X_train_h2o shape:\", X_train_h2o.shape)\n",
    "#     print(\"y_train_h2o shape:\", y_train_h2o.shape)\n",
    "\n",
    "# X_test_h2o = h2o.H2OFrame(pd.DataFrame(X_test, columns=[\"C\" + str(i) for i in range(X_test.shape[1])]))\n",
    "# y_test_h2o = h2o.H2OFrame(pd.DataFrame(y_test, columns=[\"result\"]))\n",
    "\n",
    "# # Verifique as formas após a conversão\n",
    "# print(\"Shapes após a conversão para H2OFrame:\")\n",
    "# print(\"X_test_h2o shape:\", X_test_h2o.shape)\n",
    "# print(\"y_test_h2o shape:\", y_test_h2o.shape)\n",
    "\n",
    "# # Se X_test_h2o tem uma linha a mais, remova a última linha\n",
    "# if X_test_h2o.shape[0] > y_test_h2o.shape[0]:\n",
    "#     X_test_h2o = X_test_h2o.head(rows=y_test_h2o.shape[0])\n",
    "#     # Verificando as formas após ajustar\n",
    "#     print(\"Shapes após ajustar X_test_h2o:\")\n",
    "#     print(\"X_test_h2o shape:\", X_test_h2o.shape)\n",
    "#     print(\"y_test_h2o shape:\", y_test_h2o.shape)\n",
    "\n",
    "\n",
    "# # Combinação dos dados\n",
    "# train_data = X_train_h2o.cbind(y_train_h2o)\n",
    "# test_data = X_test_h2o.cbind(y_test_h2o)\n",
    "\n",
    "# # Identificação de preditores e resposta\n",
    "# x = train_data.columns\n",
    "\n",
    "# y = \"result\"\n",
    "# x.remove(y)\n",
    "\n",
    "\n",
    "# Convertendo dados para H2OFrame\n",
    "train_data, test_data = convert_to_h2oframe(X_train, y_train), convert_to_h2oframe(X_test, y_test)\n"
   ]
  },
  {
   "cell_type": "markdown",
   "metadata": {},
   "source": [
    "### Treinamento"
   ]
  },
  {
   "cell_type": "code",
   "execution_count": null,
   "metadata": {},
   "outputs": [
    {
     "name": "stdout",
     "output_type": "stream",
     "text": [
      "AutoML progress: |█\n",
      "18:03:08.187: AutoML: XGBoost is not available; skipping it.\n",
      "\n",
      "██████████████████████████████████████████████████████████████| (done) 100%\n",
      "model_id                                                    aucpr       auc    logloss    mean_per_class_error      rmse       mse\n",
      "StackedEnsemble_BestOfFamily_1_AutoML_3_20231208_180308  0.873038  0.878657   0.439377                0.203786  0.375022  0.140642\n",
      "StackedEnsemble_AllModels_1_AutoML_3_20231208_180308     0.872953  0.878641   0.439422                0.206685  0.375047  0.14066\n",
      "GBM_grid_1_AutoML_3_20231208_180308_model_4              0.870752  0.875773   0.458278                0.209504  0.383522  0.147089\n",
      "DRF_1_AutoML_3_20231208_180308                           0.823418  0.827143   0.581421                0.263836  0.443355  0.196563\n",
      "XRT_1_AutoML_3_20231208_180308                           0.801719  0.800626   0.612278                0.29864   0.459021  0.2107\n",
      "GBM_4_AutoML_3_20231208_180308                           0.783918  0.796177   0.573692                0.291054  0.440785  0.194291\n",
      "GBM_grid_1_AutoML_3_20231208_180308_model_2              0.773911  0.788304   0.569292                0.303857  0.438866  0.192603\n",
      "GBM_1_AutoML_3_20231208_180308                           0.745671  0.758796   0.59971                 0.335725  0.453703  0.205846\n",
      "GBM_3_AutoML_3_20231208_180308                           0.741803  0.753463   0.607952                0.350884  0.457951  0.209719\n",
      "GBM_2_AutoML_3_20231208_180308                           0.718699  0.72865    0.622979                0.373019  0.465429  0.216624\n",
      "[22 rows x 7 columns]\n",
      "\n"
     ]
    }
   ],
   "source": [
    "# Converta a coluna de resposta em categórica\n",
    "train_data['result'] = train_data['result'].asfactor()\n",
    "\n",
    "# Run AutoML\n",
    "aml = H2OAutoML(max_models=20, sort_metric='aucpr')\n",
    "aml.train(y='result', training_frame=train_data)\n",
    "\n",
    "# View leaderboard\n",
    "lb = aml.leaderboard\n",
    "print(lb)\n",
    "\n",
    "#save the model\n",
    "model_path = h2o.save_model(model=aml.leader, path=\"../models/\", force=True)"
   ]
  },
  {
   "cell_type": "markdown",
   "metadata": {},
   "source": [
    "### Avaliação de métricas"
   ]
  },
  {
   "cell_type": "code",
   "execution_count": null,
   "metadata": {},
   "outputs": [],
   "source": [
    "from sklearn.metrics import roc_curve, auc, confusion_matrix, classification_report\n",
    "\n",
    "# Função para imprimir a matriz de confusão\n",
    "def print_confusion_matrix(y_test, y_pred_prob):\n",
    "    y_pred_round = [round(value) for value in y_pred_prob]\n",
    "    cm = confusion_matrix(y_test, y_pred_round)\n",
    "\n",
    "    plt.figure(figsize=(7, 5))\n",
    "    sns.heatmap(cm, annot=True, cmap='Blues', fmt='g')\n",
    "    plt.xlabel('Predicted')\n",
    "    plt.ylabel('True')\n",
    "    plt.show()\n",
    "\n",
    "    report = classification_report(y_test, y_pred_round, target_names=['Classe 0', 'Classe 1'])\n",
    "    print(\"Relatório de Classificação:\")\n",
    "    print(report)\n",
    "\n",
    "# Função para plotar a curva ROC\n",
    "def plot_roc_curve(y_test, y_pred_prob):\n",
    "    fpr, tpr, _ = roc_curve(y_test, y_pred_prob)\n",
    "    roc_auc = auc(fpr, tpr)\n",
    "\n",
    "    plt.figure\n",
    "\n",
    "# Função para avaliar o modelo\n",
    "def evaluate_model(aml, test_data, y_test):\n",
    "    lb = aml.leaderboard\n",
    "    print(lb)\n",
    "\n",
    "    model_path = h2o.save_model(model=aml.leader, path=\"../models/\", force=True)\n",
    "    loaded_model = h2o.load_model(model_path)\n",
    "\n",
    "    y_pred_prob = h2o.as_list(loaded_model.predict(test_data))['predict'].tolist()\n",
    "    plot_roc_curve(y_test, y_pred_prob)\n",
    "    print_confusion_matrix(y_test, y_pred_prob)"
   ]
  },
  {
   "cell_type": "code",
   "execution_count": null,
   "metadata": {},
   "outputs": [
    {
     "name": "stdout",
     "output_type": "stream",
     "text": [
      "model_id                                                    aucpr       auc    logloss    mean_per_class_error      rmse       mse\n",
      "StackedEnsemble_BestOfFamily_1_AutoML_3_20231208_180308  0.873038  0.878657   0.439377                0.203786  0.375022  0.140642\n",
      "StackedEnsemble_AllModels_1_AutoML_3_20231208_180308     0.872953  0.878641   0.439422                0.206685  0.375047  0.14066\n",
      "GBM_grid_1_AutoML_3_20231208_180308_model_4              0.870752  0.875773   0.458278                0.209504  0.383522  0.147089\n",
      "DRF_1_AutoML_3_20231208_180308                           0.823418  0.827143   0.581421                0.263836  0.443355  0.196563\n",
      "XRT_1_AutoML_3_20231208_180308                           0.801719  0.800626   0.612278                0.29864   0.459021  0.2107\n",
      "GBM_4_AutoML_3_20231208_180308                           0.783918  0.796177   0.573692                0.291054  0.440785  0.194291\n",
      "GBM_grid_1_AutoML_3_20231208_180308_model_2              0.773911  0.788304   0.569292                0.303857  0.438866  0.192603\n",
      "GBM_1_AutoML_3_20231208_180308                           0.745671  0.758796   0.59971                 0.335725  0.453703  0.205846\n",
      "GBM_3_AutoML_3_20231208_180308                           0.741803  0.753463   0.607952                0.350884  0.457951  0.209719\n",
      "GBM_2_AutoML_3_20231208_180308                           0.718699  0.72865    0.622979                0.373019  0.465429  0.216624\n",
      "[22 rows x 7 columns]\n",
      "\n",
      "stackedensemble prediction progress: |███████████████████████████████████████████| (done) 100%\n"
     ]
    },
    {
     "data": {
      "image/png": "[encoded data removed]",
      "text/plain": [
       "<Figure size 504x360 with 2 Axes>"
      ]
     },
     "metadata": {
      "needs_background": "light"
     },
     "output_type": "display_data"
    },
    {
     "name": "stdout",
     "output_type": "stream",
     "text": [
      "Relatório de Classificação:\n",
      "              precision    recall  f1-score   support\n",
      "\n",
      "    Classe 0       0.50      0.75      0.60      9596\n",
      "    Classe 1       0.51      0.26      0.35      9648\n",
      "\n",
      "    accuracy                           0.50     19244\n",
      "   macro avg       0.51      0.50      0.47     19244\n",
      "weighted avg       0.51      0.50      0.47     19244\n",
      "\n"
     ]
    }
   ],
   "source": [
    "# Avaliação do Modelo\n",
    "evaluate_model(aml, test_data, y_test)"
   ]
  },
  {
   "cell_type": "markdown",
   "metadata": {},
   "source": [
    "### Na prática"
   ]
  },
  {
   "cell_type": "code",
   "execution_count": null,
   "metadata": {},
   "outputs": [
    {
     "data": {
      "text/plain": [
       "1698    1\n",
       "Name: result, dtype: int64"
      ]
     },
     "execution_count": 29,
     "metadata": {},
     "output_type": "execute_result"
    }
   ],
   "source": [
    "df.head(1699).tail(1)['result']"
   ]
  },
  {
   "cell_type": "code",
   "execution_count": null,
   "metadata": {},
   "outputs": [
    {
     "name": "stdout",
     "output_type": "stream",
     "text": [
      "Parse progress: |████████████████████████████████████████████████████████████████| (done) 100%\n",
      "stackedensemble prediction progress: |███████████████████████████████████████████| (done) 100%\n"
     ]
    },
    {
     "data": {
      "text/html": [
       "<table class='dataframe'>\n",
       "<thead>\n",
       "<tr><th style=\"text-align: right;\">  predict</th><th style=\"text-align: right;\">       p0</th><th style=\"text-align: right;\">      p1</th></tr>\n",
       "</thead>\n",
       "<tbody>\n",
       "<tr><td style=\"text-align: right;\">        1</td><td style=\"text-align: right;\">0.0358635</td><td style=\"text-align: right;\">0.964137</td></tr>\n",
       "</tbody>\n",
       "</table><pre style='font-size: smaller; margin-bottom: 1em;'>[1 row x 3 columns]</pre>"
      ],
      "text/plain": [
       "  predict         p0        p1\n",
       "---------  ---------  --------\n",
       "        1  0.0358635  0.964137\n",
       "[1 row x 3 columns]\n"
      ]
     },
     "execution_count": 30,
     "metadata": {},
     "output_type": "execute_result"
    }
   ],
   "source": [
    "# h2o.init()\n",
    "# loaded_model = h2o.load_model(\"../models/model_automl\")\n",
    "loaded_model = h2o.load_model(model_path)\n",
    "Xht = df.drop(columns=['result', 'homeTeam', 'awayTeam', 'match_id']).head(1699).tail(1)\n",
    "Xht = preprocessor.transform(Xht)\n",
    "Xht = h2o.H2OFrame(Xht)\n",
    "loaded_model.predict(Xht)"
   ]
  },
  {
   "cell_type": "code",
   "execution_count": null,
   "metadata": {},
   "outputs": [],
   "source": [
    "# h2o.export_file(frame=lb, path='lb.csv', force=True)"
   ]
  },
  {
   "cell_type": "code",
   "execution_count": null,
   "metadata": {},
   "outputs": [
    {
     "name": "stdout",
     "output_type": "stream",
     "text": [
      "stackedensemble prediction progress: |███████████████████████████████████████████| (done) 100%\n"
     ]
    },
    {
     "data": {
      "text/plain": [
       "0.9641365003222852"
      ]
     },
     "execution_count": 24,
     "metadata": {},
     "output_type": "execute_result"
    }
   ],
   "source": [
    "# obter o valor da predição colocando o item preditor em uma lista e pegando o primeiro valor\n",
    "h2o.as_list(loaded_model.predict(Xht)).loc[0, 'p1']"
   ]
  },
  {
   "cell_type": "markdown",
   "metadata": {},
   "source": [
    "### Importancia dos atributos"
   ]
  },
  {
   "cell_type": "code",
   "execution_count": null,
   "metadata": {},
   "outputs": [],
   "source": [
    "# import shap\n",
    "# # função de previsão para o modelo H2O\n",
    "# def model_predict(data_as_array):\n",
    "#     h2o_df = h2o.H2OFrame(pd.DataFrame(data_as_array, columns=[\"C\" + str(i) for i in range(data_as_array.shape[1])]))\n",
    "#     preds = loaded_model.predict(h2o_df)\n",
    "#     preds_df = preds.as_data_frame()\n",
    "#     # Assegurar que as previsões estejam no formato correto (array 2D com duas colunas)\n",
    "#     return preds_df.iloc[:, -2:].values\n",
    "\n",
    "\n",
    "# # Converter H2OFrame para DataFrame do pandas\n",
    "# X_train_pd = h2o.as_list(X_train_h2o)\n",
    "# X_test_pd = h2o.as_list(X_test_h2o)\n",
    "\n",
    "# # explainer usando KernelExplainer para um modelo H2O\n",
    "# explainer = shap.KernelExplainer(model_predict, X_train_pd.iloc[:50])"
   ]
  },
  {
   "cell_type": "code",
   "execution_count": null,
   "metadata": {},
   "outputs": [],
   "source": [
    "# Calcula os valores SHAP para um subconjunto do conjunto de teste\n",
    "# shap_values_h2o = explainer.shap_values(X_test_pd[:50])"
   ]
  },
  {
   "cell_type": "code",
   "execution_count": null,
   "metadata": {},
   "outputs": [],
   "source": [
    "# # Obter os nomes das colunas numéricas\n",
    "# numeric_features = X.select_dtypes(exclude=['object']).columns.tolist()\n",
    "\n",
    "# # Obter os nomes das colunas após a transformação\n",
    "# # Para as características numéricas, permanecem os mesmos\n",
    "# transformed_numeric_features = numeric_features\n",
    "\n",
    "# # como so tem uma caracteristica categorica:\n",
    "# categories = preprocessor.named_transformers_['cat'].categories_\n",
    "# transformed_categorical_features = [\n",
    "#     f'league_{category}' for category in categories[0][1:]  # drop='first' remove a primeira categoria\n",
    "# ]\n",
    "\n",
    "# # Combina os dois\n",
    "# all_transformed_features = transformed_numeric_features + transformed_categorical_features\n",
    "\n",
    "# shap.summary_plot(shap_values_h2o, features=X_test_pd.iloc[:50], feature_names=all_transformed_features, max_display=X_test_pd.iloc[:50].shape[1])"
   ]
  }
 ],
 "metadata": {
  "kernelspec": {
   "display_name": "Python 3",
   "language": "python",
   "name": "python3"
  },
  "language_info": {
   "codemirror_mode": {
    "name": "ipython",
    "version": 3
   },
   "file_extension": ".py",
   "mimetype": "text/x-python",
   "name": "python",
   "nbconvert_exporter": "python",
   "pygments_lexer": "ipython3",
   "version": "3.10.1"
  }
 },
 "nbformat": 4,
 "nbformat_minor": 2
}
