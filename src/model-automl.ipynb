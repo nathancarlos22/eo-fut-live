{
 "cells": [
  {
   "cell_type": "markdown",
   "metadata": {},
   "source": [
    "# Imports e carregamentos"
   ]
  },
  {
   "cell_type": "code",
   "execution_count": 1,
   "metadata": {},
   "outputs": [],
   "source": [
    "import pandas as pd\n",
    "\n",
    "import h2o\n",
    "from h2o.automl import H2OAutoML\n",
    "from sklearn.metrics import roc_curve, auc\n",
    "from sklearn.metrics import confusion_matrix\n",
    "\n",
    "import matplotlib.pyplot as plt\n",
    "import seaborn as sns\n",
    "\n",
    "import warnings\n",
    "warnings.filterwarnings('ignore')\n"
   ]
  },
  {
   "cell_type": "code",
   "execution_count": 2,
   "metadata": {},
   "outputs": [],
   "source": [
    "df = pd.read_csv('data_live_engineer_filtered.csv', encoding='utf-8')"
   ]
  },
  {
   "cell_type": "code",
   "execution_count": 3,
   "metadata": {},
   "outputs": [
    {
     "data": {
      "text/plain": [
       "result\n",
       "0    483769\n",
       "1    158536\n",
       "Name: count, dtype: int64"
      ]
     },
     "execution_count": 3,
     "metadata": {},
     "output_type": "execute_result"
    }
   ],
   "source": [
    "df.value_counts('result')"
   ]
  },
  {
   "cell_type": "code",
   "execution_count": 4,
   "metadata": {},
   "outputs": [
    {
     "data": {
      "text/plain": [
       "Index(['minute', 'homeTeam', 'awayTeam', 'shotsHome', 'shotsAway', 'league',\n",
       "       'corners_home', 'shotsOffgoal_home', 'shotsOffgoal_away',\n",
       "       'shotsOngoal_home', 'fouls_home', 'fouls_away', 'tackles_home',\n",
       "       'tackles_away', 'result', 'match_id', 'possessiontime_away',\n",
       "       'possessiontime_home', 'shotsOnGoalEfficiency', 'attackPressure',\n",
       "       'shotAccuracy_home', 'shotAccuracy_away', 'possessionControl',\n",
       "       'passRiskHome', 'passRiskAway', 'defensiveDiscipline',\n",
       "       'defensiveEfficacy', 'defensiveAggression',\n",
       "       'timeSinceLastEventShots_Home', 'timeSinceLastEventShots_Away',\n",
       "       'timeSinceLastEventCorners_Home', 'timeSinceLastEventCorners_Away',\n",
       "       'timeSinceLastEvent_Home', 'timeSinceLastEvent_Away',\n",
       "       'timeSinceLastEventFouls_Home', 'timeSinceLastEventFouls_Away',\n",
       "       'timeSinceLastEventTotalCards_Home',\n",
       "       'timeSinceLastEventTotalCards_Away', 'total_change_possessiontime_home',\n",
       "       'total_change_possessiontime_away', '05ht_home', '05ft_home',\n",
       "       '15ft_home', '25ft_home', '15_home', '05ht_away', '05ft_away',\n",
       "       '15ft_away', '05_away', '15_away'],\n",
       "      dtype='object')"
      ]
     },
     "execution_count": 4,
     "metadata": {},
     "output_type": "execute_result"
    }
   ],
   "source": [
    "df.columns"
   ]
  },
  {
   "cell_type": "code",
   "execution_count": 27,
   "metadata": {},
   "outputs": [
    {
     "data": {
      "text/plain": [
       "0.5"
      ]
     },
     "execution_count": 27,
     "metadata": {},
     "output_type": "execute_result"
    }
   ],
   "source": [
    "df[df['homeTeam'] == 'SC Corinthians Paulista']['05ht_home'].tail(1).values[0]"
   ]
  },
  {
   "cell_type": "code",
   "execution_count": 34,
   "metadata": {},
   "outputs": [
    {
     "data": {
      "text/plain": [
       "'SC Corinthians Paulista'"
      ]
     },
     "execution_count": 34,
     "metadata": {},
     "output_type": "execute_result"
    }
   ],
   "source": [
    "from difflib import SequenceMatcher\n",
    "from fuzzywuzzy import fuzz\n",
    "import numpy as np\n",
    "# Criando uma função vetorizada para calcular a similaridade\n",
    "def calculate_similarity(vector, reference):\n",
    "    return np.array([fuzz.ratio(reference, x) for x in vector])\n",
    "\n",
    "# String de referência\n",
    "string_referencia = \"Corinthians\"\n",
    "\n",
    "# Aplicando a função vetorizada\n",
    "df['similaridade'] = calculate_similarity(df['homeTeam'], string_referencia)\n",
    "\n",
    "# Encontrando a string com a maior similaridade (usando a abordagem vetorizada)\n",
    "string_mais_similar = df.loc[df['similaridade'].idxmax()]\n",
    "\n",
    "string_mais_similar['homeTeam']"
   ]
  },
  {
   "cell_type": "markdown",
   "metadata": {},
   "source": [
    "## Preprocessamento"
   ]
  },
  {
   "cell_type": "code",
   "execution_count": 5,
   "metadata": {},
   "outputs": [],
   "source": [
    "from sklearn.model_selection import train_test_split\n",
    "from sklearn.compose import ColumnTransformer\n",
    "from sklearn.preprocessing import StandardScaler, OneHotEncoder\n",
    "import pickle\n",
    "\n",
    "# Função para separar os dados em características e variável alvo\n",
    "def prepare_data(df):\n",
    "    X = df.drop(columns=['result', 'homeTeam', 'awayTeam', 'match_id'])\n",
    "    y = df['result']\n",
    "    return X, y\n",
    "\n",
    "# Função para criar e aplicar o transformador de colunas\n",
    "def create_preprocessor(X):\n",
    "    numeric_features = X.select_dtypes(exclude=['object']).columns.tolist()\n",
    "    categorical_features = ['league']\n",
    "\n",
    "    preprocessor = ColumnTransformer(\n",
    "        transformers=[\n",
    "            ('num', StandardScaler(), numeric_features),\n",
    "            ('cat', OneHotEncoder(drop='first'), categorical_features)\n",
    "        ])\n",
    "    return preprocessor.fit(X)\n",
    "X, y = prepare_data(df)\n",
    "preprocessor = create_preprocessor(X)\n",
    "\n",
    "# Salvando o preprocessador para uso futuro\n",
    "pickle.dump(preprocessor, open('../models/preprocessor.pickle', 'wb'))\n",
    "\n",
    "# Dividindo os dados em conjuntos de treino e teste\n",
    "X_transformed = preprocessor.transform(X)\n",
    "X_train, X_test, y_train, y_test = train_test_split(X_transformed, y, test_size=0.20, random_state=42)\n"
   ]
  },
  {
   "cell_type": "code",
   "execution_count": 35,
   "metadata": {},
   "outputs": [
    {
     "data": {
      "text/plain": [
       "76"
      ]
     },
     "execution_count": 35,
     "metadata": {},
     "output_type": "execute_result"
    }
   ],
   "source": [
    "X_train.shape[1]"
   ]
  },
  {
   "cell_type": "code",
   "execution_count": 6,
   "metadata": {},
   "outputs": [
    {
     "name": "stdout",
     "output_type": "stream",
     "text": [
      "                                                                                  \n",
      "Generation 1 - Current best internal CV score: 0.7634048480730643\n",
      "                                                                                  \n",
      "Generation 2 - Current best internal CV score: 0.7634048480730643\n",
      "                                                                                  \n",
      "Generation 3 - Current best internal CV score: 0.7773857445674289\n",
      "                                                                                \n",
      "Generation 4 - Current best internal CV score: 0.7773857445674289\n",
      "                                                             \n",
      "Generation 5 - Current best internal CV score: 0.7836308307989904\n",
      "                                                             \n",
      "Best pipeline: XGBClassifier(input_matrix, learning_rate=0.1, max_depth=9, min_child_weight=3, n_estimators=100, n_jobs=1, subsample=1.0, verbosity=0)\n"
     ]
    },
    {
     "data": {
      "image/png": "[encoded data removed]",
      "text/plain": [
       "<Figure size 432x288 with 1 Axes>"
      ]
     },
     "metadata": {
      "needs_background": "light"
     },
     "output_type": "display_data"
    },
    {
     "data": {
      "image/png": "[encoded data removed]",
      "text/plain": [
       "<Figure size 504x360 with 2 Axes>"
      ]
     },
     "metadata": {
      "needs_background": "light"
     },
     "output_type": "display_data"
    },
    {
     "name": "stdout",
     "output_type": "stream",
     "text": [
      "Relatório de Classificação:\n",
      "               precision    recall  f1-score   support\n",
      "\n",
      "    Classe 0       0.78      0.99      0.88     96859\n",
      "    Classe 1       0.88      0.15      0.26     31602\n",
      "\n",
      "    accuracy                           0.79    128461\n",
      "   macro avg       0.83      0.57      0.57    128461\n",
      "weighted avg       0.81      0.79      0.72    128461\n",
      "\n"
     ]
    }
   ],
   "source": [
    "from tpot import TPOTClassifier\n",
    "from sklearn.metrics import classification_report\n",
    "\n",
    "# Inicializando TPOT\n",
    "tpot = TPOTClassifier(n_jobs=2, generations=5, population_size=50, verbosity=2, random_state=42)\n",
    "tpot.fit(X_train, y_train)\n",
    "\n",
    "# Salvando o pipeline otimizado\n",
    "# tpot.export('tpot_exported_pipeline.py')\n",
    "\n",
    "# Salvar o modelo TPOT\n",
    "with open('../models/tpot_model.pkl', 'wb') as file:\n",
    "    pickle.dump(tpot.fitted_pipeline_, file)\n",
    "\n",
    "# Avaliação do Modelo\n",
    "y_pred_prob = tpot.predict_proba(X_test)[:, 1]  # pegar as probabilidades da classe 1\n",
    "y_pred = tpot.predict(X_test)\n",
    "\n",
    "# Curva ROC\n",
    "fpr, tpr, thresholds = roc_curve(y_test, y_pred_prob)\n",
    "roc_auc = auc(fpr, tpr)\n",
    "\n",
    "# Visualizar a curva ROC\n",
    "plt.figure()\n",
    "plt.plot(fpr, tpr, color='darkorange', lw=2, label='ROC curve (area = %0.2f)' % roc_auc)\n",
    "plt.plot([0, 1], [0, 1], color='navy', lw=2, linestyle='--')\n",
    "plt.xlim([0.0, 1.0])\n",
    "plt.ylim([0.0, 1.05])\n",
    "plt.xlabel('False Positive Rate')\n",
    "plt.ylabel('True Positive Rate')\n",
    "plt.title('Receiver Operating Characteristic')\n",
    "plt.legend(loc=\"lower right\")\n",
    "plt.show()\n",
    "\n",
    "# Matriz de Confusão\n",
    "cm = confusion_matrix(y_test, y_pred)\n",
    "\n",
    "# Visualizar a matriz de confusão\n",
    "plt.figure(figsize=(7, 5))\n",
    "sns.heatmap(cm, annot=True, fmt='g', cmap='Blues', xticklabels=['Classe 0', 'Classe 1'], yticklabels=['Classe 0', 'Classe 1'])\n",
    "plt.xlabel('Predicted')\n",
    "plt.ylabel('True')\n",
    "plt.show()\n",
    "\n",
    "# Relatório de classificação\n",
    "print(\"Relatório de Classificação:\\n\", classification_report(y_test, y_pred, target_names=['Classe 0', 'Classe 1']))\n"
   ]
  },
  {
   "cell_type": "code",
   "execution_count": 19,
   "metadata": {},
   "outputs": [
    {
     "name": "stdout",
     "output_type": "stream",
     "text": [
      "[[87647  9212]\n",
      " [ 4716 26886]]\n",
      "              precision    recall  f1-score   support\n",
      "\n",
      "           0       0.95      0.90      0.93     96859\n",
      "           1       0.74      0.85      0.79     31602\n",
      "\n",
      "    accuracy                           0.89    128461\n",
      "   macro avg       0.85      0.88      0.86    128461\n",
      "weighted avg       0.90      0.89      0.89    128461\n",
      "\n"
     ]
    }
   ],
   "source": [
    "# from sklearn.model_selection import GridSearchCV\n",
    "from xgboost import XGBClassifier\n",
    "\n",
    "\n",
    "# num_negatives = 96859  # Soma da coluna da Classe 0\n",
    "# num_positives = 31602  # Soma da coluna da Classe 1\n",
    "num_negatives = 96859  # Soma da coluna da Classe 0\n",
    "num_positives = 31602  # Soma da coluna da Classe 1\n",
    "\n",
    "scale_pos_weight = num_negatives / num_positives\n",
    "\n",
    "xgb_model = XGBClassifier(learning_rate=1.0, max_depth=10, min_child_weight=7, n_estimators=100, n_jobs=-1, subsample=0.6000000000000001, scale_pos_weight=scale_pos_weight, random_state=42)\n",
    "\n",
    "# Treinar o modelo ajustado\n",
    "xgb_model.fit(X_train, y_train)\n",
    "\n",
    "# Fazer previsões\n",
    "y_pred = xgb_model.predict(X_test)\n",
    "\n",
    "# Avaliar o modelo\n",
    "print(confusion_matrix(y_test, y_pred))\n",
    "print(classification_report(y_test, y_pred))\n",
    "\n"
   ]
  },
  {
   "cell_type": "code",
   "execution_count": 26,
   "metadata": {},
   "outputs": [],
   "source": [
    "# salvar modelo xgboost\n",
    "with open('../models/tpot_model.pkl', 'wb') as file:\n",
    "    pickle.dump(xgb_model, file)\n",
    "\n"
   ]
  },
  {
   "cell_type": "code",
   "execution_count": 14,
   "metadata": {},
   "outputs": [
    {
     "data": {
      "image/png": "[encoded data removed]",
      "text/plain": [
       "<Figure size 504x360 with 2 Axes>"
      ]
     },
     "metadata": {
      "needs_background": "light"
     },
     "output_type": "display_data"
    },
    {
     "name": "stdout",
     "output_type": "stream",
     "text": [
      "Relatório de Classificação:\n",
      "               precision    recall  f1-score   support\n",
      "\n",
      "    Classe 0       0.90      0.94      0.92     96859\n",
      "    Classe 1       0.78      0.67      0.72     31602\n",
      "\n",
      "    accuracy                           0.87    128461\n",
      "   macro avg       0.84      0.80      0.82    128461\n",
      "weighted avg       0.87      0.87      0.87    128461\n",
      "\n"
     ]
    }
   ],
   "source": [
    "# Fazendo previsões\n",
    "y_pred = xgb_model.predict(X_test)\n",
    "y_pred_prob = xgb_model.predict_proba(X_test)[:, 1]\n",
    "\n",
    "# # Curva ROC\n",
    "# fpr, tpr, thresholds = roc_curve(y_test, y_pred_prob)\n",
    "# roc_auc = auc(fpr, tpr)\n",
    "\n",
    "# # Visualizando a curva ROC\n",
    "# plt.figure()\n",
    "# plt.plot(fpr, tpr, color='darkorange', lw=2, label='ROC curve (area = %0.2f)' % roc_auc)\n",
    "# plt.plot([0, 1], [0, 1], color='navy', lw=2, linestyle='--')\n",
    "# plt.xlim([0.0, 1.0])\n",
    "# plt.ylim([0.0, 1.05])\n",
    "# plt.xlabel('False Positive Rate')\n",
    "# plt.ylabel('True Positive Rate')\n",
    "# plt.title('Receiver Operating Characteristic')\n",
    "# plt.legend(loc=\"lower right\")\n",
    "# plt.show()\n",
    "\n",
    "# Matriz de Confusão\n",
    "cm = confusion_matrix(y_test, y_pred)\n",
    "\n",
    "# Visualizando a matriz de confusão\n",
    "plt.figure(figsize=(7, 5))\n",
    "sns.heatmap(cm, annot=True, fmt='g', cmap='Blues', xticklabels=['Classe 0', 'Classe 1'], yticklabels=['Classe 0', 'Classe 1'])\n",
    "plt.xlabel('Predicted')\n",
    "plt.ylabel('True')\n",
    "plt.show()\n",
    "\n",
    "# Relatório de Classificação\n",
    "print(\"Relatório de Classificação:\\n\", classification_report(y_test, y_pred, target_names=['Classe 0', 'Classe 1']))"
   ]
  },
  {
   "cell_type": "code",
   "execution_count": 9,
   "metadata": {},
   "outputs": [],
   "source": [
    "\n",
    "\n",
    "\n",
    "# # Inicializando o modelo XGBClassifier\n",
    "# xgb = XGBClassifier(scale_pos_weight=scale_pos_weight, verbosity=1)\n",
    "\n",
    "# # Definindo os parâmetros para a busca em grade\n",
    "# parameters = {\n",
    "#     'max_depth': [8, 9, 10],\n",
    "#     'learning_rate': [0.1, 0.5, 1],\n",
    "#     'n_estimators': [100, 200, 300],\n",
    "#     'subsample': [0.8, 0.9, 1.0],\n",
    "#     'colsample_bytree': [0.3, 0.5, 0.7],\n",
    "#     'min_child_weight': [1, 5, 10]\n",
    "# }\n",
    "\n",
    "# # Configurando a busca em grade com validação cruzada\n",
    "# grid_search = GridSearchCV(\n",
    "#     estimator=xgb,\n",
    "#     param_grid=parameters,\n",
    "#     scoring='accuracy',\n",
    "#     n_jobs=-1,\n",
    "#     cv=3,\n",
    "#     verbose=2\n",
    "# )\n",
    "\n",
    "# # Executando a busca em grade no conjunto de dados de treino\n",
    "# # X_train, y_train = ...\n",
    "# grid_search.fit(X_train, y_train)\n",
    "\n",
    "# # Melhores parâmetros e melhor pontuação\n",
    "# best_parameters = grid_search.best_params_\n",
    "# best_score = grid_search.best_score_\n",
    "\n",
    "# print('Melhores parâmetros:', best_parameters)\n",
    "# print('Melhor pontuação AUC:', best_score)\n",
    "\n",
    "# # Treinar o modelo com os melhores parâmetros encontrados\n",
    "# best_xgb = XGBClassifier(**best_parameters)\n",
    "# best_xgb.fit(X_train, y_train)"
   ]
  },
  {
   "cell_type": "code",
   "execution_count": 25,
   "metadata": {},
   "outputs": [
    {
     "data": {
      "text/plain": [
       "1698    0\n",
       "Name: result, dtype: int64"
      ]
     },
     "execution_count": 25,
     "metadata": {},
     "output_type": "execute_result"
    }
   ],
   "source": [
    "df['result'].head(1699).tail(1)"
   ]
  },
  {
   "cell_type": "code",
   "execution_count": 22,
   "metadata": {},
   "outputs": [
    {
     "data": {
      "text/plain": [
       "0"
      ]
     },
     "execution_count": 22,
     "metadata": {},
     "output_type": "execute_result"
    }
   ],
   "source": [
    "# model_Automl = pickle.load(open('../models/tpot_model.pkl', 'rb'))\n",
    "model_Automl = pickle.load(open('../models/tpo_model.pkl', 'rb'))\n",
    "\n",
    "# # na prática\n",
    "Xht = df.drop(columns=['result', 'homeTeam', 'awayTeam', 'match_id']).head(1699).tail(1)\n",
    "Xht = preprocessor.transform(Xht)\n",
    "yht = df['result'].head(1699).tail(1)\n",
    "\n",
    "model_Automl.predict(Xht)[0]  # pegar as probabilidades da classe 1"
   ]
  },
  {
   "cell_type": "code",
   "execution_count": 12,
   "metadata": {},
   "outputs": [],
   "source": [
    "# model_Automl = pickle.load(open('../models/tpot_model.pkl', 'rb'))\n",
    "# from sklearn.metrics import accuracy_score\n",
    "\n",
    "# # avaliando treino e teste\n",
    "# y_pred_prob = model_Automl.predict_proba(X_train)[:, 1]  # pegar as probabilidades da classe 1\n",
    "# y_pred = model_Automl.predict(X_train)\n",
    "# print('Acurácia treino:', accuracy_score(y_train, y_pred))\n",
    "\n",
    "# y_pred_prob = model_Automl.predict_proba(X_test)[:, 1]  # pegar as probabilidades da classe 1\n",
    "# y_pred = model_Automl.predict(X_test)\n",
    "# print('Acurácia teste:', accuracy_score(y_test, y_pred))\n",
    "\n"
   ]
  }
 ],
 "metadata": {
  "kernelspec": {
   "display_name": "Python 3",
   "language": "python",
   "name": "python3"
  },
  "language_info": {
   "codemirror_mode": {
    "name": "ipython",
    "version": 3
   },
   "file_extension": ".py",
   "mimetype": "text/x-python",
   "name": "python",
   "nbconvert_exporter": "python",
   "pygments_lexer": "ipython3",
   "version": "3.10.1"
  }
 },
 "nbformat": 4,
 "nbformat_minor": 2
}
