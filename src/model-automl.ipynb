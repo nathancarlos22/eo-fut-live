{
 "cells": [
  {
   "cell_type": "markdown",
   "metadata": {},
   "source": [
    "# Imports e carregamentos"
   ]
  },
  {
   "cell_type": "code",
   "execution_count": 1,
   "metadata": {},
   "outputs": [],
   "source": [
    "import pandas as pd\n",
    "\n",
    "# import h2o\n",
    "# from h2o.automl import H2OAutoML\n",
    "from sklearn.metrics import roc_curve, auc\n",
    "from sklearn.metrics import confusion_matrix\n",
    "\n",
    "import matplotlib.pyplot as plt\n",
    "import seaborn as sns\n",
    "\n",
    "import warnings\n",
    "warnings.filterwarnings('ignore')\n"
   ]
  },
  {
   "cell_type": "code",
   "execution_count": 2,
   "metadata": {},
   "outputs": [],
   "source": [
    "df = pd.read_csv('data_live_engineer_filtered.csv', encoding='utf-8')"
   ]
  },
  {
   "cell_type": "code",
   "execution_count": 3,
   "metadata": {},
   "outputs": [
    {
     "data": {
      "text/plain": [
       "result\n",
       "0    13181\n",
       "1    13181\n",
       "Name: count, dtype: int64"
      ]
     },
     "execution_count": 3,
     "metadata": {},
     "output_type": "execute_result"
    }
   ],
   "source": [
    "df.value_counts('result')"
   ]
  },
  {
   "cell_type": "code",
   "execution_count": 4,
   "metadata": {},
   "outputs": [
    {
     "data": {
      "text/plain": [
       "Index(['minute', 'homeTeam', 'awayTeam', 'shots_home', 'shots_away', 'league',\n",
       "       'corners_home', 'corners_away', 'shotsOffgoal_home',\n",
       "       'shotsOffgoal_away', 'fouls_home', 'fouls_away', 'tackles_home',\n",
       "       'tackles_away', 'result', 'match_id', 'possessiontime_away',\n",
       "       'possessiontime_home', 'f_attack_home', 'f_defensive_away',\n",
       "       'f_defensive_home', 'f_attack_away', 'win_rate_home', 'loss_rate_home',\n",
       "       'draw_rate_home', 'win_rate_away', 'loss_rate_away', 'draw_rate_away',\n",
       "       'shotAccuracy_home', 'shotAccuracy_away', 'attackPressureOverTime_home',\n",
       "       'attackPressureOverTime_away', 'aggrressionOverTime_home',\n",
       "       'aggresssionOverTime_away', 'defensiveEfficacy_home',\n",
       "       'taklesOverTime_home', 'taklesOverTime_away', 'possessionControl',\n",
       "       'passRisk_home', 'passRisk_away', '05ht_home', '05ht_away'],\n",
       "      dtype='object')"
      ]
     },
     "execution_count": 4,
     "metadata": {},
     "output_type": "execute_result"
    }
   ],
   "source": [
    "df.columns"
   ]
  },
  {
   "cell_type": "markdown",
   "metadata": {},
   "source": [
    "## Preprocessamento"
   ]
  },
  {
   "cell_type": "code",
   "execution_count": 6,
   "metadata": {},
   "outputs": [],
   "source": [
    "from sklearn.model_selection import train_test_split\n",
    "from sklearn.compose import ColumnTransformer\n",
    "from sklearn.preprocessing import StandardScaler, OneHotEncoder\n",
    "import pickle\n",
    "\n",
    "# Função para separar os dados em características e variável alvo\n",
    "def prepare_data(df):\n",
    "    X = df.drop(columns=['result', 'homeTeam', 'awayTeam', 'match_id'])\n",
    "    y = df['result']\n",
    "    return X, y\n",
    "\n",
    "# Função para criar e aplicar o transformador de colunas\n",
    "def create_preprocessor(X):\n",
    "    numeric_features = X.select_dtypes(exclude=['object']).columns.tolist()\n",
    "    categorical_features = ['league']\n",
    "\n",
    "    preprocessor = ColumnTransformer(\n",
    "        transformers=[\n",
    "            ('num', StandardScaler(), numeric_features),\n",
    "            ('cat', OneHotEncoder(drop='first'), categorical_features)\n",
    "        ])\n",
    "    return preprocessor.fit(X)\n",
    "X, y = prepare_data(df)\n",
    "preprocessor = create_preprocessor(X)\n",
    "\n",
    "# Salvando o preprocessador para uso futuro\n",
    "pickle.dump(preprocessor, open('../models/preprocessor.pickle', 'wb'))\n",
    "\n",
    "# Dividindo os dados em conjuntos de treino e teste\n",
    "X_transformed = preprocessor.transform(X)\n",
    "X_train, X_test, y_train, y_test = train_test_split(X_transformed, y, test_size=0.20, random_state=42)\n"
   ]
  },
  {
   "cell_type": "code",
   "execution_count": 8,
   "metadata": {},
   "outputs": [
    {
     "name": "stderr",
     "output_type": "stream",
     "text": [
      "Version 0.12.1 of tpot is outdated. Version 0.12.2 was released Friday February 23, 2024.\n"
     ]
    },
    {
     "name": "stdout",
     "output_type": "stream",
     "text": [
      "                                                                                 \n",
      "Generation 1 - Current best internal CV score: 0.7653751051452087\n",
      "                                                                                   \n",
      "Generation 2 - Current best internal CV score: 0.7653751051452087\n",
      "                                                                                   \n",
      "Generation 3 - Current best internal CV score: 0.7653751051452087\n",
      "                                                                                   \n",
      "Generation 4 - Current best internal CV score: 0.7653751051452087\n",
      "                                                                                   \n",
      "Generation 5 - Current best internal CV score: 0.7653751051452087\n",
      "                                                                                   \n",
      "Generation 6 - Current best internal CV score: 0.7697377107022279\n",
      "                                                                                   \n",
      "Generation 7 - Current best internal CV score: 0.7697377107022279\n",
      "                                                                                   \n",
      "Generation 8 - Current best internal CV score: 0.7722033229765092\n",
      "                                                                                   \n",
      "Generation 9 - Current best internal CV score: 0.7722507613013461\n",
      "                                                                                  \n",
      "Generation 10 - Current best internal CV score: 0.7722507613013461\n",
      "                                                              \n",
      "Best pipeline: RandomForestClassifier(MaxAbsScaler(input_matrix), bootstrap=False, criterion=entropy, max_features=0.35000000000000003, min_samples_leaf=2, min_samples_split=2, n_estimators=100)\n"
     ]
    },
    {
     "data": {
      "image/png": "[encoded data removed]",
      "text/plain": [
       "<Figure size 432x288 with 1 Axes>"
      ]
     },
     "metadata": {
      "needs_background": "light"
     },
     "output_type": "display_data"
    },
    {
     "data": {
      "image/png": "[encoded data removed]",
      "text/plain": [
       "<Figure size 504x360 with 2 Axes>"
      ]
     },
     "metadata": {
      "needs_background": "light"
     },
     "output_type": "display_data"
    },
    {
     "name": "stdout",
     "output_type": "stream",
     "text": [
      "Relatório de Classificação:\n",
      "               precision    recall  f1-score   support\n",
      "\n",
      "    Classe 0       0.84      0.74      0.79      2567\n",
      "    Classe 1       0.78      0.86      0.82      2706\n",
      "\n",
      "    accuracy                           0.81      5273\n",
      "   macro avg       0.81      0.80      0.80      5273\n",
      "weighted avg       0.81      0.81      0.80      5273\n",
      "\n"
     ]
    }
   ],
   "source": [
    "from tpot import TPOTClassifier\n",
    "from sklearn.metrics import classification_report\n",
    "\n",
    "# Inicializando TPOT\n",
    "tpot = TPOTClassifier(n_jobs=2, generations=10, population_size=100, verbosity=2, random_state=42)\n",
    "tpot.fit(X_train, y_train)\n",
    "\n",
    "# Salvando o pipeline otimizado\n",
    "# tpot.export('tpot_exported_pipeline.py')\n",
    "\n",
    "# Salvar o modelo TPOT\n",
    "with open('../models/tpot_model.pkl', 'wb') as file:\n",
    "    pickle.dump(tpot.fitted_pipeline_, file)\n",
    "\n",
    "# Avaliação do Modelo\n",
    "y_pred_prob = tpot.predict_proba(X_test)[:, 1]  # pegar as probabilidades da classe 1\n",
    "y_pred = tpot.predict(X_test)\n",
    "\n",
    "# Curva ROC\n",
    "fpr, tpr, thresholds = roc_curve(y_test, y_pred_prob)\n",
    "roc_auc = auc(fpr, tpr)\n",
    "\n",
    "# Visualizar a curva ROC\n",
    "plt.figure()\n",
    "plt.plot(fpr, tpr, color='darkorange', lw=2, label='ROC curve (area = %0.2f)' % roc_auc)\n",
    "plt.plot([0, 1], [0, 1], color='navy', lw=2, linestyle='--')\n",
    "plt.xlim([0.0, 1.0])\n",
    "plt.ylim([0.0, 1.05])\n",
    "plt.xlabel('False Positive Rate')\n",
    "plt.ylabel('True Positive Rate')\n",
    "plt.title('Receiver Operating Characteristic')\n",
    "plt.legend(loc=\"lower right\")\n",
    "plt.show()\n",
    "\n",
    "# Matriz de Confusão\n",
    "cm = confusion_matrix(y_test, y_pred)\n",
    "\n",
    "# Visualizar a matriz de confusão\n",
    "plt.figure(figsize=(7, 5))\n",
    "sns.heatmap(cm, annot=True, fmt='g', cmap='Blues', xticklabels=['Classe 0', 'Classe 1'], yticklabels=['Classe 0', 'Classe 1'])\n",
    "plt.xlabel('Predicted')\n",
    "plt.ylabel('True')\n",
    "plt.show()\n",
    "\n",
    "# Relatório de classificação\n",
    "print(\"Relatório de Classificação:\\n\", classification_report(y_test, y_pred, target_names=['Classe 0', 'Classe 1']))\n"
   ]
  }
 ],
 "metadata": {
  "kernelspec": {
   "display_name": "Python 3",
   "language": "python",
   "name": "python3"
  },
  "language_info": {
   "codemirror_mode": {
    "name": "ipython",
    "version": 3
   },
   "file_extension": ".py",
   "mimetype": "text/x-python",
   "name": "python",
   "nbconvert_exporter": "python",
   "pygments_lexer": "ipython3",
   "version": "3.10.1"
  }
 },
 "nbformat": 4,
 "nbformat_minor": 2
}
